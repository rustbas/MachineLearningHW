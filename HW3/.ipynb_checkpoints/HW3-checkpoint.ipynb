{
 "cells": [
  {
   "cell_type": "markdown",
   "metadata": {},
   "source": [
    "# Деревья решений решают проблемы\n",
    "__Суммарное количество баллов: 10__\n",
    "\n",
    "Вы уже знакомы с классификацией методом KNN. В этом задании предстоит реализовать другой метод классификации - дерево решений. \n",
    "\n",
    "Одной из его особенностей является возможность объяснить в человекочитаемой форме, почему мы отнесли объект к определенному классу. Эта особенность позволяет использовать деревья решений для создания систем, которые могут подсказывать специалистам, на что именно стоит обратить внимание при принятии решений."
   ]
  },
  {
   "cell_type": "code",
   "execution_count": 1,
   "metadata": {
    "ExecuteTime": {
     "end_time": "2022-03-02T22:54:17.667537Z",
     "start_time": "2022-03-02T22:54:16.585745Z"
    }
   },
   "outputs": [],
   "source": [
    "import numpy as np\n",
    "import pandas as pd\n",
    "import random\n",
    "import matplotlib.pyplot as plt\n",
    "import matplotlib\n",
    "from scipy.stats import mode\n",
    "from inspect import stack\n",
    "import sys\n",
    "import seaborn as sns"
   ]
  },
  {
   "cell_type": "markdown",
   "metadata": {},
   "source": [
    "# Некоторые промежуточные функции"
   ]
  },
  {
   "cell_type": "markdown",
   "metadata": {},
   "source": [
    "## Функция промежуточных сумм"
   ]
  },
  {
   "cell_type": "code",
   "execution_count": 2,
   "metadata": {
    "ExecuteTime": {
     "end_time": "2022-03-02T22:54:17.673023Z",
     "start_time": "2022-03-02T22:54:17.668724Z"
    }
   },
   "outputs": [
    {
     "name": "stdout",
     "output_type": "stream",
     "text": [
      "Вход: [1, 2, 10, 10, 10, 10, 10, 3, 4, 5, 6, 7, 7, 7, 7, 7]\n",
      "Выход: [1.5 2.5 3.5 4.5 5.5 6.5 8.5]\n"
     ]
    }
   ],
   "source": [
    "def subtotals(x):\n",
    "    X = sorted(list(set(x)))\n",
    "#     print(X)\n",
    "    res = np.zeros(len(X)-1)\n",
    "    for i in range(len(X) - 1):\n",
    "        res[i] = (X[i] + X[i+1])/2\n",
    "    return res\n",
    "\n",
    "st = [1,2,10,10,10,10,10,3,4,5,6,7,7,7,7,7]\n",
    "res = subtotals(st)\n",
    "print(f'Вход: {st}')\n",
    "print(f'Выход: {res}')"
   ]
  },
  {
   "cell_type": "markdown",
   "metadata": {},
   "source": [
    "## Функция подсчета уровня рекурсии"
   ]
  },
  {
   "cell_type": "code",
   "execution_count": 3,
   "metadata": {
    "ExecuteTime": {
     "end_time": "2022-03-02T22:54:17.685242Z",
     "start_time": "2022-03-02T22:54:17.673942Z"
    }
   },
   "outputs": [],
   "source": [
    "def f():\n",
    "    return len(stack())-25"
   ]
  },
  {
   "cell_type": "markdown",
   "metadata": {},
   "source": [
    "## Задание 1 (1 балл)"
   ]
  },
  {
   "cell_type": "markdown",
   "metadata": {},
   "source": [
    "Во время построения дерева решений нам потребуется определить, какой из предикатов лучше всего разбивает обучающую выборку. Есть два критерия, которые позволяют это сделать: критерий Джини и энтропийный критерий. Первый для подсчета информативности разбиения использует коэффициент Джини, второй - энтропию. Реализуйте подсчет этих коэффициентов, а так же подсчет информативности разбиения. \n",
    "\n",
    "#### Описание функций\n",
    "`gini(x)` считает коэффициент Джини для массива меток\n",
    "\n",
    "`entropy(x)` считает энтропию для массива меток\n",
    "\n",
    "`gain(left_y, right_y, criterion)` считает информативность разбиения массива меток на левую `left_y` и правую `right_y` части при помощи `criterion`, который задается функцией (не строкой)."
   ]
  },
  {
   "cell_type": "code",
   "execution_count": 4,
   "metadata": {
    "ExecuteTime": {
     "end_time": "2022-03-02T22:54:17.697609Z",
     "start_time": "2022-03-02T22:54:17.686758Z"
    }
   },
   "outputs": [
    {
     "data": {
      "text/plain": [
       "1"
      ]
     },
     "execution_count": 4,
     "metadata": {},
     "output_type": "execute_result"
    }
   ],
   "source": [
    "def gini(x_in):\n",
    "    x = np.array(x_in)\n",
    "    labels = list(set(x_in))\n",
    "    m = len(labels)\n",
    "    n = len(x)\n",
    "    Y = dict()\n",
    "#     for i in range(m):\n",
    "#         print(x.shape, type(x), x)\n",
    "#         Y[x[i]] = 0\n",
    "    Y = {0:0, 1:0}\n",
    "    for i in range(n):\n",
    "#         print(Y, type(x), x)\n",
    "        key = x[i]\n",
    "#         print(type(float(key)))\n",
    "        Y[x[i]] += 1/n\n",
    "    \n",
    "    S = 0\n",
    "    for key in Y.keys():\n",
    "        S += Y[key]*(1 - Y[key])\n",
    "        \n",
    "    \n",
    "    return S\n",
    "    \n",
    "def entropy(x_in):\n",
    "    x = np.array(x_in)\n",
    "    labels = list(set(x))\n",
    "    m = len(labels)\n",
    "    n = len(x)\n",
    "    Y = {label:0 for label in labels}\n",
    "    \n",
    "    for i in range(n):\n",
    "        Y[x[i]] += 1/n\n",
    "        \n",
    "    S = 0\n",
    "    \n",
    "    for key in Y.keys():\n",
    "        S -= Y[key]*np.log2(Y[key])\n",
    "    return S\n",
    "\n",
    "def gain(left_y, right_y, criterion):\n",
    "    y = list(left_y) + list(right_y)\n",
    "    n_left = len(left_y)\n",
    "    n_right = len(right_y)\n",
    "    n_all = n_left + n_right\n",
    "    return (n_all*criterion(y) - n_right*criterion(right_y) - n_left*criterion(left_y))/n_all\n",
    "\n",
    "test1 = [2,2,2,2,2,2,2,2,1,1,1,1,1,1,1,1,1,1,1,1,1,1,1,1,1,1,1,1,1]\n",
    "test2 = [2,2,2,2,2,2,2,2,2,2,1,1,1,1,1,1,1,2,2,2,2,2,1,1,1,1,1,1,1,2]\n",
    "test = mode(test1)\n",
    "test[0][0]"
   ]
  },
  {
   "cell_type": "markdown",
   "metadata": {},
   "source": [
    "## Задание 2 (1 балл)"
   ]
  },
  {
   "cell_type": "markdown",
   "metadata": {},
   "source": [
    "Деревья решений имеют хорошую интерпретируемость, т.к. позволяют не только предсказать класс, но и объяснить, почему мы предсказали именно его. Например, мы можем его нарисовать. Чтобы сделать это, нам необходимо знать, как оно устроено внутри. Реализуйте классы, которые будут задавать структуру дерева. \n",
    "\n",
    "#### DecisionTreeLeaf\n",
    "Поля:\n",
    "1. `y` должно содержать класс, который встречается чаще всего среди элементов листа дерева\n",
    "\n",
    "#### DecisionTreeNode\n",
    "В данной домашней работе мы ограничемся порядковыми и количественными признаками, поэтому достаточно хранить измерение и значение признака, по которому разбиваем обучающую выборку.\n",
    "\n",
    "Поля:\n",
    "1. `split_dim` измерение, по которому разбиваем выборку\n",
    "2. `split_value` значение, по которому разбираем выборку\n",
    "3. `left` поддерево, отвечающее за случай `x[split_dim] < split_value`. Может быть `DecisionTreeNode` или `DecisionTreeLeaf`\n",
    "4. `right` поддерево, отвечающее за случай `x[split_dim] >= split_value`. Может быть `DecisionTreeNode` или `DecisionTreeLeaf`\n",
    "\n",
    "__Интерфейс классов можно и нужно менять при необходимости__ (например, для вычисления вероятности в следующем задании)"
   ]
  },
  {
   "cell_type": "code",
   "execution_count": 5,
   "metadata": {
    "ExecuteTime": {
     "end_time": "2022-03-02T22:54:17.701994Z",
     "start_time": "2022-03-02T22:54:17.698830Z"
    }
   },
   "outputs": [],
   "source": [
    "class DecisionTreeLeaf:\n",
    "    def __init__(self, y):\n",
    "#         self.mode = mode(y)[0][0]\n",
    "        self.N = len(y)\n",
    "        self.set = list(set(y))\n",
    "        self.y = list(y)\n",
    "#         raise NotImplementedError()\n",
    "\n",
    "class DecisionTreeNode:\n",
    "    def __init__(self, split_dim, split_value, left, right):\n",
    "        self.split_dim = split_dim\n",
    "        self.split_value = split_value\n",
    "        self.left = left\n",
    "        self.right = right\n",
    "#         raise NotImplementedError()"
   ]
  },
  {
   "cell_type": "markdown",
   "metadata": {},
   "source": [
    "## Задание 3 (6 баллов)"
   ]
  },
  {
   "cell_type": "markdown",
   "metadata": {},
   "source": [
    "Теперь перейдем к самому дереву решений. Реализуйте класс `DecisionTreeClassifier`.\n",
    "\n",
    "#### Описание методов\n",
    "`fit(X, y)` строит дерево решений по обучающей выборке.\n",
    "\n",
    "`predict_proba(X)` для каждого элемента из `X` возвращает словарь `dict`, состоящий из пар `(класс, вероятность)`. Вероятности классов в листе можно определить через количество объектов соответствующего класса в листе. \n",
    "\n",
    "#### Описание параметров конструктора\n",
    "`criterion=\"gini\"` - задает критерий, который будет использоваться при построении дерева. Возможные значения: `\"gini\"`, `\"entropy\"`.\n",
    "\n",
    "`max_depth=None` - ограничение глубины дерева. Если `None` - глубина не ограничена\n",
    "\n",
    "`min_samples_leaf=1` - минимальное количество элементов в каждом листе дерева.\n",
    "\n",
    "#### Описание полей\n",
    "`root` - корень дерева. Может быть `DecisionTreeNode` или `DecisionTreeLeaf`"
   ]
  },
  {
   "cell_type": "code",
   "execution_count": 6,
   "metadata": {
    "ExecuteTime": {
     "end_time": "2022-03-02T22:54:17.758480Z",
     "start_time": "2022-03-02T22:54:17.703294Z"
    },
    "scrolled": true
   },
   "outputs": [],
   "source": [
    "class DecisionTreeClassifier:\n",
    "\n",
    "    def __init__(self, criterion=\"gini\", max_depth=None, min_samples_leaf=1):\n",
    "        self.root = None\n",
    "        self.min_samples_leaf = min_samples_leaf\n",
    "        self.max_depth = max_depth\n",
    "        if criterion == 'gini':\n",
    "            self.criterion = gini\n",
    "        elif criterion == 'entropy':\n",
    "            self.criterion = entropy\n",
    "        else:\n",
    "            raise NotImplementedError()\n",
    "    def build(self, X, y):\n",
    "        cur_rec = f()\n",
    "        \n",
    "        min_IG = -np.inf\n",
    "        test = False\n",
    "        res_column = X.columns[1]\n",
    "        res_threshold = np.inf\n",
    "        for column in X.columns:\n",
    "            X_temp = X[column]\n",
    "            if len(set(X_temp)) > 300:\n",
    "                thresholds = subtotals(np.array(X_temp))[::len(X_temp)//10]\n",
    "            else:\n",
    "                thresholds = sorted(list(set(X_temp)))\n",
    "            for threshold in thresholds:\n",
    "                left = y[X_temp < threshold]\n",
    "                right = y[X_temp >= threshold]\n",
    "                if len(left) <= self.min_samples_leaf or len(right) <= self.min_samples_leaf:\n",
    "                    continue\n",
    "                IG = gain(left, right, self.criterion)\n",
    "                if IG > min_IG: \n",
    "                    test = True\n",
    "                    res_column = column\n",
    "                    min_IG = IG\n",
    "                    res_threshold = threshold\n",
    "        \n",
    "        yl = y[X[res_column] < res_threshold]\n",
    "        yr = y[X[res_column] >= res_threshold]\n",
    "        Xl = X[X[res_column] < res_threshold].drop(res_column, axis=1)\n",
    "        Xr = X[X[res_column] >= res_threshold].drop(res_column, axis=1)\n",
    "        if self.max_depth is None:\n",
    "            key = False\n",
    "        elif cur_rec < self.max_depth:\n",
    "            key = False\n",
    "        else:\n",
    "            key = True\n",
    "            \n",
    "\n",
    "        if (key) or len(list(X.columns))<=1 or X.empty or res_threshold == np.inf:\n",
    "            return DecisionTreeLeaf(y)\n",
    "        else:\n",
    "            return DecisionTreeNode(res_column, res_threshold,\n",
    "                                    self.build(Xl, yl),\n",
    "                                    self.build(Xr, yr))\n",
    "\n",
    "    def fit(self, X, y):\n",
    "        self.root = self.build(X, y)\n",
    "\n",
    "    def search(self, x, Node):\n",
    "        if type(Node) is DecisionTreeLeaf:\n",
    "            res = dict()\n",
    "            for key in Node.set:\n",
    "                res[key] = Node.y.count(key)/Node.N\n",
    "            return res\n",
    "        elif type(Node) is DecisionTreeNode:\n",
    "            if x[Node.split_dim] < Node.split_value:\n",
    "                return self.search(x, Node.left)\n",
    "            elif x[Node.split_dim] >= Node.split_value:\n",
    "                return self.search(x, Node.right)\n",
    "        else:\n",
    "            raise NotImplementedError()\n",
    "        \n",
    "    def predict_proba(self, X_in):\n",
    "        X = X_in.drop('Id', axis=1)\n",
    "        IDs = X_in.Id\n",
    "        pred = []\n",
    "        N = len(X)\n",
    "        for i in range(N):\n",
    "            x = X.iloc[i]\n",
    "            pred += [self.search(x, self.root)]\n",
    "        \n",
    "        return pred\n",
    "\n",
    "    def predict(self, X):\n",
    "        proba = self.predict_proba(X)\n",
    "        return np.array([max(p.keys(), key=lambda k: p[k]) for p in proba])"
   ]
  },
  {
   "cell_type": "markdown",
   "metadata": {},
   "source": [
    "Построенное дерево можно нарисовать. Метод `draw_tree` рисует дерево и сохраняет его в указанный файл."
   ]
  },
  {
   "cell_type": "code",
   "execution_count": 7,
   "metadata": {
    "ExecuteTime": {
     "end_time": "2022-03-02T22:54:17.766203Z",
     "start_time": "2022-03-02T22:54:17.759888Z"
    }
   },
   "outputs": [],
   "source": [
    "def tree_depth(tree_root):\n",
    "    if isinstance(tree_root, DecisionTreeNode):\n",
    "        return max(tree_depth(tree_root.left), tree_depth(tree_root.right)) + 1\n",
    "    else:\n",
    "        return 1\n",
    "\n",
    "def draw_tree_rec(tree_root, x_left, x_right, y):\n",
    "    x_center = (x_right - x_left) / 2 + x_left\n",
    "    if isinstance(tree_root, DecisionTreeNode):\n",
    "        x_center = (x_right - x_left) / 2 + x_left\n",
    "        x = draw_tree_rec(tree_root.left, x_left, x_center, y - 1)\n",
    "        plt.plot((x_center, x), (y - 0.1, y - 0.9), c=(0, 0, 0))\n",
    "        x = draw_tree_rec(tree_root.right, x_center, x_right, y - 1)\n",
    "        plt.plot((x_center, x), (y - 0.1, y - 0.9), c=(0, 0, 0))\n",
    "        plt.text(x_center, y, \"x[%i] < %f\" % (tree_root.split_dim, tree_root.split_value),\n",
    "                horizontalalignment='center')\n",
    "    else:\n",
    "        plt.text(x_center, y, str(tree_root.y),\n",
    "                horizontalalignment='center')\n",
    "    return x_center\n",
    "\n",
    "def draw_tree(tree, save_path=None):\n",
    "    td = tree_depth(tree.root)\n",
    "    plt.figure(figsize=(0.33 * 2 ** td, 2 * td))\n",
    "    plt.xlim(-1, 1)\n",
    "    plt.ylim(0.95, td + 0.05)\n",
    "    plt.axis('off')\n",
    "    draw_tree_rec(tree.root, -1, 1, td)\n",
    "    plt.tight_layout()\n",
    "    if save_path is not None:\n",
    "        plt.savefig(save_path)\n",
    "    plt.show()"
   ]
  },
  {
   "cell_type": "markdown",
   "metadata": {},
   "source": [
    "Для двумерного набора данных дерево можно отобразить на плоскости с данными. Кроме того, как и для любого классификатора, для него можно построить roc-кривую"
   ]
  },
  {
   "cell_type": "code",
   "execution_count": 8,
   "metadata": {
    "ExecuteTime": {
     "end_time": "2022-03-02T22:54:17.778490Z",
     "start_time": "2022-03-02T22:54:17.767456Z"
    }
   },
   "outputs": [],
   "source": [
    "def plot_roc_curve(y_test, p_pred):\n",
    "    positive_samples = sum(1 for y in y_test if y == 0)\n",
    "    tpr = []\n",
    "    fpr = []\n",
    "    for w in np.arange(-0.01, 1.02, 0.01):\n",
    "        y_pred = [(0 if p.get(0, 0) > w else 1) for p in p_pred]\n",
    "        tpr.append(sum(1 for yp, yt in zip(y_pred, y_test) if yp == 0 and yt == 0) / positive_samples)\n",
    "        fpr.append(sum(1 for yp, yt in zip(y_pred, y_test) if yp == 0 and yt != 0) / (len(y_test) - positive_samples))\n",
    "    plt.figure(figsize = (7, 7))\n",
    "    plt.plot(fpr, tpr)\n",
    "    plt.plot([0, 1], [0, 1], linestyle=\"--\")\n",
    "    plt.xlabel(\"False positive rate\")\n",
    "    plt.ylabel(\"True positive rate\")\n",
    "    plt.xlim(-0.01, 1.01)\n",
    "    plt.ylim(-0.01, 1.01)\n",
    "    plt.tight_layout()\n",
    "    plt.show()\n",
    "\n",
    "def rectangle_bounds(bounds):\n",
    "    return ((bounds[0][0], bounds[0][0], bounds[0][1], bounds[0][1]), \n",
    "            (bounds[1][0], bounds[1][1], bounds[1][1], bounds[1][0]))\n",
    "\n",
    "def plot_2d_tree(tree_root, bounds, colors):\n",
    "    if isinstance(tree_root, DecisionTreeNode):\n",
    "        if tree_root.split_dim:\n",
    "            plot_2d_tree(tree_root.left, [bounds[0], [bounds[1][0], tree_root.split_value]], colors)\n",
    "            plot_2d_tree(tree_root.right, [bounds[0], [tree_root.split_value, bounds[1][1]]], colors)\n",
    "            plt.plot(bounds[0], (tree_root.split_value, tree_root.split_value), c=(0, 0, 0))\n",
    "        else:\n",
    "            plot_2d_tree(tree_root.left, [[bounds[0][0], tree_root.split_value], bounds[1]], colors)\n",
    "            plot_2d_tree(tree_root.right, [[tree_root.split_value, bounds[0][1]], bounds[1]], colors)\n",
    "            plt.plot((tree_root.split_value, tree_root.split_value), bounds[1], c=(0, 0, 0))\n",
    "    else:\n",
    "        x, y = rectangle_bounds(bounds)\n",
    "        plt.fill(x, y, c=colors[tree_root.y] + [0.2])\n",
    "\n",
    "def plot_2d(tree, X, y):\n",
    "    plt.figure(figsize=(9, 9))\n",
    "    colors = dict((c, list(np.random.random(3))) for c in np.unique(y))\n",
    "    bounds = list(zip(np.min(X, axis=0), np.max(X, axis=0)))\n",
    "    plt.xlim(*bounds[0])\n",
    "    plt.ylim(*bounds[1])\n",
    "    plot_2d_tree(tree.root, list(zip(np.min(X, axis=0), np.max(X, axis=0))), colors)\n",
    "    for c in np.unique(y):\n",
    "        plt.scatter(X[y==c, 0], X[y==c, 1], c=[colors[c]], label=c)\n",
    "    plt.legend()\n",
    "#     plt.tight_layout()\n",
    "    plt.show()\n"
   ]
  },
  {
   "cell_type": "markdown",
   "metadata": {},
   "source": [
    "## Задание 4 (2 балла)"
   ]
  },
  {
   "cell_type": "markdown",
   "metadata": {},
   "source": [
    "Протестируйте решение на датасете spam.\n",
    "Для этой задачи используйте данные x_spam_train и y_spam_train:\n",
    "1. Выполните загрузку и предобработку файлов x_spam_train и y_spam_train.\n",
    "2. Разбейте x_spam_train и y_spam_train на x_train, y_train, x_test и y_test для оценки точности работы алгоритма.\n",
    "3. Посчитайте метрики `precision`, `recall`, `accuracy` для модели Decision Tree. Если необходимо, попробуйте разные наборы параметров для получения лучшего результата.\n",
    "4. Сравните значения метрик с результатами модели kNN из предыдущего задания (можно использовать реализацию из библиотеки `sklearn`).\n",
    "5. Ответьте на следующие вопросы:\n",
    "    - Какой нужен препроцессинг данных для моделей?\n",
    "    - Какая модель делает предсказания лучше?  Предположите, почему."
   ]
  },
  {
   "cell_type": "code",
   "execution_count": 9,
   "metadata": {
    "ExecuteTime": {
     "end_time": "2022-03-02T22:54:17.844562Z",
     "start_time": "2022-03-02T22:54:17.779870Z"
    }
   },
   "outputs": [],
   "source": [
    "from sklearn.metrics import accuracy_score, recall_score, precision_score, f1_score\n",
    "\n",
    "from sklearn.neighbors import KNeighborsClassifier"
   ]
  },
  {
   "cell_type": "code",
   "execution_count": 10,
   "metadata": {
    "ExecuteTime": {
     "end_time": "2022-03-02T22:55:23.613433Z",
     "start_time": "2022-03-02T22:54:17.846336Z"
    },
    "scrolled": false
   },
   "outputs": [
    {
     "data": {
      "image/png": "[encoded data removed]",
      "text/plain": [
       "<Figure size 504x504 with 1 Axes>"
      ]
     },
     "metadata": {
      "needs_background": "light"
     },
     "output_type": "display_data"
    }
   ],
   "source": [
    "all_X = pd.read_csv('x_spam_train.csv')\n",
    "all_y = pd.read_csv('y_spam_train.csv')\n",
    "X_train, y_train = all_X.iloc[:round(len(all_X)*0.7)], all_y['Expected'].iloc[:round(len(all_X)*0.7)]\n",
    "X_test, y_test = all_X.iloc[round(len(all_X)*0.7):], all_y['Expected'].iloc[round(len(all_X)*0.7):]#YOUR_CODE\n",
    "tree = DecisionTreeClassifier(max_depth=5, min_samples_leaf=30)\n",
    "tree.fit(X_train.drop('Id', axis=1), y_train)\n",
    "y_pred = tree.predict(X_test)\n",
    "plot_roc_curve(y_test, tree.predict_proba(X_test))\n",
    "# draw_tree(tree, save_path='test.png')"
   ]
  },
  {
   "cell_type": "markdown",
   "metadata": {},
   "source": [
    "### Метрики для дерева"
   ]
  },
  {
   "cell_type": "code",
   "execution_count": 11,
   "metadata": {
    "ExecuteTime": {
     "end_time": "2022-03-02T22:55:23.621072Z",
     "start_time": "2022-03-02T22:55:23.614356Z"
    }
   },
   "outputs": [
    {
     "name": "stdout",
     "output_type": "stream",
     "text": [
      "Accuracy = 0.889\n",
      "Recall = 0.865\n",
      "Precision = 0.859\n",
      "F1-score = 0.862\n"
     ]
    }
   ],
   "source": [
    "acc = accuracy_score(y_test, y_pred)\n",
    "recall = recall_score(y_test, y_pred)\n",
    "precision = precision_score(y_test, y_pred)\n",
    "f1 = f1_score(y_test, y_pred)\n",
    "print(f'Accuracy = {acc:.3f}')\n",
    "print(f'Recall = {recall:.3f}')\n",
    "print(f'Precision = {precision:.3f}')\n",
    "print(f'F1-score = {f1:.3f}')"
   ]
  },
  {
   "cell_type": "markdown",
   "metadata": {},
   "source": [
    "### Метрики для KNN"
   ]
  },
  {
   "cell_type": "code",
   "execution_count": 12,
   "metadata": {
    "ExecuteTime": {
     "end_time": "2022-03-02T22:55:23.725801Z",
     "start_time": "2022-03-02T22:55:23.622058Z"
    }
   },
   "outputs": [],
   "source": [
    "est = KNeighborsClassifier()\n",
    "est.fit(X_train, y_train)\n",
    "y_pred = est.predict(X_test)"
   ]
  },
  {
   "cell_type": "code",
   "execution_count": 13,
   "metadata": {
    "ExecuteTime": {
     "end_time": "2022-03-02T22:55:23.740369Z",
     "start_time": "2022-03-02T22:55:23.726999Z"
    },
    "scrolled": true
   },
   "outputs": [
    {
     "name": "stdout",
     "output_type": "stream",
     "text": [
      "Accuracy = 0.707\n",
      "Recall = 0.556\n",
      "Precision = 0.660\n",
      "F1-score = 0.604\n"
     ]
    }
   ],
   "source": [
    "acc = accuracy_score(y_test, y_pred)\n",
    "recall = recall_score(y_test, y_pred)\n",
    "precision = precision_score(y_test, y_pred)\n",
    "f1 = f1_score(y_test, y_pred)\n",
    "print(f'Accuracy = {acc:.3f}')\n",
    "print(f'Recall = {recall:.3f}')\n",
    "print(f'Precision = {precision:.3f}')\n",
    "print(f'F1-score = {f1:.3f}')"
   ]
  },
  {
   "cell_type": "markdown",
   "metadata": {},
   "source": [
    "Нужно выкикидывать из входных данных столбец Id - так как он не несет предсказательной силы.\n",
    "Видно, что дерево решений работает лучше, но намного дольше обучается. Видимо, это связано с \n",
    "почти полным перебором обучающей выборки."
   ]
  },
  {
   "cell_type": "markdown",
   "metadata": {},
   "source": [
    "1. Обучите модель на всех данных из x_spam_train и y_spam_train.\n",
    "2. Сделайте submit своего решения и получите значение f1_score не менее 0.6"
   ]
  },
  {
   "cell_type": "code",
   "execution_count": 14,
   "metadata": {
    "ExecuteTime": {
     "end_time": "2022-03-02T22:57:11.764082Z",
     "start_time": "2022-03-02T22:55:23.741496Z"
    },
    "pycharm": {
     "name": "#%%\n"
    }
   },
   "outputs": [
    {
     "data": {
      "text/html": [
       "<div>\n",
       "<style scoped>\n",
       "    .dataframe tbody tr th:only-of-type {\n",
       "        vertical-align: middle;\n",
       "    }\n",
       "\n",
       "    .dataframe tbody tr th {\n",
       "        vertical-align: top;\n",
       "    }\n",
       "\n",
       "    .dataframe thead th {\n",
       "        text-align: right;\n",
       "    }\n",
       "</style>\n",
       "<table border=\"1\" class=\"dataframe\">\n",
       "  <thead>\n",
       "    <tr style=\"text-align: right;\">\n",
       "      <th></th>\n",
       "      <th>Id</th>\n",
       "      <th>Expected</th>\n",
       "    </tr>\n",
       "  </thead>\n",
       "  <tbody>\n",
       "    <tr>\n",
       "      <th>0</th>\n",
       "      <td>0</td>\n",
       "      <td>0</td>\n",
       "    </tr>\n",
       "    <tr>\n",
       "      <th>1</th>\n",
       "      <td>1</td>\n",
       "      <td>0</td>\n",
       "    </tr>\n",
       "    <tr>\n",
       "      <th>2</th>\n",
       "      <td>2</td>\n",
       "      <td>0</td>\n",
       "    </tr>\n",
       "    <tr>\n",
       "      <th>3</th>\n",
       "      <td>3</td>\n",
       "      <td>0</td>\n",
       "    </tr>\n",
       "    <tr>\n",
       "      <th>4</th>\n",
       "      <td>4</td>\n",
       "      <td>1</td>\n",
       "    </tr>\n",
       "    <tr>\n",
       "      <th>...</th>\n",
       "      <td>...</td>\n",
       "      <td>...</td>\n",
       "    </tr>\n",
       "    <tr>\n",
       "      <th>916</th>\n",
       "      <td>916</td>\n",
       "      <td>1</td>\n",
       "    </tr>\n",
       "    <tr>\n",
       "      <th>917</th>\n",
       "      <td>917</td>\n",
       "      <td>0</td>\n",
       "    </tr>\n",
       "    <tr>\n",
       "      <th>918</th>\n",
       "      <td>918</td>\n",
       "      <td>1</td>\n",
       "    </tr>\n",
       "    <tr>\n",
       "      <th>919</th>\n",
       "      <td>919</td>\n",
       "      <td>0</td>\n",
       "    </tr>\n",
       "    <tr>\n",
       "      <th>920</th>\n",
       "      <td>920</td>\n",
       "      <td>1</td>\n",
       "    </tr>\n",
       "  </tbody>\n",
       "</table>\n",
       "<p>921 rows × 2 columns</p>\n",
       "</div>"
      ],
      "text/plain": [
       "      Id  Expected\n",
       "0      0         0\n",
       "1      1         0\n",
       "2      2         0\n",
       "3      3         0\n",
       "4      4         1\n",
       "..   ...       ...\n",
       "916  916         1\n",
       "917  917         0\n",
       "918  918         1\n",
       "919  919         0\n",
       "920  920         1\n",
       "\n",
       "[921 rows x 2 columns]"
      ]
     },
     "execution_count": 14,
     "metadata": {},
     "output_type": "execute_result"
    }
   ],
   "source": [
    "tree = DecisionTreeClassifier(max_depth=5, min_samples_leaf=30)\n",
    "# all_X = pd.read_csv('../input/homework-decision-tree-ib-22/x_spam_train.csv')\n",
    "# all_y = pd.read_csv('../input/homework-decision-tree-ib-22/y_spam_train.csv')\n",
    "# test_X = pd.read_csv('../input/homework-decision-tree-ib-22/x_spam_test.csv')\n",
    "all_X = pd.read_csv('x_spam_train.csv')\n",
    "all_y = pd.read_csv('y_spam_train.csv')\n",
    "test_X = pd.read_csv('x_spam_test.csv')\n",
    "tree.fit(all_X, all_y['Expected'])\n",
    "submission = pd.DataFrame(columns = [\"Id\", \"Expected\"])\n",
    "submission[\"Id\"] = test_X[\"Id\"]\n",
    "submission[\"Expected\"] = tree.predict(test_X)\n",
    "#submission.to_csv('submission.csv', index=False)\n",
    "submission"
   ]
  }
 ],
 "metadata": {
  "kernelspec": {
   "display_name": "Python 3 (ipykernel)",
   "language": "python",
   "name": "python3"
  },
  "language_info": {
   "codemirror_mode": {
    "name": "ipython",
    "version": 3
   },
   "file_extension": ".py",
   "mimetype": "text/x-python",
   "name": "python",
   "nbconvert_exporter": "python",
   "pygments_lexer": "ipython3",
   "version": "3.9.7"
  },
  "toc": {
   "base_numbering": 1,
   "nav_menu": {},
   "number_sections": true,
   "sideBar": true,
   "skip_h1_title": false,
   "title_cell": "Table of Contents",
   "title_sidebar": "Contents",
   "toc_cell": false,
   "toc_position": {
    "height": "calc(100% - 180px)",
    "left": "10px",
    "top": "150px",
    "width": "383.188px"
   },
   "toc_section_display": true,
   "toc_window_display": true
  },
  "varInspector": {
   "cols": {
    "lenName": 16,
    "lenType": 16,
    "lenVar": 40
   },
   "kernels_config": {
    "python": {
     "delete_cmd_postfix": "",
     "delete_cmd_prefix": "del ",
     "library": "var_list.py",
     "varRefreshCmd": "print(var_dic_list())"
    },
    "r": {
     "delete_cmd_postfix": ") ",
     "delete_cmd_prefix": "rm(",
     "library": "var_list.r",
     "varRefreshCmd": "cat(var_dic_list()) "
    }
   },
   "types_to_exclude": [
    "module",
    "function",
    "builtin_function_or_method",
    "instance",
    "_Feature"
   ],
   "window_display": false
  }
 },
 "nbformat": 4,
 "nbformat_minor": 2
}
