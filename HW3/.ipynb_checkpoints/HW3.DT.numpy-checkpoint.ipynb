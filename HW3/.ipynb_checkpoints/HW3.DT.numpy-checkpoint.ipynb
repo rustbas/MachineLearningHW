{
 "cells": [
  {
   "cell_type": "markdown",
   "metadata": {},
   "source": [
    "# Деревья решений решают проблемы\n",
    "__Суммарное количество баллов: 10__\n",
    "\n",
    "Вы уже знакомы с классификацией методом KNN. В этом задании предстоит реализовать другой метод классификации - дерево решений. \n",
    "\n",
    "Одной из его особенностей является возможность объяснить в человекочитаемой форме, почему мы отнесли объект к определенному классу. Эта особенность позволяет использовать деревья решений для создания систем, которые могут подсказывать специалистам, на что именно стоит обратить внимание при принятии решений."
   ]
  },
  {
   "cell_type": "code",
   "execution_count": 225,
   "metadata": {
    "ExecuteTime": {
     "end_time": "2022-03-08T14:58:21.988396Z",
     "start_time": "2022-03-08T14:58:21.945288Z"
    }
   },
   "outputs": [],
   "source": [
    "import numpy as np\n",
    "import pandas as pd\n",
    "import random\n",
    "import matplotlib.pyplot as plt\n",
    "import matplotlib\n",
    "import seaborn as sns"
   ]
  },
  {
   "cell_type": "markdown",
   "metadata": {},
   "source": [
    "## Некоторые промежуточный функции"
   ]
  },
  {
   "cell_type": "code",
   "execution_count": 93,
   "metadata": {
    "ExecuteTime": {
     "end_time": "2022-03-08T12:59:29.684398Z",
     "start_time": "2022-03-08T12:59:29.674145Z"
    }
   },
   "outputs": [
    {
     "name": "stdout",
     "output_type": "stream",
     "text": [
      "Вход: [1, 2, 10, 10, 10, 10, 10, 3, 4, 5, 6, 7, 7, 7, 7, 7]\n",
      "Выход: [1.5 2.5 3.5 4.5 5.5 6.5 8.5]\n"
     ]
    }
   ],
   "source": [
    "# def subtotals(x):\n",
    "#     X = sorted(list(set(x)))\n",
    "# #     print(X)\n",
    "#     res = np.zeros(len(X)-1)\n",
    "#     for i in range(len(X) - 1):\n",
    "#         res[i] = (X[i] + X[i+1])/2\n",
    "#     return res\n",
    "\n",
    "def subtotals(x):\n",
    "    X = np.array(sorted(list(set(x))))\n",
    "    \n",
    "    return (X[1:] + X[:-1])/2\n",
    "\n",
    "st = [1,2,10,10,10,10,10,3,4,5,6,7,7,7,7,7]\n",
    "res = subtotals(st)\n",
    "print(f'Вход: {st}')\n",
    "print(f'Выход: {res}')"
   ]
  },
  {
   "cell_type": "code",
   "execution_count": 104,
   "metadata": {
    "ExecuteTime": {
     "end_time": "2022-03-08T13:01:10.973819Z",
     "start_time": "2022-03-08T13:01:10.965206Z"
    }
   },
   "outputs": [
    {
     "data": {
      "text/plain": [
       "array([ 1.5,  3. ,  4.5,  5.5,  6.5,  8. , 10. , 13.5, 17.5, 19.5, 20.5,\n",
       "       21.5, 24.5, 27.5, 29. , 31.5, 33.5, 34.5, 36.5, 39. , 43.5, 47.5,\n",
       "       49.5, 52. , 53.5, 57. , 60.5, 62. , 63.5, 66. , 69. , 70.5, 73. ,\n",
       "       75.5, 76.5, 78. , 80. , 81.5, 82.5, 83.5, 84.5, 86.5, 88.5, 90. ,\n",
       "       92. , 93.5, 94.5, 95.5, 96.5])"
      ]
     },
     "execution_count": 104,
     "metadata": {},
     "output_type": "execute_result"
    }
   ],
   "source": [
    "test = np.random.choice(100, 50, replace=False)\n",
    "subtotals(test)"
   ]
  },
  {
   "cell_type": "markdown",
   "metadata": {},
   "source": [
    "## Задание 1 (1 балл)"
   ]
  },
  {
   "cell_type": "markdown",
   "metadata": {},
   "source": [
    "Во время построения дерева решений нам потребуется определить, какой из предикатов лучше всего разбивает обучающую выборку. Есть два критерия, которые позволяют это сделать: критерий Джини и энтропийный критерий. Первый для подсчета информативности разбиения использует коэффициент Джини, второй - энтропию. Реализуйте подсчет этих коэффициентов, а так же подсчет информативности разбиения. \n",
    "\n",
    "#### Описание функций\n",
    "`gini(x)` считает коэффициент Джини для массива меток\n",
    "\n",
    "`entropy(x)` считает энтропию для массива меток\n",
    "\n",
    "`gain(left_y, right_y, criterion)` считает информативность разбиения массива меток на левую `left_y` и правую `right_y` части при помощи `criterion`, который задается функцией (не строкой)."
   ]
  },
  {
   "cell_type": "code",
   "execution_count": 260,
   "metadata": {
    "ExecuteTime": {
     "end_time": "2022-03-08T18:44:32.012623Z",
     "start_time": "2022-03-08T18:44:32.005388Z"
    }
   },
   "outputs": [
    {
     "name": "stdout",
     "output_type": "stream",
     "text": [
      "[4 1 2 4 2 0 2 1 4 1 4 4 0 3 0 1 2 2 0 2 0 1 4 1 4 3 0 4 4 0 0 4 4 2 1 2 1\n",
      " 3 3 2 4 3 0 1 2 1 3 3 3 1 2 1 1 3 3 1 4 2 2 4 0 2 1 1 3 4 2 0 2 2 1 2 4 4\n",
      " 0 3 1 2 4 2 1 3 3 2 3 0 0 0 2 2 3 0 1 4 0 4 0 4 4 2]\n",
      "[1 4 2 3 3 4 3 1 4 3 2 3 0 1 4 1 4 3 3 3 2 2 4 4 0 4 0 2 2 3 4 3 0 3 1 0 1\n",
      " 3 2 1 1 2 4 3 4 2 3 1 2 1 2 3 3 2 3 2 1 3 1 3 0 3 2 2 3 4 4 4 4 1 0 2 4 3\n",
      " 2 1 0 3 1 2 1 4 2 1 0 3 1 2 3 0 4 1 1 2 1 4 0 1 0 3]\n",
      "0.003950000000000244\n"
     ]
    }
   ],
   "source": [
    "def gini(x):\n",
    "    labels = list(set(x.flatten()))\n",
    "    n = len(x)\n",
    "    m = len(labels)\n",
    "    Y = dict()\n",
    "    for i in labels:\n",
    "        Y[i] = 0\n",
    "    \n",
    "    for label in x:\n",
    "#         print(label, type(label), type(x))\n",
    "        Y[label] += 1/n\n",
    "        \n",
    "    S = 0\n",
    "    for key in Y.keys():\n",
    "        S += Y[key]*(1 - Y[key])\n",
    "    \n",
    "    return S\n",
    "    \n",
    "def entropy(x):\n",
    "    labels = list(set(x.flatten()))\n",
    "    n = len(x)\n",
    "    m = len(labels)\n",
    "    Y = dict()\n",
    "    for i in labels:\n",
    "        Y[i] = 0\n",
    "    \n",
    "    for label in labels:\n",
    "        Y[label] += 1/n\n",
    "        \n",
    "    S = 0\n",
    "    for key in Y.keys():\n",
    "        S -= Y[key]*np.log2(Y[key])\n",
    "        \n",
    "    return S\n",
    "\n",
    "def gain(left_y, right_y, criterion):\n",
    "    y = np.append(left_y, right_y)\n",
    "    n_left = len(left_y)\n",
    "    n_right = len(right_y)\n",
    "    n_all = n_left + n_right\n",
    "    return (n_all*criterion(y) - n_right*criterion(right_y) - n_left*criterion(left_y))/n_all\n",
    "\n",
    "test = np.random.choice(5, 100)\n",
    "test2 = np.random.choice(5, 100)\n",
    "# (test)\n",
    "print(test)\n",
    "print(test2)\n",
    "print(gain(test,test2, gini))"
   ]
  },
  {
   "cell_type": "markdown",
   "metadata": {},
   "source": [
    "## Задание 2 (1 балл)"
   ]
  },
  {
   "cell_type": "markdown",
   "metadata": {},
   "source": [
    "Деревья решений имеют хорошую интерпретируемость, т.к. позволяют не только предсказать класс, но и объяснить, почему мы предсказали именно его. Например, мы можем его нарисовать. Чтобы сделать это, нам необходимо знать, как оно устроено внутри. Реализуйте классы, которые будут задавать структуру дерева. \n",
    "\n",
    "#### DecisionTreeLeaf\n",
    "Поля:\n",
    "1. `y` должно содержать класс, который встречается чаще всего среди элементов листа дерева\n",
    "\n",
    "#### DecisionTreeNode\n",
    "В данной домашней работе мы ограничемся порядковыми и количественными признаками, поэтому достаточно хранить измерение и значение признака, по которому разбиваем обучающую выборку.\n",
    "\n",
    "Поля:\n",
    "1. `split_dim` измерение, по которому разбиваем выборку\n",
    "2. `split_value` значение, по которому разбираем выборку\n",
    "3. `left` поддерево, отвечающее за случай `x[split_dim] < split_value`. Может быть `DecisionTreeNode` или `DecisionTreeLeaf`\n",
    "4. `right` поддерево, отвечающее за случай `x[split_dim] >= split_value`. Может быть `DecisionTreeNode` или `DecisionTreeLeaf`\n",
    "\n",
    "__Интерфейс классов можно и нужно менять при необходимости__ (например, для вычисления вероятности в следующем задании)"
   ]
  },
  {
   "cell_type": "code",
   "execution_count": 80,
   "metadata": {
    "ExecuteTime": {
     "end_time": "2022-03-08T12:49:14.827369Z",
     "start_time": "2022-03-08T12:49:14.818907Z"
    }
   },
   "outputs": [],
   "source": [
    "class DecisionTreeLeaf:\n",
    "    def __init__(self, y):\n",
    "        self.y = y\n",
    "        self.N = len(y)\n",
    "        self.set = list(set(y.flatten()))\n",
    "#         raise NotImplementedError()\n",
    "\n",
    "class DecisionTreeNode:\n",
    "    def __init__(self, split_dim, split_value, left, right):\n",
    "        self.split_dim = split_dim\n",
    "        self.split_value = split_value\n",
    "        self.left = left\n",
    "        self.right = right\n",
    "#         raise NotImplementedError()"
   ]
  },
  {
   "cell_type": "markdown",
   "metadata": {},
   "source": [
    "## Задание 3 (6 баллов)"
   ]
  },
  {
   "cell_type": "markdown",
   "metadata": {},
   "source": [
    "Теперь перейдем к самому дереву решений. Реализуйте класс `DecisionTreeClassifier`.\n",
    "\n",
    "#### Описание методов\n",
    "`fit(X, y)` строит дерево решений по обучающей выборке.\n",
    "\n",
    "`predict_proba(X)` для каждого элемента из `X` возвращает словарь `dict`, состоящий из пар `(класс, вероятность)`. Вероятности классов в листе можно определить через количество объектов соответствующего класса в листе. \n",
    "\n",
    "#### Описание параметров конструктора\n",
    "`criterion=\"gini\"` - задает критерий, который будет использоваться при построении дерева. Возможные значения: `\"gini\"`, `\"entropy\"`.\n",
    "\n",
    "`max_depth=None` - ограничение глубины дерева. Если `None` - глубина не ограничена\n",
    "\n",
    "`min_samples_leaf=1` - минимальное количество элементов в каждом листе дерева.\n",
    "\n",
    "#### Описание полей\n",
    "`root` - корень дерева. Может быть `DecisionTreeNode` или `DecisionTreeLeaf`"
   ]
  },
  {
   "cell_type": "code",
   "execution_count": 449,
   "metadata": {
    "ExecuteTime": {
     "end_time": "2022-03-08T21:18:11.658328Z",
     "start_time": "2022-03-08T21:18:11.644963Z"
    }
   },
   "outputs": [],
   "source": [
    "class DecisionTreeClassifier:\n",
    "\n",
    "    def __init__(self, criterion=\"gini\", max_depth=None, min_samples_leaf=1):\n",
    "        self.root = None\n",
    "        self.max_depth = max_depth\n",
    "        self.min_samples_leaf = min_samples_leaf\n",
    "        self.max_rec = 0\n",
    "\n",
    "        if criterion == 'gini':\n",
    "            self.criterion = gini\n",
    "        elif criterion == 'entropy':\n",
    "            self.criterion = entropy\n",
    "        else:\n",
    "            raise NotImplementedError()\n",
    "\n",
    "    def build(self, X, y, cur_rec, max_IG, side):\n",
    "\n",
    "        if cur_rec > self.max_rec:\n",
    "            self.max_rec = cur_rec\n",
    "\n",
    "        key2 = False\n",
    "        max_IG = -np.inf\n",
    "        res_column = 0\n",
    "        res_threshold = -np.inf\n",
    "\n",
    "        columns = np.arange(X.shape[1])\n",
    "\n",
    "        for column in columns:\n",
    "            X_temp = X[:, column]\n",
    "\n",
    "            thresholds = subtotals(X_temp)\n",
    "\n",
    "            #             if len(X_temp) > 300:\n",
    "            #                 thresholds = subtotals(X_temp)\n",
    "            #             else:\n",
    "            #                 thresholds = np.array(sorted(list(set(X_temp))))\n",
    "\n",
    "            #             print(len(thresholds), len(set(X_temp)),cur_rec, X_temp.shape, X.shape)\n",
    "\n",
    "            for threshold in thresholds:\n",
    "                left = y[X_temp < threshold]\n",
    "                right = y[X_temp >= threshold]\n",
    "\n",
    "                #                 print(cur_rec, left.shape, right.shape, len(left))\n",
    "\n",
    "                if len(left) < self.min_samples_leaf or len(\n",
    "                        right) < self.min_samples_leaf:\n",
    "                    #                     print(cur_rec, left.shape, right.shape, len(left))\n",
    "                    continue\n",
    "\n",
    "#                 print(left.reshape(len(left),).shape, right.shape)\n",
    "                IG = gain(left.reshape(len(left), ),\n",
    "                          right.reshape(len(right), ), self.criterion)\n",
    "\n",
    "                if IG > max_IG:\n",
    "                    key2 = True\n",
    "                    res_column = column\n",
    "                    max_IG = IG\n",
    "                    res_threshold = threshold\n",
    "\n",
    "#         print(cur_rec, res_column, X.shape, res_threshold)\n",
    "        yl = y[X[:, res_column] < res_threshold]\n",
    "        yr = y[X[:, res_column] >= res_threshold]\n",
    "\n",
    "        Xl = np.delete(X[X[:, res_column] < res_threshold], res_column, axis=1)\n",
    "        Xr = np.delete(X[X[:, res_column] >= res_threshold],\n",
    "                       res_column,\n",
    "                       axis=1)\n",
    "\n",
    "        key = False\n",
    "        if self.max_depth is None:\n",
    "            key = False\n",
    "        elif self.max_depth <= cur_rec:\n",
    "            key = True\n",
    "#         if X.shape[1] <= 1 or X.shape[0] == 0 or res_threshold == np.inf:\n",
    "        if res_threshold == np.inf:\n",
    "            #             print(X.shape, X)\n",
    "            key = True\n",
    "\n",
    "#         print(cur_rec, key, key2, side, Xr.shape, res_threshold,gain(left.reshape(len(left), ),\n",
    "#                           right.reshape(len(right), ), self.criterion))\n",
    "        if key or not key2:\n",
    "            return DecisionTreeLeaf(y)\n",
    "        else:\n",
    "            #             print(cur_rec, Xl.shape, Xr.shape, yl.shape, yr.shape, res_threshold, max_IG, key)\n",
    "            return DecisionTreeNode(res_column, res_threshold,\n",
    "                                    self.build(Xl, yl, cur_rec + 1, max_IG, 'left'),\n",
    "                                    self.build(Xr, yr, cur_rec + 1, max_IG, 'right'))\n",
    "\n",
    "    def search(self, x, Node):\n",
    "        if type(Node) is DecisionTreeLeaf:\n",
    "            res = dict()\n",
    "            for key in Node.set:\n",
    "                res[key] = np.sum(Node.y == key) / Node.N\n",
    "\n",
    "\n",
    "#                 print(res[key], np.sum(Node.y == key), Node.N)\n",
    "#             print(res)\n",
    "            return res\n",
    "\n",
    "        elif type(Node) is DecisionTreeNode:\n",
    "\n",
    "            if x[Node.split_dim] < Node.split_value:\n",
    "                return self.search(x, Node.left)\n",
    "            elif x[Node.split_dim] >= Node.split_value:\n",
    "                return self.search(x, Node.right)\n",
    "            else:\n",
    "                raise NotImplementedError()\n",
    "\n",
    "        else:\n",
    "            raise NotImplementedError()\n",
    "\n",
    "    def fit(self, X, y):\n",
    "        self.root = self.build(X, y, 1, -np.inf, 'None')\n",
    "\n",
    "    def predict_proba(self, X):\n",
    "        pred = []\n",
    "        N = len(X)\n",
    "        for i in range(N):\n",
    "            pred += [self.search(X[i], self.root)]\n",
    "        return pred\n",
    "\n",
    "    def predict(self, X):\n",
    "        proba = self.predict_proba(X)\n",
    "        return np.array([max(p.keys(), key=lambda k: p[k]) for p in proba])"
   ]
  },
  {
   "cell_type": "code",
   "execution_count": 451,
   "metadata": {
    "ExecuteTime": {
     "end_time": "2022-03-08T21:18:12.758397Z",
     "start_time": "2022-03-08T21:18:12.746624Z"
    }
   },
   "outputs": [
    {
     "data": {
      "text/plain": [
       "array([0, 2, 4, 5, 7])"
      ]
     },
     "execution_count": 451,
     "metadata": {},
     "output_type": "execute_result"
    }
   ],
   "source": [
    "def sample(N):\n",
    "    y1 = np.bool_(np.random.choice(2, N, replace=True))\n",
    "    y2 = np.logical_not(y1)\n",
    "    return y1,y2\n",
    "test = np.arange(10)\n",
    "i1,i2 = sample(10)\n",
    "test[i1]"
   ]
  },
  {
   "cell_type": "code",
   "execution_count": 452,
   "metadata": {
    "ExecuteTime": {
     "end_time": "2022-03-08T21:18:19.359880Z",
     "start_time": "2022-03-08T21:18:13.403285Z"
    },
    "scrolled": true
   },
   "outputs": [
    {
     "ename": "IndexError",
     "evalue": "index 0 is out of bounds for axis 1 with size 0",
     "output_type": "error",
     "traceback": [
      "\u001b[0;31m---------------------------------------------------------------------------\u001b[0m",
      "\u001b[0;31mIndexError\u001b[0m                                Traceback (most recent call last)",
      "\u001b[0;32m/tmp/ipykernel_333337/336935790.py\u001b[0m in \u001b[0;36m<module>\u001b[0;34m\u001b[0m\n\u001b[1;32m     12\u001b[0m \u001b[0;34m\u001b[0m\u001b[0m\n\u001b[1;32m     13\u001b[0m \u001b[0mtree\u001b[0m \u001b[0;34m=\u001b[0m \u001b[0mDecisionTreeClassifier\u001b[0m\u001b[0;34m(\u001b[0m\u001b[0mmax_depth\u001b[0m\u001b[0;34m=\u001b[0m\u001b[0;32mNone\u001b[0m\u001b[0;34m,\u001b[0m \u001b[0mmin_samples_leaf\u001b[0m\u001b[0;34m=\u001b[0m\u001b[0;36m3\u001b[0m\u001b[0;34m,\u001b[0m \u001b[0mcriterion\u001b[0m\u001b[0;34m=\u001b[0m\u001b[0;34m'entropy'\u001b[0m\u001b[0;34m)\u001b[0m\u001b[0;34m\u001b[0m\u001b[0;34m\u001b[0m\u001b[0m\n\u001b[0;32m---> 14\u001b[0;31m \u001b[0mtree\u001b[0m\u001b[0;34m.\u001b[0m\u001b[0mfit\u001b[0m\u001b[0;34m(\u001b[0m\u001b[0mX\u001b[0m\u001b[0;34m,\u001b[0m \u001b[0my\u001b[0m\u001b[0;34m)\u001b[0m\u001b[0;34m\u001b[0m\u001b[0;34m\u001b[0m\u001b[0m\n\u001b[0m\u001b[1;32m     15\u001b[0m \u001b[0;34m\u001b[0m\u001b[0m\n\u001b[1;32m     16\u001b[0m \u001b[0my_pred\u001b[0m \u001b[0;34m=\u001b[0m \u001b[0mtree\u001b[0m\u001b[0;34m.\u001b[0m\u001b[0mpredict\u001b[0m\u001b[0;34m(\u001b[0m\u001b[0mX_test\u001b[0m\u001b[0;34m)\u001b[0m\u001b[0;34m\u001b[0m\u001b[0;34m\u001b[0m\u001b[0m\n",
      "\u001b[0;32m/tmp/ipykernel_333337/1784961492.py\u001b[0m in \u001b[0;36mfit\u001b[0;34m(self, X, y)\u001b[0m\n\u001b[1;32m    112\u001b[0m \u001b[0;34m\u001b[0m\u001b[0m\n\u001b[1;32m    113\u001b[0m     \u001b[0;32mdef\u001b[0m \u001b[0mfit\u001b[0m\u001b[0;34m(\u001b[0m\u001b[0mself\u001b[0m\u001b[0;34m,\u001b[0m \u001b[0mX\u001b[0m\u001b[0;34m,\u001b[0m \u001b[0my\u001b[0m\u001b[0;34m)\u001b[0m\u001b[0;34m:\u001b[0m\u001b[0;34m\u001b[0m\u001b[0;34m\u001b[0m\u001b[0m\n\u001b[0;32m--> 114\u001b[0;31m         \u001b[0mself\u001b[0m\u001b[0;34m.\u001b[0m\u001b[0mroot\u001b[0m \u001b[0;34m=\u001b[0m \u001b[0mself\u001b[0m\u001b[0;34m.\u001b[0m\u001b[0mbuild\u001b[0m\u001b[0;34m(\u001b[0m\u001b[0mX\u001b[0m\u001b[0;34m,\u001b[0m \u001b[0my\u001b[0m\u001b[0;34m,\u001b[0m \u001b[0;36m1\u001b[0m\u001b[0;34m,\u001b[0m \u001b[0;34m-\u001b[0m\u001b[0mnp\u001b[0m\u001b[0;34m.\u001b[0m\u001b[0minf\u001b[0m\u001b[0;34m,\u001b[0m \u001b[0;34m'None'\u001b[0m\u001b[0;34m)\u001b[0m\u001b[0;34m\u001b[0m\u001b[0;34m\u001b[0m\u001b[0m\n\u001b[0m\u001b[1;32m    115\u001b[0m \u001b[0;34m\u001b[0m\u001b[0m\n\u001b[1;32m    116\u001b[0m     \u001b[0;32mdef\u001b[0m \u001b[0mpredict_proba\u001b[0m\u001b[0;34m(\u001b[0m\u001b[0mself\u001b[0m\u001b[0;34m,\u001b[0m \u001b[0mX\u001b[0m\u001b[0;34m)\u001b[0m\u001b[0;34m:\u001b[0m\u001b[0;34m\u001b[0m\u001b[0;34m\u001b[0m\u001b[0m\n",
      "\u001b[0;32m/tmp/ipykernel_333337/1784961492.py\u001b[0m in \u001b[0;36mbuild\u001b[0;34m(self, X, y, cur_rec, max_IG, side)\u001b[0m\n\u001b[1;32m     85\u001b[0m             \u001b[0;31m#             print(cur_rec, Xl.shape, Xr.shape, yl.shape, yr.shape, res_threshold, max_IG, key)\u001b[0m\u001b[0;34m\u001b[0m\u001b[0;34m\u001b[0m\u001b[0m\n\u001b[1;32m     86\u001b[0m             return DecisionTreeNode(res_column, res_threshold,\n\u001b[0;32m---> 87\u001b[0;31m                                     \u001b[0mself\u001b[0m\u001b[0;34m.\u001b[0m\u001b[0mbuild\u001b[0m\u001b[0;34m(\u001b[0m\u001b[0mXl\u001b[0m\u001b[0;34m,\u001b[0m \u001b[0myl\u001b[0m\u001b[0;34m,\u001b[0m \u001b[0mcur_rec\u001b[0m \u001b[0;34m+\u001b[0m \u001b[0;36m1\u001b[0m\u001b[0;34m,\u001b[0m \u001b[0mmax_IG\u001b[0m\u001b[0;34m,\u001b[0m \u001b[0;34m'left'\u001b[0m\u001b[0;34m)\u001b[0m\u001b[0;34m,\u001b[0m\u001b[0;34m\u001b[0m\u001b[0;34m\u001b[0m\u001b[0m\n\u001b[0m\u001b[1;32m     88\u001b[0m                                     self.build(Xr, yr, cur_rec + 1, max_IG, 'right'))\n\u001b[1;32m     89\u001b[0m \u001b[0;34m\u001b[0m\u001b[0m\n",
      "\u001b[0;32m/tmp/ipykernel_333337/1784961492.py\u001b[0m in \u001b[0;36mbuild\u001b[0;34m(self, X, y, cur_rec, max_IG, side)\u001b[0m\n\u001b[1;32m     85\u001b[0m             \u001b[0;31m#             print(cur_rec, Xl.shape, Xr.shape, yl.shape, yr.shape, res_threshold, max_IG, key)\u001b[0m\u001b[0;34m\u001b[0m\u001b[0;34m\u001b[0m\u001b[0m\n\u001b[1;32m     86\u001b[0m             return DecisionTreeNode(res_column, res_threshold,\n\u001b[0;32m---> 87\u001b[0;31m                                     \u001b[0mself\u001b[0m\u001b[0;34m.\u001b[0m\u001b[0mbuild\u001b[0m\u001b[0;34m(\u001b[0m\u001b[0mXl\u001b[0m\u001b[0;34m,\u001b[0m \u001b[0myl\u001b[0m\u001b[0;34m,\u001b[0m \u001b[0mcur_rec\u001b[0m \u001b[0;34m+\u001b[0m \u001b[0;36m1\u001b[0m\u001b[0;34m,\u001b[0m \u001b[0mmax_IG\u001b[0m\u001b[0;34m,\u001b[0m \u001b[0;34m'left'\u001b[0m\u001b[0;34m)\u001b[0m\u001b[0;34m,\u001b[0m\u001b[0;34m\u001b[0m\u001b[0;34m\u001b[0m\u001b[0m\n\u001b[0m\u001b[1;32m     88\u001b[0m                                     self.build(Xr, yr, cur_rec + 1, max_IG, 'right'))\n\u001b[1;32m     89\u001b[0m \u001b[0;34m\u001b[0m\u001b[0m\n",
      "\u001b[0;32m/tmp/ipykernel_333337/1784961492.py\u001b[0m in \u001b[0;36mbuild\u001b[0;34m(self, X, y, cur_rec, max_IG, side)\u001b[0m\n\u001b[1;32m     85\u001b[0m             \u001b[0;31m#             print(cur_rec, Xl.shape, Xr.shape, yl.shape, yr.shape, res_threshold, max_IG, key)\u001b[0m\u001b[0;34m\u001b[0m\u001b[0;34m\u001b[0m\u001b[0m\n\u001b[1;32m     86\u001b[0m             return DecisionTreeNode(res_column, res_threshold,\n\u001b[0;32m---> 87\u001b[0;31m                                     \u001b[0mself\u001b[0m\u001b[0;34m.\u001b[0m\u001b[0mbuild\u001b[0m\u001b[0;34m(\u001b[0m\u001b[0mXl\u001b[0m\u001b[0;34m,\u001b[0m \u001b[0myl\u001b[0m\u001b[0;34m,\u001b[0m \u001b[0mcur_rec\u001b[0m \u001b[0;34m+\u001b[0m \u001b[0;36m1\u001b[0m\u001b[0;34m,\u001b[0m \u001b[0mmax_IG\u001b[0m\u001b[0;34m,\u001b[0m \u001b[0;34m'left'\u001b[0m\u001b[0;34m)\u001b[0m\u001b[0;34m,\u001b[0m\u001b[0;34m\u001b[0m\u001b[0;34m\u001b[0m\u001b[0m\n\u001b[0m\u001b[1;32m     88\u001b[0m                                     self.build(Xr, yr, cur_rec + 1, max_IG, 'right'))\n\u001b[1;32m     89\u001b[0m \u001b[0;34m\u001b[0m\u001b[0m\n",
      "\u001b[0;32m/tmp/ipykernel_333337/1784961492.py\u001b[0m in \u001b[0;36mbuild\u001b[0;34m(self, X, y, cur_rec, max_IG, side)\u001b[0m\n\u001b[1;32m     85\u001b[0m             \u001b[0;31m#             print(cur_rec, Xl.shape, Xr.shape, yl.shape, yr.shape, res_threshold, max_IG, key)\u001b[0m\u001b[0;34m\u001b[0m\u001b[0;34m\u001b[0m\u001b[0m\n\u001b[1;32m     86\u001b[0m             return DecisionTreeNode(res_column, res_threshold,\n\u001b[0;32m---> 87\u001b[0;31m                                     \u001b[0mself\u001b[0m\u001b[0;34m.\u001b[0m\u001b[0mbuild\u001b[0m\u001b[0;34m(\u001b[0m\u001b[0mXl\u001b[0m\u001b[0;34m,\u001b[0m \u001b[0myl\u001b[0m\u001b[0;34m,\u001b[0m \u001b[0mcur_rec\u001b[0m \u001b[0;34m+\u001b[0m \u001b[0;36m1\u001b[0m\u001b[0;34m,\u001b[0m \u001b[0mmax_IG\u001b[0m\u001b[0;34m,\u001b[0m \u001b[0;34m'left'\u001b[0m\u001b[0;34m)\u001b[0m\u001b[0;34m,\u001b[0m\u001b[0;34m\u001b[0m\u001b[0;34m\u001b[0m\u001b[0m\n\u001b[0m\u001b[1;32m     88\u001b[0m                                     self.build(Xr, yr, cur_rec + 1, max_IG, 'right'))\n\u001b[1;32m     89\u001b[0m \u001b[0;34m\u001b[0m\u001b[0m\n",
      "\u001b[0;32m/tmp/ipykernel_333337/1784961492.py\u001b[0m in \u001b[0;36mbuild\u001b[0;34m(self, X, y, cur_rec, max_IG, side)\u001b[0m\n\u001b[1;32m     85\u001b[0m             \u001b[0;31m#             print(cur_rec, Xl.shape, Xr.shape, yl.shape, yr.shape, res_threshold, max_IG, key)\u001b[0m\u001b[0;34m\u001b[0m\u001b[0;34m\u001b[0m\u001b[0m\n\u001b[1;32m     86\u001b[0m             return DecisionTreeNode(res_column, res_threshold,\n\u001b[0;32m---> 87\u001b[0;31m                                     \u001b[0mself\u001b[0m\u001b[0;34m.\u001b[0m\u001b[0mbuild\u001b[0m\u001b[0;34m(\u001b[0m\u001b[0mXl\u001b[0m\u001b[0;34m,\u001b[0m \u001b[0myl\u001b[0m\u001b[0;34m,\u001b[0m \u001b[0mcur_rec\u001b[0m \u001b[0;34m+\u001b[0m \u001b[0;36m1\u001b[0m\u001b[0;34m,\u001b[0m \u001b[0mmax_IG\u001b[0m\u001b[0;34m,\u001b[0m \u001b[0;34m'left'\u001b[0m\u001b[0;34m)\u001b[0m\u001b[0;34m,\u001b[0m\u001b[0;34m\u001b[0m\u001b[0;34m\u001b[0m\u001b[0m\n\u001b[0m\u001b[1;32m     88\u001b[0m                                     self.build(Xr, yr, cur_rec + 1, max_IG, 'right'))\n\u001b[1;32m     89\u001b[0m \u001b[0;34m\u001b[0m\u001b[0m\n",
      "\u001b[0;32m/tmp/ipykernel_333337/1784961492.py\u001b[0m in \u001b[0;36mbuild\u001b[0;34m(self, X, y, cur_rec, max_IG, side)\u001b[0m\n\u001b[1;32m     85\u001b[0m             \u001b[0;31m#             print(cur_rec, Xl.shape, Xr.shape, yl.shape, yr.shape, res_threshold, max_IG, key)\u001b[0m\u001b[0;34m\u001b[0m\u001b[0;34m\u001b[0m\u001b[0m\n\u001b[1;32m     86\u001b[0m             return DecisionTreeNode(res_column, res_threshold,\n\u001b[0;32m---> 87\u001b[0;31m                                     \u001b[0mself\u001b[0m\u001b[0;34m.\u001b[0m\u001b[0mbuild\u001b[0m\u001b[0;34m(\u001b[0m\u001b[0mXl\u001b[0m\u001b[0;34m,\u001b[0m \u001b[0myl\u001b[0m\u001b[0;34m,\u001b[0m \u001b[0mcur_rec\u001b[0m \u001b[0;34m+\u001b[0m \u001b[0;36m1\u001b[0m\u001b[0;34m,\u001b[0m \u001b[0mmax_IG\u001b[0m\u001b[0;34m,\u001b[0m \u001b[0;34m'left'\u001b[0m\u001b[0;34m)\u001b[0m\u001b[0;34m,\u001b[0m\u001b[0;34m\u001b[0m\u001b[0;34m\u001b[0m\u001b[0m\n\u001b[0m\u001b[1;32m     88\u001b[0m                                     self.build(Xr, yr, cur_rec + 1, max_IG, 'right'))\n\u001b[1;32m     89\u001b[0m \u001b[0;34m\u001b[0m\u001b[0m\n",
      "\u001b[0;32m/tmp/ipykernel_333337/1784961492.py\u001b[0m in \u001b[0;36mbuild\u001b[0;34m(self, X, y, cur_rec, max_IG, side)\u001b[0m\n\u001b[1;32m     85\u001b[0m             \u001b[0;31m#             print(cur_rec, Xl.shape, Xr.shape, yl.shape, yr.shape, res_threshold, max_IG, key)\u001b[0m\u001b[0;34m\u001b[0m\u001b[0;34m\u001b[0m\u001b[0m\n\u001b[1;32m     86\u001b[0m             return DecisionTreeNode(res_column, res_threshold,\n\u001b[0;32m---> 87\u001b[0;31m                                     \u001b[0mself\u001b[0m\u001b[0;34m.\u001b[0m\u001b[0mbuild\u001b[0m\u001b[0;34m(\u001b[0m\u001b[0mXl\u001b[0m\u001b[0;34m,\u001b[0m \u001b[0myl\u001b[0m\u001b[0;34m,\u001b[0m \u001b[0mcur_rec\u001b[0m \u001b[0;34m+\u001b[0m \u001b[0;36m1\u001b[0m\u001b[0;34m,\u001b[0m \u001b[0mmax_IG\u001b[0m\u001b[0;34m,\u001b[0m \u001b[0;34m'left'\u001b[0m\u001b[0;34m)\u001b[0m\u001b[0;34m,\u001b[0m\u001b[0;34m\u001b[0m\u001b[0;34m\u001b[0m\u001b[0m\n\u001b[0m\u001b[1;32m     88\u001b[0m                                     self.build(Xr, yr, cur_rec + 1, max_IG, 'right'))\n\u001b[1;32m     89\u001b[0m \u001b[0;34m\u001b[0m\u001b[0m\n",
      "\u001b[0;32m/tmp/ipykernel_333337/1784961492.py\u001b[0m in \u001b[0;36mbuild\u001b[0;34m(self, X, y, cur_rec, max_IG, side)\u001b[0m\n\u001b[1;32m     85\u001b[0m             \u001b[0;31m#             print(cur_rec, Xl.shape, Xr.shape, yl.shape, yr.shape, res_threshold, max_IG, key)\u001b[0m\u001b[0;34m\u001b[0m\u001b[0;34m\u001b[0m\u001b[0m\n\u001b[1;32m     86\u001b[0m             return DecisionTreeNode(res_column, res_threshold,\n\u001b[0;32m---> 87\u001b[0;31m                                     \u001b[0mself\u001b[0m\u001b[0;34m.\u001b[0m\u001b[0mbuild\u001b[0m\u001b[0;34m(\u001b[0m\u001b[0mXl\u001b[0m\u001b[0;34m,\u001b[0m \u001b[0myl\u001b[0m\u001b[0;34m,\u001b[0m \u001b[0mcur_rec\u001b[0m \u001b[0;34m+\u001b[0m \u001b[0;36m1\u001b[0m\u001b[0;34m,\u001b[0m \u001b[0mmax_IG\u001b[0m\u001b[0;34m,\u001b[0m \u001b[0;34m'left'\u001b[0m\u001b[0;34m)\u001b[0m\u001b[0;34m,\u001b[0m\u001b[0;34m\u001b[0m\u001b[0;34m\u001b[0m\u001b[0m\n\u001b[0m\u001b[1;32m     88\u001b[0m                                     self.build(Xr, yr, cur_rec + 1, max_IG, 'right'))\n\u001b[1;32m     89\u001b[0m \u001b[0;34m\u001b[0m\u001b[0m\n",
      "\u001b[0;32m/tmp/ipykernel_333337/1784961492.py\u001b[0m in \u001b[0;36mbuild\u001b[0;34m(self, X, y, cur_rec, max_IG, side)\u001b[0m\n\u001b[1;32m     85\u001b[0m             \u001b[0;31m#             print(cur_rec, Xl.shape, Xr.shape, yl.shape, yr.shape, res_threshold, max_IG, key)\u001b[0m\u001b[0;34m\u001b[0m\u001b[0;34m\u001b[0m\u001b[0m\n\u001b[1;32m     86\u001b[0m             return DecisionTreeNode(res_column, res_threshold,\n\u001b[0;32m---> 87\u001b[0;31m                                     \u001b[0mself\u001b[0m\u001b[0;34m.\u001b[0m\u001b[0mbuild\u001b[0m\u001b[0;34m(\u001b[0m\u001b[0mXl\u001b[0m\u001b[0;34m,\u001b[0m \u001b[0myl\u001b[0m\u001b[0;34m,\u001b[0m \u001b[0mcur_rec\u001b[0m \u001b[0;34m+\u001b[0m \u001b[0;36m1\u001b[0m\u001b[0;34m,\u001b[0m \u001b[0mmax_IG\u001b[0m\u001b[0;34m,\u001b[0m \u001b[0;34m'left'\u001b[0m\u001b[0;34m)\u001b[0m\u001b[0;34m,\u001b[0m\u001b[0;34m\u001b[0m\u001b[0;34m\u001b[0m\u001b[0m\n\u001b[0m\u001b[1;32m     88\u001b[0m                                     self.build(Xr, yr, cur_rec + 1, max_IG, 'right'))\n\u001b[1;32m     89\u001b[0m \u001b[0;34m\u001b[0m\u001b[0m\n",
      "\u001b[0;32m/tmp/ipykernel_333337/1784961492.py\u001b[0m in \u001b[0;36mbuild\u001b[0;34m(self, X, y, cur_rec, max_IG, side)\u001b[0m\n\u001b[1;32m     85\u001b[0m             \u001b[0;31m#             print(cur_rec, Xl.shape, Xr.shape, yl.shape, yr.shape, res_threshold, max_IG, key)\u001b[0m\u001b[0;34m\u001b[0m\u001b[0;34m\u001b[0m\u001b[0m\n\u001b[1;32m     86\u001b[0m             return DecisionTreeNode(res_column, res_threshold,\n\u001b[0;32m---> 87\u001b[0;31m                                     \u001b[0mself\u001b[0m\u001b[0;34m.\u001b[0m\u001b[0mbuild\u001b[0m\u001b[0;34m(\u001b[0m\u001b[0mXl\u001b[0m\u001b[0;34m,\u001b[0m \u001b[0myl\u001b[0m\u001b[0;34m,\u001b[0m \u001b[0mcur_rec\u001b[0m \u001b[0;34m+\u001b[0m \u001b[0;36m1\u001b[0m\u001b[0;34m,\u001b[0m \u001b[0mmax_IG\u001b[0m\u001b[0;34m,\u001b[0m \u001b[0;34m'left'\u001b[0m\u001b[0;34m)\u001b[0m\u001b[0;34m,\u001b[0m\u001b[0;34m\u001b[0m\u001b[0;34m\u001b[0m\u001b[0m\n\u001b[0m\u001b[1;32m     88\u001b[0m                                     self.build(Xr, yr, cur_rec + 1, max_IG, 'right'))\n\u001b[1;32m     89\u001b[0m \u001b[0;34m\u001b[0m\u001b[0m\n",
      "\u001b[0;32m/tmp/ipykernel_333337/1784961492.py\u001b[0m in \u001b[0;36mbuild\u001b[0;34m(self, X, y, cur_rec, max_IG, side)\u001b[0m\n\u001b[1;32m     85\u001b[0m             \u001b[0;31m#             print(cur_rec, Xl.shape, Xr.shape, yl.shape, yr.shape, res_threshold, max_IG, key)\u001b[0m\u001b[0;34m\u001b[0m\u001b[0;34m\u001b[0m\u001b[0m\n\u001b[1;32m     86\u001b[0m             return DecisionTreeNode(res_column, res_threshold,\n\u001b[0;32m---> 87\u001b[0;31m                                     \u001b[0mself\u001b[0m\u001b[0;34m.\u001b[0m\u001b[0mbuild\u001b[0m\u001b[0;34m(\u001b[0m\u001b[0mXl\u001b[0m\u001b[0;34m,\u001b[0m \u001b[0myl\u001b[0m\u001b[0;34m,\u001b[0m \u001b[0mcur_rec\u001b[0m \u001b[0;34m+\u001b[0m \u001b[0;36m1\u001b[0m\u001b[0;34m,\u001b[0m \u001b[0mmax_IG\u001b[0m\u001b[0;34m,\u001b[0m \u001b[0;34m'left'\u001b[0m\u001b[0;34m)\u001b[0m\u001b[0;34m,\u001b[0m\u001b[0;34m\u001b[0m\u001b[0;34m\u001b[0m\u001b[0m\n\u001b[0m\u001b[1;32m     88\u001b[0m                                     self.build(Xr, yr, cur_rec + 1, max_IG, 'right'))\n\u001b[1;32m     89\u001b[0m \u001b[0;34m\u001b[0m\u001b[0m\n",
      "\u001b[0;32m/tmp/ipykernel_333337/1784961492.py\u001b[0m in \u001b[0;36mbuild\u001b[0;34m(self, X, y, cur_rec, max_IG, side)\u001b[0m\n\u001b[1;32m     85\u001b[0m             \u001b[0;31m#             print(cur_rec, Xl.shape, Xr.shape, yl.shape, yr.shape, res_threshold, max_IG, key)\u001b[0m\u001b[0;34m\u001b[0m\u001b[0;34m\u001b[0m\u001b[0m\n\u001b[1;32m     86\u001b[0m             return DecisionTreeNode(res_column, res_threshold,\n\u001b[0;32m---> 87\u001b[0;31m                                     \u001b[0mself\u001b[0m\u001b[0;34m.\u001b[0m\u001b[0mbuild\u001b[0m\u001b[0;34m(\u001b[0m\u001b[0mXl\u001b[0m\u001b[0;34m,\u001b[0m \u001b[0myl\u001b[0m\u001b[0;34m,\u001b[0m \u001b[0mcur_rec\u001b[0m \u001b[0;34m+\u001b[0m \u001b[0;36m1\u001b[0m\u001b[0;34m,\u001b[0m \u001b[0mmax_IG\u001b[0m\u001b[0;34m,\u001b[0m \u001b[0;34m'left'\u001b[0m\u001b[0;34m)\u001b[0m\u001b[0;34m,\u001b[0m\u001b[0;34m\u001b[0m\u001b[0;34m\u001b[0m\u001b[0m\n\u001b[0m\u001b[1;32m     88\u001b[0m                                     self.build(Xr, yr, cur_rec + 1, max_IG, 'right'))\n\u001b[1;32m     89\u001b[0m \u001b[0;34m\u001b[0m\u001b[0m\n",
      "\u001b[0;32m/tmp/ipykernel_333337/1784961492.py\u001b[0m in \u001b[0;36mbuild\u001b[0;34m(self, X, y, cur_rec, max_IG, side)\u001b[0m\n\u001b[1;32m     85\u001b[0m             \u001b[0;31m#             print(cur_rec, Xl.shape, Xr.shape, yl.shape, yr.shape, res_threshold, max_IG, key)\u001b[0m\u001b[0;34m\u001b[0m\u001b[0;34m\u001b[0m\u001b[0m\n\u001b[1;32m     86\u001b[0m             return DecisionTreeNode(res_column, res_threshold,\n\u001b[0;32m---> 87\u001b[0;31m                                     \u001b[0mself\u001b[0m\u001b[0;34m.\u001b[0m\u001b[0mbuild\u001b[0m\u001b[0;34m(\u001b[0m\u001b[0mXl\u001b[0m\u001b[0;34m,\u001b[0m \u001b[0myl\u001b[0m\u001b[0;34m,\u001b[0m \u001b[0mcur_rec\u001b[0m \u001b[0;34m+\u001b[0m \u001b[0;36m1\u001b[0m\u001b[0;34m,\u001b[0m \u001b[0mmax_IG\u001b[0m\u001b[0;34m,\u001b[0m \u001b[0;34m'left'\u001b[0m\u001b[0;34m)\u001b[0m\u001b[0;34m,\u001b[0m\u001b[0;34m\u001b[0m\u001b[0;34m\u001b[0m\u001b[0m\n\u001b[0m\u001b[1;32m     88\u001b[0m                                     self.build(Xr, yr, cur_rec + 1, max_IG, 'right'))\n\u001b[1;32m     89\u001b[0m \u001b[0;34m\u001b[0m\u001b[0m\n",
      "\u001b[0;32m/tmp/ipykernel_333337/1784961492.py\u001b[0m in \u001b[0;36mbuild\u001b[0;34m(self, X, y, cur_rec, max_IG, side)\u001b[0m\n\u001b[1;32m     85\u001b[0m             \u001b[0;31m#             print(cur_rec, Xl.shape, Xr.shape, yl.shape, yr.shape, res_threshold, max_IG, key)\u001b[0m\u001b[0;34m\u001b[0m\u001b[0;34m\u001b[0m\u001b[0m\n\u001b[1;32m     86\u001b[0m             return DecisionTreeNode(res_column, res_threshold,\n\u001b[0;32m---> 87\u001b[0;31m                                     \u001b[0mself\u001b[0m\u001b[0;34m.\u001b[0m\u001b[0mbuild\u001b[0m\u001b[0;34m(\u001b[0m\u001b[0mXl\u001b[0m\u001b[0;34m,\u001b[0m \u001b[0myl\u001b[0m\u001b[0;34m,\u001b[0m \u001b[0mcur_rec\u001b[0m \u001b[0;34m+\u001b[0m \u001b[0;36m1\u001b[0m\u001b[0;34m,\u001b[0m \u001b[0mmax_IG\u001b[0m\u001b[0;34m,\u001b[0m \u001b[0;34m'left'\u001b[0m\u001b[0;34m)\u001b[0m\u001b[0;34m,\u001b[0m\u001b[0;34m\u001b[0m\u001b[0;34m\u001b[0m\u001b[0m\n\u001b[0m\u001b[1;32m     88\u001b[0m                                     self.build(Xr, yr, cur_rec + 1, max_IG, 'right'))\n\u001b[1;32m     89\u001b[0m \u001b[0;34m\u001b[0m\u001b[0m\n",
      "\u001b[0;32m/tmp/ipykernel_333337/1784961492.py\u001b[0m in \u001b[0;36mbuild\u001b[0;34m(self, X, y, cur_rec, max_IG, side)\u001b[0m\n\u001b[1;32m     85\u001b[0m             \u001b[0;31m#             print(cur_rec, Xl.shape, Xr.shape, yl.shape, yr.shape, res_threshold, max_IG, key)\u001b[0m\u001b[0;34m\u001b[0m\u001b[0;34m\u001b[0m\u001b[0m\n\u001b[1;32m     86\u001b[0m             return DecisionTreeNode(res_column, res_threshold,\n\u001b[0;32m---> 87\u001b[0;31m                                     \u001b[0mself\u001b[0m\u001b[0;34m.\u001b[0m\u001b[0mbuild\u001b[0m\u001b[0;34m(\u001b[0m\u001b[0mXl\u001b[0m\u001b[0;34m,\u001b[0m \u001b[0myl\u001b[0m\u001b[0;34m,\u001b[0m \u001b[0mcur_rec\u001b[0m \u001b[0;34m+\u001b[0m \u001b[0;36m1\u001b[0m\u001b[0;34m,\u001b[0m \u001b[0mmax_IG\u001b[0m\u001b[0;34m,\u001b[0m \u001b[0;34m'left'\u001b[0m\u001b[0;34m)\u001b[0m\u001b[0;34m,\u001b[0m\u001b[0;34m\u001b[0m\u001b[0;34m\u001b[0m\u001b[0m\n\u001b[0m\u001b[1;32m     88\u001b[0m                                     self.build(Xr, yr, cur_rec + 1, max_IG, 'right'))\n\u001b[1;32m     89\u001b[0m \u001b[0;34m\u001b[0m\u001b[0m\n",
      "\u001b[0;32m/tmp/ipykernel_333337/1784961492.py\u001b[0m in \u001b[0;36mbuild\u001b[0;34m(self, X, y, cur_rec, max_IG, side)\u001b[0m\n\u001b[1;32m     85\u001b[0m             \u001b[0;31m#             print(cur_rec, Xl.shape, Xr.shape, yl.shape, yr.shape, res_threshold, max_IG, key)\u001b[0m\u001b[0;34m\u001b[0m\u001b[0;34m\u001b[0m\u001b[0m\n\u001b[1;32m     86\u001b[0m             return DecisionTreeNode(res_column, res_threshold,\n\u001b[0;32m---> 87\u001b[0;31m                                     \u001b[0mself\u001b[0m\u001b[0;34m.\u001b[0m\u001b[0mbuild\u001b[0m\u001b[0;34m(\u001b[0m\u001b[0mXl\u001b[0m\u001b[0;34m,\u001b[0m \u001b[0myl\u001b[0m\u001b[0;34m,\u001b[0m \u001b[0mcur_rec\u001b[0m \u001b[0;34m+\u001b[0m \u001b[0;36m1\u001b[0m\u001b[0;34m,\u001b[0m \u001b[0mmax_IG\u001b[0m\u001b[0;34m,\u001b[0m \u001b[0;34m'left'\u001b[0m\u001b[0;34m)\u001b[0m\u001b[0;34m,\u001b[0m\u001b[0;34m\u001b[0m\u001b[0;34m\u001b[0m\u001b[0m\n\u001b[0m\u001b[1;32m     88\u001b[0m                                     self.build(Xr, yr, cur_rec + 1, max_IG, 'right'))\n\u001b[1;32m     89\u001b[0m \u001b[0;34m\u001b[0m\u001b[0m\n",
      "\u001b[0;32m/tmp/ipykernel_333337/1784961492.py\u001b[0m in \u001b[0;36mbuild\u001b[0;34m(self, X, y, cur_rec, max_IG, side)\u001b[0m\n\u001b[1;32m     85\u001b[0m             \u001b[0;31m#             print(cur_rec, Xl.shape, Xr.shape, yl.shape, yr.shape, res_threshold, max_IG, key)\u001b[0m\u001b[0;34m\u001b[0m\u001b[0;34m\u001b[0m\u001b[0m\n\u001b[1;32m     86\u001b[0m             return DecisionTreeNode(res_column, res_threshold,\n\u001b[0;32m---> 87\u001b[0;31m                                     \u001b[0mself\u001b[0m\u001b[0;34m.\u001b[0m\u001b[0mbuild\u001b[0m\u001b[0;34m(\u001b[0m\u001b[0mXl\u001b[0m\u001b[0;34m,\u001b[0m \u001b[0myl\u001b[0m\u001b[0;34m,\u001b[0m \u001b[0mcur_rec\u001b[0m \u001b[0;34m+\u001b[0m \u001b[0;36m1\u001b[0m\u001b[0;34m,\u001b[0m \u001b[0mmax_IG\u001b[0m\u001b[0;34m,\u001b[0m \u001b[0;34m'left'\u001b[0m\u001b[0;34m)\u001b[0m\u001b[0;34m,\u001b[0m\u001b[0;34m\u001b[0m\u001b[0;34m\u001b[0m\u001b[0m\n\u001b[0m\u001b[1;32m     88\u001b[0m                                     self.build(Xr, yr, cur_rec + 1, max_IG, 'right'))\n\u001b[1;32m     89\u001b[0m \u001b[0;34m\u001b[0m\u001b[0m\n",
      "\u001b[0;32m/tmp/ipykernel_333337/1784961492.py\u001b[0m in \u001b[0;36mbuild\u001b[0;34m(self, X, y, cur_rec, max_IG, side)\u001b[0m\n\u001b[1;32m     85\u001b[0m             \u001b[0;31m#             print(cur_rec, Xl.shape, Xr.shape, yl.shape, yr.shape, res_threshold, max_IG, key)\u001b[0m\u001b[0;34m\u001b[0m\u001b[0;34m\u001b[0m\u001b[0m\n\u001b[1;32m     86\u001b[0m             return DecisionTreeNode(res_column, res_threshold,\n\u001b[0;32m---> 87\u001b[0;31m                                     \u001b[0mself\u001b[0m\u001b[0;34m.\u001b[0m\u001b[0mbuild\u001b[0m\u001b[0;34m(\u001b[0m\u001b[0mXl\u001b[0m\u001b[0;34m,\u001b[0m \u001b[0myl\u001b[0m\u001b[0;34m,\u001b[0m \u001b[0mcur_rec\u001b[0m \u001b[0;34m+\u001b[0m \u001b[0;36m1\u001b[0m\u001b[0;34m,\u001b[0m \u001b[0mmax_IG\u001b[0m\u001b[0;34m,\u001b[0m \u001b[0;34m'left'\u001b[0m\u001b[0;34m)\u001b[0m\u001b[0;34m,\u001b[0m\u001b[0;34m\u001b[0m\u001b[0;34m\u001b[0m\u001b[0m\n\u001b[0m\u001b[1;32m     88\u001b[0m                                     self.build(Xr, yr, cur_rec + 1, max_IG, 'right'))\n\u001b[1;32m     89\u001b[0m \u001b[0;34m\u001b[0m\u001b[0m\n",
      "\u001b[0;32m/tmp/ipykernel_333337/1784961492.py\u001b[0m in \u001b[0;36mbuild\u001b[0;34m(self, X, y, cur_rec, max_IG, side)\u001b[0m\n\u001b[1;32m     85\u001b[0m             \u001b[0;31m#             print(cur_rec, Xl.shape, Xr.shape, yl.shape, yr.shape, res_threshold, max_IG, key)\u001b[0m\u001b[0;34m\u001b[0m\u001b[0;34m\u001b[0m\u001b[0m\n\u001b[1;32m     86\u001b[0m             return DecisionTreeNode(res_column, res_threshold,\n\u001b[0;32m---> 87\u001b[0;31m                                     \u001b[0mself\u001b[0m\u001b[0;34m.\u001b[0m\u001b[0mbuild\u001b[0m\u001b[0;34m(\u001b[0m\u001b[0mXl\u001b[0m\u001b[0;34m,\u001b[0m \u001b[0myl\u001b[0m\u001b[0;34m,\u001b[0m \u001b[0mcur_rec\u001b[0m \u001b[0;34m+\u001b[0m \u001b[0;36m1\u001b[0m\u001b[0;34m,\u001b[0m \u001b[0mmax_IG\u001b[0m\u001b[0;34m,\u001b[0m \u001b[0;34m'left'\u001b[0m\u001b[0;34m)\u001b[0m\u001b[0;34m,\u001b[0m\u001b[0;34m\u001b[0m\u001b[0;34m\u001b[0m\u001b[0m\n\u001b[0m\u001b[1;32m     88\u001b[0m                                     self.build(Xr, yr, cur_rec + 1, max_IG, 'right'))\n\u001b[1;32m     89\u001b[0m \u001b[0;34m\u001b[0m\u001b[0m\n",
      "\u001b[0;32m/tmp/ipykernel_333337/1784961492.py\u001b[0m in \u001b[0;36mbuild\u001b[0;34m(self, X, y, cur_rec, max_IG, side)\u001b[0m\n\u001b[1;32m     85\u001b[0m             \u001b[0;31m#             print(cur_rec, Xl.shape, Xr.shape, yl.shape, yr.shape, res_threshold, max_IG, key)\u001b[0m\u001b[0;34m\u001b[0m\u001b[0;34m\u001b[0m\u001b[0m\n\u001b[1;32m     86\u001b[0m             return DecisionTreeNode(res_column, res_threshold,\n\u001b[0;32m---> 87\u001b[0;31m                                     \u001b[0mself\u001b[0m\u001b[0;34m.\u001b[0m\u001b[0mbuild\u001b[0m\u001b[0;34m(\u001b[0m\u001b[0mXl\u001b[0m\u001b[0;34m,\u001b[0m \u001b[0myl\u001b[0m\u001b[0;34m,\u001b[0m \u001b[0mcur_rec\u001b[0m \u001b[0;34m+\u001b[0m \u001b[0;36m1\u001b[0m\u001b[0;34m,\u001b[0m \u001b[0mmax_IG\u001b[0m\u001b[0;34m,\u001b[0m \u001b[0;34m'left'\u001b[0m\u001b[0;34m)\u001b[0m\u001b[0;34m,\u001b[0m\u001b[0;34m\u001b[0m\u001b[0;34m\u001b[0m\u001b[0m\n\u001b[0m\u001b[1;32m     88\u001b[0m                                     self.build(Xr, yr, cur_rec + 1, max_IG, 'right'))\n\u001b[1;32m     89\u001b[0m \u001b[0;34m\u001b[0m\u001b[0m\n",
      "\u001b[0;32m/tmp/ipykernel_333337/1784961492.py\u001b[0m in \u001b[0;36mbuild\u001b[0;34m(self, X, y, cur_rec, max_IG, side)\u001b[0m\n\u001b[1;32m     85\u001b[0m             \u001b[0;31m#             print(cur_rec, Xl.shape, Xr.shape, yl.shape, yr.shape, res_threshold, max_IG, key)\u001b[0m\u001b[0;34m\u001b[0m\u001b[0;34m\u001b[0m\u001b[0m\n\u001b[1;32m     86\u001b[0m             return DecisionTreeNode(res_column, res_threshold,\n\u001b[0;32m---> 87\u001b[0;31m                                     \u001b[0mself\u001b[0m\u001b[0;34m.\u001b[0m\u001b[0mbuild\u001b[0m\u001b[0;34m(\u001b[0m\u001b[0mXl\u001b[0m\u001b[0;34m,\u001b[0m \u001b[0myl\u001b[0m\u001b[0;34m,\u001b[0m \u001b[0mcur_rec\u001b[0m \u001b[0;34m+\u001b[0m \u001b[0;36m1\u001b[0m\u001b[0;34m,\u001b[0m \u001b[0mmax_IG\u001b[0m\u001b[0;34m,\u001b[0m \u001b[0;34m'left'\u001b[0m\u001b[0;34m)\u001b[0m\u001b[0;34m,\u001b[0m\u001b[0;34m\u001b[0m\u001b[0;34m\u001b[0m\u001b[0m\n\u001b[0m\u001b[1;32m     88\u001b[0m                                     self.build(Xr, yr, cur_rec + 1, max_IG, 'right'))\n\u001b[1;32m     89\u001b[0m \u001b[0;34m\u001b[0m\u001b[0m\n",
      "\u001b[0;32m/tmp/ipykernel_333337/1784961492.py\u001b[0m in \u001b[0;36mbuild\u001b[0;34m(self, X, y, cur_rec, max_IG, side)\u001b[0m\n\u001b[1;32m     85\u001b[0m             \u001b[0;31m#             print(cur_rec, Xl.shape, Xr.shape, yl.shape, yr.shape, res_threshold, max_IG, key)\u001b[0m\u001b[0;34m\u001b[0m\u001b[0;34m\u001b[0m\u001b[0m\n\u001b[1;32m     86\u001b[0m             return DecisionTreeNode(res_column, res_threshold,\n\u001b[0;32m---> 87\u001b[0;31m                                     \u001b[0mself\u001b[0m\u001b[0;34m.\u001b[0m\u001b[0mbuild\u001b[0m\u001b[0;34m(\u001b[0m\u001b[0mXl\u001b[0m\u001b[0;34m,\u001b[0m \u001b[0myl\u001b[0m\u001b[0;34m,\u001b[0m \u001b[0mcur_rec\u001b[0m \u001b[0;34m+\u001b[0m \u001b[0;36m1\u001b[0m\u001b[0;34m,\u001b[0m \u001b[0mmax_IG\u001b[0m\u001b[0;34m,\u001b[0m \u001b[0;34m'left'\u001b[0m\u001b[0;34m)\u001b[0m\u001b[0;34m,\u001b[0m\u001b[0;34m\u001b[0m\u001b[0;34m\u001b[0m\u001b[0m\n\u001b[0m\u001b[1;32m     88\u001b[0m                                     self.build(Xr, yr, cur_rec + 1, max_IG, 'right'))\n\u001b[1;32m     89\u001b[0m \u001b[0;34m\u001b[0m\u001b[0m\n",
      "\u001b[0;32m/tmp/ipykernel_333337/1784961492.py\u001b[0m in \u001b[0;36mbuild\u001b[0;34m(self, X, y, cur_rec, max_IG, side)\u001b[0m\n\u001b[1;32m     85\u001b[0m             \u001b[0;31m#             print(cur_rec, Xl.shape, Xr.shape, yl.shape, yr.shape, res_threshold, max_IG, key)\u001b[0m\u001b[0;34m\u001b[0m\u001b[0;34m\u001b[0m\u001b[0m\n\u001b[1;32m     86\u001b[0m             return DecisionTreeNode(res_column, res_threshold,\n\u001b[0;32m---> 87\u001b[0;31m                                     \u001b[0mself\u001b[0m\u001b[0;34m.\u001b[0m\u001b[0mbuild\u001b[0m\u001b[0;34m(\u001b[0m\u001b[0mXl\u001b[0m\u001b[0;34m,\u001b[0m \u001b[0myl\u001b[0m\u001b[0;34m,\u001b[0m \u001b[0mcur_rec\u001b[0m \u001b[0;34m+\u001b[0m \u001b[0;36m1\u001b[0m\u001b[0;34m,\u001b[0m \u001b[0mmax_IG\u001b[0m\u001b[0;34m,\u001b[0m \u001b[0;34m'left'\u001b[0m\u001b[0;34m)\u001b[0m\u001b[0;34m,\u001b[0m\u001b[0;34m\u001b[0m\u001b[0;34m\u001b[0m\u001b[0m\n\u001b[0m\u001b[1;32m     88\u001b[0m                                     self.build(Xr, yr, cur_rec + 1, max_IG, 'right'))\n\u001b[1;32m     89\u001b[0m \u001b[0;34m\u001b[0m\u001b[0m\n",
      "\u001b[0;32m/tmp/ipykernel_333337/1784961492.py\u001b[0m in \u001b[0;36mbuild\u001b[0;34m(self, X, y, cur_rec, max_IG, side)\u001b[0m\n\u001b[1;32m     85\u001b[0m             \u001b[0;31m#             print(cur_rec, Xl.shape, Xr.shape, yl.shape, yr.shape, res_threshold, max_IG, key)\u001b[0m\u001b[0;34m\u001b[0m\u001b[0;34m\u001b[0m\u001b[0m\n\u001b[1;32m     86\u001b[0m             return DecisionTreeNode(res_column, res_threshold,\n\u001b[0;32m---> 87\u001b[0;31m                                     \u001b[0mself\u001b[0m\u001b[0;34m.\u001b[0m\u001b[0mbuild\u001b[0m\u001b[0;34m(\u001b[0m\u001b[0mXl\u001b[0m\u001b[0;34m,\u001b[0m \u001b[0myl\u001b[0m\u001b[0;34m,\u001b[0m \u001b[0mcur_rec\u001b[0m \u001b[0;34m+\u001b[0m \u001b[0;36m1\u001b[0m\u001b[0;34m,\u001b[0m \u001b[0mmax_IG\u001b[0m\u001b[0;34m,\u001b[0m \u001b[0;34m'left'\u001b[0m\u001b[0;34m)\u001b[0m\u001b[0;34m,\u001b[0m\u001b[0;34m\u001b[0m\u001b[0;34m\u001b[0m\u001b[0m\n\u001b[0m\u001b[1;32m     88\u001b[0m                                     self.build(Xr, yr, cur_rec + 1, max_IG, 'right'))\n\u001b[1;32m     89\u001b[0m \u001b[0;34m\u001b[0m\u001b[0m\n",
      "\u001b[0;32m/tmp/ipykernel_333337/1784961492.py\u001b[0m in \u001b[0;36mbuild\u001b[0;34m(self, X, y, cur_rec, max_IG, side)\u001b[0m\n\u001b[1;32m     85\u001b[0m             \u001b[0;31m#             print(cur_rec, Xl.shape, Xr.shape, yl.shape, yr.shape, res_threshold, max_IG, key)\u001b[0m\u001b[0;34m\u001b[0m\u001b[0;34m\u001b[0m\u001b[0m\n\u001b[1;32m     86\u001b[0m             return DecisionTreeNode(res_column, res_threshold,\n\u001b[0;32m---> 87\u001b[0;31m                                     \u001b[0mself\u001b[0m\u001b[0;34m.\u001b[0m\u001b[0mbuild\u001b[0m\u001b[0;34m(\u001b[0m\u001b[0mXl\u001b[0m\u001b[0;34m,\u001b[0m \u001b[0myl\u001b[0m\u001b[0;34m,\u001b[0m \u001b[0mcur_rec\u001b[0m \u001b[0;34m+\u001b[0m \u001b[0;36m1\u001b[0m\u001b[0;34m,\u001b[0m \u001b[0mmax_IG\u001b[0m\u001b[0;34m,\u001b[0m \u001b[0;34m'left'\u001b[0m\u001b[0;34m)\u001b[0m\u001b[0;34m,\u001b[0m\u001b[0;34m\u001b[0m\u001b[0;34m\u001b[0m\u001b[0m\n\u001b[0m\u001b[1;32m     88\u001b[0m                                     self.build(Xr, yr, cur_rec + 1, max_IG, 'right'))\n\u001b[1;32m     89\u001b[0m \u001b[0;34m\u001b[0m\u001b[0m\n",
      "\u001b[0;32m/tmp/ipykernel_333337/1784961492.py\u001b[0m in \u001b[0;36mbuild\u001b[0;34m(self, X, y, cur_rec, max_IG, side)\u001b[0m\n\u001b[1;32m     85\u001b[0m             \u001b[0;31m#             print(cur_rec, Xl.shape, Xr.shape, yl.shape, yr.shape, res_threshold, max_IG, key)\u001b[0m\u001b[0;34m\u001b[0m\u001b[0;34m\u001b[0m\u001b[0m\n\u001b[1;32m     86\u001b[0m             return DecisionTreeNode(res_column, res_threshold,\n\u001b[0;32m---> 87\u001b[0;31m                                     \u001b[0mself\u001b[0m\u001b[0;34m.\u001b[0m\u001b[0mbuild\u001b[0m\u001b[0;34m(\u001b[0m\u001b[0mXl\u001b[0m\u001b[0;34m,\u001b[0m \u001b[0myl\u001b[0m\u001b[0;34m,\u001b[0m \u001b[0mcur_rec\u001b[0m \u001b[0;34m+\u001b[0m \u001b[0;36m1\u001b[0m\u001b[0;34m,\u001b[0m \u001b[0mmax_IG\u001b[0m\u001b[0;34m,\u001b[0m \u001b[0;34m'left'\u001b[0m\u001b[0;34m)\u001b[0m\u001b[0;34m,\u001b[0m\u001b[0;34m\u001b[0m\u001b[0;34m\u001b[0m\u001b[0m\n\u001b[0m\u001b[1;32m     88\u001b[0m                                     self.build(Xr, yr, cur_rec + 1, max_IG, 'right'))\n\u001b[1;32m     89\u001b[0m \u001b[0;34m\u001b[0m\u001b[0m\n",
      "\u001b[0;32m/tmp/ipykernel_333337/1784961492.py\u001b[0m in \u001b[0;36mbuild\u001b[0;34m(self, X, y, cur_rec, max_IG, side)\u001b[0m\n\u001b[1;32m     85\u001b[0m             \u001b[0;31m#             print(cur_rec, Xl.shape, Xr.shape, yl.shape, yr.shape, res_threshold, max_IG, key)\u001b[0m\u001b[0;34m\u001b[0m\u001b[0;34m\u001b[0m\u001b[0m\n\u001b[1;32m     86\u001b[0m             return DecisionTreeNode(res_column, res_threshold,\n\u001b[0;32m---> 87\u001b[0;31m                                     \u001b[0mself\u001b[0m\u001b[0;34m.\u001b[0m\u001b[0mbuild\u001b[0m\u001b[0;34m(\u001b[0m\u001b[0mXl\u001b[0m\u001b[0;34m,\u001b[0m \u001b[0myl\u001b[0m\u001b[0;34m,\u001b[0m \u001b[0mcur_rec\u001b[0m \u001b[0;34m+\u001b[0m \u001b[0;36m1\u001b[0m\u001b[0;34m,\u001b[0m \u001b[0mmax_IG\u001b[0m\u001b[0;34m,\u001b[0m \u001b[0;34m'left'\u001b[0m\u001b[0;34m)\u001b[0m\u001b[0;34m,\u001b[0m\u001b[0;34m\u001b[0m\u001b[0;34m\u001b[0m\u001b[0m\n\u001b[0m\u001b[1;32m     88\u001b[0m                                     self.build(Xr, yr, cur_rec + 1, max_IG, 'right'))\n\u001b[1;32m     89\u001b[0m \u001b[0;34m\u001b[0m\u001b[0m\n",
      "\u001b[0;32m/tmp/ipykernel_333337/1784961492.py\u001b[0m in \u001b[0;36mbuild\u001b[0;34m(self, X, y, cur_rec, max_IG, side)\u001b[0m\n\u001b[1;32m     85\u001b[0m             \u001b[0;31m#             print(cur_rec, Xl.shape, Xr.shape, yl.shape, yr.shape, res_threshold, max_IG, key)\u001b[0m\u001b[0;34m\u001b[0m\u001b[0;34m\u001b[0m\u001b[0m\n\u001b[1;32m     86\u001b[0m             return DecisionTreeNode(res_column, res_threshold,\n\u001b[0;32m---> 87\u001b[0;31m                                     \u001b[0mself\u001b[0m\u001b[0;34m.\u001b[0m\u001b[0mbuild\u001b[0m\u001b[0;34m(\u001b[0m\u001b[0mXl\u001b[0m\u001b[0;34m,\u001b[0m \u001b[0myl\u001b[0m\u001b[0;34m,\u001b[0m \u001b[0mcur_rec\u001b[0m \u001b[0;34m+\u001b[0m \u001b[0;36m1\u001b[0m\u001b[0;34m,\u001b[0m \u001b[0mmax_IG\u001b[0m\u001b[0;34m,\u001b[0m \u001b[0;34m'left'\u001b[0m\u001b[0;34m)\u001b[0m\u001b[0;34m,\u001b[0m\u001b[0;34m\u001b[0m\u001b[0;34m\u001b[0m\u001b[0m\n\u001b[0m\u001b[1;32m     88\u001b[0m                                     self.build(Xr, yr, cur_rec + 1, max_IG, 'right'))\n\u001b[1;32m     89\u001b[0m \u001b[0;34m\u001b[0m\u001b[0m\n",
      "\u001b[0;32m/tmp/ipykernel_333337/1784961492.py\u001b[0m in \u001b[0;36mbuild\u001b[0;34m(self, X, y, cur_rec, max_IG, side)\u001b[0m\n\u001b[1;32m     85\u001b[0m             \u001b[0;31m#             print(cur_rec, Xl.shape, Xr.shape, yl.shape, yr.shape, res_threshold, max_IG, key)\u001b[0m\u001b[0;34m\u001b[0m\u001b[0;34m\u001b[0m\u001b[0m\n\u001b[1;32m     86\u001b[0m             return DecisionTreeNode(res_column, res_threshold,\n\u001b[0;32m---> 87\u001b[0;31m                                     \u001b[0mself\u001b[0m\u001b[0;34m.\u001b[0m\u001b[0mbuild\u001b[0m\u001b[0;34m(\u001b[0m\u001b[0mXl\u001b[0m\u001b[0;34m,\u001b[0m \u001b[0myl\u001b[0m\u001b[0;34m,\u001b[0m \u001b[0mcur_rec\u001b[0m \u001b[0;34m+\u001b[0m \u001b[0;36m1\u001b[0m\u001b[0;34m,\u001b[0m \u001b[0mmax_IG\u001b[0m\u001b[0;34m,\u001b[0m \u001b[0;34m'left'\u001b[0m\u001b[0;34m)\u001b[0m\u001b[0;34m,\u001b[0m\u001b[0;34m\u001b[0m\u001b[0;34m\u001b[0m\u001b[0m\n\u001b[0m\u001b[1;32m     88\u001b[0m                                     self.build(Xr, yr, cur_rec + 1, max_IG, 'right'))\n\u001b[1;32m     89\u001b[0m \u001b[0;34m\u001b[0m\u001b[0m\n",
      "\u001b[0;32m/tmp/ipykernel_333337/1784961492.py\u001b[0m in \u001b[0;36mbuild\u001b[0;34m(self, X, y, cur_rec, max_IG, side)\u001b[0m\n\u001b[1;32m     85\u001b[0m             \u001b[0;31m#             print(cur_rec, Xl.shape, Xr.shape, yl.shape, yr.shape, res_threshold, max_IG, key)\u001b[0m\u001b[0;34m\u001b[0m\u001b[0;34m\u001b[0m\u001b[0m\n\u001b[1;32m     86\u001b[0m             return DecisionTreeNode(res_column, res_threshold,\n\u001b[0;32m---> 87\u001b[0;31m                                     \u001b[0mself\u001b[0m\u001b[0;34m.\u001b[0m\u001b[0mbuild\u001b[0m\u001b[0;34m(\u001b[0m\u001b[0mXl\u001b[0m\u001b[0;34m,\u001b[0m \u001b[0myl\u001b[0m\u001b[0;34m,\u001b[0m \u001b[0mcur_rec\u001b[0m \u001b[0;34m+\u001b[0m \u001b[0;36m1\u001b[0m\u001b[0;34m,\u001b[0m \u001b[0mmax_IG\u001b[0m\u001b[0;34m,\u001b[0m \u001b[0;34m'left'\u001b[0m\u001b[0;34m)\u001b[0m\u001b[0;34m,\u001b[0m\u001b[0;34m\u001b[0m\u001b[0;34m\u001b[0m\u001b[0m\n\u001b[0m\u001b[1;32m     88\u001b[0m                                     self.build(Xr, yr, cur_rec + 1, max_IG, 'right'))\n\u001b[1;32m     89\u001b[0m \u001b[0;34m\u001b[0m\u001b[0m\n",
      "\u001b[0;32m/tmp/ipykernel_333337/1784961492.py\u001b[0m in \u001b[0;36mbuild\u001b[0;34m(self, X, y, cur_rec, max_IG, side)\u001b[0m\n\u001b[1;32m     85\u001b[0m             \u001b[0;31m#             print(cur_rec, Xl.shape, Xr.shape, yl.shape, yr.shape, res_threshold, max_IG, key)\u001b[0m\u001b[0;34m\u001b[0m\u001b[0;34m\u001b[0m\u001b[0m\n\u001b[1;32m     86\u001b[0m             return DecisionTreeNode(res_column, res_threshold,\n\u001b[0;32m---> 87\u001b[0;31m                                     \u001b[0mself\u001b[0m\u001b[0;34m.\u001b[0m\u001b[0mbuild\u001b[0m\u001b[0;34m(\u001b[0m\u001b[0mXl\u001b[0m\u001b[0;34m,\u001b[0m \u001b[0myl\u001b[0m\u001b[0;34m,\u001b[0m \u001b[0mcur_rec\u001b[0m \u001b[0;34m+\u001b[0m \u001b[0;36m1\u001b[0m\u001b[0;34m,\u001b[0m \u001b[0mmax_IG\u001b[0m\u001b[0;34m,\u001b[0m \u001b[0;34m'left'\u001b[0m\u001b[0;34m)\u001b[0m\u001b[0;34m,\u001b[0m\u001b[0;34m\u001b[0m\u001b[0;34m\u001b[0m\u001b[0m\n\u001b[0m\u001b[1;32m     88\u001b[0m                                     self.build(Xr, yr, cur_rec + 1, max_IG, 'right'))\n\u001b[1;32m     89\u001b[0m \u001b[0;34m\u001b[0m\u001b[0m\n",
      "\u001b[0;32m/tmp/ipykernel_333337/1784961492.py\u001b[0m in \u001b[0;36mbuild\u001b[0;34m(self, X, y, cur_rec, max_IG, side)\u001b[0m\n\u001b[1;32m     85\u001b[0m             \u001b[0;31m#             print(cur_rec, Xl.shape, Xr.shape, yl.shape, yr.shape, res_threshold, max_IG, key)\u001b[0m\u001b[0;34m\u001b[0m\u001b[0;34m\u001b[0m\u001b[0m\n\u001b[1;32m     86\u001b[0m             return DecisionTreeNode(res_column, res_threshold,\n\u001b[0;32m---> 87\u001b[0;31m                                     \u001b[0mself\u001b[0m\u001b[0;34m.\u001b[0m\u001b[0mbuild\u001b[0m\u001b[0;34m(\u001b[0m\u001b[0mXl\u001b[0m\u001b[0;34m,\u001b[0m \u001b[0myl\u001b[0m\u001b[0;34m,\u001b[0m \u001b[0mcur_rec\u001b[0m \u001b[0;34m+\u001b[0m \u001b[0;36m1\u001b[0m\u001b[0;34m,\u001b[0m \u001b[0mmax_IG\u001b[0m\u001b[0;34m,\u001b[0m \u001b[0;34m'left'\u001b[0m\u001b[0;34m)\u001b[0m\u001b[0;34m,\u001b[0m\u001b[0;34m\u001b[0m\u001b[0;34m\u001b[0m\u001b[0m\n\u001b[0m\u001b[1;32m     88\u001b[0m                                     self.build(Xr, yr, cur_rec + 1, max_IG, 'right'))\n\u001b[1;32m     89\u001b[0m \u001b[0;34m\u001b[0m\u001b[0m\n",
      "\u001b[0;32m/tmp/ipykernel_333337/1784961492.py\u001b[0m in \u001b[0;36mbuild\u001b[0;34m(self, X, y, cur_rec, max_IG, side)\u001b[0m\n\u001b[1;32m     85\u001b[0m             \u001b[0;31m#             print(cur_rec, Xl.shape, Xr.shape, yl.shape, yr.shape, res_threshold, max_IG, key)\u001b[0m\u001b[0;34m\u001b[0m\u001b[0;34m\u001b[0m\u001b[0m\n\u001b[1;32m     86\u001b[0m             return DecisionTreeNode(res_column, res_threshold,\n\u001b[0;32m---> 87\u001b[0;31m                                     \u001b[0mself\u001b[0m\u001b[0;34m.\u001b[0m\u001b[0mbuild\u001b[0m\u001b[0;34m(\u001b[0m\u001b[0mXl\u001b[0m\u001b[0;34m,\u001b[0m \u001b[0myl\u001b[0m\u001b[0;34m,\u001b[0m \u001b[0mcur_rec\u001b[0m \u001b[0;34m+\u001b[0m \u001b[0;36m1\u001b[0m\u001b[0;34m,\u001b[0m \u001b[0mmax_IG\u001b[0m\u001b[0;34m,\u001b[0m \u001b[0;34m'left'\u001b[0m\u001b[0;34m)\u001b[0m\u001b[0;34m,\u001b[0m\u001b[0;34m\u001b[0m\u001b[0;34m\u001b[0m\u001b[0m\n\u001b[0m\u001b[1;32m     88\u001b[0m                                     self.build(Xr, yr, cur_rec + 1, max_IG, 'right'))\n\u001b[1;32m     89\u001b[0m \u001b[0;34m\u001b[0m\u001b[0m\n",
      "\u001b[0;32m/tmp/ipykernel_333337/1784961492.py\u001b[0m in \u001b[0;36mbuild\u001b[0;34m(self, X, y, cur_rec, max_IG, side)\u001b[0m\n\u001b[1;32m     85\u001b[0m             \u001b[0;31m#             print(cur_rec, Xl.shape, Xr.shape, yl.shape, yr.shape, res_threshold, max_IG, key)\u001b[0m\u001b[0;34m\u001b[0m\u001b[0;34m\u001b[0m\u001b[0m\n\u001b[1;32m     86\u001b[0m             return DecisionTreeNode(res_column, res_threshold,\n\u001b[0;32m---> 87\u001b[0;31m                                     \u001b[0mself\u001b[0m\u001b[0;34m.\u001b[0m\u001b[0mbuild\u001b[0m\u001b[0;34m(\u001b[0m\u001b[0mXl\u001b[0m\u001b[0;34m,\u001b[0m \u001b[0myl\u001b[0m\u001b[0;34m,\u001b[0m \u001b[0mcur_rec\u001b[0m \u001b[0;34m+\u001b[0m \u001b[0;36m1\u001b[0m\u001b[0;34m,\u001b[0m \u001b[0mmax_IG\u001b[0m\u001b[0;34m,\u001b[0m \u001b[0;34m'left'\u001b[0m\u001b[0;34m)\u001b[0m\u001b[0;34m,\u001b[0m\u001b[0;34m\u001b[0m\u001b[0;34m\u001b[0m\u001b[0m\n\u001b[0m\u001b[1;32m     88\u001b[0m                                     self.build(Xr, yr, cur_rec + 1, max_IG, 'right'))\n\u001b[1;32m     89\u001b[0m \u001b[0;34m\u001b[0m\u001b[0m\n",
      "\u001b[0;32m/tmp/ipykernel_333337/1784961492.py\u001b[0m in \u001b[0;36mbuild\u001b[0;34m(self, X, y, cur_rec, max_IG, side)\u001b[0m\n\u001b[1;32m     85\u001b[0m             \u001b[0;31m#             print(cur_rec, Xl.shape, Xr.shape, yl.shape, yr.shape, res_threshold, max_IG, key)\u001b[0m\u001b[0;34m\u001b[0m\u001b[0;34m\u001b[0m\u001b[0m\n\u001b[1;32m     86\u001b[0m             return DecisionTreeNode(res_column, res_threshold,\n\u001b[0;32m---> 87\u001b[0;31m                                     \u001b[0mself\u001b[0m\u001b[0;34m.\u001b[0m\u001b[0mbuild\u001b[0m\u001b[0;34m(\u001b[0m\u001b[0mXl\u001b[0m\u001b[0;34m,\u001b[0m \u001b[0myl\u001b[0m\u001b[0;34m,\u001b[0m \u001b[0mcur_rec\u001b[0m \u001b[0;34m+\u001b[0m \u001b[0;36m1\u001b[0m\u001b[0;34m,\u001b[0m \u001b[0mmax_IG\u001b[0m\u001b[0;34m,\u001b[0m \u001b[0;34m'left'\u001b[0m\u001b[0;34m)\u001b[0m\u001b[0;34m,\u001b[0m\u001b[0;34m\u001b[0m\u001b[0;34m\u001b[0m\u001b[0m\n\u001b[0m\u001b[1;32m     88\u001b[0m                                     self.build(Xr, yr, cur_rec + 1, max_IG, 'right'))\n\u001b[1;32m     89\u001b[0m \u001b[0;34m\u001b[0m\u001b[0m\n",
      "\u001b[0;32m/tmp/ipykernel_333337/1784961492.py\u001b[0m in \u001b[0;36mbuild\u001b[0;34m(self, X, y, cur_rec, max_IG, side)\u001b[0m\n\u001b[1;32m     85\u001b[0m             \u001b[0;31m#             print(cur_rec, Xl.shape, Xr.shape, yl.shape, yr.shape, res_threshold, max_IG, key)\u001b[0m\u001b[0;34m\u001b[0m\u001b[0;34m\u001b[0m\u001b[0m\n\u001b[1;32m     86\u001b[0m             return DecisionTreeNode(res_column, res_threshold,\n\u001b[0;32m---> 87\u001b[0;31m                                     \u001b[0mself\u001b[0m\u001b[0;34m.\u001b[0m\u001b[0mbuild\u001b[0m\u001b[0;34m(\u001b[0m\u001b[0mXl\u001b[0m\u001b[0;34m,\u001b[0m \u001b[0myl\u001b[0m\u001b[0;34m,\u001b[0m \u001b[0mcur_rec\u001b[0m \u001b[0;34m+\u001b[0m \u001b[0;36m1\u001b[0m\u001b[0;34m,\u001b[0m \u001b[0mmax_IG\u001b[0m\u001b[0;34m,\u001b[0m \u001b[0;34m'left'\u001b[0m\u001b[0;34m)\u001b[0m\u001b[0;34m,\u001b[0m\u001b[0;34m\u001b[0m\u001b[0;34m\u001b[0m\u001b[0m\n\u001b[0m\u001b[1;32m     88\u001b[0m                                     self.build(Xr, yr, cur_rec + 1, max_IG, 'right'))\n\u001b[1;32m     89\u001b[0m \u001b[0;34m\u001b[0m\u001b[0m\n",
      "\u001b[0;32m/tmp/ipykernel_333337/1784961492.py\u001b[0m in \u001b[0;36mbuild\u001b[0;34m(self, X, y, cur_rec, max_IG, side)\u001b[0m\n\u001b[1;32m     85\u001b[0m             \u001b[0;31m#             print(cur_rec, Xl.shape, Xr.shape, yl.shape, yr.shape, res_threshold, max_IG, key)\u001b[0m\u001b[0;34m\u001b[0m\u001b[0;34m\u001b[0m\u001b[0m\n\u001b[1;32m     86\u001b[0m             return DecisionTreeNode(res_column, res_threshold,\n\u001b[0;32m---> 87\u001b[0;31m                                     \u001b[0mself\u001b[0m\u001b[0;34m.\u001b[0m\u001b[0mbuild\u001b[0m\u001b[0;34m(\u001b[0m\u001b[0mXl\u001b[0m\u001b[0;34m,\u001b[0m \u001b[0myl\u001b[0m\u001b[0;34m,\u001b[0m \u001b[0mcur_rec\u001b[0m \u001b[0;34m+\u001b[0m \u001b[0;36m1\u001b[0m\u001b[0;34m,\u001b[0m \u001b[0mmax_IG\u001b[0m\u001b[0;34m,\u001b[0m \u001b[0;34m'left'\u001b[0m\u001b[0;34m)\u001b[0m\u001b[0;34m,\u001b[0m\u001b[0;34m\u001b[0m\u001b[0;34m\u001b[0m\u001b[0m\n\u001b[0m\u001b[1;32m     88\u001b[0m                                     self.build(Xr, yr, cur_rec + 1, max_IG, 'right'))\n\u001b[1;32m     89\u001b[0m \u001b[0;34m\u001b[0m\u001b[0m\n",
      "\u001b[0;32m/tmp/ipykernel_333337/1784961492.py\u001b[0m in \u001b[0;36mbuild\u001b[0;34m(self, X, y, cur_rec, max_IG, side)\u001b[0m\n\u001b[1;32m     85\u001b[0m             \u001b[0;31m#             print(cur_rec, Xl.shape, Xr.shape, yl.shape, yr.shape, res_threshold, max_IG, key)\u001b[0m\u001b[0;34m\u001b[0m\u001b[0;34m\u001b[0m\u001b[0m\n\u001b[1;32m     86\u001b[0m             return DecisionTreeNode(res_column, res_threshold,\n\u001b[0;32m---> 87\u001b[0;31m                                     \u001b[0mself\u001b[0m\u001b[0;34m.\u001b[0m\u001b[0mbuild\u001b[0m\u001b[0;34m(\u001b[0m\u001b[0mXl\u001b[0m\u001b[0;34m,\u001b[0m \u001b[0myl\u001b[0m\u001b[0;34m,\u001b[0m \u001b[0mcur_rec\u001b[0m \u001b[0;34m+\u001b[0m \u001b[0;36m1\u001b[0m\u001b[0;34m,\u001b[0m \u001b[0mmax_IG\u001b[0m\u001b[0;34m,\u001b[0m \u001b[0;34m'left'\u001b[0m\u001b[0;34m)\u001b[0m\u001b[0;34m,\u001b[0m\u001b[0;34m\u001b[0m\u001b[0;34m\u001b[0m\u001b[0m\n\u001b[0m\u001b[1;32m     88\u001b[0m                                     self.build(Xr, yr, cur_rec + 1, max_IG, 'right'))\n\u001b[1;32m     89\u001b[0m \u001b[0;34m\u001b[0m\u001b[0m\n",
      "\u001b[0;32m/tmp/ipykernel_333337/1784961492.py\u001b[0m in \u001b[0;36mbuild\u001b[0;34m(self, X, y, cur_rec, max_IG, side)\u001b[0m\n\u001b[1;32m     85\u001b[0m             \u001b[0;31m#             print(cur_rec, Xl.shape, Xr.shape, yl.shape, yr.shape, res_threshold, max_IG, key)\u001b[0m\u001b[0;34m\u001b[0m\u001b[0;34m\u001b[0m\u001b[0m\n\u001b[1;32m     86\u001b[0m             return DecisionTreeNode(res_column, res_threshold,\n\u001b[0;32m---> 87\u001b[0;31m                                     \u001b[0mself\u001b[0m\u001b[0;34m.\u001b[0m\u001b[0mbuild\u001b[0m\u001b[0;34m(\u001b[0m\u001b[0mXl\u001b[0m\u001b[0;34m,\u001b[0m \u001b[0myl\u001b[0m\u001b[0;34m,\u001b[0m \u001b[0mcur_rec\u001b[0m \u001b[0;34m+\u001b[0m \u001b[0;36m1\u001b[0m\u001b[0;34m,\u001b[0m \u001b[0mmax_IG\u001b[0m\u001b[0;34m,\u001b[0m \u001b[0;34m'left'\u001b[0m\u001b[0;34m)\u001b[0m\u001b[0;34m,\u001b[0m\u001b[0;34m\u001b[0m\u001b[0;34m\u001b[0m\u001b[0m\n\u001b[0m\u001b[1;32m     88\u001b[0m                                     self.build(Xr, yr, cur_rec + 1, max_IG, 'right'))\n\u001b[1;32m     89\u001b[0m \u001b[0;34m\u001b[0m\u001b[0m\n",
      "\u001b[0;32m/tmp/ipykernel_333337/1784961492.py\u001b[0m in \u001b[0;36mbuild\u001b[0;34m(self, X, y, cur_rec, max_IG, side)\u001b[0m\n\u001b[1;32m     85\u001b[0m             \u001b[0;31m#             print(cur_rec, Xl.shape, Xr.shape, yl.shape, yr.shape, res_threshold, max_IG, key)\u001b[0m\u001b[0;34m\u001b[0m\u001b[0;34m\u001b[0m\u001b[0m\n\u001b[1;32m     86\u001b[0m             return DecisionTreeNode(res_column, res_threshold,\n\u001b[0;32m---> 87\u001b[0;31m                                     \u001b[0mself\u001b[0m\u001b[0;34m.\u001b[0m\u001b[0mbuild\u001b[0m\u001b[0;34m(\u001b[0m\u001b[0mXl\u001b[0m\u001b[0;34m,\u001b[0m \u001b[0myl\u001b[0m\u001b[0;34m,\u001b[0m \u001b[0mcur_rec\u001b[0m \u001b[0;34m+\u001b[0m \u001b[0;36m1\u001b[0m\u001b[0;34m,\u001b[0m \u001b[0mmax_IG\u001b[0m\u001b[0;34m,\u001b[0m \u001b[0;34m'left'\u001b[0m\u001b[0;34m)\u001b[0m\u001b[0;34m,\u001b[0m\u001b[0;34m\u001b[0m\u001b[0;34m\u001b[0m\u001b[0m\n\u001b[0m\u001b[1;32m     88\u001b[0m                                     self.build(Xr, yr, cur_rec + 1, max_IG, 'right'))\n\u001b[1;32m     89\u001b[0m \u001b[0;34m\u001b[0m\u001b[0m\n",
      "\u001b[0;32m/tmp/ipykernel_333337/1784961492.py\u001b[0m in \u001b[0;36mbuild\u001b[0;34m(self, X, y, cur_rec, max_IG, side)\u001b[0m\n\u001b[1;32m     85\u001b[0m             \u001b[0;31m#             print(cur_rec, Xl.shape, Xr.shape, yl.shape, yr.shape, res_threshold, max_IG, key)\u001b[0m\u001b[0;34m\u001b[0m\u001b[0;34m\u001b[0m\u001b[0m\n\u001b[1;32m     86\u001b[0m             return DecisionTreeNode(res_column, res_threshold,\n\u001b[0;32m---> 87\u001b[0;31m                                     \u001b[0mself\u001b[0m\u001b[0;34m.\u001b[0m\u001b[0mbuild\u001b[0m\u001b[0;34m(\u001b[0m\u001b[0mXl\u001b[0m\u001b[0;34m,\u001b[0m \u001b[0myl\u001b[0m\u001b[0;34m,\u001b[0m \u001b[0mcur_rec\u001b[0m \u001b[0;34m+\u001b[0m \u001b[0;36m1\u001b[0m\u001b[0;34m,\u001b[0m \u001b[0mmax_IG\u001b[0m\u001b[0;34m,\u001b[0m \u001b[0;34m'left'\u001b[0m\u001b[0;34m)\u001b[0m\u001b[0;34m,\u001b[0m\u001b[0;34m\u001b[0m\u001b[0;34m\u001b[0m\u001b[0m\n\u001b[0m\u001b[1;32m     88\u001b[0m                                     self.build(Xr, yr, cur_rec + 1, max_IG, 'right'))\n\u001b[1;32m     89\u001b[0m \u001b[0;34m\u001b[0m\u001b[0m\n",
      "\u001b[0;32m/tmp/ipykernel_333337/1784961492.py\u001b[0m in \u001b[0;36mbuild\u001b[0;34m(self, X, y, cur_rec, max_IG, side)\u001b[0m\n\u001b[1;32m     85\u001b[0m             \u001b[0;31m#             print(cur_rec, Xl.shape, Xr.shape, yl.shape, yr.shape, res_threshold, max_IG, key)\u001b[0m\u001b[0;34m\u001b[0m\u001b[0;34m\u001b[0m\u001b[0m\n\u001b[1;32m     86\u001b[0m             return DecisionTreeNode(res_column, res_threshold,\n\u001b[0;32m---> 87\u001b[0;31m                                     \u001b[0mself\u001b[0m\u001b[0;34m.\u001b[0m\u001b[0mbuild\u001b[0m\u001b[0;34m(\u001b[0m\u001b[0mXl\u001b[0m\u001b[0;34m,\u001b[0m \u001b[0myl\u001b[0m\u001b[0;34m,\u001b[0m \u001b[0mcur_rec\u001b[0m \u001b[0;34m+\u001b[0m \u001b[0;36m1\u001b[0m\u001b[0;34m,\u001b[0m \u001b[0mmax_IG\u001b[0m\u001b[0;34m,\u001b[0m \u001b[0;34m'left'\u001b[0m\u001b[0;34m)\u001b[0m\u001b[0;34m,\u001b[0m\u001b[0;34m\u001b[0m\u001b[0;34m\u001b[0m\u001b[0m\n\u001b[0m\u001b[1;32m     88\u001b[0m                                     self.build(Xr, yr, cur_rec + 1, max_IG, 'right'))\n\u001b[1;32m     89\u001b[0m \u001b[0;34m\u001b[0m\u001b[0m\n",
      "\u001b[0;32m/tmp/ipykernel_333337/1784961492.py\u001b[0m in \u001b[0;36mbuild\u001b[0;34m(self, X, y, cur_rec, max_IG, side)\u001b[0m\n\u001b[1;32m     85\u001b[0m             \u001b[0;31m#             print(cur_rec, Xl.shape, Xr.shape, yl.shape, yr.shape, res_threshold, max_IG, key)\u001b[0m\u001b[0;34m\u001b[0m\u001b[0;34m\u001b[0m\u001b[0m\n\u001b[1;32m     86\u001b[0m             return DecisionTreeNode(res_column, res_threshold,\n\u001b[0;32m---> 87\u001b[0;31m                                     \u001b[0mself\u001b[0m\u001b[0;34m.\u001b[0m\u001b[0mbuild\u001b[0m\u001b[0;34m(\u001b[0m\u001b[0mXl\u001b[0m\u001b[0;34m,\u001b[0m \u001b[0myl\u001b[0m\u001b[0;34m,\u001b[0m \u001b[0mcur_rec\u001b[0m \u001b[0;34m+\u001b[0m \u001b[0;36m1\u001b[0m\u001b[0;34m,\u001b[0m \u001b[0mmax_IG\u001b[0m\u001b[0;34m,\u001b[0m \u001b[0;34m'left'\u001b[0m\u001b[0;34m)\u001b[0m\u001b[0;34m,\u001b[0m\u001b[0;34m\u001b[0m\u001b[0;34m\u001b[0m\u001b[0m\n\u001b[0m\u001b[1;32m     88\u001b[0m                                     self.build(Xr, yr, cur_rec + 1, max_IG, 'right'))\n\u001b[1;32m     89\u001b[0m \u001b[0;34m\u001b[0m\u001b[0m\n",
      "\u001b[0;32m/tmp/ipykernel_333337/1784961492.py\u001b[0m in \u001b[0;36mbuild\u001b[0;34m(self, X, y, cur_rec, max_IG, side)\u001b[0m\n\u001b[1;32m     86\u001b[0m             return DecisionTreeNode(res_column, res_threshold,\n\u001b[1;32m     87\u001b[0m                                     \u001b[0mself\u001b[0m\u001b[0;34m.\u001b[0m\u001b[0mbuild\u001b[0m\u001b[0;34m(\u001b[0m\u001b[0mXl\u001b[0m\u001b[0;34m,\u001b[0m \u001b[0myl\u001b[0m\u001b[0;34m,\u001b[0m \u001b[0mcur_rec\u001b[0m \u001b[0;34m+\u001b[0m \u001b[0;36m1\u001b[0m\u001b[0;34m,\u001b[0m \u001b[0mmax_IG\u001b[0m\u001b[0;34m,\u001b[0m \u001b[0;34m'left'\u001b[0m\u001b[0;34m)\u001b[0m\u001b[0;34m,\u001b[0m\u001b[0;34m\u001b[0m\u001b[0;34m\u001b[0m\u001b[0m\n\u001b[0;32m---> 88\u001b[0;31m                                     self.build(Xr, yr, cur_rec + 1, max_IG, 'right'))\n\u001b[0m\u001b[1;32m     89\u001b[0m \u001b[0;34m\u001b[0m\u001b[0m\n\u001b[1;32m     90\u001b[0m     \u001b[0;32mdef\u001b[0m \u001b[0msearch\u001b[0m\u001b[0;34m(\u001b[0m\u001b[0mself\u001b[0m\u001b[0;34m,\u001b[0m \u001b[0mx\u001b[0m\u001b[0;34m,\u001b[0m \u001b[0mNode\u001b[0m\u001b[0;34m)\u001b[0m\u001b[0;34m:\u001b[0m\u001b[0;34m\u001b[0m\u001b[0;34m\u001b[0m\u001b[0m\n",
      "\u001b[0;32m/tmp/ipykernel_333337/1784961492.py\u001b[0m in \u001b[0;36mbuild\u001b[0;34m(self, X, y, cur_rec, max_IG, side)\u001b[0m\n\u001b[1;32m     85\u001b[0m             \u001b[0;31m#             print(cur_rec, Xl.shape, Xr.shape, yl.shape, yr.shape, res_threshold, max_IG, key)\u001b[0m\u001b[0;34m\u001b[0m\u001b[0;34m\u001b[0m\u001b[0m\n\u001b[1;32m     86\u001b[0m             return DecisionTreeNode(res_column, res_threshold,\n\u001b[0;32m---> 87\u001b[0;31m                                     \u001b[0mself\u001b[0m\u001b[0;34m.\u001b[0m\u001b[0mbuild\u001b[0m\u001b[0;34m(\u001b[0m\u001b[0mXl\u001b[0m\u001b[0;34m,\u001b[0m \u001b[0myl\u001b[0m\u001b[0;34m,\u001b[0m \u001b[0mcur_rec\u001b[0m \u001b[0;34m+\u001b[0m \u001b[0;36m1\u001b[0m\u001b[0;34m,\u001b[0m \u001b[0mmax_IG\u001b[0m\u001b[0;34m,\u001b[0m \u001b[0;34m'left'\u001b[0m\u001b[0;34m)\u001b[0m\u001b[0;34m,\u001b[0m\u001b[0;34m\u001b[0m\u001b[0;34m\u001b[0m\u001b[0m\n\u001b[0m\u001b[1;32m     88\u001b[0m                                     self.build(Xr, yr, cur_rec + 1, max_IG, 'right'))\n\u001b[1;32m     89\u001b[0m \u001b[0;34m\u001b[0m\u001b[0m\n",
      "\u001b[0;32m/tmp/ipykernel_333337/1784961492.py\u001b[0m in \u001b[0;36mbuild\u001b[0;34m(self, X, y, cur_rec, max_IG, side)\u001b[0m\n\u001b[1;32m     85\u001b[0m             \u001b[0;31m#             print(cur_rec, Xl.shape, Xr.shape, yl.shape, yr.shape, res_threshold, max_IG, key)\u001b[0m\u001b[0;34m\u001b[0m\u001b[0;34m\u001b[0m\u001b[0m\n\u001b[1;32m     86\u001b[0m             return DecisionTreeNode(res_column, res_threshold,\n\u001b[0;32m---> 87\u001b[0;31m                                     \u001b[0mself\u001b[0m\u001b[0;34m.\u001b[0m\u001b[0mbuild\u001b[0m\u001b[0;34m(\u001b[0m\u001b[0mXl\u001b[0m\u001b[0;34m,\u001b[0m \u001b[0myl\u001b[0m\u001b[0;34m,\u001b[0m \u001b[0mcur_rec\u001b[0m \u001b[0;34m+\u001b[0m \u001b[0;36m1\u001b[0m\u001b[0;34m,\u001b[0m \u001b[0mmax_IG\u001b[0m\u001b[0;34m,\u001b[0m \u001b[0;34m'left'\u001b[0m\u001b[0;34m)\u001b[0m\u001b[0;34m,\u001b[0m\u001b[0;34m\u001b[0m\u001b[0;34m\u001b[0m\u001b[0m\n\u001b[0m\u001b[1;32m     88\u001b[0m                                     self.build(Xr, yr, cur_rec + 1, max_IG, 'right'))\n\u001b[1;32m     89\u001b[0m \u001b[0;34m\u001b[0m\u001b[0m\n",
      "\u001b[0;32m/tmp/ipykernel_333337/1784961492.py\u001b[0m in \u001b[0;36mbuild\u001b[0;34m(self, X, y, cur_rec, max_IG, side)\u001b[0m\n\u001b[1;32m     85\u001b[0m             \u001b[0;31m#             print(cur_rec, Xl.shape, Xr.shape, yl.shape, yr.shape, res_threshold, max_IG, key)\u001b[0m\u001b[0;34m\u001b[0m\u001b[0;34m\u001b[0m\u001b[0m\n\u001b[1;32m     86\u001b[0m             return DecisionTreeNode(res_column, res_threshold,\n\u001b[0;32m---> 87\u001b[0;31m                                     \u001b[0mself\u001b[0m\u001b[0;34m.\u001b[0m\u001b[0mbuild\u001b[0m\u001b[0;34m(\u001b[0m\u001b[0mXl\u001b[0m\u001b[0;34m,\u001b[0m \u001b[0myl\u001b[0m\u001b[0;34m,\u001b[0m \u001b[0mcur_rec\u001b[0m \u001b[0;34m+\u001b[0m \u001b[0;36m1\u001b[0m\u001b[0;34m,\u001b[0m \u001b[0mmax_IG\u001b[0m\u001b[0;34m,\u001b[0m \u001b[0;34m'left'\u001b[0m\u001b[0;34m)\u001b[0m\u001b[0;34m,\u001b[0m\u001b[0;34m\u001b[0m\u001b[0;34m\u001b[0m\u001b[0m\n\u001b[0m\u001b[1;32m     88\u001b[0m                                     self.build(Xr, yr, cur_rec + 1, max_IG, 'right'))\n\u001b[1;32m     89\u001b[0m \u001b[0;34m\u001b[0m\u001b[0m\n",
      "\u001b[0;32m/tmp/ipykernel_333337/1784961492.py\u001b[0m in \u001b[0;36mbuild\u001b[0;34m(self, X, y, cur_rec, max_IG, side)\u001b[0m\n\u001b[1;32m     85\u001b[0m             \u001b[0;31m#             print(cur_rec, Xl.shape, Xr.shape, yl.shape, yr.shape, res_threshold, max_IG, key)\u001b[0m\u001b[0;34m\u001b[0m\u001b[0;34m\u001b[0m\u001b[0m\n\u001b[1;32m     86\u001b[0m             return DecisionTreeNode(res_column, res_threshold,\n\u001b[0;32m---> 87\u001b[0;31m                                     \u001b[0mself\u001b[0m\u001b[0;34m.\u001b[0m\u001b[0mbuild\u001b[0m\u001b[0;34m(\u001b[0m\u001b[0mXl\u001b[0m\u001b[0;34m,\u001b[0m \u001b[0myl\u001b[0m\u001b[0;34m,\u001b[0m \u001b[0mcur_rec\u001b[0m \u001b[0;34m+\u001b[0m \u001b[0;36m1\u001b[0m\u001b[0;34m,\u001b[0m \u001b[0mmax_IG\u001b[0m\u001b[0;34m,\u001b[0m \u001b[0;34m'left'\u001b[0m\u001b[0;34m)\u001b[0m\u001b[0;34m,\u001b[0m\u001b[0;34m\u001b[0m\u001b[0;34m\u001b[0m\u001b[0m\n\u001b[0m\u001b[1;32m     88\u001b[0m                                     self.build(Xr, yr, cur_rec + 1, max_IG, 'right'))\n\u001b[1;32m     89\u001b[0m \u001b[0;34m\u001b[0m\u001b[0m\n",
      "\u001b[0;32m/tmp/ipykernel_333337/1784961492.py\u001b[0m in \u001b[0;36mbuild\u001b[0;34m(self, X, y, cur_rec, max_IG, side)\u001b[0m\n\u001b[1;32m     85\u001b[0m             \u001b[0;31m#             print(cur_rec, Xl.shape, Xr.shape, yl.shape, yr.shape, res_threshold, max_IG, key)\u001b[0m\u001b[0;34m\u001b[0m\u001b[0;34m\u001b[0m\u001b[0m\n\u001b[1;32m     86\u001b[0m             return DecisionTreeNode(res_column, res_threshold,\n\u001b[0;32m---> 87\u001b[0;31m                                     \u001b[0mself\u001b[0m\u001b[0;34m.\u001b[0m\u001b[0mbuild\u001b[0m\u001b[0;34m(\u001b[0m\u001b[0mXl\u001b[0m\u001b[0;34m,\u001b[0m \u001b[0myl\u001b[0m\u001b[0;34m,\u001b[0m \u001b[0mcur_rec\u001b[0m \u001b[0;34m+\u001b[0m \u001b[0;36m1\u001b[0m\u001b[0;34m,\u001b[0m \u001b[0mmax_IG\u001b[0m\u001b[0;34m,\u001b[0m \u001b[0;34m'left'\u001b[0m\u001b[0;34m)\u001b[0m\u001b[0;34m,\u001b[0m\u001b[0;34m\u001b[0m\u001b[0;34m\u001b[0m\u001b[0m\n\u001b[0m\u001b[1;32m     88\u001b[0m                                     self.build(Xr, yr, cur_rec + 1, max_IG, 'right'))\n\u001b[1;32m     89\u001b[0m \u001b[0;34m\u001b[0m\u001b[0m\n",
      "\u001b[0;32m/tmp/ipykernel_333337/1784961492.py\u001b[0m in \u001b[0;36mbuild\u001b[0;34m(self, X, y, cur_rec, max_IG, side)\u001b[0m\n\u001b[1;32m     85\u001b[0m             \u001b[0;31m#             print(cur_rec, Xl.shape, Xr.shape, yl.shape, yr.shape, res_threshold, max_IG, key)\u001b[0m\u001b[0;34m\u001b[0m\u001b[0;34m\u001b[0m\u001b[0m\n\u001b[1;32m     86\u001b[0m             return DecisionTreeNode(res_column, res_threshold,\n\u001b[0;32m---> 87\u001b[0;31m                                     \u001b[0mself\u001b[0m\u001b[0;34m.\u001b[0m\u001b[0mbuild\u001b[0m\u001b[0;34m(\u001b[0m\u001b[0mXl\u001b[0m\u001b[0;34m,\u001b[0m \u001b[0myl\u001b[0m\u001b[0;34m,\u001b[0m \u001b[0mcur_rec\u001b[0m \u001b[0;34m+\u001b[0m \u001b[0;36m1\u001b[0m\u001b[0;34m,\u001b[0m \u001b[0mmax_IG\u001b[0m\u001b[0;34m,\u001b[0m \u001b[0;34m'left'\u001b[0m\u001b[0;34m)\u001b[0m\u001b[0;34m,\u001b[0m\u001b[0;34m\u001b[0m\u001b[0;34m\u001b[0m\u001b[0m\n\u001b[0m\u001b[1;32m     88\u001b[0m                                     self.build(Xr, yr, cur_rec + 1, max_IG, 'right'))\n\u001b[1;32m     89\u001b[0m \u001b[0;34m\u001b[0m\u001b[0m\n",
      "\u001b[0;32m/tmp/ipykernel_333337/1784961492.py\u001b[0m in \u001b[0;36mbuild\u001b[0;34m(self, X, y, cur_rec, max_IG, side)\u001b[0m\n\u001b[1;32m     85\u001b[0m             \u001b[0;31m#             print(cur_rec, Xl.shape, Xr.shape, yl.shape, yr.shape, res_threshold, max_IG, key)\u001b[0m\u001b[0;34m\u001b[0m\u001b[0;34m\u001b[0m\u001b[0m\n\u001b[1;32m     86\u001b[0m             return DecisionTreeNode(res_column, res_threshold,\n\u001b[0;32m---> 87\u001b[0;31m                                     \u001b[0mself\u001b[0m\u001b[0;34m.\u001b[0m\u001b[0mbuild\u001b[0m\u001b[0;34m(\u001b[0m\u001b[0mXl\u001b[0m\u001b[0;34m,\u001b[0m \u001b[0myl\u001b[0m\u001b[0;34m,\u001b[0m \u001b[0mcur_rec\u001b[0m \u001b[0;34m+\u001b[0m \u001b[0;36m1\u001b[0m\u001b[0;34m,\u001b[0m \u001b[0mmax_IG\u001b[0m\u001b[0;34m,\u001b[0m \u001b[0;34m'left'\u001b[0m\u001b[0;34m)\u001b[0m\u001b[0;34m,\u001b[0m\u001b[0;34m\u001b[0m\u001b[0;34m\u001b[0m\u001b[0m\n\u001b[0m\u001b[1;32m     88\u001b[0m                                     self.build(Xr, yr, cur_rec + 1, max_IG, 'right'))\n\u001b[1;32m     89\u001b[0m \u001b[0;34m\u001b[0m\u001b[0m\n",
      "\u001b[0;32m/tmp/ipykernel_333337/1784961492.py\u001b[0m in \u001b[0;36mbuild\u001b[0;34m(self, X, y, cur_rec, max_IG, side)\u001b[0m\n\u001b[1;32m     85\u001b[0m             \u001b[0;31m#             print(cur_rec, Xl.shape, Xr.shape, yl.shape, yr.shape, res_threshold, max_IG, key)\u001b[0m\u001b[0;34m\u001b[0m\u001b[0;34m\u001b[0m\u001b[0m\n\u001b[1;32m     86\u001b[0m             return DecisionTreeNode(res_column, res_threshold,\n\u001b[0;32m---> 87\u001b[0;31m                                     \u001b[0mself\u001b[0m\u001b[0;34m.\u001b[0m\u001b[0mbuild\u001b[0m\u001b[0;34m(\u001b[0m\u001b[0mXl\u001b[0m\u001b[0;34m,\u001b[0m \u001b[0myl\u001b[0m\u001b[0;34m,\u001b[0m \u001b[0mcur_rec\u001b[0m \u001b[0;34m+\u001b[0m \u001b[0;36m1\u001b[0m\u001b[0;34m,\u001b[0m \u001b[0mmax_IG\u001b[0m\u001b[0;34m,\u001b[0m \u001b[0;34m'left'\u001b[0m\u001b[0;34m)\u001b[0m\u001b[0;34m,\u001b[0m\u001b[0;34m\u001b[0m\u001b[0;34m\u001b[0m\u001b[0m\n\u001b[0m\u001b[1;32m     88\u001b[0m                                     self.build(Xr, yr, cur_rec + 1, max_IG, 'right'))\n\u001b[1;32m     89\u001b[0m \u001b[0;34m\u001b[0m\u001b[0m\n",
      "\u001b[0;32m/tmp/ipykernel_333337/1784961492.py\u001b[0m in \u001b[0;36mbuild\u001b[0;34m(self, X, y, cur_rec, max_IG, side)\u001b[0m\n\u001b[1;32m     85\u001b[0m             \u001b[0;31m#             print(cur_rec, Xl.shape, Xr.shape, yl.shape, yr.shape, res_threshold, max_IG, key)\u001b[0m\u001b[0;34m\u001b[0m\u001b[0;34m\u001b[0m\u001b[0m\n\u001b[1;32m     86\u001b[0m             return DecisionTreeNode(res_column, res_threshold,\n\u001b[0;32m---> 87\u001b[0;31m                                     \u001b[0mself\u001b[0m\u001b[0;34m.\u001b[0m\u001b[0mbuild\u001b[0m\u001b[0;34m(\u001b[0m\u001b[0mXl\u001b[0m\u001b[0;34m,\u001b[0m \u001b[0myl\u001b[0m\u001b[0;34m,\u001b[0m \u001b[0mcur_rec\u001b[0m \u001b[0;34m+\u001b[0m \u001b[0;36m1\u001b[0m\u001b[0;34m,\u001b[0m \u001b[0mmax_IG\u001b[0m\u001b[0;34m,\u001b[0m \u001b[0;34m'left'\u001b[0m\u001b[0;34m)\u001b[0m\u001b[0;34m,\u001b[0m\u001b[0;34m\u001b[0m\u001b[0;34m\u001b[0m\u001b[0m\n\u001b[0m\u001b[1;32m     88\u001b[0m                                     self.build(Xr, yr, cur_rec + 1, max_IG, 'right'))\n\u001b[1;32m     89\u001b[0m \u001b[0;34m\u001b[0m\u001b[0m\n",
      "\u001b[0;32m/tmp/ipykernel_333337/1784961492.py\u001b[0m in \u001b[0;36mbuild\u001b[0;34m(self, X, y, cur_rec, max_IG, side)\u001b[0m\n\u001b[1;32m     85\u001b[0m             \u001b[0;31m#             print(cur_rec, Xl.shape, Xr.shape, yl.shape, yr.shape, res_threshold, max_IG, key)\u001b[0m\u001b[0;34m\u001b[0m\u001b[0;34m\u001b[0m\u001b[0m\n\u001b[1;32m     86\u001b[0m             return DecisionTreeNode(res_column, res_threshold,\n\u001b[0;32m---> 87\u001b[0;31m                                     \u001b[0mself\u001b[0m\u001b[0;34m.\u001b[0m\u001b[0mbuild\u001b[0m\u001b[0;34m(\u001b[0m\u001b[0mXl\u001b[0m\u001b[0;34m,\u001b[0m \u001b[0myl\u001b[0m\u001b[0;34m,\u001b[0m \u001b[0mcur_rec\u001b[0m \u001b[0;34m+\u001b[0m \u001b[0;36m1\u001b[0m\u001b[0;34m,\u001b[0m \u001b[0mmax_IG\u001b[0m\u001b[0;34m,\u001b[0m \u001b[0;34m'left'\u001b[0m\u001b[0;34m)\u001b[0m\u001b[0;34m,\u001b[0m\u001b[0;34m\u001b[0m\u001b[0;34m\u001b[0m\u001b[0m\n\u001b[0m\u001b[1;32m     88\u001b[0m                                     self.build(Xr, yr, cur_rec + 1, max_IG, 'right'))\n\u001b[1;32m     89\u001b[0m \u001b[0;34m\u001b[0m\u001b[0m\n",
      "\u001b[0;32m/tmp/ipykernel_333337/1784961492.py\u001b[0m in \u001b[0;36mbuild\u001b[0;34m(self, X, y, cur_rec, max_IG, side)\u001b[0m\n\u001b[1;32m     85\u001b[0m             \u001b[0;31m#             print(cur_rec, Xl.shape, Xr.shape, yl.shape, yr.shape, res_threshold, max_IG, key)\u001b[0m\u001b[0;34m\u001b[0m\u001b[0;34m\u001b[0m\u001b[0m\n\u001b[1;32m     86\u001b[0m             return DecisionTreeNode(res_column, res_threshold,\n\u001b[0;32m---> 87\u001b[0;31m                                     \u001b[0mself\u001b[0m\u001b[0;34m.\u001b[0m\u001b[0mbuild\u001b[0m\u001b[0;34m(\u001b[0m\u001b[0mXl\u001b[0m\u001b[0;34m,\u001b[0m \u001b[0myl\u001b[0m\u001b[0;34m,\u001b[0m \u001b[0mcur_rec\u001b[0m \u001b[0;34m+\u001b[0m \u001b[0;36m1\u001b[0m\u001b[0;34m,\u001b[0m \u001b[0mmax_IG\u001b[0m\u001b[0;34m,\u001b[0m \u001b[0;34m'left'\u001b[0m\u001b[0;34m)\u001b[0m\u001b[0;34m,\u001b[0m\u001b[0;34m\u001b[0m\u001b[0;34m\u001b[0m\u001b[0m\n\u001b[0m\u001b[1;32m     88\u001b[0m                                     self.build(Xr, yr, cur_rec + 1, max_IG, 'right'))\n\u001b[1;32m     89\u001b[0m \u001b[0;34m\u001b[0m\u001b[0m\n",
      "\u001b[0;32m/tmp/ipykernel_333337/1784961492.py\u001b[0m in \u001b[0;36mbuild\u001b[0;34m(self, X, y, cur_rec, max_IG, side)\u001b[0m\n\u001b[1;32m     85\u001b[0m             \u001b[0;31m#             print(cur_rec, Xl.shape, Xr.shape, yl.shape, yr.shape, res_threshold, max_IG, key)\u001b[0m\u001b[0;34m\u001b[0m\u001b[0;34m\u001b[0m\u001b[0m\n\u001b[1;32m     86\u001b[0m             return DecisionTreeNode(res_column, res_threshold,\n\u001b[0;32m---> 87\u001b[0;31m                                     \u001b[0mself\u001b[0m\u001b[0;34m.\u001b[0m\u001b[0mbuild\u001b[0m\u001b[0;34m(\u001b[0m\u001b[0mXl\u001b[0m\u001b[0;34m,\u001b[0m \u001b[0myl\u001b[0m\u001b[0;34m,\u001b[0m \u001b[0mcur_rec\u001b[0m \u001b[0;34m+\u001b[0m \u001b[0;36m1\u001b[0m\u001b[0;34m,\u001b[0m \u001b[0mmax_IG\u001b[0m\u001b[0;34m,\u001b[0m \u001b[0;34m'left'\u001b[0m\u001b[0;34m)\u001b[0m\u001b[0;34m,\u001b[0m\u001b[0;34m\u001b[0m\u001b[0;34m\u001b[0m\u001b[0m\n\u001b[0m\u001b[1;32m     88\u001b[0m                                     self.build(Xr, yr, cur_rec + 1, max_IG, 'right'))\n\u001b[1;32m     89\u001b[0m \u001b[0;34m\u001b[0m\u001b[0m\n",
      "\u001b[0;32m/tmp/ipykernel_333337/1784961492.py\u001b[0m in \u001b[0;36mbuild\u001b[0;34m(self, X, y, cur_rec, max_IG, side)\u001b[0m\n\u001b[1;32m     85\u001b[0m             \u001b[0;31m#             print(cur_rec, Xl.shape, Xr.shape, yl.shape, yr.shape, res_threshold, max_IG, key)\u001b[0m\u001b[0;34m\u001b[0m\u001b[0;34m\u001b[0m\u001b[0m\n\u001b[1;32m     86\u001b[0m             return DecisionTreeNode(res_column, res_threshold,\n\u001b[0;32m---> 87\u001b[0;31m                                     \u001b[0mself\u001b[0m\u001b[0;34m.\u001b[0m\u001b[0mbuild\u001b[0m\u001b[0;34m(\u001b[0m\u001b[0mXl\u001b[0m\u001b[0;34m,\u001b[0m \u001b[0myl\u001b[0m\u001b[0;34m,\u001b[0m \u001b[0mcur_rec\u001b[0m \u001b[0;34m+\u001b[0m \u001b[0;36m1\u001b[0m\u001b[0;34m,\u001b[0m \u001b[0mmax_IG\u001b[0m\u001b[0;34m,\u001b[0m \u001b[0;34m'left'\u001b[0m\u001b[0;34m)\u001b[0m\u001b[0;34m,\u001b[0m\u001b[0;34m\u001b[0m\u001b[0;34m\u001b[0m\u001b[0m\n\u001b[0m\u001b[1;32m     88\u001b[0m                                     self.build(Xr, yr, cur_rec + 1, max_IG, 'right'))\n\u001b[1;32m     89\u001b[0m \u001b[0;34m\u001b[0m\u001b[0m\n",
      "\u001b[0;32m/tmp/ipykernel_333337/1784961492.py\u001b[0m in \u001b[0;36mbuild\u001b[0;34m(self, X, y, cur_rec, max_IG, side)\u001b[0m\n\u001b[1;32m     60\u001b[0m \u001b[0;34m\u001b[0m\u001b[0m\n\u001b[1;32m     61\u001b[0m \u001b[0;31m#         print(cur_rec, res_column, X.shape, res_threshold)\u001b[0m\u001b[0;34m\u001b[0m\u001b[0;34m\u001b[0m\u001b[0m\n\u001b[0;32m---> 62\u001b[0;31m         \u001b[0myl\u001b[0m \u001b[0;34m=\u001b[0m \u001b[0my\u001b[0m\u001b[0;34m[\u001b[0m\u001b[0mX\u001b[0m\u001b[0;34m[\u001b[0m\u001b[0;34m:\u001b[0m\u001b[0;34m,\u001b[0m \u001b[0mres_column\u001b[0m\u001b[0;34m]\u001b[0m \u001b[0;34m<\u001b[0m \u001b[0mres_threshold\u001b[0m\u001b[0;34m]\u001b[0m\u001b[0;34m\u001b[0m\u001b[0;34m\u001b[0m\u001b[0m\n\u001b[0m\u001b[1;32m     63\u001b[0m         \u001b[0myr\u001b[0m \u001b[0;34m=\u001b[0m \u001b[0my\u001b[0m\u001b[0;34m[\u001b[0m\u001b[0mX\u001b[0m\u001b[0;34m[\u001b[0m\u001b[0;34m:\u001b[0m\u001b[0;34m,\u001b[0m \u001b[0mres_column\u001b[0m\u001b[0;34m]\u001b[0m \u001b[0;34m>=\u001b[0m \u001b[0mres_threshold\u001b[0m\u001b[0;34m]\u001b[0m\u001b[0;34m\u001b[0m\u001b[0;34m\u001b[0m\u001b[0m\n\u001b[1;32m     64\u001b[0m \u001b[0;34m\u001b[0m\u001b[0m\n",
      "\u001b[0;31mIndexError\u001b[0m: index 0 is out of bounds for axis 1 with size 0"
     ]
    }
   ],
   "source": [
    "coef = 0.1\n",
    "\n",
    "df_X = pd.read_csv('x_spam_train.csv').drop('Id', axis=1)\n",
    "df_y = pd.read_csv('y_spam_train.csv').drop('Id', axis=1)\n",
    "\n",
    "N = round(len(df_X)*coef)\n",
    "X = np.array(df_X.iloc[:N])\n",
    "y = np.array(df_y.iloc[:N])\n",
    "\n",
    "X_test = np.array(df_X.iloc[N:])\n",
    "y_test = np.array(df_y.iloc[N:]).reshape(len(X_test),)\n",
    "\n",
    "tree = DecisionTreeClassifier(max_depth=None, min_samples_leaf=3, criterion='entropy')\n",
    "tree.fit(X, y)\n",
    "\n",
    "y_pred = tree.predict(X_test)\n",
    "\n",
    "acc = accuracy_score(y_test, y_pred)\n",
    "recall = recall_score(y_test, y_pred)\n",
    "precision = precision_score(y_test, y_pred)\n",
    "f1 = f1_score(y_test, y_pred)\n",
    "print(f'Для коэф-та: {coef}, макс-ой глубины: {5} и мин-го листа: {30} метрики равны:')\n",
    "print(f'Accuracy = {acc:.3f}')\n",
    "print(f'Recall = {recall:.3f}')\n",
    "print(f'Precision = {precision:.3f}')\n",
    "print(f'F1-score = {f1:.3f}')\n",
    "# print(tree.max_rec)\n",
    "\n",
    "plot_roc_curve(y_test, tree.predict_proba(X_test))\n",
    "draw_tree(tree, 'test.png')"
   ]
  },
  {
   "cell_type": "code",
   "execution_count": 266,
   "metadata": {
    "ExecuteTime": {
     "end_time": "2022-03-08T19:24:57.748058Z",
     "start_time": "2022-03-08T18:49:14.609564Z"
    },
    "scrolled": true
   },
   "outputs": [
    {
     "name": "stdout",
     "output_type": "stream",
     "text": [
      "Коэф-т: 0.1, критерий: gini, глубина:None\n",
      "Коэф-т: 0.1, критерий: gini, глубина:2\n",
      "Коэф-т: 0.1, критерий: gini, глубина:3\n",
      "Коэф-т: 0.1, критерий: gini, глубина:5\n",
      "Коэф-т: 0.1, критерий: gini, глубина:7\n",
      "Коэф-т: 0.1, критерий: gini, глубина:10\n",
      "Коэф-т: 0.1, критерий: entropy, глубина:None\n",
      "Коэф-т: 0.1, критерий: entropy, глубина:2\n",
      "Коэф-т: 0.1, критерий: entropy, глубина:3\n",
      "Коэф-т: 0.1, критерий: entropy, глубина:5\n",
      "Коэф-т: 0.1, критерий: entropy, глубина:7\n",
      "Коэф-т: 0.1, критерий: entropy, глубина:10\n",
      "Коэф-т: 0.2, критерий: gini, глубина:None\n",
      "Коэф-т: 0.2, критерий: gini, глубина:2\n",
      "Коэф-т: 0.2, критерий: gini, глубина:3\n",
      "Коэф-т: 0.2, критерий: gini, глубина:5\n",
      "Коэф-т: 0.2, критерий: gini, глубина:7\n",
      "Коэф-т: 0.2, критерий: gini, глубина:10\n",
      "Коэф-т: 0.2, критерий: entropy, глубина:None\n",
      "Коэф-т: 0.2, критерий: entropy, глубина:2\n",
      "Коэф-т: 0.2, критерий: entropy, глубина:3\n",
      "Коэф-т: 0.2, критерий: entropy, глубина:5\n",
      "Коэф-т: 0.2, критерий: entropy, глубина:7\n",
      "Коэф-т: 0.2, критерий: entropy, глубина:10\n",
      "Коэф-т: 0.3, критерий: gini, глубина:None\n",
      "Коэф-т: 0.3, критерий: gini, глубина:2\n",
      "Коэф-т: 0.3, критерий: gini, глубина:3\n",
      "Коэф-т: 0.3, критерий: gini, глубина:5\n",
      "Коэф-т: 0.3, критерий: gini, глубина:7\n",
      "Коэф-т: 0.3, критерий: gini, глубина:10\n",
      "Коэф-т: 0.3, критерий: entropy, глубина:None\n",
      "Коэф-т: 0.3, критерий: entropy, глубина:2\n",
      "Коэф-т: 0.3, критерий: entropy, глубина:3\n",
      "Коэф-т: 0.3, критерий: entropy, глубина:5\n",
      "Коэф-т: 0.3, критерий: entropy, глубина:7\n",
      "Коэф-т: 0.3, критерий: entropy, глубина:10\n",
      "Коэф-т: 0.5, критерий: gini, глубина:None\n",
      "Коэф-т: 0.5, критерий: gini, глубина:2\n",
      "Коэф-т: 0.5, критерий: gini, глубина:3\n",
      "Коэф-т: 0.5, критерий: gini, глубина:5\n",
      "Коэф-т: 0.5, критерий: gini, глубина:7\n",
      "Коэф-т: 0.5, критерий: gini, глубина:10\n",
      "Коэф-т: 0.5, критерий: entropy, глубина:None\n",
      "Коэф-т: 0.5, критерий: entropy, глубина:2\n",
      "Коэф-т: 0.5, критерий: entropy, глубина:3\n",
      "Коэф-т: 0.5, критерий: entropy, глубина:5\n",
      "Коэф-т: 0.5, критерий: entropy, глубина:7\n",
      "Коэф-т: 0.5, критерий: entropy, глубина:10\n",
      "Коэф-т: 0.7, критерий: gini, глубина:None\n",
      "Коэф-т: 0.7, критерий: gini, глубина:2\n",
      "Коэф-т: 0.7, критерий: gini, глубина:3\n",
      "Коэф-т: 0.7, критерий: gini, глубина:5\n",
      "Коэф-т: 0.7, критерий: gini, глубина:7\n",
      "Коэф-т: 0.7, критерий: gini, глубина:10\n",
      "Коэф-т: 0.7, критерий: entropy, глубина:None\n",
      "Коэф-т: 0.7, критерий: entropy, глубина:2\n",
      "Коэф-т: 0.7, критерий: entropy, глубина:3\n",
      "Коэф-т: 0.7, критерий: entropy, глубина:5\n",
      "Коэф-т: 0.7, критерий: entropy, глубина:7\n",
      "Коэф-т: 0.7, критерий: entropy, глубина:10\n",
      "Коэф-т: 0.9, критерий: gini, глубина:None\n",
      "Коэф-т: 0.9, критерий: gini, глубина:2\n",
      "Коэф-т: 0.9, критерий: gini, глубина:3\n",
      "Коэф-т: 0.9, критерий: gini, глубина:5\n",
      "Коэф-т: 0.9, критерий: gini, глубина:7\n",
      "Коэф-т: 0.9, критерий: gini, глубина:10\n",
      "Коэф-т: 0.9, критерий: entropy, глубина:None\n",
      "Коэф-т: 0.9, критерий: entropy, глубина:2\n",
      "Коэф-т: 0.9, критерий: entropy, глубина:3\n",
      "Коэф-т: 0.9, критерий: entropy, глубина:5\n",
      "Коэф-т: 0.9, критерий: entropy, глубина:7\n",
      "Коэф-т: 0.9, критерий: entropy, глубина:10\n"
     ]
    },
    {
     "data": {
      "text/html": [
       "<div>\n",
       "<style scoped>\n",
       "    .dataframe tbody tr th:only-of-type {\n",
       "        vertical-align: middle;\n",
       "    }\n",
       "\n",
       "    .dataframe tbody tr th {\n",
       "        vertical-align: top;\n",
       "    }\n",
       "\n",
       "    .dataframe thead th {\n",
       "        text-align: right;\n",
       "    }\n",
       "</style>\n",
       "<table border=\"1\" class=\"dataframe\">\n",
       "  <thead>\n",
       "    <tr style=\"text-align: right;\">\n",
       "      <th></th>\n",
       "      <th>Min_leafs</th>\n",
       "      <th>Depth</th>\n",
       "      <th>Coef</th>\n",
       "      <th>Accuracy</th>\n",
       "      <th>Recall</th>\n",
       "      <th>Precision</th>\n",
       "      <th>F1</th>\n",
       "      <th>crit</th>\n",
       "    </tr>\n",
       "  </thead>\n",
       "  <tbody>\n",
       "    <tr>\n",
       "      <th>0</th>\n",
       "      <td>30</td>\n",
       "      <td>None</td>\n",
       "      <td>0.1</td>\n",
       "      <td>0.734300</td>\n",
       "      <td>0.338983</td>\n",
       "      <td>0.952381</td>\n",
       "      <td>0.500000</td>\n",
       "      <td>gini</td>\n",
       "    </tr>\n",
       "    <tr>\n",
       "      <th>1</th>\n",
       "      <td>30</td>\n",
       "      <td>2</td>\n",
       "      <td>0.1</td>\n",
       "      <td>0.734300</td>\n",
       "      <td>0.338983</td>\n",
       "      <td>0.952381</td>\n",
       "      <td>0.500000</td>\n",
       "      <td>gini</td>\n",
       "    </tr>\n",
       "    <tr>\n",
       "      <th>2</th>\n",
       "      <td>30</td>\n",
       "      <td>3</td>\n",
       "      <td>0.1</td>\n",
       "      <td>0.734300</td>\n",
       "      <td>0.338983</td>\n",
       "      <td>0.952381</td>\n",
       "      <td>0.500000</td>\n",
       "      <td>gini</td>\n",
       "    </tr>\n",
       "    <tr>\n",
       "      <th>3</th>\n",
       "      <td>30</td>\n",
       "      <td>5</td>\n",
       "      <td>0.1</td>\n",
       "      <td>0.734300</td>\n",
       "      <td>0.338983</td>\n",
       "      <td>0.952381</td>\n",
       "      <td>0.500000</td>\n",
       "      <td>gini</td>\n",
       "    </tr>\n",
       "    <tr>\n",
       "      <th>4</th>\n",
       "      <td>30</td>\n",
       "      <td>7</td>\n",
       "      <td>0.1</td>\n",
       "      <td>0.734300</td>\n",
       "      <td>0.338983</td>\n",
       "      <td>0.952381</td>\n",
       "      <td>0.500000</td>\n",
       "      <td>gini</td>\n",
       "    </tr>\n",
       "    <tr>\n",
       "      <th>...</th>\n",
       "      <td>...</td>\n",
       "      <td>...</td>\n",
       "      <td>...</td>\n",
       "      <td>...</td>\n",
       "      <td>...</td>\n",
       "      <td>...</td>\n",
       "      <td>...</td>\n",
       "      <td>...</td>\n",
       "    </tr>\n",
       "    <tr>\n",
       "      <th>67</th>\n",
       "      <td>30</td>\n",
       "      <td>2</td>\n",
       "      <td>0.9</td>\n",
       "      <td>0.627717</td>\n",
       "      <td>0.512821</td>\n",
       "      <td>0.567376</td>\n",
       "      <td>0.538721</td>\n",
       "      <td>entropy</td>\n",
       "    </tr>\n",
       "    <tr>\n",
       "      <th>68</th>\n",
       "      <td>30</td>\n",
       "      <td>3</td>\n",
       "      <td>0.9</td>\n",
       "      <td>0.627717</td>\n",
       "      <td>0.512821</td>\n",
       "      <td>0.567376</td>\n",
       "      <td>0.538721</td>\n",
       "      <td>entropy</td>\n",
       "    </tr>\n",
       "    <tr>\n",
       "      <th>69</th>\n",
       "      <td>30</td>\n",
       "      <td>5</td>\n",
       "      <td>0.9</td>\n",
       "      <td>0.627717</td>\n",
       "      <td>0.512821</td>\n",
       "      <td>0.567376</td>\n",
       "      <td>0.538721</td>\n",
       "      <td>entropy</td>\n",
       "    </tr>\n",
       "    <tr>\n",
       "      <th>70</th>\n",
       "      <td>30</td>\n",
       "      <td>7</td>\n",
       "      <td>0.9</td>\n",
       "      <td>0.627717</td>\n",
       "      <td>0.512821</td>\n",
       "      <td>0.567376</td>\n",
       "      <td>0.538721</td>\n",
       "      <td>entropy</td>\n",
       "    </tr>\n",
       "    <tr>\n",
       "      <th>71</th>\n",
       "      <td>30</td>\n",
       "      <td>10</td>\n",
       "      <td>0.9</td>\n",
       "      <td>0.627717</td>\n",
       "      <td>0.512821</td>\n",
       "      <td>0.567376</td>\n",
       "      <td>0.538721</td>\n",
       "      <td>entropy</td>\n",
       "    </tr>\n",
       "  </tbody>\n",
       "</table>\n",
       "<p>72 rows × 8 columns</p>\n",
       "</div>"
      ],
      "text/plain": [
       "   Min_leafs Depth  Coef  Accuracy    Recall  Precision        F1     crit\n",
       "0         30  None   0.1  0.734300  0.338983   0.952381  0.500000     gini\n",
       "1         30     2   0.1  0.734300  0.338983   0.952381  0.500000     gini\n",
       "2         30     3   0.1  0.734300  0.338983   0.952381  0.500000     gini\n",
       "3         30     5   0.1  0.734300  0.338983   0.952381  0.500000     gini\n",
       "4         30     7   0.1  0.734300  0.338983   0.952381  0.500000     gini\n",
       "..       ...   ...   ...       ...       ...        ...       ...      ...\n",
       "67        30     2   0.9  0.627717  0.512821   0.567376  0.538721  entropy\n",
       "68        30     3   0.9  0.627717  0.512821   0.567376  0.538721  entropy\n",
       "69        30     5   0.9  0.627717  0.512821   0.567376  0.538721  entropy\n",
       "70        30     7   0.9  0.627717  0.512821   0.567376  0.538721  entropy\n",
       "71        30    10   0.9  0.627717  0.512821   0.567376  0.538721  entropy\n",
       "\n",
       "[72 rows x 8 columns]"
      ]
     },
     "execution_count": 266,
     "metadata": {},
     "output_type": "execute_result"
    }
   ],
   "source": [
    "from sklearn.metrics import accuracy_score, recall_score, precision_score, f1_score\n",
    "from tqdm import tqdm\n",
    "depths = [None, 2, 3, 5, 7, 10]\n",
    "coefs = [0.1, 0.2, 0.3, 0.5, 0.7, 0.9]\n",
    "min_leafs = 30\n",
    "crits = ['gini', 'entropy']\n",
    "\n",
    "df = pd.DataFrame(columns=['Min_leafs','Depth','Coef','Accuracy','Recall','Precision','F1'])\n",
    "\n",
    "df_X = pd.read_csv('x_spam_train.csv').drop('Id', axis=1)\n",
    "df_y = pd.read_csv('y_spam_train.csv').drop('Id', axis=1)\n",
    "\n",
    "for coef in coefs:\n",
    "    for crit in crits:\n",
    "        for depth in depths:\n",
    "            N = round(len(df_X)*coef)\n",
    "\n",
    "            X = np.array(df_X.iloc[:N])\n",
    "            y = np.array(df_y.iloc[:N])\n",
    "\n",
    "            X_test = np.array(df_X.iloc[N:])\n",
    "            y_test = np.array(df_y.iloc[N:]).reshape(len(X_test),)\n",
    "\n",
    "            test = DecisionTreeClassifier(max_depth=depth, min_samples_leaf=min_leafs, criterion=crit)\n",
    "            test.fit(X, y)\n",
    "            y_pred = test.predict(X_test)\n",
    "\n",
    "            acc = accuracy_score(y_test, y_pred)\n",
    "            recall = recall_score(y_test, y_pred)\n",
    "            precision = precision_score(y_test, y_pred)\n",
    "            f1 = f1_score(y_test, y_pred)\n",
    "            print(f'Коэф-т: {coef}, критерий: {crit}, глубина:{depth}')\n",
    "            #             print(f'Для коэф-та: {coef}, макс-ой глубины: {depth} и мин-го листа: {leaf} метрики равны:')\n",
    "            #             print(f'Accuracy = {acc:.3f}')\n",
    "            #             print(f'Recall = {recall:.3f}')\n",
    "            #             print(f'Precision = {precision:.3f}')\n",
    "            #             print(f'F1-score = {f1:.3f}')\n",
    "            #             print('')\n",
    "\n",
    "            d = {\n",
    "                'Min_leafs':min_leafs,\n",
    "                'Depth':depth,\n",
    "                'crit':crit,\n",
    "                'Coef':coef,\n",
    "                'Accuracy':acc,\n",
    "                'Recall':recall,\n",
    "                'Precision':precision,\n",
    "                'F1':f1\n",
    "            }\n",
    "\n",
    "            df = df.append(d, ignore_index=True)\n",
    "df"
   ]
  },
  {
   "cell_type": "code",
   "execution_count": 267,
   "metadata": {
    "ExecuteTime": {
     "end_time": "2022-03-08T19:26:06.009015Z",
     "start_time": "2022-03-08T19:26:05.782127Z"
    }
   },
   "outputs": [
    {
     "data": {
      "image/png": "[encoded data removed]",
      "text/plain": [
       "<Figure size 432x288 with 1 Axes>"
      ]
     },
     "metadata": {
      "needs_background": "light"
     },
     "output_type": "display_data"
    }
   ],
   "source": [
    "sns.scatterplot(data=df, x='Coef', y='F1', hue='Depth', size='crit')\n",
    "df.to_csv('HyperParameters2.csv')"
   ]
  },
  {
   "cell_type": "markdown",
   "metadata": {},
   "source": [
    "Построенное дерево можно нарисовать. Метод `draw_tree` рисует дерево и сохраняет его в указанный файл."
   ]
  },
  {
   "cell_type": "code",
   "execution_count": 297,
   "metadata": {
    "ExecuteTime": {
     "end_time": "2022-03-08T20:05:06.831490Z",
     "start_time": "2022-03-08T20:05:06.824413Z"
    }
   },
   "outputs": [],
   "source": [
    "def tree_depth(tree_root):\n",
    "    if isinstance(tree_root, DecisionTreeNode):\n",
    "        return max(tree_depth(tree_root.left), tree_depth(tree_root.right)) + 1\n",
    "    else:\n",
    "        return 1\n",
    "\n",
    "def draw_tree_rec(tree_root, x_left, x_right, y):\n",
    "    x_center = (x_right - x_left) / 2 + x_left\n",
    "    if isinstance(tree_root, DecisionTreeNode):\n",
    "        x_center = (x_right - x_left) / 2 + x_left\n",
    "        x = draw_tree_rec(tree_root.left, x_left, x_center, y - 1)\n",
    "        plt.plot((x_center, x), (y - 0.1, y - 0.9), c=(0, 0, 0))\n",
    "        x = draw_tree_rec(tree_root.right, x_center, x_right, y - 1)\n",
    "        plt.plot((x_center, x), (y - 0.1, y - 0.9), c=(0, 0, 0))\n",
    "        plt.text(x_center, y, \"x[%i] < %f\" % (tree_root.split_dim, tree_root.split_value),\n",
    "                horizontalalignment='center')\n",
    "    else:\n",
    "        plt.text(x_center, y, str(tree_root.y),\n",
    "                horizontalalignment='center')\n",
    "    return x_center\n",
    "\n",
    "def draw_tree(tree, save_path=None):\n",
    "    td = tree_depth(tree.root)\n",
    "    plt.figure(figsize=(0.33 * 2 ** td, 2 * td))\n",
    "    plt.xlim(-1, 1)\n",
    "    plt.ylim(0.95, td + 0.05)\n",
    "    plt.axis('off')\n",
    "    draw_tree_rec(tree.root, -1, 1, td)\n",
    "#     plt.tight_layout()\n",
    "    if save_path is not None:\n",
    "        plt.savefig(save_path)\n",
    "#     plt.show()"
   ]
  },
  {
   "cell_type": "markdown",
   "metadata": {},
   "source": [
    "Для двумерного набора данных дерево можно отобразить на плоскости с данными. Кроме того, как и для любого классификатора, для него можно построить roc-кривую"
   ]
  },
  {
   "cell_type": "code",
   "execution_count": 231,
   "metadata": {
    "ExecuteTime": {
     "end_time": "2022-03-08T15:00:06.868984Z",
     "start_time": "2022-03-08T15:00:06.842246Z"
    }
   },
   "outputs": [],
   "source": [
    "def plot_roc_curve(y_test, p_pred):\n",
    "    positive_samples = sum(1 for y in y_test if y == 0)\n",
    "    tpr = []\n",
    "    fpr = []\n",
    "    for w in np.arange(-0.01, 1.02, 0.01):\n",
    "        y_pred = [(0 if p.get(0, 0) > w else 1) for p in p_pred]\n",
    "        tpr.append(sum(1 for yp, yt in zip(y_pred, y_test) if yp == 0 and yt == 0) / positive_samples)\n",
    "        fpr.append(sum(1 for yp, yt in zip(y_pred, y_test) if yp == 0 and yt != 0) / (len(y_test) - positive_samples))\n",
    "    plt.figure(figsize = (7, 7))\n",
    "    plt.plot(fpr, tpr)\n",
    "    plt.plot([0, 1], [0, 1], linestyle=\"--\")\n",
    "    plt.xlabel(\"False positive rate\")\n",
    "    plt.ylabel(\"True positive rate\")\n",
    "    plt.xlim(-0.01, 1.01)\n",
    "    plt.ylim(-0.01, 1.01)\n",
    "    plt.tight_layout()\n",
    "    plt.show()\n",
    "\n",
    "def rectangle_bounds(bounds):\n",
    "    return ((bounds[0][0], bounds[0][0], bounds[0][1], bounds[0][1]), \n",
    "            (bounds[1][0], bounds[1][1], bounds[1][1], bounds[1][0]))\n",
    "\n",
    "def plot_2d_tree(tree_root, bounds, colors):\n",
    "    if isinstance(tree_root, DecisionTreeNode):\n",
    "        if tree_root.split_dim:\n",
    "            plot_2d_tree(tree_root.left, [bounds[0], [bounds[1][0], tree_root.split_value]], colors)\n",
    "            plot_2d_tree(tree_root.right, [bounds[0], [tree_root.split_value, bounds[1][1]]], colors)\n",
    "            plt.plot(bounds[0], (tree_root.split_value, tree_root.split_value), c=(0, 0, 0))\n",
    "        else:\n",
    "            plot_2d_tree(tree_root.left, [[bounds[0][0], tree_root.split_value], bounds[1]], colors)\n",
    "            plot_2d_tree(tree_root.right, [[tree_root.split_value, bounds[0][1]], bounds[1]], colors)\n",
    "            plt.plot((tree_root.split_value, tree_root.split_value), bounds[1], c=(0, 0, 0))\n",
    "    else:\n",
    "        x, y = rectangle_bounds(bounds)\n",
    "        plt.fill(x, y, c=colors[tree_root.y] + [0.2])\n",
    "\n",
    "def plot_2d(tree, X, y):\n",
    "    plt.figure(figsize=(9, 9))\n",
    "    colors = dict((c, list(np.random.random(3))) for c in np.unique(y))\n",
    "    bounds = list(zip(np.min(X, axis=0), np.max(X, axis=0)))\n",
    "    plt.xlim(*bounds[0])\n",
    "    plt.ylim(*bounds[1])\n",
    "    plot_2d_tree(tree.root, list(zip(np.min(X, axis=0), np.max(X, axis=0))), colors)\n",
    "    for c in np.unique(y):\n",
    "        plt.scatter(X[y==c, 0], X[y==c, 1], c=[colors[c]], label=c)\n",
    "    plt.legend()\n",
    "    plt.tight_layout()\n",
    "    plt.show()\n"
   ]
  },
  {
   "cell_type": "markdown",
   "metadata": {},
   "source": [
    "## Задание 4 (2 балла)"
   ]
  },
  {
   "cell_type": "markdown",
   "metadata": {},
   "source": [
    "Протестируйте решение на датасете spam.\n",
    "Для этой задачи используйте данные x_spam_train и y_spam_train:\n",
    "1. Выполните загрузку и предобработку файлов x_spam_train и y_spam_train.\n",
    "2. Разбейте x_spam_train и y_spam_train на x_train, y_train, x_test и y_test для оценки точности работы алгоритма.\n",
    "3. Посчитайте метрики `precision`, `recall`, `accuracy` для модели Decision Tree. Если необходимо, попробуйте разные наборы параметров для получения лучшего результата.\n",
    "4. Сравните значения метрик с результатами модели kNN из предыдущего задания (можно использовать реализацию из библиотеки `sklearn`).\n",
    "5. Ответьте на следующие вопросы:\n",
    "    - Какой нужен препроцессинг данных для моделей?\n",
    "    - Какая модель делает предсказания лучше?  Предположите, почему."
   ]
  },
  {
   "cell_type": "markdown",
   "metadata": {},
   "source": [
    "_Ваш ответ_"
   ]
  },
  {
   "cell_type": "code",
   "execution_count": 235,
   "metadata": {
    "ExecuteTime": {
     "end_time": "2022-03-08T15:00:47.632418Z",
     "start_time": "2022-03-08T15:00:47.626633Z"
    }
   },
   "outputs": [],
   "source": [
    "from sklearn.metrics import accuracy_score, recall_score, precision_score\n",
    "\n",
    "from sklearn.neighbors import KNeighborsClassifier"
   ]
  },
  {
   "cell_type": "code",
   "execution_count": 257,
   "metadata": {
    "ExecuteTime": {
     "end_time": "2022-03-08T15:15:55.997587Z",
     "start_time": "2022-03-08T15:15:04.233498Z"
    }
   },
   "outputs": [
    {
     "name": "stdout",
     "output_type": "stream",
     "text": [
      "Для коэф-та: 0.5, макс-ой глубины: 5 и мин-го листа: 30 метрики равны:\n",
      "Accuracy = 0.661\n",
      "Recall = 0.398\n",
      "Precision = 0.613\n",
      "F1-score = 0.483\n",
      "\n"
     ]
    },
    {
     "data": {
      "image/png": "[encoded data removed]",
      "text/plain": [
       "<Figure size 504x504 with 1 Axes>"
      ]
     },
     "metadata": {
      "needs_background": "light"
     },
     "output_type": "display_data"
    }
   ],
   "source": [
    "coef = 0.5\n",
    "\n",
    "df_X = pd.read_csv('x_spam_train.csv').drop('Id', axis=1)\n",
    "df_y = pd.read_csv('y_spam_train.csv').drop('Id', axis=1)\n",
    "\n",
    "N = round(len(df_X)*coef)\n",
    "X = np.array(df_X.iloc[:N])\n",
    "y = np.array(df_y.iloc[:N])\n",
    "\n",
    "X_test = np.array(df_X.iloc[N:])\n",
    "y_test = np.array(df_y.iloc[N:]).reshape(len(X_test),)\n",
    "\n",
    "tree = DecisionTreeClassifier(max_depth=None, min_samples_leaf=1)\n",
    "tree.fit(X, y)\n",
    "\n",
    "y_pred = test.predict(X_test)\n",
    "\n",
    "acc = accuracy_score(y_test, y_pred)\n",
    "recall = recall_score(y_test, y_pred)\n",
    "precision = precision_score(y_test, y_pred)\n",
    "f1 = f1_score(y_test, y_pred)\n",
    "print(f'Для коэф-та: {coef}, макс-ой глубины: {5} и мин-го листа: {30} метрики равны:')\n",
    "print(f'Accuracy = {acc:.3f}')\n",
    "print(f'Recall = {recall:.3f}')\n",
    "print(f'Precision = {precision:.3f}')\n",
    "print(f'F1-score = {f1:.3f}')\n",
    "print('')\n",
    "\n",
    "plot_roc_curve(y_test, test.predict_proba(X_test))\n",
    "# draw_tree(tree)"
   ]
  },
  {
   "cell_type": "markdown",
   "metadata": {},
   "source": [
    "1. Обучите модель на всех данных из x_spam_train и y_spam_train.\n",
    "2. Сделайте submit своего решения и получите значение f1_score не менее 0.6"
   ]
  },
  {
   "cell_type": "code",
   "execution_count": null,
   "metadata": {
    "pycharm": {
     "name": "#%%\n"
    }
   },
   "outputs": [],
   "source": [
    "submission = pd.DataFrame(columns = [\"Id\", \"Expected\"])\n",
    "submission[\"Id\"] = test[\"Id\"]\n",
    "submission[\"Expected\"] = #YOUR CODE\n",
    "submission.to_csv('submission.csv', index=False)\n"
   ]
  }
 ],
 "metadata": {
  "kernelspec": {
   "display_name": "Python 3 (ipykernel)",
   "language": "python",
   "name": "python3"
  },
  "language_info": {
   "codemirror_mode": {
    "name": "ipython",
    "version": 3
   },
   "file_extension": ".py",
   "mimetype": "text/x-python",
   "name": "python",
   "nbconvert_exporter": "python",
   "pygments_lexer": "ipython3",
   "version": "3.9.7"
  },
  "toc": {
   "base_numbering": 1,
   "nav_menu": {},
   "number_sections": true,
   "sideBar": true,
   "skip_h1_title": false,
   "title_cell": "Table of Contents",
   "title_sidebar": "Contents",
   "toc_cell": false,
   "toc_position": {},
   "toc_section_display": true,
   "toc_window_display": false
  },
  "varInspector": {
   "cols": {
    "lenName": 16,
    "lenType": 16,
    "lenVar": 40
   },
   "kernels_config": {
    "python": {
     "delete_cmd_postfix": "",
     "delete_cmd_prefix": "del ",
     "library": "var_list.py",
     "varRefreshCmd": "print(var_dic_list())"
    },
    "r": {
     "delete_cmd_postfix": ") ",
     "delete_cmd_prefix": "rm(",
     "library": "var_list.r",
     "varRefreshCmd": "cat(var_dic_list()) "
    }
   },
   "types_to_exclude": [
    "module",
    "function",
    "builtin_function_or_method",
    "instance",
    "_Feature"
   ],
   "window_display": false
  }
 },
 "nbformat": 4,
 "nbformat_minor": 2
}
