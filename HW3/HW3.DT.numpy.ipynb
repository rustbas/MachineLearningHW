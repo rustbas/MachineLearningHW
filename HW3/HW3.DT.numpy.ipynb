{
 "cells": [
  {
   "cell_type": "markdown",
   "metadata": {},
   "source": [
    "# Деревья решений решают проблемы\n",
    "__Суммарное количество баллов: 10__\n",
    "\n",
    "Вы уже знакомы с классификацией методом KNN. В этом задании предстоит реализовать другой метод классификации - дерево решений. \n",
    "\n",
    "Одной из его особенностей является возможность объяснить в человекочитаемой форме, почему мы отнесли объект к определенному классу. Эта особенность позволяет использовать деревья решений для создания систем, которые могут подсказывать специалистам, на что именно стоит обратить внимание при принятии решений."
   ]
  },
  {
   "cell_type": "code",
   "execution_count": 1,
   "metadata": {
    "ExecuteTime": {
     "end_time": "2022-03-09T09:18:17.672976Z",
     "start_time": "2022-03-09T09:18:16.548869Z"
    }
   },
   "outputs": [],
   "source": [
    "import numpy as np\n",
    "import pandas as pd\n",
    "import random\n",
    "import matplotlib.pyplot as plt\n",
    "import matplotlib\n",
    "import seaborn as sns"
   ]
  },
  {
   "cell_type": "markdown",
   "metadata": {},
   "source": [
    "## Некоторые промежуточный функции"
   ]
  },
  {
   "cell_type": "code",
   "execution_count": 2,
   "metadata": {
    "ExecuteTime": {
     "end_time": "2022-03-09T09:18:17.683918Z",
     "start_time": "2022-03-09T09:18:17.680519Z"
    }
   },
   "outputs": [
    {
     "name": "stdout",
     "output_type": "stream",
     "text": [
      "Вход: [1, 2, 10, 10, 10, 10, 10, 3, 4, 5, 6, 7, 7, 7, 7, 7]\n",
      "Выход: [1.5 2.5 3.5 4.5 5.5 6.5 8.5]\n"
     ]
    }
   ],
   "source": [
    "# def subtotals(x):\n",
    "#     X = sorted(list(set(x)))\n",
    "# #     print(X)\n",
    "#     res = np.zeros(len(X)-1)\n",
    "#     for i in range(len(X) - 1):\n",
    "#         res[i] = (X[i] + X[i+1])/2\n",
    "#     return res\n",
    "\n",
    "def subtotals(x):\n",
    "    X = np.array(sorted(list(set(x))))\n",
    "    \n",
    "    return (X[1:] + X[:-1])/2\n",
    "\n",
    "st = [1,2,10,10,10,10,10,3,4,5,6,7,7,7,7,7]\n",
    "res = subtotals(st)\n",
    "print(f'Вход: {st}')\n",
    "print(f'Выход: {res}')"
   ]
  },
  {
   "cell_type": "markdown",
   "metadata": {},
   "source": [
    "## Задание 1 (1 балл)"
   ]
  },
  {
   "cell_type": "markdown",
   "metadata": {},
   "source": [
    "Во время построения дерева решений нам потребуется определить, какой из предикатов лучше всего разбивает обучающую выборку. Есть два критерия, которые позволяют это сделать: критерий Джини и энтропийный критерий. Первый для подсчета информативности разбиения использует коэффициент Джини, второй - энтропию. Реализуйте подсчет этих коэффициентов, а так же подсчет информативности разбиения. \n",
    "\n",
    "#### Описание функций\n",
    "`gini(x)` считает коэффициент Джини для массива меток\n",
    "\n",
    "`entropy(x)` считает энтропию для массива меток\n",
    "\n",
    "`gain(left_y, right_y, criterion)` считает информативность разбиения массива меток на левую `left_y` и правую `right_y` части при помощи `criterion`, который задается функцией (не строкой)."
   ]
  },
  {
   "cell_type": "code",
   "execution_count": 72,
   "metadata": {
    "ExecuteTime": {
     "end_time": "2022-03-09T09:56:13.972018Z",
     "start_time": "2022-03-09T09:56:13.958023Z"
    }
   },
   "outputs": [
    {
     "name": "stdout",
     "output_type": "stream",
     "text": [
      "[2 0 1 0 2 4 4 4 4 1 0 2 3 1 4 2 1 3 2 0 0 0 1 3 4 2 1 2 1 4 0 1 0 0 0 1 3\n",
      " 1 1 3 0 3 1 3 0 0 2 2 1 4 2 2 3 1 1 4 4 2 1 1 1 2 4 4 0 1 0 3 2 2 0 1 3 3\n",
      " 1 4 2 1 0 2 2 0 2 1 1 0 3 4 2 1 2 0 0 4 2 2 1 1 2 4]\n",
      "[4 2 3 1 2 4 3 3 0 0 1 4 1 1 4 3 3 1 4 2 4 3 0 0 0 1 0 4 3 0 1 4 4 0 0 0 3\n",
      " 1 1 2 4 3 2 0 0 3 3 0 3 3 2 2 3 0 4 0 0 2 1 2 2 2 1 2 0 0 2 2 4 0 3 1 0 3\n",
      " 2 0 1 3 1 2 2 1 2 3 4 2 3 3 1 1 1 4 2 3 2 3 1 1 0 0]\n",
      "0.004150000000000134\n"
     ]
    }
   ],
   "source": [
    "def gini(x):\n",
    "    labels = list(set(x.flatten()))\n",
    "    n = len(x)\n",
    "    m = len(labels)\n",
    "    Y = dict()\n",
    "    for i in range(max(labels) + 1):\n",
    "        Y[i] = 0\n",
    "    \n",
    "    for label in x:\n",
    "#         print(label, type(label), type(x))\n",
    "        Y[label] += 1/n\n",
    "        \n",
    "    S = 0\n",
    "    for key in Y.keys():\n",
    "        S += Y[key]*(1 - Y[key])\n",
    "    \n",
    "    return S\n",
    "    \n",
    "def entropy(x):\n",
    "    labels = list(set(x.flatten()))\n",
    "    n = len(x)\n",
    "    m = len(labels)\n",
    "    Y = dict()\n",
    "    for i in range(max(labels) + 1):\n",
    "        Y[i] = 0\n",
    "    \n",
    "    for label in x:\n",
    "        Y[label] += 1/n\n",
    "        \n",
    "    S = 0\n",
    "    for key in Y.keys():\n",
    "        if Y[key] != 0:\n",
    "            S -= Y[key]*np.log2(Y[key])\n",
    "        \n",
    "    return S\n",
    "\n",
    "def gain(left_y, right_y, criterion):\n",
    "    y = np.append(left_y, right_y)\n",
    "    n_left = len(left_y)\n",
    "    n_right = len(right_y)\n",
    "    n_all = n_left + n_right\n",
    "    return (n_all*criterion(y) - n_right*criterion(right_y) - n_left*criterion(left_y))/n_all\n",
    "\n",
    "test = np.random.choice(5, 100)\n",
    "test2 = np.random.choice(5, 100)\n",
    "# (test)\n",
    "print(test)\n",
    "print(test2)\n",
    "print(gain(test,test2, gini))"
   ]
  },
  {
   "cell_type": "markdown",
   "metadata": {},
   "source": [
    "## Задание 2 (1 балл)"
   ]
  },
  {
   "cell_type": "markdown",
   "metadata": {},
   "source": [
    "Деревья решений имеют хорошую интерпретируемость, т.к. позволяют не только предсказать класс, но и объяснить, почему мы предсказали именно его. Например, мы можем его нарисовать. Чтобы сделать это, нам необходимо знать, как оно устроено внутри. Реализуйте классы, которые будут задавать структуру дерева. \n",
    "\n",
    "#### DecisionTreeLeaf\n",
    "Поля:\n",
    "1. `y` должно содержать класс, который встречается чаще всего среди элементов листа дерева\n",
    "\n",
    "#### DecisionTreeNode\n",
    "В данной домашней работе мы ограничемся порядковыми и количественными признаками, поэтому достаточно хранить измерение и значение признака, по которому разбиваем обучающую выборку.\n",
    "\n",
    "Поля:\n",
    "1. `split_dim` измерение, по которому разбиваем выборку\n",
    "2. `split_value` значение, по которому разбираем выборку\n",
    "3. `left` поддерево, отвечающее за случай `x[split_dim] < split_value`. Может быть `DecisionTreeNode` или `DecisionTreeLeaf`\n",
    "4. `right` поддерево, отвечающее за случай `x[split_dim] >= split_value`. Может быть `DecisionTreeNode` или `DecisionTreeLeaf`\n",
    "\n",
    "__Интерфейс классов можно и нужно менять при необходимости__ (например, для вычисления вероятности в следующем задании)"
   ]
  },
  {
   "cell_type": "code",
   "execution_count": 5,
   "metadata": {
    "ExecuteTime": {
     "end_time": "2022-03-09T09:18:37.651480Z",
     "start_time": "2022-03-09T09:18:37.643279Z"
    }
   },
   "outputs": [],
   "source": [
    "class DecisionTreeLeaf:\n",
    "    def __init__(self, y):\n",
    "        self.y = y\n",
    "        self.N = len(y)\n",
    "        self.set = list(set(y.flatten()))\n",
    "#         raise NotImplementedError()\n",
    "\n",
    "class DecisionTreeNode:\n",
    "    def __init__(self, split_dim, split_value, left, right):\n",
    "        self.split_dim = split_dim\n",
    "        self.split_value = split_value\n",
    "        self.left = left\n",
    "        self.right = right\n",
    "#         raise NotImplementedError()"
   ]
  },
  {
   "cell_type": "markdown",
   "metadata": {},
   "source": [
    "## Задание 3 (6 баллов)"
   ]
  },
  {
   "cell_type": "markdown",
   "metadata": {},
   "source": [
    "Теперь перейдем к самому дереву решений. Реализуйте класс `DecisionTreeClassifier`.\n",
    "\n",
    "#### Описание методов\n",
    "`fit(X, y)` строит дерево решений по обучающей выборке.\n",
    "\n",
    "`predict_proba(X)` для каждого элемента из `X` возвращает словарь `dict`, состоящий из пар `(класс, вероятность)`. Вероятности классов в листе можно определить через количество объектов соответствующего класса в листе. \n",
    "\n",
    "#### Описание параметров конструктора\n",
    "`criterion=\"gini\"` - задает критерий, который будет использоваться при построении дерева. Возможные значения: `\"gini\"`, `\"entropy\"`.\n",
    "\n",
    "`max_depth=None` - ограничение глубины дерева. Если `None` - глубина не ограничена\n",
    "\n",
    "`min_samples_leaf=1` - минимальное количество элементов в каждом листе дерева.\n",
    "\n",
    "#### Описание полей\n",
    "`root` - корень дерева. Может быть `DecisionTreeNode` или `DecisionTreeLeaf`"
   ]
  },
  {
   "cell_type": "code",
   "execution_count": 69,
   "metadata": {
    "ExecuteTime": {
     "end_time": "2022-03-09T09:55:20.027513Z",
     "start_time": "2022-03-09T09:55:20.014287Z"
    }
   },
   "outputs": [],
   "source": [
    "class DecisionTreeClassifier:\n",
    "\n",
    "    def __init__(self, criterion=\"gini\", max_depth=None, min_samples_leaf=1):\n",
    "        self.root = None\n",
    "        self.max_depth = max_depth\n",
    "        self.min_samples_leaf = min_samples_leaf\n",
    "        self.max_rec = 0\n",
    "\n",
    "        if criterion == 'gini':\n",
    "            self.criterion = gini\n",
    "        elif criterion == 'entropy':\n",
    "            self.criterion = entropy\n",
    "        else:\n",
    "            raise NotImplementedError()\n",
    "\n",
    "    def build(self, X, y, cur_rec, max_IG, side):\n",
    "\n",
    "        if cur_rec > self.max_rec:\n",
    "            self.max_rec = cur_rec\n",
    "\n",
    "        key2 = False\n",
    "        max_IG = -np.inf\n",
    "        res_column = 0\n",
    "        res_threshold = -np.inf\n",
    "\n",
    "        columns = np.arange(X.shape[1])\n",
    "\n",
    "        for column in columns:\n",
    "            X_temp = X[:, column]\n",
    "\n",
    "            thresholds = subtotals(X_temp)\n",
    "\n",
    "            #             if len(X_temp) > 300:\n",
    "            #                 thresholds = subtotals(X_temp)\n",
    "            #             else:\n",
    "            #                 thresholds = np.array(sorted(list(set(X_temp))))\n",
    "\n",
    "            #             print(len(thresholds), len(set(X_temp)),cur_rec, X_temp.shape, X.shape)\n",
    "\n",
    "            for threshold in thresholds:\n",
    "                left = y[X_temp < threshold]\n",
    "                right = y[X_temp >= threshold]\n",
    "\n",
    "                #                 print(cur_rec, left.shape, right.shape, len(left))\n",
    "\n",
    "                if len(left) < self.min_samples_leaf or len(\n",
    "                        right) < self.min_samples_leaf:\n",
    "                    #                     print(cur_rec, left.shape, right.shape, len(left))\n",
    "                    continue\n",
    "\n",
    "#                 print(left.reshape(len(left),).shape, right.shape)\n",
    "                IG = gain(left.reshape(len(left), ),\n",
    "                          right.reshape(len(right), ), self.criterion)\n",
    "\n",
    "                if IG > max_IG:\n",
    "                    key2 = True\n",
    "                    res_column = column\n",
    "                    max_IG = IG\n",
    "                    res_threshold = threshold\n",
    "\n",
    "#         print(cur_rec, res_column, X.shape, res_threshold)\n",
    "        yl = y[X[:, res_column] < res_threshold]\n",
    "        yr = y[X[:, res_column] >= res_threshold]\n",
    "\n",
    "        Xl = np.delete(X[X[:, res_column] < res_threshold], res_column, axis=1)\n",
    "        Xr = np.delete(X[X[:, res_column] >= res_threshold],\n",
    "                       res_column,\n",
    "                       axis=1)\n",
    "\n",
    "        key = False\n",
    "        if self.max_depth is None:\n",
    "            key = False\n",
    "        elif self.max_depth <= cur_rec:\n",
    "            key = True\n",
    "#         if X.shape[1] <= 1 or X.shape[0] == 0 or res_threshold == np.inf:\n",
    "        if res_threshold == np.inf or Xl.shape[1] == 0 or Xr.shape[1] == 0:\n",
    "            #             print(X.shape, X)\n",
    "            key = True\n",
    "\n",
    "#         print(cur_rec, key, key2, side,Xl.shape, Xr.shape, res_threshold,gain(left.reshape(len(left), ),\n",
    "#                           right.reshape(len(right), ), self.criterion))\n",
    "        if key or not key2:\n",
    "            return DecisionTreeLeaf(y)\n",
    "        else:\n",
    "            #             print(cur_rec, Xl.shape, Xr.shape, yl.shape, yr.shape, res_threshold, max_IG, key)\n",
    "            return DecisionTreeNode(res_column, res_threshold,\n",
    "                                    self.build(Xl, yl, cur_rec + 1, max_IG, 'left'),\n",
    "                                    self.build(Xr, yr, cur_rec + 1, max_IG, 'right'))\n",
    "\n",
    "    def search(self, x, Node):\n",
    "        if type(Node) is DecisionTreeLeaf:\n",
    "            res = dict()\n",
    "            for key in Node.set:\n",
    "                res[key] = np.sum(Node.y == key) / Node.N\n",
    "\n",
    "\n",
    "#                 print(res[key], np.sum(Node.y == key), Node.N)\n",
    "#             print(res)\n",
    "            return res\n",
    "\n",
    "        elif type(Node) is DecisionTreeNode:\n",
    "\n",
    "            if x[Node.split_dim] < Node.split_value:\n",
    "                return self.search(x, Node.left)\n",
    "            elif x[Node.split_dim] >= Node.split_value:\n",
    "                return self.search(x, Node.right)\n",
    "            else:\n",
    "                raise NotImplementedError()\n",
    "\n",
    "        else:\n",
    "            raise NotImplementedError()\n",
    "\n",
    "    def fit(self, X, y):\n",
    "        self.root = self.build(X, y, 1, -np.inf, 'None')\n",
    "\n",
    "    def predict_proba(self, X):\n",
    "        pred = []\n",
    "        N = len(X)\n",
    "        for i in range(N):\n",
    "            pred += [self.search(X[i], self.root)]\n",
    "        return pred\n",
    "\n",
    "    def predict(self, X):\n",
    "        proba = self.predict_proba(X)\n",
    "        return np.array([max(p.keys(), key=lambda k: p[k]) for p in proba])"
   ]
  },
  {
   "cell_type": "code",
   "execution_count": 70,
   "metadata": {
    "ExecuteTime": {
     "end_time": "2022-03-09T09:55:20.580060Z",
     "start_time": "2022-03-09T09:55:20.568843Z"
    }
   },
   "outputs": [
    {
     "data": {
      "text/plain": [
       "array([0, 1, 2, 7])"
      ]
     },
     "execution_count": 70,
     "metadata": {},
     "output_type": "execute_result"
    }
   ],
   "source": [
    "def sample(N):\n",
    "    y1 = np.bool_(np.random.choice(2, N, replace=True))\n",
    "    y2 = np.logical_not(y1)\n",
    "    return y1,y2\n",
    "test = np.arange(10)\n",
    "i1,i2 = sample(10)\n",
    "test[i1]"
   ]
  },
  {
   "cell_type": "code",
   "execution_count": 78,
   "metadata": {
    "ExecuteTime": {
     "end_time": "2022-03-09T10:12:17.568464Z",
     "start_time": "2022-03-09T10:11:37.312000Z"
    },
    "scrolled": false
   },
   "outputs": [
    {
     "name": "stdout",
     "output_type": "stream",
     "text": [
      "Для коэф-та: 0.5, макс-ой глубины: 5 и мин-го листа: 30 метрики равны:\n",
      "Accuracy = 0.857\n",
      "Recall = 0.699\n",
      "Precision = 0.922\n",
      "F1-score = 0.795\n"
     ]
    },
    {
     "data": {
      "image/png": "[encoded data removed]",
      "text/plain": [
       "<Figure size 504x504 with 1 Axes>"
      ]
     },
     "metadata": {
      "needs_background": "light"
     },
     "output_type": "display_data"
    }
   ],
   "source": [
    "coef = 0.5\n",
    "\n",
    "df_X = pd.read_csv('x_spam_train.csv').drop('Id', axis=1)\n",
    "df_y = pd.read_csv('y_spam_train.csv').drop('Id', axis=1)\n",
    "\n",
    "N = round(len(df_X)*coef)\n",
    "X = np.array(df_X.iloc[:N])\n",
    "y = np.array(df_y.iloc[:N])\n",
    "\n",
    "X_test = np.array(df_X.iloc[N:])\n",
    "y_test = np.array(df_y.iloc[N:]).reshape(len(X_test),)\n",
    "\n",
    "tree = DecisionTreeClassifier(max_depth=5, min_samples_leaf=5, criterion='gini')\n",
    "tree.fit(X, y)\n",
    "\n",
    "y_pred = tree.predict(X_test)\n",
    "\n",
    "acc = accuracy_score(y_test, y_pred)\n",
    "recall = recall_score(y_test, y_pred)\n",
    "precision = precision_score(y_test, y_pred)\n",
    "f1 = f1_score(y_test, y_pred)\n",
    "print(f'Для коэф-та: {coef}, макс-ой глубины: {5} и мин-го листа: {30} метрики равны:')\n",
    "print(f'Accuracy = {acc:.3f}')\n",
    "print(f'Recall = {recall:.3f}')\n",
    "print(f'Precision = {precision:.3f}')\n",
    "print(f'F1-score = {f1:.3f}')\n",
    "# print(tree.max_rec)\n",
    "\n",
    "plot_roc_curve(y_test, tree.predict_proba(X_test))\n",
    "# draw_tree(tree, 'test.png')"
   ]
  },
  {
   "cell_type": "code",
   "execution_count": 64,
   "metadata": {
    "ExecuteTime": {
     "end_time": "2022-03-09T09:46:20.833404Z",
     "start_time": "2022-03-09T09:46:20.645843Z"
    }
   },
   "outputs": [
    {
     "data": {
      "text/plain": [
       "45.536062481267955"
      ]
     },
     "execution_count": 64,
     "metadata": {},
     "output_type": "execute_result"
    }
   ],
   "source": [
    "def AUC(y_test, p_pred):\n",
    "    positive_samples = sum(1 for y in y_test if y == 0)\n",
    "    tpr = []\n",
    "    fpr = []\n",
    "    for w in np.arange(-0.01, 1.02, 0.01):\n",
    "        y_pred = [(0 if p.get(0, 0) > w else 1) for p in p_pred]\n",
    "        tpr.append(\n",
    "            sum(1 for yp, yt in zip(y_pred, y_test) if yp == 0 and yt == 0) /\n",
    "            positive_samples)\n",
    "        fpr.append(\n",
    "            sum(1 for yp, yt in zip(y_pred, y_test) if yp == 0 and yt != 0) /\n",
    "            (len(y_test) - positive_samples))\n",
    "    return np.dot(tpr, fpr)"
   ]
  },
  {
   "cell_type": "code",
   "execution_count": 66,
   "metadata": {
    "ExecuteTime": {
     "end_time": "2022-03-09T09:51:37.413152Z",
     "start_time": "2022-03-09T09:48:01.215458Z"
    },
    "scrolled": true
   },
   "outputs": [
    {
     "name": "stdout",
     "output_type": "stream",
     "text": [
      "Коэф-т: 0.3, критерий: gini, глубина:None, листья:5\n",
      "Коэф-т: 0.3, критерий: gini, глубина:None, листья:15\n",
      "Коэф-т: 0.3, критерий: gini, глубина:None, листья:30\n",
      "Коэф-т: 0.3, критерий: gini, глубина:2, листья:5\n",
      "Коэф-т: 0.3, критерий: gini, глубина:2, листья:15\n",
      "Коэф-т: 0.3, критерий: gini, глубина:2, листья:30\n",
      "Коэф-т: 0.3, критерий: gini, глубина:3, листья:5\n",
      "Коэф-т: 0.3, критерий: gini, глубина:3, листья:15\n",
      "Коэф-т: 0.3, критерий: gini, глубина:3, листья:30\n",
      "Коэф-т: 0.3, критерий: gini, глубина:5, листья:5\n",
      "Коэф-т: 0.3, критерий: gini, глубина:5, листья:15\n",
      "Коэф-т: 0.3, критерий: gini, глубина:5, листья:30\n",
      "Коэф-т: 0.3, критерий: entropy, глубина:None, листья:5\n",
      "Коэф-т: 0.3, критерий: entropy, глубина:None, листья:15\n",
      "Коэф-т: 0.3, критерий: entropy, глубина:None, листья:30\n",
      "Коэф-т: 0.3, критерий: entropy, глубина:2, листья:5\n",
      "Коэф-т: 0.3, критерий: entropy, глубина:2, листья:15\n",
      "Коэф-т: 0.3, критерий: entropy, глубина:2, листья:30\n",
      "Коэф-т: 0.3, критерий: entropy, глубина:3, листья:5\n",
      "Коэф-т: 0.3, критерий: entropy, глубина:3, листья:15\n",
      "Коэф-т: 0.3, критерий: entropy, глубина:3, листья:30\n",
      "Коэф-т: 0.3, критерий: entropy, глубина:5, листья:5\n",
      "Коэф-т: 0.3, критерий: entropy, глубина:5, листья:15\n",
      "Коэф-т: 0.3, критерий: entropy, глубина:5, листья:30\n",
      "Коэф-т: 0.5, критерий: gini, глубина:None, листья:5\n"
     ]
    },
    {
     "ename": "KeyboardInterrupt",
     "evalue": "",
     "output_type": "error",
     "traceback": [
      "\u001b[0;31m---------------------------------------------------------------------------\u001b[0m",
      "\u001b[0;31mKeyboardInterrupt\u001b[0m                         Traceback (most recent call last)",
      "\u001b[0;32m/tmp/ipykernel_418430/1340714688.py\u001b[0m in \u001b[0;36m<module>\u001b[0;34m\u001b[0m\n\u001b[1;32m     24\u001b[0m \u001b[0;34m\u001b[0m\u001b[0m\n\u001b[1;32m     25\u001b[0m                 \u001b[0mtree\u001b[0m \u001b[0;34m=\u001b[0m \u001b[0mDecisionTreeClassifier\u001b[0m\u001b[0;34m(\u001b[0m\u001b[0mmax_depth\u001b[0m\u001b[0;34m=\u001b[0m\u001b[0mdepth\u001b[0m\u001b[0;34m,\u001b[0m \u001b[0mmin_samples_leaf\u001b[0m\u001b[0;34m=\u001b[0m\u001b[0mleaf\u001b[0m\u001b[0;34m,\u001b[0m \u001b[0mcriterion\u001b[0m\u001b[0;34m=\u001b[0m\u001b[0mcrit\u001b[0m\u001b[0;34m)\u001b[0m\u001b[0;34m\u001b[0m\u001b[0;34m\u001b[0m\u001b[0m\n\u001b[0;32m---> 26\u001b[0;31m                 \u001b[0mtree\u001b[0m\u001b[0;34m.\u001b[0m\u001b[0mfit\u001b[0m\u001b[0;34m(\u001b[0m\u001b[0mX\u001b[0m\u001b[0;34m,\u001b[0m \u001b[0my\u001b[0m\u001b[0;34m)\u001b[0m\u001b[0;34m\u001b[0m\u001b[0;34m\u001b[0m\u001b[0m\n\u001b[0m\u001b[1;32m     27\u001b[0m                 \u001b[0my_pred\u001b[0m \u001b[0;34m=\u001b[0m \u001b[0mtree\u001b[0m\u001b[0;34m.\u001b[0m\u001b[0mpredict\u001b[0m\u001b[0;34m(\u001b[0m\u001b[0mX_test\u001b[0m\u001b[0;34m)\u001b[0m\u001b[0;34m\u001b[0m\u001b[0;34m\u001b[0m\u001b[0m\n\u001b[1;32m     28\u001b[0m \u001b[0;34m\u001b[0m\u001b[0m\n",
      "\u001b[0;32m/tmp/ipykernel_418430/2036388820.py\u001b[0m in \u001b[0;36mfit\u001b[0;34m(self, X, y)\u001b[0m\n\u001b[1;32m    112\u001b[0m \u001b[0;34m\u001b[0m\u001b[0m\n\u001b[1;32m    113\u001b[0m     \u001b[0;32mdef\u001b[0m \u001b[0mfit\u001b[0m\u001b[0;34m(\u001b[0m\u001b[0mself\u001b[0m\u001b[0;34m,\u001b[0m \u001b[0mX\u001b[0m\u001b[0;34m,\u001b[0m \u001b[0my\u001b[0m\u001b[0;34m)\u001b[0m\u001b[0;34m:\u001b[0m\u001b[0;34m\u001b[0m\u001b[0;34m\u001b[0m\u001b[0m\n\u001b[0;32m--> 114\u001b[0;31m         \u001b[0mself\u001b[0m\u001b[0;34m.\u001b[0m\u001b[0mroot\u001b[0m \u001b[0;34m=\u001b[0m \u001b[0mself\u001b[0m\u001b[0;34m.\u001b[0m\u001b[0mbuild\u001b[0m\u001b[0;34m(\u001b[0m\u001b[0mX\u001b[0m\u001b[0;34m,\u001b[0m \u001b[0my\u001b[0m\u001b[0;34m,\u001b[0m \u001b[0;36m1\u001b[0m\u001b[0;34m,\u001b[0m \u001b[0;34m-\u001b[0m\u001b[0mnp\u001b[0m\u001b[0;34m.\u001b[0m\u001b[0minf\u001b[0m\u001b[0;34m,\u001b[0m \u001b[0;34m'None'\u001b[0m\u001b[0;34m)\u001b[0m\u001b[0;34m\u001b[0m\u001b[0;34m\u001b[0m\u001b[0m\n\u001b[0m\u001b[1;32m    115\u001b[0m \u001b[0;34m\u001b[0m\u001b[0m\n\u001b[1;32m    116\u001b[0m     \u001b[0;32mdef\u001b[0m \u001b[0mpredict_proba\u001b[0m\u001b[0;34m(\u001b[0m\u001b[0mself\u001b[0m\u001b[0;34m,\u001b[0m \u001b[0mX\u001b[0m\u001b[0;34m)\u001b[0m\u001b[0;34m:\u001b[0m\u001b[0;34m\u001b[0m\u001b[0;34m\u001b[0m\u001b[0m\n",
      "\u001b[0;32m/tmp/ipykernel_418430/2036388820.py\u001b[0m in \u001b[0;36mbuild\u001b[0;34m(self, X, y, cur_rec, max_IG, side)\u001b[0m\n\u001b[1;32m     50\u001b[0m \u001b[0;34m\u001b[0m\u001b[0m\n\u001b[1;32m     51\u001b[0m \u001b[0;31m#                 print(left.reshape(len(left),).shape, right.shape)\u001b[0m\u001b[0;34m\u001b[0m\u001b[0;34m\u001b[0m\u001b[0m\n\u001b[0;32m---> 52\u001b[0;31m                 IG = gain(left.reshape(len(left), ),\n\u001b[0m\u001b[1;32m     53\u001b[0m                           right.reshape(len(right), ), self.criterion)\n\u001b[1;32m     54\u001b[0m \u001b[0;34m\u001b[0m\u001b[0m\n",
      "\u001b[0;32m/tmp/ipykernel_418430/1728615553.py\u001b[0m in \u001b[0;36mgain\u001b[0;34m(left_y, right_y, criterion)\u001b[0m\n\u001b[1;32m     39\u001b[0m     \u001b[0mn_right\u001b[0m \u001b[0;34m=\u001b[0m \u001b[0mlen\u001b[0m\u001b[0;34m(\u001b[0m\u001b[0mright_y\u001b[0m\u001b[0;34m)\u001b[0m\u001b[0;34m\u001b[0m\u001b[0;34m\u001b[0m\u001b[0m\n\u001b[1;32m     40\u001b[0m     \u001b[0mn_all\u001b[0m \u001b[0;34m=\u001b[0m \u001b[0mn_left\u001b[0m \u001b[0;34m+\u001b[0m \u001b[0mn_right\u001b[0m\u001b[0;34m\u001b[0m\u001b[0;34m\u001b[0m\u001b[0m\n\u001b[0;32m---> 41\u001b[0;31m     \u001b[0;32mreturn\u001b[0m \u001b[0;34m(\u001b[0m\u001b[0mn_all\u001b[0m\u001b[0;34m*\u001b[0m\u001b[0mcriterion\u001b[0m\u001b[0;34m(\u001b[0m\u001b[0my\u001b[0m\u001b[0;34m)\u001b[0m \u001b[0;34m-\u001b[0m \u001b[0mn_right\u001b[0m\u001b[0;34m*\u001b[0m\u001b[0mcriterion\u001b[0m\u001b[0;34m(\u001b[0m\u001b[0mright_y\u001b[0m\u001b[0;34m)\u001b[0m \u001b[0;34m-\u001b[0m \u001b[0mn_left\u001b[0m\u001b[0;34m*\u001b[0m\u001b[0mcriterion\u001b[0m\u001b[0;34m(\u001b[0m\u001b[0mleft_y\u001b[0m\u001b[0;34m)\u001b[0m\u001b[0;34m)\u001b[0m\u001b[0;34m/\u001b[0m\u001b[0mn_all\u001b[0m\u001b[0;34m\u001b[0m\u001b[0;34m\u001b[0m\u001b[0m\n\u001b[0m\u001b[1;32m     42\u001b[0m \u001b[0;34m\u001b[0m\u001b[0m\n\u001b[1;32m     43\u001b[0m \u001b[0mtest\u001b[0m \u001b[0;34m=\u001b[0m \u001b[0mnp\u001b[0m\u001b[0;34m.\u001b[0m\u001b[0mrandom\u001b[0m\u001b[0;34m.\u001b[0m\u001b[0mchoice\u001b[0m\u001b[0;34m(\u001b[0m\u001b[0;36m5\u001b[0m\u001b[0;34m,\u001b[0m \u001b[0;36m100\u001b[0m\u001b[0;34m)\u001b[0m\u001b[0;34m\u001b[0m\u001b[0;34m\u001b[0m\u001b[0m\n",
      "\u001b[0;32m/tmp/ipykernel_418430/1728615553.py\u001b[0m in \u001b[0;36mgini\u001b[0;34m(x)\u001b[0m\n\u001b[1;32m      9\u001b[0m     \u001b[0;32mfor\u001b[0m \u001b[0mlabel\u001b[0m \u001b[0;32min\u001b[0m \u001b[0mx\u001b[0m\u001b[0;34m:\u001b[0m\u001b[0;34m\u001b[0m\u001b[0;34m\u001b[0m\u001b[0m\n\u001b[1;32m     10\u001b[0m \u001b[0;31m#         print(label, type(label), type(x))\u001b[0m\u001b[0;34m\u001b[0m\u001b[0;34m\u001b[0m\u001b[0m\n\u001b[0;32m---> 11\u001b[0;31m         \u001b[0mY\u001b[0m\u001b[0;34m[\u001b[0m\u001b[0mlabel\u001b[0m\u001b[0;34m]\u001b[0m \u001b[0;34m+=\u001b[0m \u001b[0;36m1\u001b[0m\u001b[0;34m/\u001b[0m\u001b[0mn\u001b[0m\u001b[0;34m\u001b[0m\u001b[0;34m\u001b[0m\u001b[0m\n\u001b[0m\u001b[1;32m     12\u001b[0m \u001b[0;34m\u001b[0m\u001b[0m\n\u001b[1;32m     13\u001b[0m     \u001b[0mS\u001b[0m \u001b[0;34m=\u001b[0m \u001b[0;36m0\u001b[0m\u001b[0;34m\u001b[0m\u001b[0;34m\u001b[0m\u001b[0m\n",
      "\u001b[0;31mKeyboardInterrupt\u001b[0m: "
     ]
    }
   ],
   "source": [
    "from sklearn.metrics import accuracy_score, recall_score, precision_score, f1_score\n",
    "from tqdm import tqdm\n",
    "depths = [None, 2, 3, 5]\n",
    "coefs = [0.3, 0.5, 0.7]\n",
    "min_leafs = [5, 15, 30]\n",
    "crits = ['gini', 'entropy']\n",
    "\n",
    "df = pd.DataFrame(columns=['Min_leafs','Depth','Coef','Accuracy','Recall','Precision','F1', 'AUC'])\n",
    "\n",
    "df_X = pd.read_csv('x_spam_train.csv').drop('Id', axis=1)\n",
    "df_y = pd.read_csv('y_spam_train.csv').drop('Id', axis=1)\n",
    "\n",
    "for coef in coefs:\n",
    "    for crit in crits:\n",
    "        for depth in depths:\n",
    "            for leaf in min_leafs:\n",
    "                N = round(len(df_X)*coef)\n",
    "\n",
    "                X = np.array(df_X.iloc[:N])\n",
    "                y = np.array(df_y.iloc[:N])\n",
    "\n",
    "                X_test = np.array(df_X.iloc[N:])\n",
    "                y_test = np.array(df_y.iloc[N:]).reshape(len(X_test),)\n",
    "\n",
    "                tree = DecisionTreeClassifier(max_depth=depth, min_samples_leaf=leaf, criterion=crit)\n",
    "                tree.fit(X, y)\n",
    "                y_pred = tree.predict(X_test)\n",
    "\n",
    "                acc = accuracy_score(y_test, y_pred)\n",
    "                recall = recall_score(y_test, y_pred)\n",
    "                precision = precision_score(y_test, y_pred)\n",
    "                f1 = f1_score(y_test, y_pred)\n",
    "                print(f'Коэф-т: {coef}, критерий: {crit}, глубина:{depth}, листья:{leaf}')\n",
    "                #             print(f'Для коэф-та: {coef}, макс-ой глубины: {depth} и мин-го листа: {leaf} метрики равны:')\n",
    "                #             print(f'Accuracy = {acc:.3f}')\n",
    "                #             print(f'Recall = {recall:.3f}')\n",
    "                #             print(f'Precision = {precision:.3f}')\n",
    "                #             print(f'F1-score = {f1:.3f}')\n",
    "                #             print('')\n",
    "\n",
    "                d = {\n",
    "                    'Min_leafs':leaf,\n",
    "                    'Depth':depth,\n",
    "                    'crit':crit,\n",
    "                    'Coef':coef,\n",
    "                    'Accuracy':acc,\n",
    "                    'Recall':recall,\n",
    "                    'Precision':precision,\n",
    "                    'F1':f1,\n",
    "                    'AUC':AUC(y_test, tree.predict_proba(X_test))\n",
    "                }\n",
    "\n",
    "            df = df.append(d, ignore_index=True)\n",
    "df"
   ]
  },
  {
   "cell_type": "code",
   "execution_count": 267,
   "metadata": {
    "ExecuteTime": {
     "end_time": "2022-03-08T19:26:06.009015Z",
     "start_time": "2022-03-08T19:26:05.782127Z"
    }
   },
   "outputs": [
    {
     "data": {
      "image/png": "[encoded data removed]",
      "text/plain": [
       "<Figure size 432x288 with 1 Axes>"
      ]
     },
     "metadata": {
      "needs_background": "light"
     },
     "output_type": "display_data"
    }
   ],
   "source": [
    "sns.scatterplot(data=df, x='Coef', y='F1', hue='Depth', size='crit')\n",
    "df.to_csv('HyperParameters3.csv')"
   ]
  },
  {
   "cell_type": "markdown",
   "metadata": {},
   "source": [
    "Построенное дерево можно нарисовать. Метод `draw_tree` рисует дерево и сохраняет его в указанный файл."
   ]
  },
  {
   "cell_type": "code",
   "execution_count": 24,
   "metadata": {
    "ExecuteTime": {
     "end_time": "2022-03-09T09:22:37.560581Z",
     "start_time": "2022-03-09T09:22:37.554289Z"
    }
   },
   "outputs": [],
   "source": [
    "def tree_depth(tree_root):\n",
    "    if isinstance(tree_root, DecisionTreeNode):\n",
    "        return max(tree_depth(tree_root.left), tree_depth(tree_root.right)) + 1\n",
    "    else:\n",
    "        return 1\n",
    "\n",
    "def draw_tree_rec(tree_root, x_left, x_right, y):\n",
    "    x_center = (x_right - x_left) / 2 + x_left\n",
    "    if isinstance(tree_root, DecisionTreeNode):\n",
    "        x_center = (x_right - x_left) / 2 + x_left\n",
    "        x = draw_tree_rec(tree_root.left, x_left, x_center, y - 1)\n",
    "        plt.plot((x_center, x), (y - 0.1, y - 0.9), c=(0, 0, 0))\n",
    "        x = draw_tree_rec(tree_root.right, x_center, x_right, y - 1)\n",
    "        plt.plot((x_center, x), (y - 0.1, y - 0.9), c=(0, 0, 0))\n",
    "        plt.text(x_center, y, \"x[%i] < %f\" % (tree_root.split_dim, tree_root.split_value),\n",
    "                horizontalalignment='center')\n",
    "    else:\n",
    "        plt.text(x_center, y, str(tree_root.y),\n",
    "                horizontalalignment='center')\n",
    "    return x_center\n",
    "\n",
    "def draw_tree(tree, save_path=None):\n",
    "    td = tree_depth(tree.root)\n",
    "    plt.figure(figsize=(0.33 * 2 ** td, 2 * td))\n",
    "    plt.xlim(-1, 1)\n",
    "    plt.ylim(0.95, td + 0.05)\n",
    "    plt.axis('off')\n",
    "    draw_tree_rec(tree.root, -1, 1, td)\n",
    "#     plt.tight_layout()\n",
    "    if save_path is not None:\n",
    "        plt.savefig(save_path)\n",
    "#     plt.show()"
   ]
  },
  {
   "cell_type": "markdown",
   "metadata": {},
   "source": [
    "Для двумерного набора данных дерево можно отобразить на плоскости с данными. Кроме того, как и для любого классификатора, для него можно построить roc-кривую"
   ]
  },
  {
   "cell_type": "code",
   "execution_count": 25,
   "metadata": {
    "ExecuteTime": {
     "end_time": "2022-03-09T09:22:38.018999Z",
     "start_time": "2022-03-09T09:22:38.002731Z"
    }
   },
   "outputs": [],
   "source": [
    "def plot_roc_curve(y_test, p_pred):\n",
    "    positive_samples = sum(1 for y in y_test if y == 0)\n",
    "    tpr = []\n",
    "    fpr = []\n",
    "    for w in np.arange(-0.01, 1.02, 0.01):\n",
    "        y_pred = [(0 if p.get(0, 0) > w else 1) for p in p_pred]\n",
    "        tpr.append(sum(1 for yp, yt in zip(y_pred, y_test) if yp == 0 and yt == 0) / positive_samples)\n",
    "        fpr.append(sum(1 for yp, yt in zip(y_pred, y_test) if yp == 0 and yt != 0) / (len(y_test) - positive_samples))\n",
    "    plt.figure(figsize = (7, 7))\n",
    "    plt.plot(fpr, tpr)\n",
    "    plt.plot([0, 1], [0, 1], linestyle=\"--\")\n",
    "    plt.xlabel(\"False positive rate\")\n",
    "    plt.ylabel(\"True positive rate\")\n",
    "    plt.xlim(-0.01, 1.01)\n",
    "    plt.ylim(-0.01, 1.01)\n",
    "    plt.tight_layout()\n",
    "    plt.show()\n",
    "\n",
    "def rectangle_bounds(bounds):\n",
    "    return ((bounds[0][0], bounds[0][0], bounds[0][1], bounds[0][1]), \n",
    "            (bounds[1][0], bounds[1][1], bounds[1][1], bounds[1][0]))\n",
    "\n",
    "def plot_2d_tree(tree_root, bounds, colors):\n",
    "    if isinstance(tree_root, DecisionTreeNode):\n",
    "        if tree_root.split_dim:\n",
    "            plot_2d_tree(tree_root.left, [bounds[0], [bounds[1][0], tree_root.split_value]], colors)\n",
    "            plot_2d_tree(tree_root.right, [bounds[0], [tree_root.split_value, bounds[1][1]]], colors)\n",
    "            plt.plot(bounds[0], (tree_root.split_value, tree_root.split_value), c=(0, 0, 0))\n",
    "        else:\n",
    "            plot_2d_tree(tree_root.left, [[bounds[0][0], tree_root.split_value], bounds[1]], colors)\n",
    "            plot_2d_tree(tree_root.right, [[tree_root.split_value, bounds[0][1]], bounds[1]], colors)\n",
    "            plt.plot((tree_root.split_value, tree_root.split_value), bounds[1], c=(0, 0, 0))\n",
    "    else:\n",
    "        x, y = rectangle_bounds(bounds)\n",
    "        plt.fill(x, y, c=colors[tree_root.y] + [0.2])\n",
    "\n",
    "def plot_2d(tree, X, y):\n",
    "    plt.figure(figsize=(9, 9))\n",
    "    colors = dict((c, list(np.random.random(3))) for c in np.unique(y))\n",
    "    bounds = list(zip(np.min(X, axis=0), np.max(X, axis=0)))\n",
    "    plt.xlim(*bounds[0])\n",
    "    plt.ylim(*bounds[1])\n",
    "    plot_2d_tree(tree.root, list(zip(np.min(X, axis=0), np.max(X, axis=0))), colors)\n",
    "    for c in np.unique(y):\n",
    "        plt.scatter(X[y==c, 0], X[y==c, 1], c=[colors[c]], label=c)\n",
    "    plt.legend()\n",
    "    plt.tight_layout()\n",
    "    plt.show()\n"
   ]
  },
  {
   "cell_type": "markdown",
   "metadata": {},
   "source": [
    "## Задание 4 (2 балла)"
   ]
  },
  {
   "cell_type": "markdown",
   "metadata": {},
   "source": [
    "Протестируйте решение на датасете spam.\n",
    "Для этой задачи используйте данные x_spam_train и y_spam_train:\n",
    "1. Выполните загрузку и предобработку файлов x_spam_train и y_spam_train.\n",
    "2. Разбейте x_spam_train и y_spam_train на x_train, y_train, x_test и y_test для оценки точности работы алгоритма.\n",
    "3. Посчитайте метрики `precision`, `recall`, `accuracy` для модели Decision Tree. Если необходимо, попробуйте разные наборы параметров для получения лучшего результата.\n",
    "4. Сравните значения метрик с результатами модели kNN из предыдущего задания (можно использовать реализацию из библиотеки `sklearn`).\n",
    "5. Ответьте на следующие вопросы:\n",
    "    - Какой нужен препроцессинг данных для моделей?\n",
    "    - Какая модель делает предсказания лучше?  Предположите, почему."
   ]
  },
  {
   "cell_type": "markdown",
   "metadata": {},
   "source": [
    "_Ваш ответ_"
   ]
  },
  {
   "cell_type": "code",
   "execution_count": 26,
   "metadata": {
    "ExecuteTime": {
     "end_time": "2022-03-09T09:22:39.815896Z",
     "start_time": "2022-03-09T09:22:39.810993Z"
    }
   },
   "outputs": [],
   "source": [
    "from sklearn.metrics import accuracy_score, recall_score, precision_score, f1_score\n",
    "\n",
    "from sklearn.neighbors import KNeighborsClassifier"
   ]
  },
  {
   "cell_type": "code",
   "execution_count": 33,
   "metadata": {
    "ExecuteTime": {
     "end_time": "2022-03-09T09:27:05.715575Z",
     "start_time": "2022-03-09T09:26:53.239020Z"
    }
   },
   "outputs": [
    {
     "name": "stdout",
     "output_type": "stream",
     "text": [
      "Для коэф-та: 0.3, макс-ой глубины: 5 и мин-го листа: 30 метрики равны:\n",
      "Accuracy = 0.834\n",
      "Recall = 0.641\n",
      "Precision = 0.915\n",
      "F1-score = 0.754\n",
      "\n"
     ]
    },
    {
     "data": {
      "image/png": "[encoded data removed]",
      "text/plain": [
       "<Figure size 504x504 with 1 Axes>"
      ]
     },
     "metadata": {
      "needs_background": "light"
     },
     "output_type": "display_data"
    }
   ],
   "source": [
    "coef = 0.3\n",
    "\n",
    "df_X = pd.read_csv('x_spam_train.csv').drop('Id', axis=1)\n",
    "df_y = pd.read_csv('y_spam_train.csv').drop('Id', axis=1)\n",
    "\n",
    "N = round(len(df_X)*coef)\n",
    "X = np.array(df_X.iloc[:N])\n",
    "y = np.array(df_y.iloc[:N])\n",
    "\n",
    "X_test = np.array(df_X.iloc[N:])\n",
    "y_test = np.array(df_y.iloc[N:]).reshape(len(X_test),)\n",
    "\n",
    "tree = DecisionTreeClassifier(max_depth=7, min_samples_leaf=1)\n",
    "tree.fit(X, y)\n",
    "\n",
    "y_pred = tree.predict(X_test)\n",
    "\n",
    "acc = accuracy_score(y_test, y_pred)\n",
    "recall = recall_score(y_test, y_pred)\n",
    "precision = precision_score(y_test, y_pred)\n",
    "f1 = f1_score(y_test, y_pred)\n",
    "print(f'Для коэф-та: {coef}, макс-ой глубины: {5} и мин-го листа: {30} метрики равны:')\n",
    "print(f'Accuracy = {acc:.3f}')\n",
    "print(f'Recall = {recall:.3f}')\n",
    "print(f'Precision = {precision:.3f}')\n",
    "print(f'F1-score = {f1:.3f}')\n",
    "print('')\n",
    "\n",
    "plot_roc_curve(y_test, tree.predict_proba(X_test))\n",
    "# draw_tree(tree)"
   ]
  },
  {
   "cell_type": "markdown",
   "metadata": {},
   "source": [
    "1. Обучите модель на всех данных из x_spam_train и y_spam_train.\n",
    "2. Сделайте submit своего решения и получите значение f1_score не менее 0.6"
   ]
  },
  {
   "cell_type": "code",
   "execution_count": null,
   "metadata": {
    "pycharm": {
     "name": "#%%\n"
    }
   },
   "outputs": [],
   "source": [
    "submission = pd.DataFrame(columns = [\"Id\", \"Expected\"])\n",
    "submission[\"Id\"] = test[\"Id\"]\n",
    "submission[\"Expected\"] = #YOUR CODE\n",
    "submission.to_csv('submission.csv', index=False)\n"
   ]
  }
 ],
 "metadata": {
  "kernelspec": {
   "display_name": "Python 3 (ipykernel)",
   "language": "python",
   "name": "python3"
  },
  "language_info": {
   "codemirror_mode": {
    "name": "ipython",
    "version": 3
   },
   "file_extension": ".py",
   "mimetype": "text/x-python",
   "name": "python",
   "nbconvert_exporter": "python",
   "pygments_lexer": "ipython3",
   "version": "3.9.7"
  },
  "toc": {
   "base_numbering": 1,
   "nav_menu": {},
   "number_sections": true,
   "sideBar": true,
   "skip_h1_title": false,
   "title_cell": "Table of Contents",
   "title_sidebar": "Contents",
   "toc_cell": false,
   "toc_position": {},
   "toc_section_display": true,
   "toc_window_display": false
  },
  "varInspector": {
   "cols": {
    "lenName": 16,
    "lenType": 16,
    "lenVar": 40
   },
   "kernels_config": {
    "python": {
     "delete_cmd_postfix": "",
     "delete_cmd_prefix": "del ",
     "library": "var_list.py",
     "varRefreshCmd": "print(var_dic_list())"
    },
    "r": {
     "delete_cmd_postfix": ") ",
     "delete_cmd_prefix": "rm(",
     "library": "var_list.r",
     "varRefreshCmd": "cat(var_dic_list()) "
    }
   },
   "types_to_exclude": [
    "module",
    "function",
    "builtin_function_or_method",
    "instance",
    "_Feature"
   ],
   "window_display": false
  }
 },
 "nbformat": 4,
 "nbformat_minor": 2
}
