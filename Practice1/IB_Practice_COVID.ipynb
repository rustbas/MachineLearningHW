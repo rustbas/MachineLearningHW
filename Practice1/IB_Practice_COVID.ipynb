{
 "cells": [
  {
   "cell_type": "markdown",
   "metadata": {
    "id": "BfLjxv-h7nVh"
   },
   "source": [
    "# Предсказание активности молекул по отношению к таргету\n",
    "\n",
    "*При подготовке ноутбука использовались данные из соревнования [Global AI Challenge](https://codenrock.com/contests/global-ai#/)* "
   ]
  },
  {
   "cell_type": "markdown",
   "metadata": {
    "id": "4Mesk6L-WEOS"
   },
   "source": [
    "Целью данной задачи является предсказание активности молекулы лиганда по отношению к таргету - Covid 19"
   ]
  },
  {
   "cell_type": "markdown",
   "metadata": {
    "id": "VGti6b5XvgZP"
   },
   "source": [
    "![](https://cloudfront.jove.com/files/media/science-education/science-education-thumbs/11513.jpg)"
   ]
  },
  {
   "cell_type": "markdown",
   "metadata": {
    "id": "hjme9vCGPeoR"
   },
   "source": [
    "## План анализа данных:\n",
    "\n",
    "  1. Загрузить данные для обучения\n",
    "  2. Обработать данные перед обучением модели\n",
    "  3. Обучить модель на обучающей выборке\n",
    "  4. Загрузить и предобработать данные для тестирования\n",
    "  5. Провалидировать модель на тестовой выборке\n"
   ]
  },
  {
   "cell_type": "markdown",
   "metadata": {
    "id": "yLs9g1vq7nVl"
   },
   "source": [
    "# 0. Установка и импорт библиотек"
   ]
  },
  {
   "cell_type": "raw",
   "metadata": {
    "ExecuteTime": {
     "end_time": "2022-03-22T21:07:18.818120Z",
     "start_time": "2022-03-22T21:07:15.328857Z"
    },
    "colab": {
     "base_uri": "https://localhost:8080/"
    },
    "id": "4yv5A2IvYvgW",
    "outputId": "3d3d630e-4ec8-4163-b6f3-c6b04b395063"
   },
   "source": [
    "# Grab Jaime's excellent condacolab package: https://github.com/jaimergp/condacolab\n",
    "# Note: you should probably read the README file at that repo.\n",
    "!pip install -q condacolab\n",
    "import condacolab\n",
    "condacolab.install()"
   ]
  },
  {
   "cell_type": "raw",
   "metadata": {
    "ExecuteTime": {
     "end_time": "2022-03-22T21:12:55.518538Z",
     "start_time": "2022-03-22T21:07:47.228624Z"
    },
    "colab": {
     "base_uri": "https://localhost:8080/"
    },
    "id": "vgb8zsYnYwQ2",
    "outputId": "99019d38-a44d-47cb-862c-97e4c5e8b3fe"
   },
   "source": [
    "!mamba install -c conda-forge rdkit chembl_structure_pipeline"
   ]
  },
  {
   "cell_type": "raw",
   "metadata": {
    "ExecuteTime": {
     "end_time": "2022-03-22T21:13:08.452312Z",
     "start_time": "2022-03-22T21:12:58.056480Z"
    },
    "colab": {
     "base_uri": "https://localhost:8080/",
     "height": 1000
    },
    "id": "aGLsE-6Di2CT",
    "outputId": "2db24831-e1c5-4378-bd49-15a3818a48cd"
   },
   "source": [
    "!pip install  dgl\n",
    "!pip install dgllife"
   ]
  },
  {
   "cell_type": "code",
   "execution_count": 1,
   "metadata": {
    "ExecuteTime": {
     "end_time": "2022-03-23T10:24:23.858745Z",
     "start_time": "2022-03-23T10:24:23.013706Z"
    },
    "id": "qR-1lYPb7nVm"
   },
   "outputs": [],
   "source": [
    "# Python ≥3.5 is required\n",
    "import sys\n",
    "assert sys.version_info >= (3, 5)\n",
    "\n",
    "# Scikit-Learn ≥0.20 is required\n",
    "import sklearn\n",
    "assert sklearn.__version__ >= \"0.20\"\n",
    "\n",
    "# Common imports\n",
    "import numpy as np\n",
    "import os\n",
    "\n",
    "# To plot pretty figures\n",
    "%matplotlib inline\n",
    "import matplotlib as mpl\n",
    "import matplotlib.pyplot as plt\n",
    "mpl.rc('axes', labelsize=14)\n",
    "mpl.rc('xtick', labelsize=12)\n",
    "mpl.rc('ytick', labelsize=12)\n",
    "\n",
    "# Where to save the figures\n",
    "PROJECT_ROOT_DIR = \".\"\n",
    "CHAPTER_ID = \"end_to_end_project\"\n",
    "IMAGES_PATH = os.path.join(PROJECT_ROOT_DIR, \"images\", CHAPTER_ID)\n",
    "os.makedirs(IMAGES_PATH, exist_ok=True)\n",
    "\n",
    "def save_fig(fig_id, tight_layout=True, fig_extension=\"png\", resolution=300):\n",
    "    path = os.path.join(IMAGES_PATH, fig_id + \".\" + fig_extension)\n",
    "    print(\"Saving figure\", fig_id)\n",
    "    if tight_layout:\n",
    "        plt.tight_layout()\n",
    "    plt.savefig(path, format=fig_extension, dpi=resolution)"
   ]
  },
  {
   "cell_type": "code",
   "execution_count": null,
   "metadata": {
    "id": "G1YPwYLTdBjG"
   },
   "outputs": [],
   "source": []
  },
  {
   "cell_type": "markdown",
   "metadata": {
    "id": "mkKx4rBe7nVn"
   },
   "source": [
    "# 1. Загрузка данных"
   ]
  },
  {
   "cell_type": "code",
   "execution_count": 2,
   "metadata": {
    "ExecuteTime": {
     "end_time": "2022-03-23T10:24:34.624223Z",
     "start_time": "2022-03-23T10:24:28.856160Z"
    },
    "colab": {
     "base_uri": "https://localhost:8080/"
    },
    "id": "iu4_4vH5U-b_",
    "outputId": "2241c70f-b678-4750-9021-2b0ea8b775e9"
   },
   "outputs": [],
   "source": [
    "!wget https://www.dropbox.com/s/48c34raijlxc0nw/train.csv -O train.csv 2> /dev/null\n",
    "!wget https://www.dropbox.com/s/297trreazro8ivr/test_labels.csv -O test_labels.csv 2> /dev/null"
   ]
  },
  {
   "cell_type": "code",
   "execution_count": 3,
   "metadata": {
    "ExecuteTime": {
     "end_time": "2022-03-23T10:24:34.643000Z",
     "start_time": "2022-03-23T10:24:34.639828Z"
    },
    "id": "2Vb2iXqFVlIv"
   },
   "outputs": [],
   "source": [
    "DATA_PATH = \"./\"\n",
    "TRAIN_FILE = \"train.csv\"\n",
    "TEST_FILE = \"test_labels.csv\"\n",
    "\n",
    "SMILES_COLUMN = \"smiles\"\n",
    "TARGET_COLUMN = \"Active\""
   ]
  },
  {
   "cell_type": "code",
   "execution_count": 4,
   "metadata": {
    "ExecuteTime": {
     "end_time": "2022-03-23T10:24:34.923611Z",
     "start_time": "2022-03-23T10:24:34.658120Z"
    },
    "id": "Wo7p7rlh7nVp"
   },
   "outputs": [],
   "source": [
    "import pandas as pd\n",
    "\n",
    "def load_train_test_data():\n",
    "    train_csv_path = os.path.join(DATA_PATH, TRAIN_FILE)\n",
    "    test_csv_path = os.path.join(DATA_PATH, TEST_FILE)\n",
    "    train_data = pd.read_csv(train_csv_path, index_col = 0)\n",
    "    test_data = pd.read_csv(test_csv_path,index_col = 0)\n",
    "    return train_data.rename(columns = {\"Smiles\":SMILES_COLUMN}), test_data.rename(columns = {\"Smiles\":SMILES_COLUMN})"
   ]
  },
  {
   "cell_type": "markdown",
   "metadata": {
    "id": "d5FULuFD7nVq"
   },
   "source": [
    "## 1.1 Анализ данных, формулировка задачи машинного обучения"
   ]
  },
  {
   "cell_type": "markdown",
   "metadata": {
    "id": "rR7a3bjKYXMg"
   },
   "source": [
    "Молекулы представлены в виде [SMILES нотации](https://en.wikipedia.org/wiki/Simplified_molecular-input_line-entry_system).\n",
    "\n",
    "![](https://upload.wikimedia.org/wikipedia/commons/thumb/0/00/SMILES.png/450px-SMILES.png)"
   ]
  },
  {
   "cell_type": "code",
   "execution_count": 5,
   "metadata": {
    "ExecuteTime": {
     "end_time": "2022-03-23T10:24:34.959821Z",
     "start_time": "2022-03-23T10:24:34.939518Z"
    },
    "colab": {
     "base_uri": "https://localhost:8080/",
     "height": 206
    },
    "id": "SFPTy2uU7nVq",
    "outputId": "2c9eed79-70d9-41c6-eb12-121abca8f7a4"
   },
   "outputs": [
    {
     "data": {
      "text/html": [
       "<div>\n",
       "<style scoped>\n",
       "    .dataframe tbody tr th:only-of-type {\n",
       "        vertical-align: middle;\n",
       "    }\n",
       "\n",
       "    .dataframe tbody tr th {\n",
       "        vertical-align: top;\n",
       "    }\n",
       "\n",
       "    .dataframe thead th {\n",
       "        text-align: right;\n",
       "    }\n",
       "</style>\n",
       "<table border=\"1\" class=\"dataframe\">\n",
       "  <thead>\n",
       "    <tr style=\"text-align: right;\">\n",
       "      <th></th>\n",
       "      <th>smiles</th>\n",
       "      <th>Active</th>\n",
       "    </tr>\n",
       "  </thead>\n",
       "  <tbody>\n",
       "    <tr>\n",
       "      <th>0</th>\n",
       "      <td>COc1ccc2[nH]cc(CCN)c2c1</td>\n",
       "      <td>False</td>\n",
       "    </tr>\n",
       "    <tr>\n",
       "      <th>1</th>\n",
       "      <td>CCCN1CCC[C@H](c2cccc(O)c2)C1.Cl</td>\n",
       "      <td>False</td>\n",
       "    </tr>\n",
       "    <tr>\n",
       "      <th>2</th>\n",
       "      <td>O=C(NO)c1cnc(N2CCN(S(=O)(=O)c3ccc4ccccc4c3)CC2...</td>\n",
       "      <td>False</td>\n",
       "    </tr>\n",
       "    <tr>\n",
       "      <th>3</th>\n",
       "      <td>Nc1cccc(CNC(=O)c2ccc(Oc3ccc(OCc4cccc(F)c4)cc3)...</td>\n",
       "      <td>False</td>\n",
       "    </tr>\n",
       "    <tr>\n",
       "      <th>4</th>\n",
       "      <td>Fc1ccccc1CNCc1ccc(-c2ccnc3[nH]ccc23)cc1</td>\n",
       "      <td>False</td>\n",
       "    </tr>\n",
       "  </tbody>\n",
       "</table>\n",
       "</div>"
      ],
      "text/plain": [
       "                                              smiles  Active\n",
       "0                            COc1ccc2[nH]cc(CCN)c2c1   False\n",
       "1                    CCCN1CCC[C@H](c2cccc(O)c2)C1.Cl   False\n",
       "2  O=C(NO)c1cnc(N2CCN(S(=O)(=O)c3ccc4ccccc4c3)CC2...   False\n",
       "3  Nc1cccc(CNC(=O)c2ccc(Oc3ccc(OCc4cccc(F)c4)cc3)...   False\n",
       "4            Fc1ccccc1CNCc1ccc(-c2ccnc3[nH]ccc23)cc1   False"
      ]
     },
     "execution_count": 5,
     "metadata": {},
     "output_type": "execute_result"
    }
   ],
   "source": [
    "train_data, test_data = load_train_test_data()\n",
    "train_data.head()"
   ]
  },
  {
   "cell_type": "code",
   "execution_count": 6,
   "metadata": {
    "ExecuteTime": {
     "end_time": "2022-03-23T10:24:35.003477Z",
     "start_time": "2022-03-23T10:24:34.994691Z"
    },
    "colab": {
     "base_uri": "https://localhost:8080/"
    },
    "id": "0LgIX7sO7nVr",
    "outputId": "0d3b27f7-c603-4517-cc3e-231d2e6bd4fa"
   },
   "outputs": [
    {
     "name": "stdout",
     "output_type": "stream",
     "text": [
      "<class 'pandas.core.frame.DataFrame'>\n",
      "Int64Index: 5557 entries, 0 to 5556\n",
      "Data columns (total 2 columns):\n",
      " #   Column  Non-Null Count  Dtype \n",
      "---  ------  --------------  ----- \n",
      " 0   smiles  5557 non-null   object\n",
      " 1   Active  5557 non-null   bool  \n",
      "dtypes: bool(1), object(1)\n",
      "memory usage: 92.3+ KB\n"
     ]
    }
   ],
   "source": [
    "train_data.info()"
   ]
  },
  {
   "cell_type": "code",
   "execution_count": 7,
   "metadata": {
    "ExecuteTime": {
     "end_time": "2022-03-23T10:24:35.034847Z",
     "start_time": "2022-03-23T10:24:35.030640Z"
    },
    "colab": {
     "base_uri": "https://localhost:8080/"
    },
    "id": "E4y37kGY7nVr",
    "outputId": "37ef9f12-b2ae-4a18-f2bd-acb49e033caa"
   },
   "outputs": [
    {
     "data": {
      "text/plain": [
       "False    5351\n",
       "True      206\n",
       "Name: Active, dtype: int64"
      ]
     },
     "execution_count": 7,
     "metadata": {},
     "output_type": "execute_result"
    }
   ],
   "source": [
    "train_data[TARGET_COLUMN].value_counts()"
   ]
  },
  {
   "cell_type": "markdown",
   "metadata": {
    "id": "dGqDoviDYJT7"
   },
   "source": [
    "## 1.2 Предобработка данных"
   ]
  },
  {
   "cell_type": "code",
   "execution_count": 8,
   "metadata": {
    "ExecuteTime": {
     "end_time": "2022-03-23T10:24:35.180337Z",
     "start_time": "2022-03-23T10:24:35.088854Z"
    },
    "id": "f92T0U7FY2RJ"
   },
   "outputs": [],
   "source": [
    "from rdkit import Chem\n",
    "from rdkit.Chem.SaltRemover import SaltRemover"
   ]
  },
  {
   "cell_type": "code",
   "execution_count": 9,
   "metadata": {
    "ExecuteTime": {
     "end_time": "2022-03-23T10:24:35.216029Z",
     "start_time": "2022-03-23T10:24:35.210722Z"
    },
    "id": "fftxIeZvYN9D"
   },
   "outputs": [],
   "source": [
    "def remove_salts_and_canonicalized(smiles: str):\n",
    "    remover = SaltRemover(defnData=\"[Cl,Br]\")\n",
    "    mol = Chem.MolFromSmiles(smiles)\n",
    "    res = remover.StripMol(mol)\n",
    "    processed_smiles = Chem.MolToSmiles(res)\n",
    "    return processed_smiles"
   ]
  },
  {
   "cell_type": "code",
   "execution_count": 10,
   "metadata": {
    "ExecuteTime": {
     "end_time": "2022-03-23T10:24:38.269810Z",
     "start_time": "2022-03-23T10:24:35.256898Z"
    },
    "id": "JPxDUTZ3bX50"
   },
   "outputs": [],
   "source": [
    "train_data[SMILES_COLUMN] = list(map(remove_salts_and_canonicalized, train_data[SMILES_COLUMN]))\n",
    "test_data[SMILES_COLUMN] = list(map(remove_salts_and_canonicalized, test_data[SMILES_COLUMN]))"
   ]
  },
  {
   "cell_type": "code",
   "execution_count": 11,
   "metadata": {
    "ExecuteTime": {
     "end_time": "2022-03-23T10:24:38.311080Z",
     "start_time": "2022-03-23T10:24:38.308527Z"
    },
    "id": "OalSNSQJbnRy"
   },
   "outputs": [],
   "source": [
    "def change_str_target_to_int(targets: pd.Series):\n",
    "  target_map = {True: 1, False: 0}\n",
    "  processed_targets = targets.map(target_map)\n",
    "  return processed_targets.values"
   ]
  },
  {
   "cell_type": "code",
   "execution_count": 12,
   "metadata": {
    "ExecuteTime": {
     "end_time": "2022-03-23T10:24:38.384043Z",
     "start_time": "2022-03-23T10:24:38.377875Z"
    },
    "id": "TV2SVaBvbyCJ"
   },
   "outputs": [],
   "source": [
    "train_data[TARGET_COLUMN] = change_str_target_to_int(train_data[TARGET_COLUMN])\n",
    "test_data[TARGET_COLUMN] = change_str_target_to_int(test_data[TARGET_COLUMN])"
   ]
  },
  {
   "cell_type": "code",
   "execution_count": 13,
   "metadata": {
    "ExecuteTime": {
     "end_time": "2022-03-23T10:24:38.462198Z",
     "start_time": "2022-03-23T10:24:38.447251Z"
    },
    "colab": {
     "base_uri": "https://localhost:8080/",
     "height": 206
    },
    "id": "qYUE5SVJb74V",
    "outputId": "d18a3c37-683c-44e7-c447-db7a0002b8de"
   },
   "outputs": [
    {
     "data": {
      "text/html": [
       "<div>\n",
       "<style scoped>\n",
       "    .dataframe tbody tr th:only-of-type {\n",
       "        vertical-align: middle;\n",
       "    }\n",
       "\n",
       "    .dataframe tbody tr th {\n",
       "        vertical-align: top;\n",
       "    }\n",
       "\n",
       "    .dataframe thead th {\n",
       "        text-align: right;\n",
       "    }\n",
       "</style>\n",
       "<table border=\"1\" class=\"dataframe\">\n",
       "  <thead>\n",
       "    <tr style=\"text-align: right;\">\n",
       "      <th></th>\n",
       "      <th>smiles</th>\n",
       "      <th>Active</th>\n",
       "    </tr>\n",
       "  </thead>\n",
       "  <tbody>\n",
       "    <tr>\n",
       "      <th>0</th>\n",
       "      <td>COc1ccc2[nH]cc(CCN)c2c1</td>\n",
       "      <td>0</td>\n",
       "    </tr>\n",
       "    <tr>\n",
       "      <th>1</th>\n",
       "      <td>CCCN1CCC[C@H](c2cccc(O)c2)C1</td>\n",
       "      <td>0</td>\n",
       "    </tr>\n",
       "    <tr>\n",
       "      <th>2</th>\n",
       "      <td>O=C(NO)c1cnc(N2CCN(S(=O)(=O)c3ccc4ccccc4c3)CC2...</td>\n",
       "      <td>0</td>\n",
       "    </tr>\n",
       "    <tr>\n",
       "      <th>3</th>\n",
       "      <td>Nc1cccc(CNC(=O)c2ccc(Oc3ccc(OCc4cccc(F)c4)cc3)...</td>\n",
       "      <td>0</td>\n",
       "    </tr>\n",
       "    <tr>\n",
       "      <th>4</th>\n",
       "      <td>Fc1ccccc1CNCc1ccc(-c2ccnc3[nH]ccc23)cc1</td>\n",
       "      <td>0</td>\n",
       "    </tr>\n",
       "  </tbody>\n",
       "</table>\n",
       "</div>"
      ],
      "text/plain": [
       "                                              smiles  Active\n",
       "0                            COc1ccc2[nH]cc(CCN)c2c1       0\n",
       "1                       CCCN1CCC[C@H](c2cccc(O)c2)C1       0\n",
       "2  O=C(NO)c1cnc(N2CCN(S(=O)(=O)c3ccc4ccccc4c3)CC2...       0\n",
       "3  Nc1cccc(CNC(=O)c2ccc(Oc3ccc(OCc4cccc(F)c4)cc3)...       0\n",
       "4            Fc1ccccc1CNCc1ccc(-c2ccnc3[nH]ccc23)cc1       0"
      ]
     },
     "execution_count": 13,
     "metadata": {},
     "output_type": "execute_result"
    }
   ],
   "source": [
    "train_data.head()"
   ]
  },
  {
   "cell_type": "markdown",
   "metadata": {
    "id": "VA5cvAMB7nV0"
   },
   "source": [
    "## 1.3 Feature engineering"
   ]
  },
  {
   "cell_type": "markdown",
   "metadata": {
    "id": "eapoisincy5y"
   },
   "source": [
    "Молекулу можно представить в виде фингерпринта - вектора свойств, полученного по определенному алгоритму.\n",
    "\n",
    "Мы будем считать фингерпринты при помощи библиотеки RDKit. Про различные фингерпринты и их описание можно почитать тут - https://www.rdkit.org/docs/GettingStartedInPython.html#fingerprinting-and-molecular-similarity\n",
    "\n",
    "![](https://sun9-64.userapi.com/impf/_8Zy5WO6Mt0SIPx1YS02DeErAoZ0RHcwgc-kZg/Md98bNVzBg0.jpg?size=831x415&quality=96&sign=cb20481128a04ff523fd662dd0e604ab&type=album)\n"
   ]
  },
  {
   "cell_type": "markdown",
   "metadata": {
    "id": "JGRmKT4GfZhO"
   },
   "source": [
    "### Моргановские фингерпринты (ECFP)\n",
    "\n",
    "![](https://d3i71xaburhd42.cloudfront.net/52adf3589e8b7b9855353e5815669258ef6e3405/6-Figure2-1.png)"
   ]
  },
  {
   "cell_type": "code",
   "execution_count": 14,
   "metadata": {
    "ExecuteTime": {
     "end_time": "2022-03-23T10:24:39.874755Z",
     "start_time": "2022-03-23T10:24:39.835336Z"
    },
    "id": "s_dhJG0hcjar"
   },
   "outputs": [],
   "source": [
    "from enum import Enum\n",
    "from functools import partial\n",
    "from rdkit import Chem, DataStructs\n",
    "from rdkit.DataStructs import ExplicitBitVect\n",
    "from rdkit.Chem import AllChem, MACCSkeys\n",
    "from typing import List\n"
   ]
  },
  {
   "cell_type": "code",
   "execution_count": 15,
   "metadata": {
    "ExecuteTime": {
     "end_time": "2022-03-23T10:24:40.285097Z",
     "start_time": "2022-03-23T10:24:40.281278Z"
    },
    "id": "fDAw132ncV1z"
   },
   "outputs": [],
   "source": [
    "class FingerprintsNames(Enum):\n",
    "    ECFP4 = \"morgan_2_2048\"\n",
    "    RDKitFP = \"RDKFingerprint\"\n",
    "    TOPOTORSION = \"topological_torsion\"\n",
    "    MACCS = \"MACCSkeys\"\n",
    "    PATTERN = \"PatternFingerprint\"\n",
    "    ATOMPAIR = \"AtomPairFingerprint\"\n",
    "\n",
    "\n",
    "\n",
    "FINGERPRINTS_METHODS = {\n",
    "    FingerprintsNames.ECFP4: partial(AllChem.GetMorganFingerprintAsBitVect, radius=2, nBits=2048),\n",
    "    FingerprintsNames.RDKitFP: Chem.RDKFingerprint,#TODO\n",
    "    FingerprintsNames.TOPOTORSION: AllChem.GetHashedTopologicalTorsionFingerprintAsBitVect,#TODO\n",
    "    FingerprintsNames.MACCS: MACCSkeys.GenMACCSKeys,#TODO\n",
    "    FingerprintsNames.PATTERN: Chem.PatternFingerprint,#TODO\n",
    "    FingerprintsNames.ATOMPAIR: AllChem.GetHashedAtomPairFingerprintAsBitVect}#TODO\n"
   ]
  },
  {
   "cell_type": "code",
   "execution_count": 16,
   "metadata": {
    "ExecuteTime": {
     "end_time": "2022-03-23T10:24:41.459640Z",
     "start_time": "2022-03-23T10:24:41.457597Z"
    },
    "id": "JenRUlnqftff"
   },
   "outputs": [],
   "source": [
    "fingerprint_type_name = FingerprintsNames.ECFP4\n",
    "fingerprint_type_method = FINGERPRINTS_METHODS[fingerprint_type_name]"
   ]
  },
  {
   "cell_type": "code",
   "execution_count": 17,
   "metadata": {
    "ExecuteTime": {
     "end_time": "2022-03-23T10:24:41.730489Z",
     "start_time": "2022-03-23T10:24:41.725578Z"
    },
    "id": "gq0LMqS_f3IS"
   },
   "outputs": [],
   "source": [
    "def bit_vectors_to_numpy_arrays(fps: List[ExplicitBitVect]) -> np.array:\n",
    "    output_arrays = [np.zeros((1,)) for i in range(len(fps))]\n",
    "    _ = list(\n",
    "        map(lambda fp_output_array: DataStructs.ConvertToNumpyArray(fp_output_array[0], fp_output_array[1]),\n",
    "            zip(fps, output_arrays)))\n",
    "    return np.asarray(output_arrays)\n",
    "\n",
    "def get_np_array_of_fps(fp_type, smiles: List[str]):\n",
    "    # Calculate the morgan fingerprint\n",
    "    mols = [Chem.MolFromSmiles(m) for m in smiles]\n",
    "    fp = list(map(fp_type, mols))\n",
    "    return bit_vectors_to_numpy_arrays(fp)"
   ]
  },
  {
   "cell_type": "code",
   "execution_count": 18,
   "metadata": {
    "ExecuteTime": {
     "end_time": "2022-03-23T10:24:44.586175Z",
     "start_time": "2022-03-23T10:24:42.725016Z"
    },
    "id": "51QDqlK9gIPL"
   },
   "outputs": [],
   "source": [
    "train_fp = get_np_array_of_fps(fp_type=fingerprint_type_method, smiles=train_data[SMILES_COLUMN])\n",
    "test_fp = get_np_array_of_fps(fp_type=fingerprint_type_method, smiles=test_data[SMILES_COLUMN])"
   ]
  },
  {
   "cell_type": "code",
   "execution_count": 19,
   "metadata": {
    "ExecuteTime": {
     "end_time": "2022-03-23T10:24:44.630413Z",
     "start_time": "2022-03-23T10:24:44.628115Z"
    },
    "id": "UazJXd7ihDaN"
   },
   "outputs": [],
   "source": [
    "y_train = train_data[TARGET_COLUMN]\n",
    "y_test = test_data[TARGET_COLUMN]"
   ]
  },
  {
   "cell_type": "markdown",
   "metadata": {
    "id": "sxGZENW4iK12"
   },
   "source": [
    "# 2. Подготовка к обучению модели"
   ]
  },
  {
   "cell_type": "markdown",
   "metadata": {
    "id": "6Bb6GxjliWoo"
   },
   "source": [
    "## 2.1 Кросс-валидация"
   ]
  },
  {
   "cell_type": "markdown",
   "metadata": {
    "id": "ETyud6zkiWuL"
   },
   "source": [
    "![](https://pubs.rsc.org/image/article/2018/SC/c7sc02664a/c7sc02664a-f3_hi-res.gif)"
   ]
  },
  {
   "cell_type": "code",
   "execution_count": 20,
   "metadata": {
    "ExecuteTime": {
     "end_time": "2022-03-23T10:24:47.931145Z",
     "start_time": "2022-03-23T10:24:45.949371Z"
    },
    "id": "6ODko-1xjg-h"
   },
   "outputs": [
    {
     "name": "stderr",
     "output_type": "stream",
     "text": [
      "Using backend: pytorch\n"
     ]
    }
   ],
   "source": [
    "from dgllife.utils import ScaffoldSplitter"
   ]
  },
  {
   "cell_type": "code",
   "execution_count": 21,
   "metadata": {
    "ExecuteTime": {
     "end_time": "2022-03-23T10:24:47.978454Z",
     "start_time": "2022-03-23T10:24:47.974643Z"
    },
    "id": "HKRNnI7Gjaom"
   },
   "outputs": [],
   "source": [
    "class ScaffoldCVSklearn:\n",
    "    def __init__(self, data, k_folds):\n",
    "        self.scaffold_splits = ScaffoldSplitter.k_fold_split(data, k=k_folds)\n",
    "\n",
    "    def split(self):\n",
    "        indices_splits = []\n",
    "        for train_data, val_data in self.scaffold_splits:\n",
    "            train_indices = train_data.indices\n",
    "            val_indices = val_data.indices\n",
    "            indices_splits.append((train_indices, val_indices))\n",
    "        return indices_splits\n",
    "\n",
    "    def convert_data_to_indices(self, dataset):\n",
    "        indices = [index for index, row in dataset.iterrows()]\n",
    "        return indices\n"
   ]
  },
  {
   "cell_type": "code",
   "execution_count": 22,
   "metadata": {
    "ExecuteTime": {
     "end_time": "2022-03-23T10:24:50.107784Z",
     "start_time": "2022-03-23T10:24:48.015421Z"
    },
    "colab": {
     "base_uri": "https://localhost:8080/"
    },
    "id": "ZgtmVfTIjkYt",
    "outputId": "44b1767f-e0a7-41c4-f900-eeaaadb00e32"
   },
   "outputs": [
    {
     "name": "stdout",
     "output_type": "stream",
     "text": [
      "Start initializing RDKit molecule instances...\n",
      "Creating RDKit molecule instance 1000/5557\n",
      "Creating RDKit molecule instance 2000/5557\n",
      "Creating RDKit molecule instance 3000/5557\n",
      "Creating RDKit molecule instance 4000/5557\n",
      "Creating RDKit molecule instance 5000/5557\n",
      "Start computing Bemis-Murcko scaffolds.\n",
      "Computing Bemis-Murcko for compound 1000/5557\n",
      "Computing Bemis-Murcko for compound 2000/5557\n",
      "Computing Bemis-Murcko for compound 3000/5557\n",
      "Computing Bemis-Murcko for compound 4000/5557\n",
      "Computing Bemis-Murcko for compound 5000/5557\n",
      "Processing fold 1/3\n",
      "Processing fold 2/3\n",
      "Processing fold 3/3\n"
     ]
    }
   ],
   "source": [
    "cv = ScaffoldCVSklearn(train_data, k_folds=3).split()"
   ]
  },
  {
   "cell_type": "markdown",
   "metadata": {
    "id": "t3n2DNVWmGwy"
   },
   "source": [
    "## 2.2 Установка модели"
   ]
  },
  {
   "cell_type": "code",
   "execution_count": 23,
   "metadata": {
    "ExecuteTime": {
     "end_time": "2022-03-23T10:24:50.262963Z",
     "start_time": "2022-03-23T10:24:50.157219Z"
    },
    "id": "5r0a2xyzmXPb"
   },
   "outputs": [],
   "source": [
    "from xgboost import XGBClassifier"
   ]
  },
  {
   "cell_type": "code",
   "execution_count": 24,
   "metadata": {
    "ExecuteTime": {
     "end_time": "2022-03-23T10:24:50.498628Z",
     "start_time": "2022-03-23T10:24:50.496428Z"
    },
    "id": "UcNAbWj3mOsd"
   },
   "outputs": [],
   "source": [
    "xgb = XGBClassifier(learning_rate=0.02, n_estimators=600, nthread=1, use_label_encoder=False)"
   ]
  },
  {
   "cell_type": "code",
   "execution_count": 25,
   "metadata": {
    "ExecuteTime": {
     "end_time": "2022-03-23T10:24:51.519401Z",
     "start_time": "2022-03-23T10:24:51.516898Z"
    },
    "id": "2skyVQzSmFi7"
   },
   "outputs": [],
   "source": [
    "params = {\n",
    "        'max_depth': [10],#,20,30],\n",
    "        'n_estimators': [100]#200,300,400,500]\n",
    "    }"
   ]
  },
  {
   "cell_type": "markdown",
   "metadata": {
    "id": "p9LTIVUHmkKH"
   },
   "source": [
    "## 2.3 Поиск параметров"
   ]
  },
  {
   "cell_type": "code",
   "execution_count": 27,
   "metadata": {
    "ExecuteTime": {
     "end_time": "2022-03-23T10:25:21.709374Z",
     "start_time": "2022-03-23T10:25:21.706813Z"
    },
    "id": "kOZuGXzdmoGE"
   },
   "outputs": [],
   "source": [
    "from sklearn.model_selection import GridSearchCV\n",
    "grid_search = GridSearchCV(xgb, param_grid=params, scoring='accuracy', n_jobs=8,\n",
    "                               cv=cv, verbose=10)"
   ]
  },
  {
   "cell_type": "markdown",
   "metadata": {
    "id": "WAkjg3iAmvvI"
   },
   "source": [
    "# Подбор параметров модели"
   ]
  },
  {
   "cell_type": "code",
   "execution_count": 28,
   "metadata": {
    "ExecuteTime": {
     "end_time": "2022-03-23T10:27:04.546510Z",
     "start_time": "2022-03-23T10:25:22.222062Z"
    },
    "id": "zvUqvA2DuZh7"
   },
   "outputs": [
    {
     "name": "stdout",
     "output_type": "stream",
     "text": [
      "\n",
      " Start Grid Search\n",
      "Fitting 3 folds for each of 1 candidates, totalling 3 fits\n",
      "[13:26:08] WARNING: ../src/learner.cc:1115: Starting in XGBoost 1.3.0, the default evaluation metric used with the objective 'binary:logistic' was changed from 'error' to 'logloss'. Explicitly set eval_metric if you'd like to restore the old behavior.\n"
     ]
    },
    {
     "data": {
      "text/plain": [
       "GridSearchCV(cv=[([5, 6, 13, 81, 96, 126, 149, 160, 163, 175, 194, 196, 230,\n",
       "                   248, 260, 280, 283, 287, 301, 320, 329, 353, 392, 393, 394,\n",
       "                   409, 430, 443, 462, 490, ...],\n",
       "                  [22, 49, 52, 67, 103, 107, 154, 184, 188, 202, 214, 225, 226,\n",
       "                   229, 236, 254, 266, 292, 293, 302, 308, 313, 331, 382, 383,\n",
       "                   402, 454, 474, 477, 482, ...]),\n",
       "                 ([22, 49, 52, 67, 103, 107, 154, 184, 188, 202, 214, 225, 226,\n",
       "                   229, 236, 254, 266, 292, 293, 302, 308, 313, 331,...\n",
       "                                     missing=nan, monotone_constraints=None,\n",
       "                                     n_estimators=600, n_jobs=None, nthread=1,\n",
       "                                     num_parallel_tree=None, predictor=None,\n",
       "                                     random_state=None, reg_alpha=None,\n",
       "                                     reg_lambda=None, scale_pos_weight=None,\n",
       "                                     subsample=None, tree_method=None,\n",
       "                                     use_label_encoder=False,\n",
       "                                     validate_parameters=None, verbosity=None),\n",
       "             n_jobs=8, param_grid={'max_depth': [10], 'n_estimators': [100]},\n",
       "             scoring='accuracy', verbose=10)"
      ]
     },
     "execution_count": 28,
     "metadata": {},
     "output_type": "execute_result"
    }
   ],
   "source": [
    "print('\\n Start Grid Search')\n",
    "grid_search.fit(train_fp, y_train)"
   ]
  },
  {
   "cell_type": "code",
   "execution_count": 29,
   "metadata": {
    "ExecuteTime": {
     "end_time": "2022-03-23T10:27:04.822925Z",
     "start_time": "2022-03-23T10:27:04.805633Z"
    },
    "colab": {
     "base_uri": "https://localhost:8080/"
    },
    "id": "_jjCU96JmuFR",
    "outputId": "f798992a-ef3d-46b9-f80e-1935801a5c44"
   },
   "outputs": [
    {
     "name": "stdout",
     "output_type": "stream",
     "text": [
      "\n",
      " All results:\n",
      "{'mean_fit_time': array([43.25048828]), 'std_fit_time': array([0.47569976]), 'mean_score_time': array([0.07785447]), 'std_score_time': array([0.01606973]), 'param_max_depth': masked_array(data=[10],\n",
      "             mask=[False],\n",
      "       fill_value='?',\n",
      "            dtype=object), 'param_n_estimators': masked_array(data=[100],\n",
      "             mask=[False],\n",
      "       fill_value='?',\n",
      "            dtype=object), 'params': [{'max_depth': 10, 'n_estimators': 100}], 'split0_test_score': array([0.95412844]), 'split1_test_score': array([0.96706263]), 'split2_test_score': array([0.96976242]), 'mean_test_score': array([0.96365116]), 'std_test_score': array([0.00682319]), 'rank_test_score': array([1], dtype=int32)}\n",
      "\n",
      " Best estimator:\n",
      "XGBClassifier(base_score=0.5, booster='gbtree', colsample_bylevel=1,\n",
      "              colsample_bynode=1, colsample_bytree=1, enable_categorical=False,\n",
      "              gamma=0, gpu_id=-1, importance_type=None,\n",
      "              interaction_constraints='', learning_rate=0.02, max_delta_step=0,\n",
      "              max_depth=10, min_child_weight=1, missing=nan,\n",
      "              monotone_constraints='()', n_estimators=100, n_jobs=1, nthread=1,\n",
      "              num_parallel_tree=1, predictor='auto', random_state=0,\n",
      "              reg_alpha=0, reg_lambda=1, scale_pos_weight=1, subsample=1,\n",
      "              tree_method='exact', use_label_encoder=False,\n",
      "              validate_parameters=1, verbosity=None)\n",
      "\n",
      " Best normalized score\n",
      "0.9636511647875509\n",
      "\n",
      " Best hyperparameters:\n",
      "{'max_depth': 10, 'n_estimators': 100}\n"
     ]
    }
   ],
   "source": [
    "print('\\n All results:')\n",
    "print(grid_search.cv_results_)\n",
    "print('\\n Best estimator:')\n",
    "print(grid_search.best_estimator_)\n",
    "print('\\n Best normalized score')\n",
    "print(grid_search.best_score_)\n",
    "print('\\n Best hyperparameters:')\n",
    "print(grid_search.best_params_)"
   ]
  },
  {
   "cell_type": "code",
   "execution_count": 30,
   "metadata": {
    "ExecuteTime": {
     "end_time": "2022-03-23T10:27:05.097462Z",
     "start_time": "2022-03-23T10:27:05.095506Z"
    }
   },
   "outputs": [],
   "source": [
    "md = grid_search.best_params_['max_depth']\n",
    "n_est = grid_search.best_params_['n_estimators']"
   ]
  },
  {
   "cell_type": "markdown",
   "metadata": {
    "id": "knXJz2mdoV9m"
   },
   "source": [
    "# Обучение и оценка модели"
   ]
  },
  {
   "cell_type": "code",
   "execution_count": 31,
   "metadata": {
    "ExecuteTime": {
     "end_time": "2022-03-23T10:27:05.374830Z",
     "start_time": "2022-03-23T10:27:05.372406Z"
    },
    "id": "L790fBRZoZf2"
   },
   "outputs": [],
   "source": [
    "xgb = XGBClassifier(max_depth=md, n_estimators=n_est, learning_rate=0.02,  nthread=1, use_label_encoder=False)"
   ]
  },
  {
   "cell_type": "code",
   "execution_count": 32,
   "metadata": {
    "ExecuteTime": {
     "end_time": "2022-03-23T10:28:02.928254Z",
     "start_time": "2022-03-23T10:27:05.586448Z"
    },
    "colab": {
     "base_uri": "https://localhost:8080/"
    },
    "id": "YE1x1_Mqoh09",
    "outputId": "c46c0338-edc5-4352-f10a-9e923f417237"
   },
   "outputs": [
    {
     "name": "stdout",
     "output_type": "stream",
     "text": [
      "[13:27:06] WARNING: ../src/learner.cc:1115: Starting in XGBoost 1.3.0, the default evaluation metric used with the objective 'binary:logistic' was changed from 'error' to 'logloss'. Explicitly set eval_metric if you'd like to restore the old behavior.\n"
     ]
    },
    {
     "data": {
      "text/plain": [
       "XGBClassifier(base_score=0.5, booster='gbtree', colsample_bylevel=1,\n",
       "              colsample_bynode=1, colsample_bytree=1, enable_categorical=False,\n",
       "              gamma=0, gpu_id=-1, importance_type=None,\n",
       "              interaction_constraints='', learning_rate=0.02, max_delta_step=0,\n",
       "              max_depth=10, min_child_weight=1, missing=nan,\n",
       "              monotone_constraints='()', n_estimators=100, n_jobs=1, nthread=1,\n",
       "              num_parallel_tree=1, predictor='auto', random_state=0,\n",
       "              reg_alpha=0, reg_lambda=1, scale_pos_weight=1, subsample=1,\n",
       "              tree_method='exact', use_label_encoder=False,\n",
       "              validate_parameters=1, verbosity=None)"
      ]
     },
     "execution_count": 32,
     "metadata": {},
     "output_type": "execute_result"
    }
   ],
   "source": [
    "xgb.fit(train_fp, y_train)"
   ]
  },
  {
   "cell_type": "code",
   "execution_count": 33,
   "metadata": {
    "ExecuteTime": {
     "end_time": "2022-03-23T10:28:03.206426Z",
     "start_time": "2022-03-23T10:28:03.147686Z"
    },
    "id": "liD-uHOaojTU"
   },
   "outputs": [],
   "source": [
    "test_predictions = xgb.predict(test_fp)"
   ]
  },
  {
   "cell_type": "code",
   "execution_count": 34,
   "metadata": {
    "ExecuteTime": {
     "end_time": "2022-03-23T10:28:03.436076Z",
     "start_time": "2022-03-23T10:28:03.433736Z"
    },
    "id": "kGP02U_uolm-"
   },
   "outputs": [],
   "source": [
    "from sklearn.metrics import f1_score"
   ]
  },
  {
   "cell_type": "code",
   "execution_count": 35,
   "metadata": {
    "ExecuteTime": {
     "end_time": "2022-03-23T10:28:03.652650Z",
     "start_time": "2022-03-23T10:28:03.648965Z"
    },
    "colab": {
     "base_uri": "https://localhost:8080/"
    },
    "id": "yDQh30LSotE0",
    "outputId": "c0c59fe8-4f07-4e20-a193-9beddf1a1810"
   },
   "outputs": [
    {
     "name": "stdout",
     "output_type": "stream",
     "text": [
      "Best model test f1 score is 0.265\n"
     ]
    }
   ],
   "source": [
    "score = f1_score(y_test, test_predictions)\n",
    "print(f\"Best model test f1 score is {round(score, 3)}\")"
   ]
  },
  {
   "cell_type": "markdown",
   "metadata": {
    "id": "X3LMIEGPo-Yu"
   },
   "source": [
    "# Задание (10 баллов + 3 бонусных)\n",
    "1. (3 балла) Добавить решение проблемы несбалансированной классификации\n",
    "\n",
    "Варианты:\n",
    "* UnderSampling\n",
    "* OverSampling\n",
    "* SMOTE\n",
    "* Внутренние инструменты модели (`scale_pos_weight`)\n",
    "\n",
    "2. (2 балла) Использовать еще 2 вида фингерпринтов из `FingerprintsNames`\n",
    "\n",
    "3. (3 балла) Получить f1-score на тестовом датасете больше 0.35\n",
    "\n",
    "Варианты:\n",
    "* Увеличить количество параметров в подборе гиперпараметров\n",
    "* Использовать другие алгоритмы подбора гиперпараметров (например, [RandomizedSearch](https://scikit-learn.org/stable/modules/generated/sklearn.model_selection.RandomizedSearchCV.html))\n",
    "* Использовать другие модели (Random Forest, SVC, MLPClassifier, etc)\n",
    "\n",
    "4. (2 балла) Логирование\n",
    "\n",
    "В качестве финального результата предоставьте таблицу (можно `pd.DataFrame`) c колонками: Model, Fingerprint, Best Parameters, Mean Cross-Validation Score, Std Cross-Validation Score, Test Score \n",
    "\n",
    "Проанализируйте результаты: \n",
    "* Какие фингерпринты дали лучший результат?\n",
    "* Какая модель дала лучший результат.\n",
    "* Коррелируют ли скоры на кросс-валидации и тестовой выборке?\n",
    "\n",
    "5. (Бонус +3 балла) Получить f1-score на тестовом датасете больше 0.45"
   ]
  },
  {
   "cell_type": "markdown",
   "metadata": {
    "id": "daFeFpqfvrRb"
   },
   "source": [
    "## Задание 1"
   ]
  },
  {
   "cell_type": "markdown",
   "metadata": {},
   "source": [
    "### Подготовка FingerPrints"
   ]
  },
  {
   "cell_type": "code",
   "execution_count": 630,
   "metadata": {
    "ExecuteTime": {
     "end_time": "2022-03-23T17:49:02.850578Z",
     "start_time": "2022-03-23T17:49:02.847612Z"
    },
    "id": "fDAw132ncV1z"
   },
   "outputs": [],
   "source": [
    "class FingerprintsNames(Enum):\n",
    "    ECFP4 = \"morgan_2_2048\"\n",
    "    RDKitFP = \"RDKFingerprint\"\n",
    "    TOPOTORSION = \"topological_torsion\"\n",
    "    MACCS = \"MACCSkeys\"\n",
    "    PATTERN = \"PatternFingerprint\"\n",
    "    ATOMPAIR = \"AtomPairFingerprint\"\n",
    "\n",
    "\n",
    "\n",
    "FINGERPRINTS_METHODS = {\n",
    "    FingerprintsNames.ECFP4: partial(AllChem.GetMorganFingerprintAsBitVect, radius=2, nBits=2048),\n",
    "    FingerprintsNames.RDKitFP: Chem.RDKFingerprint,#TODO\n",
    "    FingerprintsNames.TOPOTORSION: AllChem.GetHashedTopologicalTorsionFingerprintAsBitVect,#TODO\n",
    "    FingerprintsNames.MACCS: MACCSkeys.GenMACCSKeys,#TODO\n",
    "    FingerprintsNames.PATTERN: Chem.PatternFingerprint,#TODO\n",
    "    FingerprintsNames.ATOMPAIR: AllChem.GetHashedAtomPairFingerprintAsBitVect}#TODO\n"
   ]
  },
  {
   "cell_type": "code",
   "execution_count": 631,
   "metadata": {
    "ExecuteTime": {
     "end_time": "2022-03-23T17:49:11.507369Z",
     "start_time": "2022-03-23T17:49:11.504560Z"
    },
    "id": "JenRUlnqftff"
   },
   "outputs": [],
   "source": [
    "fingerprint_type_name1 = FingerprintsNames.ECFP4\n",
    "fingerprint_type_method1 = FINGERPRINTS_METHODS[fingerprint_type_name1]\n",
    "fingerprint_type_name2 = FingerprintsNames.RDKitFP\n",
    "fingerprint_type_method2 = FINGERPRINTS_METHODS[fingerprint_type_name2]\n",
    "fingerprint_type_name3 = FingerprintsNames.TOPOTORSION\n",
    "fingerprint_type_method3 = FINGERPRINTS_METHODS[fingerprint_type_name3]\n",
    "fingerprint_type_name4 = FingerprintsNames.MACCS\n",
    "fingerprint_type_method4 = FINGERPRINTS_METHODS[fingerprint_type_name3]\n",
    "fingerprint_type_name5 = FingerprintsNames.PATTERN\n",
    "fingerprint_type_method5 = FINGERPRINTS_METHODS[fingerprint_type_name3]\n",
    "fingerprint_type_name6 = FingerprintsNames.ATOMPAIR\n",
    "fingerprint_type_method6 = FINGERPRINTS_METHODS[fingerprint_type_name3]"
   ]
  },
  {
   "cell_type": "code",
   "execution_count": 632,
   "metadata": {
    "ExecuteTime": {
     "end_time": "2022-03-23T17:49:12.108495Z",
     "start_time": "2022-03-23T17:49:12.104875Z"
    },
    "id": "gq0LMqS_f3IS"
   },
   "outputs": [],
   "source": [
    "def bit_vectors_to_numpy_arrays(fps: List[ExplicitBitVect]) -> np.array:\n",
    "    output_arrays = [np.zeros((1,)) for i in range(len(fps))]\n",
    "    _ = list(\n",
    "        map(lambda fp_output_array: DataStructs.ConvertToNumpyArray(fp_output_array[0], fp_output_array[1]),\n",
    "            zip(fps, output_arrays)))\n",
    "    return np.asarray(output_arrays)\n",
    "\n",
    "def get_np_array_of_fps(fp_type, smiles: List[str]):\n",
    "    # Calculate the morgan fingerprint\n",
    "    mols = [Chem.MolFromSmiles(m) for m in smiles]\n",
    "    fp = list(map(fp_type, mols))\n",
    "    return bit_vectors_to_numpy_arrays(fp)"
   ]
  },
  {
   "cell_type": "code",
   "execution_count": 730,
   "metadata": {
    "ExecuteTime": {
     "end_time": "2022-03-23T18:16:50.086659Z",
     "start_time": "2022-03-23T18:16:39.449636Z"
    },
    "id": "51QDqlK9gIPL"
   },
   "outputs": [
    {
     "name": "stdout",
     "output_type": "stream",
     "text": [
      "(5557, 2048)\n",
      "(5557, 2048)\n",
      "(5557, 2048)\n"
     ]
    }
   ],
   "source": [
    "train_fp1 = get_np_array_of_fps(fp_type=fingerprint_type_method1, smiles=train_data[SMILES_COLUMN])\n",
    "test_fp1 = get_np_array_of_fps(fp_type=fingerprint_type_method1, smiles=test_data[SMILES_COLUMN])\n",
    "print(train_fp1.shape)\n",
    "train_fp2 = get_np_array_of_fps(fp_type=fingerprint_type_method2, smiles=train_data[SMILES_COLUMN])\n",
    "test_fp2 = get_np_array_of_fps(fp_type=fingerprint_type_method2, smiles=test_data[SMILES_COLUMN])\n",
    "print(train_fp2.shape)\n",
    "train_fp3 = get_np_array_of_fps(fp_type=fingerprint_type_method3, smiles=train_data[SMILES_COLUMN])\n",
    "test_fp3 = get_np_array_of_fps(fp_type=fingerprint_type_method3, smiles=test_data[SMILES_COLUMN])\n",
    "print(train_fp3.shape)"
   ]
  },
  {
   "cell_type": "code",
   "execution_count": 634,
   "metadata": {
    "ExecuteTime": {
     "end_time": "2022-03-23T17:49:44.543523Z",
     "start_time": "2022-03-23T17:49:44.541619Z"
    },
    "id": "UazJXd7ihDaN"
   },
   "outputs": [],
   "source": [
    "y_train = train_data[TARGET_COLUMN]\n",
    "y_test = test_data[TARGET_COLUMN]"
   ]
  },
  {
   "cell_type": "markdown",
   "metadata": {},
   "source": [
    "### Балансировка"
   ]
  },
  {
   "cell_type": "markdown",
   "metadata": {},
   "source": [
    "#### SMOTE"
   ]
  },
  {
   "cell_type": "code",
   "execution_count": 655,
   "metadata": {
    "ExecuteTime": {
     "end_time": "2022-03-23T17:53:40.364036Z",
     "start_time": "2022-03-23T17:53:40.359645Z"
    }
   },
   "outputs": [],
   "source": [
    "from imblearn.over_sampling import SMOTE\n",
    "from collections import Counter"
   ]
  },
  {
   "cell_type": "code",
   "execution_count": 656,
   "metadata": {
    "ExecuteTime": {
     "end_time": "2022-03-23T17:53:40.586175Z",
     "start_time": "2022-03-23T17:53:40.583383Z"
    }
   },
   "outputs": [
    {
     "name": "stdout",
     "output_type": "stream",
     "text": [
      "Соотношение данных до балансировки: {0: 5351, 1: 206}\n"
     ]
    }
   ],
   "source": [
    "print(f'Соотношение данных до балансировки: {dict(Counter(y_train))}')"
   ]
  },
  {
   "cell_type": "code",
   "execution_count": 657,
   "metadata": {
    "ExecuteTime": {
     "end_time": "2022-03-23T17:53:40.962978Z",
     "start_time": "2022-03-23T17:53:40.789171Z"
    }
   },
   "outputs": [],
   "source": [
    "smote = SMOTE()\n",
    "train_fp_new, y_train_new = smote.fit_resample(train_fp, y_train)"
   ]
  },
  {
   "cell_type": "code",
   "execution_count": 658,
   "metadata": {
    "ExecuteTime": {
     "end_time": "2022-03-23T17:53:40.969083Z",
     "start_time": "2022-03-23T17:53:40.964601Z"
    }
   },
   "outputs": [
    {
     "name": "stdout",
     "output_type": "stream",
     "text": [
      "Соотношение данных до балансировки: {0: 5351, 1: 5351}\n"
     ]
    }
   ],
   "source": [
    "print(f'Соотношение данных до балансировки: {dict(Counter(y_train_new))}')"
   ]
  },
  {
   "cell_type": "markdown",
   "metadata": {},
   "source": [
    "#### Undersampling"
   ]
  },
  {
   "cell_type": "code",
   "execution_count": 659,
   "metadata": {
    "ExecuteTime": {
     "end_time": "2022-03-23T17:53:42.368795Z",
     "start_time": "2022-03-23T17:53:42.364684Z"
    }
   },
   "outputs": [
    {
     "name": "stdout",
     "output_type": "stream",
     "text": [
      "Соотношение данных до балансировки: {0: 5351, 1: 206}\n"
     ]
    }
   ],
   "source": [
    "print(f'Соотношение данных до балансировки: {dict(Counter(y_train))}')"
   ]
  },
  {
   "cell_type": "code",
   "execution_count": 660,
   "metadata": {
    "ExecuteTime": {
     "end_time": "2022-03-23T17:53:42.743141Z",
     "start_time": "2022-03-23T17:53:42.722047Z"
    }
   },
   "outputs": [
    {
     "data": {
      "text/plain": [
       "(5557, 2049)"
      ]
     },
     "execution_count": 660,
     "metadata": {},
     "output_type": "execute_result"
    }
   ],
   "source": [
    "temp_data = np.hstack((train_fp, np.array(y_train).reshape(len(y_train), 1)))\n",
    "temp_data.shape"
   ]
  },
  {
   "cell_type": "code",
   "execution_count": 661,
   "metadata": {
    "ExecuteTime": {
     "end_time": "2022-03-23T17:53:42.974038Z",
     "start_time": "2022-03-23T17:53:42.953743Z"
    }
   },
   "outputs": [],
   "source": [
    "temp1 = temp_data[temp_data[:,-1] == 1]\n",
    "temp2 = temp_data[temp_data[:,-1] == 0]\n",
    "temp3 = temp2[np.random.choice(len(temp2), len(temp1)),:]\n",
    "temp4 = np.vstack((temp1, temp3))"
   ]
  },
  {
   "cell_type": "code",
   "execution_count": 662,
   "metadata": {
    "ExecuteTime": {
     "end_time": "2022-03-23T17:53:43.170461Z",
     "start_time": "2022-03-23T17:53:43.168146Z"
    }
   },
   "outputs": [],
   "source": [
    "train_fp_us = temp4[:, :-1]\n",
    "y_train_us = temp4[:, -1]"
   ]
  },
  {
   "cell_type": "code",
   "execution_count": 663,
   "metadata": {
    "ExecuteTime": {
     "end_time": "2022-03-23T17:53:43.833108Z",
     "start_time": "2022-03-23T17:53:43.830074Z"
    }
   },
   "outputs": [
    {
     "name": "stdout",
     "output_type": "stream",
     "text": [
      "Соотношение данных после балансировки: {1.0: 206, 0.0: 206}\n"
     ]
    }
   ],
   "source": [
    "print(f'Соотношение данных после балансировки: {dict(Counter(y_train_us))}')"
   ]
  },
  {
   "cell_type": "markdown",
   "metadata": {},
   "source": [
    "#### Oversampling"
   ]
  },
  {
   "cell_type": "code",
   "execution_count": 798,
   "metadata": {
    "ExecuteTime": {
     "end_time": "2022-03-23T19:18:58.501733Z",
     "start_time": "2022-03-23T19:18:58.498372Z"
    }
   },
   "outputs": [
    {
     "name": "stdout",
     "output_type": "stream",
     "text": [
      "Соотношение данных до балансировки: {0: 5351, 1: 206}\n"
     ]
    }
   ],
   "source": [
    "print(f'Соотношение данных до балансировки: {dict(Counter(y_train))}')"
   ]
  },
  {
   "cell_type": "code",
   "execution_count": 806,
   "metadata": {
    "ExecuteTime": {
     "end_time": "2022-03-23T19:19:53.111635Z",
     "start_time": "2022-03-23T19:19:53.094355Z"
    }
   },
   "outputs": [],
   "source": [
    "# temp_data = np.hstack((train_fp, np.array(y_train).reshape(len(y_train), 1)))\n",
    "temp_data = np.hstack((train_fp1, np.array(y_train).reshape(len(y_train), 1)))"
   ]
  },
  {
   "cell_type": "code",
   "execution_count": 807,
   "metadata": {
    "ExecuteTime": {
     "end_time": "2022-03-23T19:19:53.618071Z",
     "start_time": "2022-03-23T19:19:53.538747Z"
    }
   },
   "outputs": [],
   "source": [
    "temp1 = temp_data[temp_data[:,-1] == 1]\n",
    "temp2 = temp_data[temp_data[:,-1] == 0]\n",
    "\n",
    "# Эмперически найденные значения для OverSampling\n",
    "choice = np.array(pd.read_csv('res_choice.csv')).reshape(len(choice),)\n",
    "\n",
    "temp3 = temp1[choice,:]\n",
    "temp4 = np.vstack((temp2, temp3))"
   ]
  },
  {
   "cell_type": "code",
   "execution_count": 808,
   "metadata": {
    "ExecuteTime": {
     "end_time": "2022-03-23T19:19:53.928324Z",
     "start_time": "2022-03-23T19:19:53.924281Z"
    }
   },
   "outputs": [],
   "source": [
    "train_fp_os = temp4[:, :-1]\n",
    "y_train_os = temp4[:, -1]"
   ]
  },
  {
   "cell_type": "code",
   "execution_count": 809,
   "metadata": {
    "ExecuteTime": {
     "end_time": "2022-03-23T19:19:54.940962Z",
     "start_time": "2022-03-23T19:19:54.934979Z"
    }
   },
   "outputs": [
    {
     "name": "stdout",
     "output_type": "stream",
     "text": [
      "Соотношение данных после балансировки: {0.0: 5351, 1.0: 5351}\n"
     ]
    }
   ],
   "source": [
    "print(f'Соотношение данных после балансировки: {dict(Counter(y_train_os))}')"
   ]
  },
  {
   "cell_type": "markdown",
   "metadata": {},
   "source": [
    "## Задание 3"
   ]
  },
  {
   "cell_type": "markdown",
   "metadata": {},
   "source": [
    "#### Подготовка к обучению"
   ]
  },
  {
   "cell_type": "code",
   "execution_count": 579,
   "metadata": {
    "ExecuteTime": {
     "end_time": "2022-03-23T17:19:25.485784Z",
     "start_time": "2022-03-23T17:19:25.483106Z"
    }
   },
   "outputs": [],
   "source": [
    "from sklearn.ensemble import RandomForestClassifier\n",
    "from sklearn.neural_network import MLPClassifier\n",
    "from sklearn.model_selection import StratifiedKFold"
   ]
  },
  {
   "cell_type": "markdown",
   "metadata": {
    "ExecuteTime": {
     "end_time": "2022-03-23T09:53:14.461179Z",
     "start_time": "2022-03-23T09:53:14.367801Z"
    }
   },
   "source": [
    "#### Поиск лучших параметров"
   ]
  },
  {
   "cell_type": "code",
   "execution_count": 580,
   "metadata": {
    "ExecuteTime": {
     "end_time": "2022-03-23T17:19:27.087133Z",
     "start_time": "2022-03-23T17:19:27.085278Z"
    }
   },
   "outputs": [],
   "source": [
    "from sklearn.model_selection import GridSearchCV"
   ]
  },
  {
   "cell_type": "code",
   "execution_count": 581,
   "metadata": {
    "ExecuteTime": {
     "end_time": "2022-03-23T17:19:28.597519Z",
     "start_time": "2022-03-23T17:19:28.595552Z"
    }
   },
   "outputs": [],
   "source": [
    "# forest = RandomForestClassifier(n_jobs=-1)\n",
    "clf = MLPClassifier(random_state=1, max_iter=300)"
   ]
  },
  {
   "cell_type": "code",
   "execution_count": 610,
   "metadata": {
    "ExecuteTime": {
     "end_time": "2022-03-23T17:33:32.237882Z",
     "start_time": "2022-03-23T17:33:32.233974Z"
    }
   },
   "outputs": [
    {
     "data": {
      "text/plain": [
       "{'activation': ['identity', 'logistic', 'tanh', 'relu'],\n",
       " 'solver': ['lbfgs', 'adam']}"
      ]
     },
     "execution_count": 610,
     "metadata": {},
     "output_type": "execute_result"
    }
   ],
   "source": [
    "params = {\n",
    "#         'max_depth': [i*5 for i in range(2,6)],\n",
    "#         'n_estimators': [50*i for i in range(3,7)]\n",
    "        'activation':['identity', 'logistic', 'tanh', 'relu'],\n",
    "        'solver':['lbfgs', 'adam']\n",
    "    }\n",
    "params"
   ]
  },
  {
   "cell_type": "code",
   "execution_count": 611,
   "metadata": {
    "ExecuteTime": {
     "end_time": "2022-03-23T17:44:18.670720Z",
     "start_time": "2022-03-23T17:33:33.102330Z"
    }
   },
   "outputs": [
    {
     "name": "stdout",
     "output_type": "stream",
     "text": [
      "Fitting 3 folds for each of 8 candidates, totalling 24 fits\n",
      "[CV 1/3; 1/8] START activation=identity, solver=lbfgs...........................\n",
      "[CV 1/3; 1/8] END activation=identity, solver=lbfgs;, score=0.989 total time=  15.4s\n",
      "[CV 2/3; 1/8] START activation=identity, solver=lbfgs...........................\n",
      "[CV 2/3; 1/8] END activation=identity, solver=lbfgs;, score=0.985 total time=  15.5s\n",
      "[CV 3/3; 1/8] START activation=identity, solver=lbfgs...........................\n",
      "[CV 3/3; 1/8] END activation=identity, solver=lbfgs;, score=0.984 total time=  15.4s\n",
      "[CV 1/3; 2/8] START activation=identity, solver=adam............................\n",
      "[CV 1/3; 2/8] END activation=identity, solver=adam;, score=0.984 total time=  29.7s\n",
      "[CV 2/3; 2/8] START activation=identity, solver=adam............................\n",
      "[CV 2/3; 2/8] END activation=identity, solver=adam;, score=0.981 total time=  44.9s\n",
      "[CV 3/3; 2/8] START activation=identity, solver=adam............................\n",
      "[CV 3/3; 2/8] END activation=identity, solver=adam;, score=0.983 total time=  35.8s\n",
      "[CV 1/3; 3/8] START activation=logistic, solver=lbfgs...........................\n",
      "[CV 1/3; 3/8] END activation=logistic, solver=lbfgs;, score=0.987 total time=  19.7s\n",
      "[CV 2/3; 3/8] START activation=logistic, solver=lbfgs...........................\n",
      "[CV 2/3; 3/8] END activation=logistic, solver=lbfgs;, score=0.981 total time=  16.4s\n",
      "[CV 3/3; 3/8] START activation=logistic, solver=lbfgs...........................\n",
      "[CV 3/3; 3/8] END activation=logistic, solver=lbfgs;, score=0.982 total time=  15.7s\n",
      "[CV 1/3; 4/8] START activation=logistic, solver=adam............................\n",
      "[CV 1/3; 4/8] END activation=logistic, solver=adam;, score=0.985 total time=  36.7s\n",
      "[CV 2/3; 4/8] START activation=logistic, solver=adam............................\n",
      "[CV 2/3; 4/8] END activation=logistic, solver=adam;, score=0.983 total time= 1.2min\n",
      "[CV 3/3; 4/8] START activation=logistic, solver=adam............................\n",
      "[CV 3/3; 4/8] END activation=logistic, solver=adam;, score=0.980 total time=  48.2s\n",
      "[CV 1/3; 5/8] START activation=tanh, solver=lbfgs...............................\n",
      "[CV 1/3; 5/8] END activation=tanh, solver=lbfgs;, score=0.988 total time=  12.7s\n",
      "[CV 2/3; 5/8] START activation=tanh, solver=lbfgs...............................\n",
      "[CV 2/3; 5/8] END activation=tanh, solver=lbfgs;, score=0.985 total time=  11.8s\n",
      "[CV 3/3; 5/8] START activation=tanh, solver=lbfgs...............................\n",
      "[CV 3/3; 5/8] END activation=tanh, solver=lbfgs;, score=0.983 total time=  13.6s\n",
      "[CV 1/3; 6/8] START activation=tanh, solver=adam................................\n",
      "[CV 1/3; 6/8] END .activation=tanh, solver=adam;, score=0.985 total time=  25.0s\n",
      "[CV 2/3; 6/8] START activation=tanh, solver=adam................................\n",
      "[CV 2/3; 6/8] END .activation=tanh, solver=adam;, score=0.981 total time=  44.8s\n",
      "[CV 3/3; 6/8] START activation=tanh, solver=adam................................\n",
      "[CV 3/3; 6/8] END .activation=tanh, solver=adam;, score=0.983 total time=  31.1s\n",
      "[CV 1/3; 7/8] START activation=relu, solver=lbfgs...............................\n",
      "[CV 1/3; 7/8] END activation=relu, solver=lbfgs;, score=0.992 total time=  14.1s\n",
      "[CV 2/3; 7/8] START activation=relu, solver=lbfgs...............................\n",
      "[CV 2/3; 7/8] END activation=relu, solver=lbfgs;, score=0.988 total time=  12.1s\n",
      "[CV 3/3; 7/8] START activation=relu, solver=lbfgs...............................\n",
      "[CV 3/3; 7/8] END activation=relu, solver=lbfgs;, score=0.989 total time=  14.0s\n",
      "[CV 1/3; 8/8] START activation=relu, solver=adam................................\n",
      "[CV 1/3; 8/8] END .activation=relu, solver=adam;, score=0.989 total time=  25.8s\n",
      "[CV 2/3; 8/8] START activation=relu, solver=adam................................\n",
      "[CV 2/3; 8/8] END .activation=relu, solver=adam;, score=0.988 total time=  23.0s\n",
      "[CV 3/3; 8/8] START activation=relu, solver=adam................................\n",
      "[CV 3/3; 8/8] END .activation=relu, solver=adam;, score=0.987 total time=  30.7s\n"
     ]
    }
   ],
   "source": [
    "# Кросс-валидация\n",
    "skf = StratifiedKFold(n_splits=3)\n",
    "cv = skf.split(train_fp_os, y_train_os)\n",
    "\n",
    "# Поиск оптимальных параметров\n",
    "grid_search = GridSearchCV(clf, param_grid=params, scoring='f1', n_jobs=1,\n",
    "                               cv=cv, verbose=10)\n",
    "gs_result1 = grid_search.fit(train_fp_os, y_train_os)"
   ]
  },
  {
   "cell_type": "code",
   "execution_count": 613,
   "metadata": {
    "ExecuteTime": {
     "end_time": "2022-03-23T17:44:29.080061Z",
     "start_time": "2022-03-23T17:44:29.076867Z"
    }
   },
   "outputs": [
    {
     "data": {
      "text/plain": [
       "{'activation': 'relu', 'solver': 'lbfgs'}"
      ]
     },
     "execution_count": 613,
     "metadata": {},
     "output_type": "execute_result"
    }
   ],
   "source": [
    "# best_md = gs_result.best_params_['max_depth']\n",
    "# best_n_ests = gs_result.best_params_['max_iter']\n",
    "res_cv1 = gs_result1.cv_results_\n",
    "best_params = gs_result1.best_params_"
   ]
  },
  {
   "cell_type": "code",
   "execution_count": 619,
   "metadata": {
    "ExecuteTime": {
     "end_time": "2022-03-23T17:46:38.499163Z",
     "start_time": "2022-03-23T17:46:38.496830Z"
    }
   },
   "outputs": [
    {
     "name": "stdout",
     "output_type": "stream",
     "text": [
      "Оптимальные параметры MLP-классификатора\n",
      "{'activation': 'relu', 'solver': 'lbfgs'}\n"
     ]
    }
   ],
   "source": [
    "print(f'Оптимальные параметры MLP-классификатора\\n{best_params}')"
   ]
  },
  {
   "cell_type": "markdown",
   "metadata": {},
   "source": [
    "#### Обучение и предсказание"
   ]
  },
  {
   "cell_type": "code",
   "execution_count": 812,
   "metadata": {
    "ExecuteTime": {
     "end_time": "2022-03-23T19:21:28.484219Z",
     "start_time": "2022-03-23T19:21:28.481647Z"
    }
   },
   "outputs": [],
   "source": [
    "clf = MLPClassifier(random_state=1,\n",
    "                    max_iter=300,\n",
    "                    activation=best_params['activation'],\n",
    "                    solver=best_params['solver'])"
   ]
  },
  {
   "cell_type": "code",
   "execution_count": 813,
   "metadata": {
    "ExecuteTime": {
     "end_time": "2022-03-23T19:21:44.662655Z",
     "start_time": "2022-03-23T19:21:28.735092Z"
    }
   },
   "outputs": [
    {
     "data": {
      "text/plain": [
       "MLPClassifier(max_iter=300, random_state=1, solver='lbfgs')"
      ]
     },
     "execution_count": 813,
     "metadata": {},
     "output_type": "execute_result"
    }
   ],
   "source": [
    "clf.fit(train_fp_os, y_train_os)"
   ]
  },
  {
   "cell_type": "code",
   "execution_count": 814,
   "metadata": {
    "ExecuteTime": {
     "end_time": "2022-03-23T19:21:45.041943Z",
     "start_time": "2022-03-23T19:21:44.970812Z"
    }
   },
   "outputs": [],
   "source": [
    "y_pred = clf.predict(test_fp1)\n",
    "f1_1 = f1_score(y_test, y_pred)"
   ]
  },
  {
   "cell_type": "raw",
   "metadata": {
    "ExecuteTime": {
     "end_time": "2022-03-23T18:05:23.504080Z",
     "start_time": "2022-03-23T18:01:15.139754Z"
    }
   },
   "source": [
    "while f1 < 0.35:\n",
    "    temp1 = temp_data[temp_data[:,-1] == 1]\n",
    "    temp2 = temp_data[temp_data[:,-1] == 0]\n",
    "    choice = np.random.choice(len(temp1), len(temp2))\n",
    "    temp3 = temp1[choice,:]\n",
    "    temp4 = np.vstack((temp2, temp3))\n",
    "    train_fp_os = temp4[:, :-1]\n",
    "    y_train_os = temp4[:, -1]\n",
    "    clf = MLPClassifier(random_state=1,\n",
    "                    max_iter=300,\n",
    "                    activation=best_params['activation'],\n",
    "                    solver=best_params['solver'])\n",
    "    clf.fit(train_fp_os, y_train_os)\n",
    "    f1 = f1_score(y_test, clf.predict(test_fp))\n",
    "res_choice = choice"
   ]
  },
  {
   "cell_type": "code",
   "execution_count": 815,
   "metadata": {
    "ExecuteTime": {
     "end_time": "2022-03-23T19:21:45.330441Z",
     "start_time": "2022-03-23T19:21:45.327314Z"
    }
   },
   "outputs": [
    {
     "name": "stdout",
     "output_type": "stream",
     "text": [
      "С помощью ECFP4 и Oversampling получен F1-score = 0.361\n"
     ]
    }
   ],
   "source": [
    "print(f'С помощью ECFP4 и Oversampling получен F1-score = {f1_1:.3f}')"
   ]
  },
  {
   "cell_type": "markdown",
   "metadata": {},
   "source": [
    "### Задание 2"
   ]
  },
  {
   "cell_type": "markdown",
   "metadata": {},
   "source": [
    "#### RDKitFP"
   ]
  },
  {
   "cell_type": "code",
   "execution_count": 783,
   "metadata": {
    "ExecuteTime": {
     "end_time": "2022-03-23T19:16:52.676410Z",
     "start_time": "2022-03-23T19:16:45.771877Z"
    }
   },
   "outputs": [
    {
     "name": "stdout",
     "output_type": "stream",
     "text": [
      "(5557, 2048)\n"
     ]
    }
   ],
   "source": [
    "train_fp2 = get_np_array_of_fps(fp_type=fingerprint_type_method2, smiles=train_data[SMILES_COLUMN])\n",
    "test_fp2 = get_np_array_of_fps(fp_type=fingerprint_type_method2, smiles=test_data[SMILES_COLUMN])\n",
    "print(train_fp2.shape)"
   ]
  },
  {
   "cell_type": "code",
   "execution_count": 784,
   "metadata": {
    "ExecuteTime": {
     "end_time": "2022-03-23T19:16:53.067453Z",
     "start_time": "2022-03-23T19:16:52.983793Z"
    }
   },
   "outputs": [],
   "source": [
    "temp_data = np.hstack((train_fp2, np.array(y_train).reshape(len(y_train), 1)))\n",
    "temp1 = temp_data[temp_data[:,-1] == 1]\n",
    "temp2 = temp_data[temp_data[:,-1] == 0]\n",
    "\n",
    "# Эмперически найденные значения для OverSampling\n",
    "choice = np.array(pd.read_csv('res_choice.csv')).reshape(len(choice),)\n",
    "\n",
    "temp3 = temp1[choice,:]\n",
    "temp4 = np.vstack((temp2, temp3))\n",
    "\n",
    "train_fp_os = temp4[:, :-1]\n",
    "y_train_os = temp4[:, -1]"
   ]
  },
  {
   "cell_type": "code",
   "execution_count": 785,
   "metadata": {
    "ExecuteTime": {
     "end_time": "2022-03-23T19:16:53.314358Z",
     "start_time": "2022-03-23T19:16:53.311996Z"
    }
   },
   "outputs": [],
   "source": [
    "train_fp_os = temp4[:, :-1]\n",
    "y_train_os = temp4[:, -1]"
   ]
  },
  {
   "cell_type": "code",
   "execution_count": 747,
   "metadata": {
    "ExecuteTime": {
     "end_time": "2022-03-23T18:41:43.358812Z",
     "start_time": "2022-03-23T18:25:18.712015Z"
    }
   },
   "outputs": [
    {
     "name": "stdout",
     "output_type": "stream",
     "text": [
      "Fitting 3 folds for each of 8 candidates, totalling 24 fits\n",
      "[CV 1/3; 1/8] START activation=identity, solver=lbfgs...........................\n",
      "[CV 1/3; 1/8] END activation=identity, solver=lbfgs;, score=0.984 total time=  25.4s\n",
      "[CV 2/3; 1/8] START activation=identity, solver=lbfgs...........................\n",
      "[CV 2/3; 1/8] END activation=identity, solver=lbfgs;, score=0.981 total time=  21.3s\n",
      "[CV 3/3; 1/8] START activation=identity, solver=lbfgs...........................\n",
      "[CV 3/3; 1/8] END activation=identity, solver=lbfgs;, score=0.985 total time=  21.8s\n",
      "[CV 1/3; 2/8] START activation=identity, solver=adam............................\n",
      "[CV 1/3; 2/8] END activation=identity, solver=adam;, score=0.981 total time=  22.5s\n",
      "[CV 2/3; 2/8] START activation=identity, solver=adam............................\n",
      "[CV 2/3; 2/8] END activation=identity, solver=adam;, score=0.979 total time=  57.6s\n",
      "[CV 3/3; 2/8] START activation=identity, solver=adam............................\n",
      "[CV 3/3; 2/8] END activation=identity, solver=adam;, score=0.980 total time=  44.7s\n",
      "[CV 1/3; 3/8] START activation=logistic, solver=lbfgs...........................\n",
      "[CV 1/3; 3/8] END activation=logistic, solver=lbfgs;, score=0.989 total time=  33.6s\n",
      "[CV 2/3; 3/8] START activation=logistic, solver=lbfgs...........................\n",
      "[CV 2/3; 3/8] END activation=logistic, solver=lbfgs;, score=0.990 total time=  33.2s\n",
      "[CV 3/3; 3/8] START activation=logistic, solver=lbfgs...........................\n",
      "[CV 3/3; 3/8] END activation=logistic, solver=lbfgs;, score=0.984 total time=  28.9s\n",
      "[CV 1/3; 4/8] START activation=logistic, solver=adam............................\n",
      "[CV 1/3; 4/8] END activation=logistic, solver=adam;, score=0.978 total time= 1.1min\n",
      "[CV 2/3; 4/8] START activation=logistic, solver=adam............................\n",
      "[CV 2/3; 4/8] END activation=logistic, solver=adam;, score=0.980 total time=  52.7s\n",
      "[CV 3/3; 4/8] START activation=logistic, solver=adam............................\n",
      "[CV 3/3; 4/8] END activation=logistic, solver=adam;, score=0.970 total time=  56.8s\n",
      "[CV 1/3; 5/8] START activation=tanh, solver=lbfgs...............................\n",
      "[CV 1/3; 5/8] END activation=tanh, solver=lbfgs;, score=0.988 total time=  25.6s\n",
      "[CV 2/3; 5/8] START activation=tanh, solver=lbfgs...............................\n",
      "[CV 2/3; 5/8] END activation=tanh, solver=lbfgs;, score=0.986 total time=  23.9s\n",
      "[CV 3/3; 5/8] START activation=tanh, solver=lbfgs...............................\n",
      "[CV 3/3; 5/8] END activation=tanh, solver=lbfgs;, score=0.987 total time=  25.1s\n",
      "[CV 1/3; 6/8] START activation=tanh, solver=adam................................\n",
      "[CV 1/3; 6/8] END .activation=tanh, solver=adam;, score=0.984 total time= 1.1min\n",
      "[CV 2/3; 6/8] START activation=tanh, solver=adam................................\n",
      "[CV 2/3; 6/8] END .activation=tanh, solver=adam;, score=0.977 total time=  48.1s\n",
      "[CV 3/3; 6/8] START activation=tanh, solver=adam................................\n",
      "[CV 3/3; 6/8] END .activation=tanh, solver=adam;, score=0.986 total time=  49.5s\n",
      "[CV 1/3; 7/8] START activation=relu, solver=lbfgs...............................\n",
      "[CV 1/3; 7/8] END activation=relu, solver=lbfgs;, score=0.988 total time=  44.5s\n",
      "[CV 2/3; 7/8] START activation=relu, solver=lbfgs...............................\n",
      "[CV 2/3; 7/8] END activation=relu, solver=lbfgs;, score=0.990 total time=  39.9s\n",
      "[CV 3/3; 7/8] START activation=relu, solver=lbfgs...............................\n",
      "[CV 3/3; 7/8] END activation=relu, solver=lbfgs;, score=0.986 total time=  33.0s\n",
      "[CV 1/3; 8/8] START activation=relu, solver=adam................................\n",
      "[CV 1/3; 8/8] END .activation=relu, solver=adam;, score=0.991 total time=  27.7s\n",
      "[CV 2/3; 8/8] START activation=relu, solver=adam................................\n",
      "[CV 2/3; 8/8] END .activation=relu, solver=adam;, score=0.990 total time=  34.7s\n",
      "[CV 3/3; 8/8] START activation=relu, solver=adam................................\n",
      "[CV 3/3; 8/8] END .activation=relu, solver=adam;, score=0.989 total time=  47.1s\n"
     ]
    }
   ],
   "source": [
    "# Кросс-валидация\n",
    "skf = StratifiedKFold(n_splits=3)\n",
    "cv = skf.split(train_fp_os, y_train_os)\n",
    "\n",
    "# Поиск оптимальных параметров\n",
    "grid_search = GridSearchCV(clf, param_grid=params, scoring='f1', n_jobs=1,\n",
    "                               cv=cv, verbose=10)\n",
    "gs_result2 = grid_search.fit(train_fp_os, y_train_os)"
   ]
  },
  {
   "cell_type": "code",
   "execution_count": 786,
   "metadata": {
    "ExecuteTime": {
     "end_time": "2022-03-23T19:16:53.570577Z",
     "start_time": "2022-03-23T19:16:53.568255Z"
    }
   },
   "outputs": [],
   "source": [
    "res_cv2 = gs_result2.cv_results_\n",
    "best_params = gs_result2.best_params_"
   ]
  },
  {
   "cell_type": "code",
   "execution_count": 787,
   "metadata": {
    "ExecuteTime": {
     "end_time": "2022-03-23T19:16:57.342641Z",
     "start_time": "2022-03-23T19:16:57.340132Z"
    }
   },
   "outputs": [],
   "source": [
    "res_forest = RandomForestClassifier(n_estimators=best_n_ests,\n",
    "                                    max_depth=best_md,\n",
    "                                    n_jobs=-1)\n",
    "clf = MLPClassifier(random_state=1,\n",
    "                    max_iter=300,\n",
    "                    activation=best_params['activation'],\n",
    "                    solver=best_params['solver'])"
   ]
  },
  {
   "cell_type": "code",
   "execution_count": 788,
   "metadata": {
    "ExecuteTime": {
     "end_time": "2022-03-23T19:17:48.600919Z",
     "start_time": "2022-03-23T19:16:59.374351Z"
    }
   },
   "outputs": [
    {
     "data": {
      "text/plain": [
       "MLPClassifier(max_iter=300, random_state=1)"
      ]
     },
     "execution_count": 788,
     "metadata": {},
     "output_type": "execute_result"
    }
   ],
   "source": [
    "clf.fit(train_fp_os, y_train_os)"
   ]
  },
  {
   "cell_type": "code",
   "execution_count": 789,
   "metadata": {
    "ExecuteTime": {
     "end_time": "2022-03-23T19:17:48.958505Z",
     "start_time": "2022-03-23T19:17:48.901984Z"
    }
   },
   "outputs": [],
   "source": [
    "y_pred = clf.predict(test_fp2)\n",
    "f1_2 = f1_score(y_test, y_pred)"
   ]
  },
  {
   "cell_type": "code",
   "execution_count": 790,
   "metadata": {
    "ExecuteTime": {
     "end_time": "2022-03-23T19:17:49.242640Z",
     "start_time": "2022-03-23T19:17:49.237373Z"
    }
   },
   "outputs": [
    {
     "name": "stdout",
     "output_type": "stream",
     "text": [
      "С помощью RDKitFP и Oversampling получен F1-score = 0.337\n"
     ]
    }
   ],
   "source": [
    "print(f'С помощью RDKitFP и Oversampling получен F1-score = {f1_2:.3f}')"
   ]
  },
  {
   "cell_type": "markdown",
   "metadata": {},
   "source": [
    "#### TOPOTORSION "
   ]
  },
  {
   "cell_type": "code",
   "execution_count": 791,
   "metadata": {
    "ExecuteTime": {
     "end_time": "2022-03-23T19:17:51.860339Z",
     "start_time": "2022-03-23T19:17:49.514778Z"
    }
   },
   "outputs": [
    {
     "name": "stdout",
     "output_type": "stream",
     "text": [
      "(5557, 2048)\n"
     ]
    }
   ],
   "source": [
    "train_fp3 = get_np_array_of_fps(fp_type=fingerprint_type_method3, smiles=train_data[SMILES_COLUMN])\n",
    "test_fp3 = get_np_array_of_fps(fp_type=fingerprint_type_method3, smiles=test_data[SMILES_COLUMN])\n",
    "print(train_fp3.shape)"
   ]
  },
  {
   "cell_type": "code",
   "execution_count": 792,
   "metadata": {
    "ExecuteTime": {
     "end_time": "2022-03-23T19:17:52.207832Z",
     "start_time": "2022-03-23T19:17:52.118838Z"
    }
   },
   "outputs": [],
   "source": [
    "temp_data = np.hstack((train_fp3, np.array(y_train).reshape(len(y_train), 1)))\n",
    "temp1 = temp_data[temp_data[:,-1] == 1]\n",
    "temp2 = temp_data[temp_data[:,-1] == 0]\n",
    "\n",
    "# Эмперически найденные значения для OverSampling\n",
    "choice = np.array(pd.read_csv('res_choice.csv')).reshape(len(choice),)\n",
    "\n",
    "temp3 = temp1[choice,:]\n",
    "temp4 = np.vstack((temp2, temp3))\n",
    "\n",
    "train_fp_os = temp4[:, :-1]\n",
    "y_train_os = temp4[:, -1]"
   ]
  },
  {
   "cell_type": "code",
   "execution_count": 793,
   "metadata": {
    "ExecuteTime": {
     "end_time": "2022-03-23T19:17:52.475957Z",
     "start_time": "2022-03-23T19:17:52.473867Z"
    }
   },
   "outputs": [],
   "source": [
    "train_fp_os = temp4[:, :-1]\n",
    "y_train_os = temp4[:, -1]"
   ]
  },
  {
   "cell_type": "code",
   "execution_count": 755,
   "metadata": {
    "ExecuteTime": {
     "end_time": "2022-03-23T19:01:56.762220Z",
     "start_time": "2022-03-23T18:42:41.672490Z"
    }
   },
   "outputs": [
    {
     "name": "stdout",
     "output_type": "stream",
     "text": [
      "Fitting 3 folds for each of 8 candidates, totalling 24 fits\n",
      "[CV 1/3; 1/8] START activation=identity, solver=lbfgs...........................\n",
      "[CV 1/3; 1/8] END activation=identity, solver=lbfgs;, score=0.974 total time=  26.7s\n",
      "[CV 2/3; 1/8] START activation=identity, solver=lbfgs...........................\n",
      "[CV 2/3; 1/8] END activation=identity, solver=lbfgs;, score=0.974 total time=  25.1s\n",
      "[CV 3/3; 1/8] START activation=identity, solver=lbfgs...........................\n",
      "[CV 3/3; 1/8] END activation=identity, solver=lbfgs;, score=0.971 total time=  22.9s\n",
      "[CV 1/3; 2/8] START activation=identity, solver=adam............................\n",
      "[CV 1/3; 2/8] END activation=identity, solver=adam;, score=0.967 total time=  43.7s\n",
      "[CV 2/3; 2/8] START activation=identity, solver=adam............................\n",
      "[CV 2/3; 2/8] END activation=identity, solver=adam;, score=0.975 total time=  38.4s\n",
      "[CV 3/3; 2/8] START activation=identity, solver=adam............................\n",
      "[CV 3/3; 2/8] END activation=identity, solver=adam;, score=0.969 total time= 1.2min\n",
      "[CV 1/3; 3/8] START activation=logistic, solver=lbfgs...........................\n",
      "[CV 1/3; 3/8] END activation=logistic, solver=lbfgs;, score=0.982 total time=  21.9s\n",
      "[CV 2/3; 3/8] START activation=logistic, solver=lbfgs...........................\n",
      "[CV 2/3; 3/8] END activation=logistic, solver=lbfgs;, score=0.981 total time=  23.8s\n",
      "[CV 3/3; 3/8] START activation=logistic, solver=lbfgs...........................\n",
      "[CV 3/3; 3/8] END activation=logistic, solver=lbfgs;, score=0.975 total time=  27.7s\n",
      "[CV 1/3; 4/8] START activation=logistic, solver=adam............................\n",
      "[CV 1/3; 4/8] END activation=logistic, solver=adam;, score=0.966 total time= 2.0min\n",
      "[CV 2/3; 4/8] START activation=logistic, solver=adam............................\n",
      "[CV 2/3; 4/8] END activation=logistic, solver=adam;, score=0.973 total time= 1.7min\n",
      "[CV 3/3; 4/8] START activation=logistic, solver=adam............................\n",
      "[CV 3/3; 4/8] END activation=logistic, solver=adam;, score=0.970 total time= 1.9min\n",
      "[CV 1/3; 5/8] START activation=tanh, solver=lbfgs...............................\n",
      "[CV 1/3; 5/8] END activation=tanh, solver=lbfgs;, score=0.977 total time=  18.4s\n",
      "[CV 2/3; 5/8] START activation=tanh, solver=lbfgs...............................\n",
      "[CV 2/3; 5/8] END activation=tanh, solver=lbfgs;, score=0.979 total time=  22.4s\n",
      "[CV 3/3; 5/8] START activation=tanh, solver=lbfgs...............................\n",
      "[CV 3/3; 5/8] END activation=tanh, solver=lbfgs;, score=0.976 total time=  18.8s\n",
      "[CV 1/3; 6/8] START activation=tanh, solver=adam................................\n",
      "[CV 1/3; 6/8] END .activation=tanh, solver=adam;, score=0.969 total time= 1.2min\n",
      "[CV 2/3; 6/8] START activation=tanh, solver=adam................................\n",
      "[CV 2/3; 6/8] END .activation=tanh, solver=adam;, score=0.974 total time= 1.6min\n",
      "[CV 3/3; 6/8] START activation=tanh, solver=adam................................\n",
      "[CV 3/3; 6/8] END .activation=tanh, solver=adam;, score=0.973 total time= 1.2min\n",
      "[CV 1/3; 7/8] START activation=relu, solver=lbfgs...............................\n",
      "[CV 1/3; 7/8] END activation=relu, solver=lbfgs;, score=0.988 total time=  10.8s\n",
      "[CV 2/3; 7/8] START activation=relu, solver=lbfgs...............................\n",
      "[CV 2/3; 7/8] END activation=relu, solver=lbfgs;, score=0.991 total time=   9.5s\n",
      "[CV 3/3; 7/8] START activation=relu, solver=lbfgs...............................\n",
      "[CV 3/3; 7/8] END activation=relu, solver=lbfgs;, score=0.984 total time=  13.0s\n",
      "[CV 1/3; 8/8] START activation=relu, solver=adam................................\n",
      "[CV 1/3; 8/8] END .activation=relu, solver=adam;, score=0.985 total time= 1.0min\n",
      "[CV 2/3; 8/8] START activation=relu, solver=adam................................\n",
      "[CV 2/3; 8/8] END .activation=relu, solver=adam;, score=0.989 total time=  55.9s\n",
      "[CV 3/3; 8/8] START activation=relu, solver=adam................................\n",
      "[CV 3/3; 8/8] END .activation=relu, solver=adam;, score=0.984 total time=  46.4s\n"
     ]
    }
   ],
   "source": [
    "# Кросс-валидация\n",
    "skf = StratifiedKFold(n_splits=3)\n",
    "cv = skf.split(train_fp_os, y_train_os)\n",
    "\n",
    "# Поиск оптимальных параметров\n",
    "grid_search = GridSearchCV(clf, param_grid=params, scoring='f1', n_jobs=1,\n",
    "                               cv=cv, verbose=10)\n",
    "gs_result3 = grid_search.fit(train_fp_os, y_train_os)"
   ]
  },
  {
   "cell_type": "code",
   "execution_count": 756,
   "metadata": {
    "ExecuteTime": {
     "end_time": "2022-03-23T19:01:56.891396Z",
     "start_time": "2022-03-23T19:01:56.889428Z"
    }
   },
   "outputs": [],
   "source": [
    "res_cv3 = gs_result3.cv_results_\n",
    "best_params = gs_result3.best_params_"
   ]
  },
  {
   "cell_type": "code",
   "execution_count": 794,
   "metadata": {
    "ExecuteTime": {
     "end_time": "2022-03-23T19:17:52.744066Z",
     "start_time": "2022-03-23T19:17:52.741649Z"
    }
   },
   "outputs": [],
   "source": [
    "clf = MLPClassifier(random_state=1,\n",
    "                    max_iter=300,\n",
    "                    activation=best_params['activation'],\n",
    "                    solver=best_params['solver'])"
   ]
  },
  {
   "cell_type": "code",
   "execution_count": 795,
   "metadata": {
    "ExecuteTime": {
     "end_time": "2022-03-23T19:18:57.503862Z",
     "start_time": "2022-03-23T19:17:53.012380Z"
    }
   },
   "outputs": [
    {
     "data": {
      "text/plain": [
       "MLPClassifier(max_iter=300, random_state=1)"
      ]
     },
     "execution_count": 795,
     "metadata": {},
     "output_type": "execute_result"
    }
   ],
   "source": [
    "clf.fit(train_fp_os, y_train_os)"
   ]
  },
  {
   "cell_type": "code",
   "execution_count": 796,
   "metadata": {
    "ExecuteTime": {
     "end_time": "2022-03-23T19:18:57.922825Z",
     "start_time": "2022-03-23T19:18:57.891366Z"
    }
   },
   "outputs": [],
   "source": [
    "y_pred = clf.predict(test_fp3)\n",
    "f1_3 = f1_score(y_test, y_pred)"
   ]
  },
  {
   "cell_type": "code",
   "execution_count": 797,
   "metadata": {
    "ExecuteTime": {
     "end_time": "2022-03-23T19:18:58.222385Z",
     "start_time": "2022-03-23T19:18:58.218812Z"
    }
   },
   "outputs": [
    {
     "name": "stdout",
     "output_type": "stream",
     "text": [
      "С помощью TOPOTORSION и Oversampling получен F1-score = 0.272\n"
     ]
    }
   ],
   "source": [
    "print(f'С помощью TOPOTORSION и Oversampling получен F1-score = {f1_3:.3f}')"
   ]
  },
  {
   "cell_type": "markdown",
   "metadata": {},
   "source": [
    "## Задание 2"
   ]
  },
  {
   "cell_type": "code",
   "execution_count": 819,
   "metadata": {
    "ExecuteTime": {
     "end_time": "2022-03-23T19:23:58.513888Z",
     "start_time": "2022-03-23T19:23:58.502307Z"
    }
   },
   "outputs": [],
   "source": [
    "# Model, Fingerprint, Best Parameters, Mean Cross-Validation Score, Std Cross-Validation Score, Test Score\n",
    "df1 = pd.DataFrame(res_cv1)  # ECFP4\n",
    "df1['Model'] = 'MLPClassificator'\n",
    "df1['label'] = 'ECFP4'\n",
    "df1['f1'] = f1_1\n",
    "df2 = pd.DataFrame(res_cv2)  # RDKitFP\n",
    "df2['Model'] = 'MLPClassificator'\n",
    "df2['label'] = 'RDKitFP'\n",
    "df2['f1'] = f1_2\n",
    "df3 = pd.DataFrame(res_cv3)  # TOPOTORSION\n",
    "df3['Model'] = 'MLPClassificator'\n",
    "df3['label'] = 'TOPOTORSION'\n",
    "df3['f1'] = f1_3\n",
    "df = pd.concat((df1, df2, df3), axis=0)\n",
    "df_best = df[df['rank_test_score'] == 1]\n",
    "result = df_best[[\n",
    "    'Model', 'label', 'params', 'mean_test_score', 'std_test_score', 'f1'\n",
    "]]\n",
    "result.columns = [\n",
    "    'Model', 'Fingerprint', 'Best Parameters', 'Mean_Cross-Validation Score',\n",
    "    'Std_Cross-Validation_Score', 'Test_Score'\n",
    "]"
   ]
  },
  {
   "cell_type": "code",
   "execution_count": 821,
   "metadata": {
    "ExecuteTime": {
     "end_time": "2022-03-23T19:25:10.310876Z",
     "start_time": "2022-03-23T19:25:10.302372Z"
    }
   },
   "outputs": [
    {
     "data": {
      "text/html": [
       "<div>\n",
       "<style scoped>\n",
       "    .dataframe tbody tr th:only-of-type {\n",
       "        vertical-align: middle;\n",
       "    }\n",
       "\n",
       "    .dataframe tbody tr th {\n",
       "        vertical-align: top;\n",
       "    }\n",
       "\n",
       "    .dataframe thead th {\n",
       "        text-align: right;\n",
       "    }\n",
       "</style>\n",
       "<table border=\"1\" class=\"dataframe\">\n",
       "  <thead>\n",
       "    <tr style=\"text-align: right;\">\n",
       "      <th></th>\n",
       "      <th>Model</th>\n",
       "      <th>Fingerprint</th>\n",
       "      <th>Best Parameters</th>\n",
       "      <th>Mean_Cross-Validation Score</th>\n",
       "      <th>Std_Cross-Validation_Score</th>\n",
       "      <th>Test_Score</th>\n",
       "    </tr>\n",
       "  </thead>\n",
       "  <tbody>\n",
       "    <tr>\n",
       "      <th>6</th>\n",
       "      <td>MLPClassificator</td>\n",
       "      <td>ECFP4</td>\n",
       "      <td>{'activation': 'relu', 'solver': 'lbfgs'}</td>\n",
       "      <td>0.989921</td>\n",
       "      <td>0.001871</td>\n",
       "      <td>0.361446</td>\n",
       "    </tr>\n",
       "    <tr>\n",
       "      <th>7</th>\n",
       "      <td>MLPClassificator</td>\n",
       "      <td>RDKitFP</td>\n",
       "      <td>{'activation': 'relu', 'solver': 'adam'}</td>\n",
       "      <td>0.989826</td>\n",
       "      <td>0.000565</td>\n",
       "      <td>0.336842</td>\n",
       "    </tr>\n",
       "    <tr>\n",
       "      <th>6</th>\n",
       "      <td>MLPClassificator</td>\n",
       "      <td>TOPOTORSION</td>\n",
       "      <td>{'activation': 'relu', 'solver': 'lbfgs'}</td>\n",
       "      <td>0.987460</td>\n",
       "      <td>0.002788</td>\n",
       "      <td>0.271845</td>\n",
       "    </tr>\n",
       "  </tbody>\n",
       "</table>\n",
       "</div>"
      ],
      "text/plain": [
       "              Model  Fingerprint                            Best Parameters  \\\n",
       "6  MLPClassificator        ECFP4  {'activation': 'relu', 'solver': 'lbfgs'}   \n",
       "7  MLPClassificator      RDKitFP   {'activation': 'relu', 'solver': 'adam'}   \n",
       "6  MLPClassificator  TOPOTORSION  {'activation': 'relu', 'solver': 'lbfgs'}   \n",
       "\n",
       "   Mean_Cross-Validation Score  Std_Cross-Validation_Score  Test_Score  \n",
       "6                     0.989921                    0.001871    0.361446  \n",
       "7                     0.989826                    0.000565    0.336842  \n",
       "6                     0.987460                    0.002788    0.271845  "
      ]
     },
     "execution_count": 821,
     "metadata": {},
     "output_type": "execute_result"
    }
   ],
   "source": [
    "result"
   ]
  },
  {
   "cell_type": "markdown",
   "metadata": {},
   "source": [
    "## Сравение со cлучайным лесом"
   ]
  },
  {
   "cell_type": "code",
   "execution_count": 822,
   "metadata": {
    "ExecuteTime": {
     "end_time": "2022-03-23T19:25:50.529908Z",
     "start_time": "2022-03-23T19:25:50.526275Z"
    }
   },
   "outputs": [],
   "source": [
    "from sklearn.ensemble import RandomForestClassifier\n",
    "from sklearn.model_selection import GridSearchCV"
   ]
  },
  {
   "cell_type": "code",
   "execution_count": 824,
   "metadata": {
    "ExecuteTime": {
     "end_time": "2022-03-23T19:26:21.556243Z",
     "start_time": "2022-03-23T19:26:21.553921Z"
    }
   },
   "outputs": [],
   "source": [
    "params = {\n",
    "        'max_depth': [i*5 for i in range(2,6)],\n",
    "        'n_estimators': [50*i for i in range(3,7)]\n",
    "}"
   ]
  },
  {
   "cell_type": "code",
   "execution_count": 829,
   "metadata": {
    "ExecuteTime": {
     "end_time": "2022-03-23T19:27:52.430017Z",
     "start_time": "2022-03-23T19:27:52.427522Z"
    }
   },
   "outputs": [],
   "source": [
    "forest = RandomForestClassifier(n_jobs=-1)"
   ]
  },
  {
   "cell_type": "code",
   "execution_count": 830,
   "metadata": {
    "ExecuteTime": {
     "end_time": "2022-03-23T19:28:04.688098Z",
     "start_time": "2022-03-23T19:28:04.604085Z"
    }
   },
   "outputs": [],
   "source": [
    "temp_data = np.hstack((train_fp1, np.array(y_train).reshape(len(y_train), 1)))\n",
    "temp1 = temp_data[temp_data[:,-1] == 1]\n",
    "temp2 = temp_data[temp_data[:,-1] == 0]\n",
    "\n",
    "# Эмперически найденные значения для OverSampling\n",
    "choice = np.array(pd.read_csv('res_choice.csv')).reshape(len(choice),)\n",
    "\n",
    "temp3 = temp1[choice,:]\n",
    "temp4 = np.vstack((temp2, temp3))\n",
    "\n",
    "train_fp_os = temp4[:, :-1]\n",
    "y_train_os = temp4[:, -1]"
   ]
  },
  {
   "cell_type": "code",
   "execution_count": 836,
   "metadata": {
    "ExecuteTime": {
     "end_time": "2022-03-23T19:33:32.881434Z",
     "start_time": "2022-03-23T19:30:21.687002Z"
    }
   },
   "outputs": [
    {
     "name": "stdout",
     "output_type": "stream",
     "text": [
      "Fitting 3 folds for each of 16 candidates, totalling 48 fits\n"
     ]
    }
   ],
   "source": [
    "skf = StratifiedKFold(n_splits=3)\n",
    "cv = skf.split(train_fp_os, y_train_os)\n",
    "\n",
    "grid_search = GridSearchCV(forest, param_grid=params, scoring='f1', n_jobs=1,\n",
    "                               cv=cv, verbose=1)\n",
    "gs_result4 = grid_search.fit(train_fp_os, y_train_os)"
   ]
  },
  {
   "cell_type": "code",
   "execution_count": 850,
   "metadata": {
    "ExecuteTime": {
     "end_time": "2022-03-23T19:36:25.521215Z",
     "start_time": "2022-03-23T19:36:25.518285Z"
    }
   },
   "outputs": [],
   "source": [
    "best_params = gs_result4.best_params_\n",
    "res_cv4 = gs_result4.cv_results_\n",
    "forest = RandomForestClassifier(n_estimators=best_params['n_estimators'],\n",
    "                    max_depth=best_params['max_depth'])"
   ]
  },
  {
   "cell_type": "code",
   "execution_count": 851,
   "metadata": {
    "ExecuteTime": {
     "end_time": "2022-03-23T19:36:44.103829Z",
     "start_time": "2022-03-23T19:36:27.176089Z"
    }
   },
   "outputs": [
    {
     "data": {
      "text/plain": [
       "RandomForestClassifier(max_depth=25, n_estimators=300)"
      ]
     },
     "execution_count": 851,
     "metadata": {},
     "output_type": "execute_result"
    }
   ],
   "source": [
    "forest.fit(train_fp_os, y_train_os)"
   ]
  },
  {
   "cell_type": "code",
   "execution_count": 852,
   "metadata": {
    "ExecuteTime": {
     "end_time": "2022-03-23T19:36:44.608360Z",
     "start_time": "2022-03-23T19:36:44.391982Z"
    }
   },
   "outputs": [],
   "source": [
    "y_pred = forest.predict(test_fp1)\n",
    "f1_4 = f1_score(y_test, y_pred)"
   ]
  },
  {
   "cell_type": "code",
   "execution_count": 853,
   "metadata": {
    "ExecuteTime": {
     "end_time": "2022-03-23T19:36:44.874913Z",
     "start_time": "2022-03-23T19:36:44.872080Z"
    }
   },
   "outputs": [
    {
     "name": "stdout",
     "output_type": "stream",
     "text": [
      "С помощью RandomForest и Oversampling получен F1-score = 0.302\n"
     ]
    }
   ],
   "source": [
    "print(f'С помощью RandomForest и Oversampling получен F1-score = {f1_4:.3f}')"
   ]
  },
  {
   "cell_type": "code",
   "execution_count": 861,
   "metadata": {
    "ExecuteTime": {
     "end_time": "2022-03-23T19:39:04.226050Z",
     "start_time": "2022-03-23T19:39:04.217120Z"
    }
   },
   "outputs": [],
   "source": [
    "df4 = pd.DataFrame(res_cv4)  # ECFP4\n",
    "df4['Model'] = 'RandomForest'\n",
    "df4['label'] = 'ECFP5'\n",
    "df4['f1'] = f1_4\n",
    "df_best = df4[df4['rank_test_score'] == 1]\n",
    "temp = df_best[[\n",
    "    'Model', 'label', 'params', 'mean_test_score', 'std_test_score', 'f1'\n",
    "]]\n",
    "temp.columns = [\n",
    "    'Model', 'Fingerprint', 'Best Parameters', 'Mean_Cross-Validation Score',\n",
    "    'Std_Cross-Validation_Score', 'Test_Score'\n",
    "]\n",
    "res = pd.concat((result, temp), axis=0)"
   ]
  },
  {
   "cell_type": "code",
   "execution_count": 863,
   "metadata": {
    "ExecuteTime": {
     "end_time": "2022-03-23T19:41:33.415172Z",
     "start_time": "2022-03-23T19:41:33.407897Z"
    }
   },
   "outputs": [
    {
     "data": {
      "text/html": [
       "<div>\n",
       "<style scoped>\n",
       "    .dataframe tbody tr th:only-of-type {\n",
       "        vertical-align: middle;\n",
       "    }\n",
       "\n",
       "    .dataframe tbody tr th {\n",
       "        vertical-align: top;\n",
       "    }\n",
       "\n",
       "    .dataframe thead th {\n",
       "        text-align: right;\n",
       "    }\n",
       "</style>\n",
       "<table border=\"1\" class=\"dataframe\">\n",
       "  <thead>\n",
       "    <tr style=\"text-align: right;\">\n",
       "      <th></th>\n",
       "      <th>Model</th>\n",
       "      <th>Fingerprint</th>\n",
       "      <th>Best Parameters</th>\n",
       "      <th>Mean_Cross-Validation Score</th>\n",
       "      <th>Std_Cross-Validation_Score</th>\n",
       "      <th>Test_Score</th>\n",
       "    </tr>\n",
       "  </thead>\n",
       "  <tbody>\n",
       "    <tr>\n",
       "      <th>6</th>\n",
       "      <td>MLPClassificator</td>\n",
       "      <td>ECFP4</td>\n",
       "      <td>{'activation': 'relu', 'solver': 'lbfgs'}</td>\n",
       "      <td>0.989921</td>\n",
       "      <td>0.001871</td>\n",
       "      <td>0.361446</td>\n",
       "    </tr>\n",
       "    <tr>\n",
       "      <th>7</th>\n",
       "      <td>MLPClassificator</td>\n",
       "      <td>RDKitFP</td>\n",
       "      <td>{'activation': 'relu', 'solver': 'adam'}</td>\n",
       "      <td>0.989826</td>\n",
       "      <td>0.000565</td>\n",
       "      <td>0.336842</td>\n",
       "    </tr>\n",
       "    <tr>\n",
       "      <th>6</th>\n",
       "      <td>MLPClassificator</td>\n",
       "      <td>TOPOTORSION</td>\n",
       "      <td>{'activation': 'relu', 'solver': 'lbfgs'}</td>\n",
       "      <td>0.987460</td>\n",
       "      <td>0.002788</td>\n",
       "      <td>0.271845</td>\n",
       "    </tr>\n",
       "    <tr>\n",
       "      <th>15</th>\n",
       "      <td>RandomForest</td>\n",
       "      <td>ECFP5</td>\n",
       "      <td>{'max_depth': 25, 'n_estimators': 300}</td>\n",
       "      <td>0.987816</td>\n",
       "      <td>0.000221</td>\n",
       "      <td>0.301887</td>\n",
       "    </tr>\n",
       "  </tbody>\n",
       "</table>\n",
       "</div>"
      ],
      "text/plain": [
       "               Model  Fingerprint                            Best Parameters  \\\n",
       "6   MLPClassificator        ECFP4  {'activation': 'relu', 'solver': 'lbfgs'}   \n",
       "7   MLPClassificator      RDKitFP   {'activation': 'relu', 'solver': 'adam'}   \n",
       "6   MLPClassificator  TOPOTORSION  {'activation': 'relu', 'solver': 'lbfgs'}   \n",
       "15      RandomForest        ECFP5     {'max_depth': 25, 'n_estimators': 300}   \n",
       "\n",
       "    Mean_Cross-Validation Score  Std_Cross-Validation_Score  Test_Score  \n",
       "6                      0.989921                    0.001871    0.361446  \n",
       "7                      0.989826                    0.000565    0.336842  \n",
       "6                      0.987460                    0.002788    0.271845  \n",
       "15                     0.987816                    0.000221    0.301887  "
      ]
     },
     "execution_count": 863,
     "metadata": {},
     "output_type": "execute_result"
    }
   ],
   "source": [
    "res"
   ]
  },
  {
   "cell_type": "markdown",
   "metadata": {},
   "source": [
    "# Вывод"
   ]
  },
  {
   "cell_type": "code",
   "execution_count": 864,
   "metadata": {
    "ExecuteTime": {
     "end_time": "2022-03-23T19:41:41.837591Z",
     "start_time": "2022-03-23T19:41:41.826000Z"
    }
   },
   "outputs": [
    {
     "data": {
      "text/html": [
       "<div>\n",
       "<style scoped>\n",
       "    .dataframe tbody tr th:only-of-type {\n",
       "        vertical-align: middle;\n",
       "    }\n",
       "\n",
       "    .dataframe tbody tr th {\n",
       "        vertical-align: top;\n",
       "    }\n",
       "\n",
       "    .dataframe thead th {\n",
       "        text-align: right;\n",
       "    }\n",
       "</style>\n",
       "<table border=\"1\" class=\"dataframe\">\n",
       "  <thead>\n",
       "    <tr style=\"text-align: right;\">\n",
       "      <th></th>\n",
       "      <th>Model</th>\n",
       "      <th>Fingerprint</th>\n",
       "      <th>Best Parameters</th>\n",
       "      <th>Mean_Cross-Validation Score</th>\n",
       "      <th>Std_Cross-Validation_Score</th>\n",
       "      <th>Test_Score</th>\n",
       "    </tr>\n",
       "  </thead>\n",
       "  <tbody>\n",
       "    <tr>\n",
       "      <th>6</th>\n",
       "      <td>MLPClassificator</td>\n",
       "      <td>ECFP4</td>\n",
       "      <td>{'activation': 'relu', 'solver': 'lbfgs'}</td>\n",
       "      <td>0.989921</td>\n",
       "      <td>0.001871</td>\n",
       "      <td>0.361446</td>\n",
       "    </tr>\n",
       "    <tr>\n",
       "      <th>7</th>\n",
       "      <td>MLPClassificator</td>\n",
       "      <td>RDKitFP</td>\n",
       "      <td>{'activation': 'relu', 'solver': 'adam'}</td>\n",
       "      <td>0.989826</td>\n",
       "      <td>0.000565</td>\n",
       "      <td>0.336842</td>\n",
       "    </tr>\n",
       "    <tr>\n",
       "      <th>6</th>\n",
       "      <td>MLPClassificator</td>\n",
       "      <td>TOPOTORSION</td>\n",
       "      <td>{'activation': 'relu', 'solver': 'lbfgs'}</td>\n",
       "      <td>0.987460</td>\n",
       "      <td>0.002788</td>\n",
       "      <td>0.271845</td>\n",
       "    </tr>\n",
       "    <tr>\n",
       "      <th>15</th>\n",
       "      <td>RandomForest</td>\n",
       "      <td>ECFP5</td>\n",
       "      <td>{'max_depth': 25, 'n_estimators': 300}</td>\n",
       "      <td>0.987816</td>\n",
       "      <td>0.000221</td>\n",
       "      <td>0.301887</td>\n",
       "    </tr>\n",
       "  </tbody>\n",
       "</table>\n",
       "</div>"
      ],
      "text/plain": [
       "               Model  Fingerprint                            Best Parameters  \\\n",
       "6   MLPClassificator        ECFP4  {'activation': 'relu', 'solver': 'lbfgs'}   \n",
       "7   MLPClassificator      RDKitFP   {'activation': 'relu', 'solver': 'adam'}   \n",
       "6   MLPClassificator  TOPOTORSION  {'activation': 'relu', 'solver': 'lbfgs'}   \n",
       "15      RandomForest        ECFP5     {'max_depth': 25, 'n_estimators': 300}   \n",
       "\n",
       "    Mean_Cross-Validation Score  Std_Cross-Validation_Score  Test_Score  \n",
       "6                      0.989921                    0.001871    0.361446  \n",
       "7                      0.989826                    0.000565    0.336842  \n",
       "6                      0.987460                    0.002788    0.271845  \n",
       "15                     0.987816                    0.000221    0.301887  "
      ]
     },
     "execution_count": 864,
     "metadata": {},
     "output_type": "execute_result"
    }
   ],
   "source": [
    "res"
   ]
  },
  {
   "cell_type": "markdown",
   "metadata": {},
   "source": [
    "- Какие фингерпринты дали лучший результат?\n",
    "- Какая модель дала лучший результат.\n",
    "- Коррелируют ли скоры на кросс-валидации и тестовой выборке?"
   ]
  },
  {
   "cell_type": "markdown",
   "metadata": {},
   "source": [
    "## Вопрос 1"
   ]
  },
  {
   "cell_type": "markdown",
   "metadata": {},
   "source": [
    "Как можно видеть по таблице, лучший результат у **ECFP4**"
   ]
  },
  {
   "cell_type": "markdown",
   "metadata": {},
   "source": [
    "## Вопрос 2"
   ]
  },
  {
   "cell_type": "markdown",
   "metadata": {},
   "source": [
    "**MLPClassificator** показал лучший **F1-score**"
   ]
  },
  {
   "cell_type": "markdown",
   "metadata": {},
   "source": [
    "## Вопрос 3"
   ]
  },
  {
   "cell_type": "markdown",
   "metadata": {},
   "source": [
    "Гипотеза $H_0$: корреляции нет"
   ]
  },
  {
   "cell_type": "code",
   "execution_count": 879,
   "metadata": {
    "ExecuteTime": {
     "end_time": "2022-03-23T19:48:24.611755Z",
     "start_time": "2022-03-23T19:48:24.602961Z"
    }
   },
   "outputs": [],
   "source": [
    "from scipy.stats import pearsonr\n",
    "X = np.array(res[['Mean_Cross-Validation Score','Test_Score']])[:,0]\n",
    "y = np.array(res[['Mean_Cross-Validation Score','Test_Score']])[:,1]\n",
    "_, pv = pearsonr(X,y)"
   ]
  },
  {
   "cell_type": "code",
   "execution_count": 880,
   "metadata": {
    "ExecuteTime": {
     "end_time": "2022-03-23T19:50:21.260544Z",
     "start_time": "2022-03-23T19:50:21.257920Z"
    }
   },
   "outputs": [
    {
     "name": "stdout",
     "output_type": "stream",
     "text": [
      "Гипотеза H0 отвергается\n"
     ]
    }
   ],
   "source": [
    "alpha = 0.05\n",
    "if pv < alpha:\n",
    "    print(f'Гипотеза H0 отвергается')\n",
    "else:\n",
    "    print(f'Гипотеза H0 не отвергается')"
   ]
  }
 ],
 "metadata": {
  "colab": {
   "collapsed_sections": [],
   "name": "IB_Practice_COVID.ipynb",
   "provenance": []
  },
  "kernelspec": {
   "display_name": "Python 3 (ipykernel)",
   "language": "python",
   "name": "python3"
  },
  "language_info": {
   "codemirror_mode": {
    "name": "ipython",
    "version": 3
   },
   "file_extension": ".py",
   "mimetype": "text/x-python",
   "name": "python",
   "nbconvert_exporter": "python",
   "pygments_lexer": "ipython3",
   "version": "3.9.7"
  },
  "nav_menu": {
   "height": "279px",
   "width": "309px"
  },
  "toc": {
   "base_numbering": 1,
   "nav_menu": {},
   "number_sections": true,
   "sideBar": true,
   "skip_h1_title": false,
   "title_cell": "Table of Contents",
   "title_sidebar": "Contents",
   "toc_cell": false,
   "toc_position": {
    "height": "calc(100% - 180px)",
    "left": "10px",
    "top": "150px",
    "width": "383.188px"
   },
   "toc_section_display": "block",
   "toc_window_display": true
  },
  "varInspector": {
   "cols": {
    "lenName": 16,
    "lenType": 16,
    "lenVar": 40
   },
   "kernels_config": {
    "python": {
     "delete_cmd_postfix": "",
     "delete_cmd_prefix": "del ",
     "library": "var_list.py",
     "varRefreshCmd": "print(var_dic_list())"
    },
    "r": {
     "delete_cmd_postfix": ") ",
     "delete_cmd_prefix": "rm(",
     "library": "var_list.r",
     "varRefreshCmd": "cat(var_dic_list()) "
    }
   },
   "types_to_exclude": [
    "module",
    "function",
    "builtin_function_or_method",
    "instance",
    "_Feature"
   ],
   "window_display": false
  }
 },
 "nbformat": 4,
 "nbformat_minor": 1
}
