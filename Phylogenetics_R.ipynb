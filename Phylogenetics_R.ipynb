{
  "nbformat": 4,
  "nbformat_minor": 0,
  "metadata": {
    "colab": {
      "name": "Phylogenetics_R.ipynb",
      "provenance": [],
      "authorship_tag": "ABX9TyN+LbBEiaSscVtjpe433+X9",
      "include_colab_link": true
    },
    "kernelspec": {
      "name": "ir",
      "display_name": "R"
    },
    "language_info": {
      "name": "R"
    },
    "accelerator": "GPU"
  },
  "cells": [
    {
      "cell_type": "markdown",
      "metadata": {
        "id": "view-in-github",
        "colab_type": "text"
      },
      "source": [
        "<a href=\"https://colab.research.google.com/github/rustbas/MachineLearningHW/blob/main/Phylogenetics_R.ipynb\" target=\"_parent\"><img src=\"https://colab.research.google.com/assets/colab-badge.svg\" alt=\"Open In Colab\"/></a>"
      ]
    },
    {
      "cell_type": "code",
      "execution_count": null,
      "metadata": {
        "colab": {
          "base_uri": "https://localhost:8080/"
        },
        "id": "zlC_Ug6SxkKm",
        "outputId": "71128b7b-bc96-495b-cf9a-1cf9eec24ccd"
      },
      "outputs": [
        {
          "output_type": "stream",
          "name": "stderr",
          "text": [
            "Installing package into ‘/usr/local/lib/R/site-library’\n",
            "(as ‘lib’ is unspecified)\n",
            "\n",
            "Installing package into ‘/usr/local/lib/R/site-library’\n",
            "(as ‘lib’ is unspecified)\n",
            "\n",
            "'getOption(\"repos\")' replaces Bioconductor standard repositories, see\n",
            "'?repositories' for details\n",
            "\n",
            "replacement repositories:\n",
            "    CRAN: https://cran.rstudio.com\n",
            "\n",
            "\n",
            "Bioconductor version 3.14 (BiocManager 1.30.16), R 4.1.2 (2021-11-01)\n",
            "\n",
            "Installing package(s) 'BiocVersion', 'ggtree'\n",
            "\n",
            "also installing the dependencies ‘gridGraphics’, ‘ggplotify’, ‘patchwork’, ‘lazyeval’, ‘aplot’, ‘ggfun’, ‘yulab.utils’, ‘tidytree’, ‘treeio’\n",
            "\n",
            "\n"
          ]
        }
      ],
      "source": [
        "install.packages(\"ape\")\n",
        "\n",
        "if (!require(\"BiocManager\", quietly = TRUE))\n",
        "    install.packages(\"BiocManager\")\n",
        "\n",
        "BiocManager::install(\"ggtree\")"
      ]
    },
    {
      "cell_type": "code",
      "source": [
        ""
      ],
      "metadata": {
        "id": "rIETFKThxzqu"
      },
      "execution_count": null,
      "outputs": []
    }
  ]
}