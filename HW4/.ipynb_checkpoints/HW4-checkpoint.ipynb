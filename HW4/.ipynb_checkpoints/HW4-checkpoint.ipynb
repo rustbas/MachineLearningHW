{
 "cells": [
  {
   "cell_type": "markdown",
   "metadata": {},
   "source": [
    "# Случайные леса\n",
    "__Суммарное количество баллов: 10__\n",
    "\n",
    "В этом задании вам предстоит реализовать ансамбль деревьев решений, известный как случайный лес, применить его к публичным данным и сравнить его эффективность с ансамблями из самых популярных библиотек."
   ]
  },
  {
   "cell_type": "code",
   "execution_count": 202,
   "metadata": {
    "ExecuteTime": {
     "end_time": "2022-03-09T11:44:50.790832Z",
     "start_time": "2022-03-09T11:44:50.785224Z"
    }
   },
   "outputs": [],
   "source": [
    "from sklearn.model_selection import train_test_split\n",
    "import numpy as np\n",
    "import pandas as pd\n",
    "import random\n",
    "import matplotlib.pyplot as plt\n",
    "import matplotlib\n",
    "import copy\n",
    "import seaborn as sns\n",
    "from scipy.stats import mode\n",
    "from inspect import stack\n",
    "from scipy.integrate import simps, trapz\n",
    "from tqdm import tqdm\n",
    "from sklearn.metrics import accuracy_score, recall_score, precision_score, f1_score"
   ]
  },
  {
   "cell_type": "markdown",
   "metadata": {},
   "source": [
    "## Реализация дерева решений"
   ]
  },
  {
   "cell_type": "code",
   "execution_count": 4,
   "metadata": {
    "ExecuteTime": {
     "end_time": "2022-03-09T10:31:27.749081Z",
     "start_time": "2022-03-09T10:31:27.740527Z"
    }
   },
   "outputs": [],
   "source": [
    "def subtotals(x):\n",
    "    X = sorted(list(set(x)))\n",
    "#     print(X)\n",
    "    res = np.zeros(len(X)-1)\n",
    "    for i in range(len(X) - 1):\n",
    "        res[i] = (X[i] + X[i+1])/2\n",
    "    return res"
   ]
  },
  {
   "cell_type": "code",
   "execution_count": 5,
   "metadata": {
    "ExecuteTime": {
     "end_time": "2022-03-09T10:31:34.409088Z",
     "start_time": "2022-03-09T10:31:34.403577Z"
    }
   },
   "outputs": [],
   "source": [
    "def f():\n",
    "    return len(stack())-25"
   ]
  },
  {
   "cell_type": "code",
   "execution_count": 6,
   "metadata": {
    "ExecuteTime": {
     "end_time": "2022-03-09T10:31:47.439136Z",
     "start_time": "2022-03-09T10:31:47.396313Z"
    }
   },
   "outputs": [],
   "source": [
    "def gini(x_in):\n",
    "    x = np.array(x_in)\n",
    "    labels = list(set(x_in))\n",
    "    m = len(labels)\n",
    "    n = len(x)\n",
    "    Y = dict()\n",
    "#     for i in range(m):\n",
    "#         print(x.shape, type(x), x)\n",
    "#         Y[x[i]] = 0\n",
    "    Y = {0:0, 1:0}\n",
    "    for i in range(n):\n",
    "#         print(Y, type(x), x)\n",
    "        key = x[i]\n",
    "#         print(type(float(key)))\n",
    "        Y[x[i]] += 1/n\n",
    "    \n",
    "    S = 0\n",
    "    for key in Y.keys():\n",
    "        S += Y[key]*(1 - Y[key])\n",
    "        \n",
    "    \n",
    "    return S\n",
    "    \n",
    "def entropy(x_in):\n",
    "    x = np.array(x_in)\n",
    "    labels = list(set(x))\n",
    "    m = len(labels)\n",
    "    n = len(x)\n",
    "    Y = {label:0 for label in labels}\n",
    "    \n",
    "    for i in range(n):\n",
    "        Y[x[i]] += 1/n\n",
    "        \n",
    "    S = 0\n",
    "    \n",
    "    for key in Y.keys():\n",
    "        S -= Y[key]*np.log2(Y[key])\n",
    "    return S\n",
    "\n",
    "def gain(left_y, right_y, criterion):\n",
    "    y = list(left_y) + list(right_y)\n",
    "    n_left = len(left_y)\n",
    "    n_right = len(right_y)\n",
    "    n_all = n_left + n_right\n",
    "    return (n_all*criterion(y) - n_right*criterion(right_y) - n_left*criterion(left_y))/n_all"
   ]
  },
  {
   "cell_type": "code",
   "execution_count": 7,
   "metadata": {
    "ExecuteTime": {
     "end_time": "2022-03-09T10:31:55.804412Z",
     "start_time": "2022-03-09T10:31:55.799075Z"
    }
   },
   "outputs": [],
   "source": [
    "class DecisionTreeLeaf:\n",
    "    def __init__(self, y):\n",
    "#         self.mode = mode(y)[0][0]\n",
    "        self.N = len(y)\n",
    "        self.set = list(set(y))\n",
    "        self.y = list(y)\n",
    "#         raise NotImplementedError()\n",
    "\n",
    "class DecisionTreeNode:\n",
    "    def __init__(self, split_dim, split_value, left, right):\n",
    "        self.split_dim = split_dim\n",
    "        self.split_value = split_value\n",
    "        self.left = left\n",
    "        self.right = right\n",
    "#         raise NotImplementedError()"
   ]
  },
  {
   "cell_type": "code",
   "execution_count": 183,
   "metadata": {
    "ExecuteTime": {
     "end_time": "2022-03-09T11:38:49.912792Z",
     "start_time": "2022-03-09T11:38:49.894565Z"
    }
   },
   "outputs": [],
   "source": [
    "class DecisionTreeClassifier:\n",
    "\n",
    "    def __init__(self, criterion=\"gini\", max_depth=None, min_samples_leaf=1):\n",
    "        self.root = None\n",
    "        self.min_samples_leaf = min_samples_leaf\n",
    "        self.max_depth = max_depth\n",
    "        if criterion == 'gini':\n",
    "            self.criterion = gini\n",
    "        elif criterion == 'entropy':\n",
    "            self.criterion = entropy\n",
    "        else:\n",
    "            raise NotImplementedError()\n",
    "    def build(self, X, y):\n",
    "        cur_rec = f()\n",
    "        \n",
    "        min_IG = -np.inf\n",
    "        test = False\n",
    "        res_column = X.columns[1]\n",
    "        res_threshold = np.inf\n",
    "        for column in X.columns:\n",
    "            X_temp = X[column]\n",
    "            if len(set(X_temp)) > 300:\n",
    "                thresholds = subtotals(np.array(X_temp))[::len(X_temp)//10]\n",
    "            else:\n",
    "                thresholds = sorted(list(set(X_temp)))\n",
    "            for threshold in thresholds:\n",
    "                left = y[X_temp < threshold]\n",
    "                right = y[X_temp >= threshold]\n",
    "                if len(left) <= self.min_samples_leaf or len(right) <= self.min_samples_leaf:\n",
    "                    continue\n",
    "                IG = gain(left, right, self.criterion)\n",
    "                if IG > min_IG: \n",
    "                    test = True\n",
    "                    res_column = column\n",
    "                    min_IG = IG\n",
    "                    res_threshold = threshold\n",
    "        \n",
    "        yl = y[X[res_column] < res_threshold]\n",
    "        yr = y[X[res_column] >= res_threshold]\n",
    "        Xl = X[X[res_column] < res_threshold].drop(res_column, axis=1)\n",
    "        Xr = X[X[res_column] >= res_threshold].drop(res_column, axis=1)\n",
    "        if self.max_depth is None:\n",
    "            key = False\n",
    "        elif cur_rec < self.max_depth:\n",
    "            key = False\n",
    "        else:\n",
    "            key = True\n",
    "            \n",
    "\n",
    "        if (key) or len(list(X.columns))<=1 or X.empty or res_threshold == np.inf:\n",
    "            return DecisionTreeLeaf(y)\n",
    "        else:\n",
    "            return DecisionTreeNode(res_column, res_threshold,\n",
    "                                    self.build(Xl, yl),\n",
    "                                    self.build(Xr, yr))\n",
    "\n",
    "    def fit(self, X, y):\n",
    "        self.root = self.build(X, y)\n",
    "\n",
    "    def search(self, x, Node):\n",
    "        if type(Node) is DecisionTreeLeaf:\n",
    "            res = dict()\n",
    "            for key in Node.set:\n",
    "                res[key] = Node.y.count(key)/Node.N\n",
    "            return res\n",
    "        elif type(Node) is DecisionTreeNode:\n",
    "            if x[Node.split_dim] < Node.split_value:\n",
    "                return self.search(x, Node.left)\n",
    "            elif x[Node.split_dim] >= Node.split_value:\n",
    "                return self.search(x, Node.right)\n",
    "        else:\n",
    "            raise NotImplementedError()\n",
    "        \n",
    "    def predict_proba(self, X_in):\n",
    "        X = X_in#.drop('Id', axis=1)\n",
    "#         IDs = X_in.Id\n",
    "        pred = []\n",
    "        N = len(X)\n",
    "        for i in range(N):\n",
    "            x = X.iloc[i]\n",
    "            pred += [self.search(x, self.root)]\n",
    "        \n",
    "        return pred\n",
    "\n",
    "    def predict(self, X):\n",
    "        proba = self.predict_proba(X)\n",
    "        return np.array([max(p.keys(), key=lambda k: p[k]) for p in proba])"
   ]
  },
  {
   "cell_type": "code",
   "execution_count": 9,
   "metadata": {
    "ExecuteTime": {
     "end_time": "2022-03-09T10:32:15.356334Z",
     "start_time": "2022-03-09T10:32:15.349950Z"
    }
   },
   "outputs": [],
   "source": [
    "def tree_depth(tree_root):\n",
    "    if isinstance(tree_root, DecisionTreeNode):\n",
    "        return max(tree_depth(tree_root.left), tree_depth(tree_root.right)) + 1\n",
    "    else:\n",
    "        return 1\n",
    "\n",
    "def draw_tree_rec(tree_root, x_left, x_right, y):\n",
    "    x_center = (x_right - x_left) / 2 + x_left\n",
    "    if isinstance(tree_root, DecisionTreeNode):\n",
    "        x_center = (x_right - x_left) / 2 + x_left\n",
    "        x = draw_tree_rec(tree_root.left, x_left, x_center, y - 1)\n",
    "        plt.plot((x_center, x), (y - 0.1, y - 0.9), c=(0, 0, 0))\n",
    "        x = draw_tree_rec(tree_root.right, x_center, x_right, y - 1)\n",
    "        plt.plot((x_center, x), (y - 0.1, y - 0.9), c=(0, 0, 0))\n",
    "        plt.text(x_center, y, \"x[%i] < %f\" % (tree_root.split_dim, tree_root.split_value),\n",
    "                horizontalalignment='center')\n",
    "    else:\n",
    "        plt.text(x_center, y, str(tree_root.y),\n",
    "                horizontalalignment='center')\n",
    "    return x_center\n",
    "\n",
    "def draw_tree(tree, save_path=None):\n",
    "    td = tree_depth(tree.root)\n",
    "    plt.figure(figsize=(0.33 * 2 ** td, 2 * td))\n",
    "    plt.xlim(-1, 1)\n",
    "    plt.ylim(0.95, td + 0.05)\n",
    "    plt.axis('off')\n",
    "    draw_tree_rec(tree.root, -1, 1, td)\n",
    "    plt.tight_layout()\n",
    "    if save_path is not None:\n",
    "        plt.savefig(save_path)\n",
    "    plt.show()"
   ]
  },
  {
   "cell_type": "code",
   "execution_count": 35,
   "metadata": {
    "ExecuteTime": {
     "end_time": "2022-03-09T10:42:54.541952Z",
     "start_time": "2022-03-09T10:42:54.528768Z"
    }
   },
   "outputs": [],
   "source": [
    "def plot_roc_curve(y_test, p_pred):\n",
    "    positive_samples = sum(1 for y in y_test if y == 0)\n",
    "    tpr = []\n",
    "    fpr = []\n",
    "    for w in np.arange(-0.01, 1.02, 0.01):\n",
    "        y_pred = [(0 if p.get(0, 0) > w else 1) for p in p_pred]\n",
    "        tpr.append(sum(1 for yp, yt in zip(y_pred, y_test) if yp == 0 and yt == 0) / positive_samples)\n",
    "        fpr.append(sum(1 for yp, yt in zip(y_pred, y_test) if yp == 0 and yt != 0) / (len(y_test) - positive_samples))\n",
    "    plt.figure(figsize = (7, 7))\n",
    "    plt.plot(fpr, tpr)\n",
    "    plt.plot([0, 1], [0, 1], linestyle=\"--\")\n",
    "    plt.xlabel(\"False positive rate\")\n",
    "    plt.ylabel(\"True positive rate\")\n",
    "    plt.xlim(-0.01, 1.01)\n",
    "    plt.ylim(-0.01, 1.01)\n",
    "    plt.tight_layout()\n",
    "    plt.show()\n",
    "\n",
    "def rectangle_bounds(bounds):\n",
    "    return ((bounds[0][0], bounds[0][0], bounds[0][1], bounds[0][1]), \n",
    "            (bounds[1][0], bounds[1][1], bounds[1][1], bounds[1][0]))\n",
    "\n",
    "def plot_2d_tree(tree_root, bounds, colors):\n",
    "    if isinstance(tree_root, DecisionTreeNode):\n",
    "        if tree_root.split_dim:\n",
    "            plot_2d_tree(tree_root.left, [bounds[0], [bounds[1][0], tree_root.split_value]], colors)\n",
    "            plot_2d_tree(tree_root.right, [bounds[0], [tree_root.split_value, bounds[1][1]]], colors)\n",
    "            plt.plot(bounds[0], (tree_root.split_value, tree_root.split_value), c=(0, 0, 0))\n",
    "        else:\n",
    "            plot_2d_tree(tree_root.left, [[bounds[0][0], tree_root.split_value], bounds[1]], colors)\n",
    "            plot_2d_tree(tree_root.right, [[tree_root.split_value, bounds[0][1]], bounds[1]], colors)\n",
    "            plt.plot((tree_root.split_value, tree_root.split_value), bounds[1], c=(0, 0, 0))\n",
    "    else:\n",
    "        x, y = rectangle_bounds(bounds)\n",
    "        plt.fill(x, y, c=colors[tree_root.y] + [0.2])\n",
    "\n",
    "def plot_2d(tree, X, y):\n",
    "    plt.figure(figsize=(9, 9))\n",
    "    colors = dict((c, list(np.random.random(3))) for c in np.unique(y))\n",
    "    bounds = list(zip(np.min(X, axis=0), np.max(X, axis=0)))\n",
    "    plt.xlim(*bounds[0])\n",
    "    plt.ylim(*bounds[1])\n",
    "    plot_2d_tree(tree.root, list(zip(np.min(X, axis=0), np.max(X, axis=0))), colors)\n",
    "    for c in np.unique(y):\n",
    "        plt.scatter(X[y==c, 0], X[y==c, 1], c=[colors[c]], label=c)\n",
    "    plt.legend()\n",
    "#     plt.tight_layout()\n",
    "    plt.show()"
   ]
  },
  {
   "cell_type": "code",
   "execution_count": 90,
   "metadata": {
    "ExecuteTime": {
     "end_time": "2022-03-09T11:05:41.823357Z",
     "start_time": "2022-03-09T11:05:41.819884Z"
    }
   },
   "outputs": [],
   "source": [
    "from sklearn.metrics import roc_curve, auc\n",
    "def roc(proba):\n",
    "    res = []\n",
    "    for i in range(len(proba)):\n",
    "        try:\n",
    "            res += [proba[i][1]]\n",
    "        except KeyError:\n",
    "            res += [0]\n",
    "    return np.array(res)\n",
    "def AUC(y_test, proba):\n",
    "    y_pred = roc(proba)\n",
    "    tpr,fpr,_ = roc_curve(y_test, y_pred)\n",
    "    return auc(tpr, fpr)"
   ]
  },
  {
   "cell_type": "code",
   "execution_count": 95,
   "metadata": {
    "ExecuteTime": {
     "end_time": "2022-03-09T11:07:00.945368Z",
     "start_time": "2022-03-09T11:06:54.775524Z"
    }
   },
   "outputs": [
    {
     "data": {
      "image/png": "[encoded data removed]",
      "text/plain": [
       "<Figure size 504x504 with 1 Axes>"
      ]
     },
     "metadata": {
      "needs_background": "light"
     },
     "output_type": "display_data"
    }
   ],
   "source": [
    "all_X = pd.read_csv('x_spam_train.csv')\n",
    "all_y = pd.read_csv('y_spam_train.csv')\n",
    "coef = 0.1\n",
    "X_train, y_train = all_X.iloc[:round(len(all_X)*coef)], all_y['Expected'].iloc[:round(len(all_X)*coef)]\n",
    "X_test, y_test = all_X.iloc[round(len(all_X)*coef):], all_y['Expected'].iloc[round(len(all_X)*coef):]#YOUR_CODE\n",
    "tree = DecisionTreeClassifier(max_depth=5, min_samples_leaf=30)\n",
    "tree.fit(X_train.drop('Id', axis=1), y_train)\n",
    "y_pred = tree.predict(X_test)\n",
    "\n",
    "# print(AUC(y_test, tree.predict_proba(X_test)))\n",
    "\n",
    "plot_roc_curve(y_test, tree.predict_proba(X_test))"
   ]
  },
  {
   "cell_type": "code",
   "execution_count": 134,
   "metadata": {
    "ExecuteTime": {
     "end_time": "2022-03-09T11:24:44.361985Z",
     "start_time": "2022-03-09T11:24:44.351028Z"
    }
   },
   "outputs": [
    {
     "data": {
      "text/html": [
       "<div>\n",
       "<style scoped>\n",
       "    .dataframe tbody tr th:only-of-type {\n",
       "        vertical-align: middle;\n",
       "    }\n",
       "\n",
       "    .dataframe tbody tr th {\n",
       "        vertical-align: top;\n",
       "    }\n",
       "\n",
       "    .dataframe thead th {\n",
       "        text-align: right;\n",
       "    }\n",
       "</style>\n",
       "<table border=\"1\" class=\"dataframe\">\n",
       "  <thead>\n",
       "    <tr style=\"text-align: right;\">\n",
       "      <th></th>\n",
       "      <th>41</th>\n",
       "      <th>24</th>\n",
       "      <th>26</th>\n",
       "      <th>40</th>\n",
       "      <th>10</th>\n",
       "    </tr>\n",
       "  </thead>\n",
       "  <tbody>\n",
       "    <tr>\n",
       "      <th>0</th>\n",
       "      <td>2.38</td>\n",
       "      <td>0.0</td>\n",
       "      <td>0.0</td>\n",
       "      <td>0.0</td>\n",
       "      <td>0.00</td>\n",
       "    </tr>\n",
       "    <tr>\n",
       "      <th>1</th>\n",
       "      <td>0.00</td>\n",
       "      <td>0.0</td>\n",
       "      <td>0.0</td>\n",
       "      <td>0.0</td>\n",
       "      <td>0.00</td>\n",
       "    </tr>\n",
       "    <tr>\n",
       "      <th>2</th>\n",
       "      <td>0.00</td>\n",
       "      <td>0.0</td>\n",
       "      <td>0.0</td>\n",
       "      <td>0.0</td>\n",
       "      <td>0.00</td>\n",
       "    </tr>\n",
       "    <tr>\n",
       "      <th>3</th>\n",
       "      <td>0.00</td>\n",
       "      <td>0.0</td>\n",
       "      <td>0.0</td>\n",
       "      <td>0.0</td>\n",
       "      <td>0.00</td>\n",
       "    </tr>\n",
       "    <tr>\n",
       "      <th>4</th>\n",
       "      <td>0.00</td>\n",
       "      <td>0.0</td>\n",
       "      <td>0.0</td>\n",
       "      <td>0.0</td>\n",
       "      <td>0.00</td>\n",
       "    </tr>\n",
       "    <tr>\n",
       "      <th>...</th>\n",
       "      <td>...</td>\n",
       "      <td>...</td>\n",
       "      <td>...</td>\n",
       "      <td>...</td>\n",
       "      <td>...</td>\n",
       "    </tr>\n",
       "    <tr>\n",
       "      <th>363</th>\n",
       "      <td>0.00</td>\n",
       "      <td>0.0</td>\n",
       "      <td>0.0</td>\n",
       "      <td>0.0</td>\n",
       "      <td>0.05</td>\n",
       "    </tr>\n",
       "    <tr>\n",
       "      <th>364</th>\n",
       "      <td>0.00</td>\n",
       "      <td>0.0</td>\n",
       "      <td>0.0</td>\n",
       "      <td>0.0</td>\n",
       "      <td>0.00</td>\n",
       "    </tr>\n",
       "    <tr>\n",
       "      <th>365</th>\n",
       "      <td>0.00</td>\n",
       "      <td>0.0</td>\n",
       "      <td>0.0</td>\n",
       "      <td>0.0</td>\n",
       "      <td>0.00</td>\n",
       "    </tr>\n",
       "    <tr>\n",
       "      <th>366</th>\n",
       "      <td>0.00</td>\n",
       "      <td>0.0</td>\n",
       "      <td>0.0</td>\n",
       "      <td>0.0</td>\n",
       "      <td>0.00</td>\n",
       "    </tr>\n",
       "    <tr>\n",
       "      <th>367</th>\n",
       "      <td>0.00</td>\n",
       "      <td>0.0</td>\n",
       "      <td>0.0</td>\n",
       "      <td>0.0</td>\n",
       "      <td>0.00</td>\n",
       "    </tr>\n",
       "  </tbody>\n",
       "</table>\n",
       "<p>368 rows × 5 columns</p>\n",
       "</div>"
      ],
      "text/plain": [
       "       41   24   26   40    10\n",
       "0    2.38  0.0  0.0  0.0  0.00\n",
       "1    0.00  0.0  0.0  0.0  0.00\n",
       "2    0.00  0.0  0.0  0.0  0.00\n",
       "3    0.00  0.0  0.0  0.0  0.00\n",
       "4    0.00  0.0  0.0  0.0  0.00\n",
       "..    ...  ...  ...  ...   ...\n",
       "363  0.00  0.0  0.0  0.0  0.05\n",
       "364  0.00  0.0  0.0  0.0  0.00\n",
       "365  0.00  0.0  0.0  0.0  0.00\n",
       "366  0.00  0.0  0.0  0.0  0.00\n",
       "367  0.00  0.0  0.0  0.0  0.00\n",
       "\n",
       "[368 rows x 5 columns]"
      ]
     },
     "execution_count": 134,
     "metadata": {},
     "output_type": "execute_result"
    }
   ],
   "source": [
    "X_train.sample(5, axis=1)"
   ]
  },
  {
   "cell_type": "markdown",
   "metadata": {},
   "source": [
    "Реализуем сам Random Forest. Идея очень простая: строим `n` деревьев, а затем берем модальное предсказание. Используйте реализацию дерева из HW3.\n",
    "\n",
    "#### Параметры конструктора\n",
    "`n_estimators` - количество используемых для предсказания деревьев.\n",
    "\n",
    "Остальное - параметры деревьев.\n",
    "\n",
    "#### Методы\n",
    "`fit(X, y)` - строит `n_estimators` деревьев по выборке `X`.\n",
    "\n",
    "`predict(X)` - для каждого элемента выборки `X` возвращает самый частый класс, который предсказывают для него деревья."
   ]
  },
  {
   "cell_type": "code",
   "execution_count": 212,
   "metadata": {
    "ExecuteTime": {
     "end_time": "2022-03-09T11:49:25.391673Z",
     "start_time": "2022-03-09T11:49:25.382092Z"
    }
   },
   "outputs": [],
   "source": [
    "class RandomForestClassifier:\n",
    "\n",
    "    def __init__(self,\n",
    "                 criterion=\"gini\",\n",
    "                 max_depth=5,\n",
    "                 min_samples_leaf=30,\n",
    "                 max_features=\"auto\",\n",
    "                 n_estimators=10):\n",
    "\n",
    "        self.crit = criterion\n",
    "        self.max_d = max_depth\n",
    "        self.min_samples_leaf = min_samples_leaf\n",
    "        self.forest = [\n",
    "            DecisionTreeClassifier(criterion=criterion,\n",
    "                                   max_depth=max_depth,\n",
    "                                   min_samples_leaf=min_samples_leaf)\n",
    "            for _ in range(n_estimators)\n",
    "        ]\n",
    "        \n",
    "        self.cols = []\n",
    "\n",
    "        if max_features == 'auto' or max_features == 'sqrt':\n",
    "            self.max_features = 'sqrt'\n",
    "        elif max_features == 'log2':\n",
    "            self.max_features = 'log2'\n",
    "        elif type(max_features) is int:\n",
    "            self.max_features = max_features\n",
    "        else:\n",
    "            raise NotImplementedError('Неверное количество признаков')\n",
    "\n",
    "    def fit(self, X, y):\n",
    "        if self.max_features == 'sqrt':\n",
    "            self.sampling = round(np.sqrt(X.shape[1]))\n",
    "        elif self.max_features == 'log2':\n",
    "            self.sampling = round(np.log2(X.shape[1]))\n",
    "        elif type(self.max_features) is int:\n",
    "            self.sampling = self.max_features\n",
    "        else:\n",
    "            raise NotImplementedError('Неверное количество признаков')\n",
    "            \n",
    "        for i in tqdm(range(len(self.forest))):\n",
    "            X_temp = X.sample(self.sampling, axis=1)\n",
    "            self.cols += [X_temp.columns]\n",
    "#             print(X_temp)\n",
    "            self.forest[i].fit(X_temp, y)\n",
    "\n",
    "    def predict(self, X):\n",
    "        proba = []\n",
    "        for i in range(len(self.forest)):\n",
    "#             print(self.cols[i])\n",
    "            X_temp = X[self.cols[i]]\n",
    "            proba += [self.forest[i].predict(X_temp)]\n",
    "            \n",
    "        return mode(np.array(proba))[0]\n",
    "        \n",
    "        "
   ]
  },
  {
   "cell_type": "code",
   "execution_count": 213,
   "metadata": {
    "ExecuteTime": {
     "end_time": "2022-03-09T11:50:22.145092Z",
     "start_time": "2022-03-09T11:49:51.726089Z"
    }
   },
   "outputs": [
    {
     "name": "stderr",
     "output_type": "stream",
     "text": [
      "100%|████████████████████████████████████████████████████████████████████████████████████████████████████████████████████████████████████████████████████████████████████████████████| 5/5 [00:30<00:00,  6.08s/it]\n"
     ]
    }
   ],
   "source": [
    "all_X = pd.read_csv('x_spam_train.csv')\n",
    "all_y = pd.read_csv('y_spam_train.csv')\n",
    "coef = 0.7\n",
    "X_train, y_train = all_X.iloc[:round(len(all_X)*coef)], all_y['Expected'].iloc[:round(len(all_X)*coef)]\n",
    "X_test, y_test = all_X.iloc[round(len(all_X)*coef):], all_y['Expected'].iloc[round(len(all_X)*coef):]#\n",
    "\n",
    "forest = RandomForestClassifier(max_features='sqrt', n_estimators=5)\n",
    "forest.fit(X_train.drop('Id', axis=1), y_train)"
   ]
  },
  {
   "cell_type": "code",
   "execution_count": 214,
   "metadata": {
    "ExecuteTime": {
     "end_time": "2022-03-09T11:50:33.305138Z",
     "start_time": "2022-03-09T11:50:32.935426Z"
    }
   },
   "outputs": [
    {
     "data": {
      "text/plain": [
       "0.8040201005025126"
      ]
     },
     "execution_count": 214,
     "metadata": {},
     "output_type": "execute_result"
    }
   ],
   "source": [
    "proba = forest.predict(X_test.drop('Id', axis=1))\n",
    "f1_score(np.array(y_test), proba.T)\n",
    "\n",
    "# proba.shape"
   ]
  },
  {
   "cell_type": "markdown",
   "metadata": {},
   "source": [
    "### \n",
    "Оптимизируйте по `AUC` на кроссвалидации (размер валидационной выборки - 20%) параметры своей реализации `Random Forest`: \n",
    "\n",
    "максимальную глубину деревьев из [2, 3, 5, 7, 10], количество деревьев из [5, 10, 20, 30, 50, 100]. \n",
    "\n",
    "Постройте `ROC` кривую (и выведите `AUC` и `accuracy`) для лучшего варианта.\n",
    "\n",
    "Подсказка: можно построить сразу 100 деревьев глубины 10, а потом убирать деревья и\n",
    "глубину."
   ]
  },
  {
   "cell_type": "code",
   "execution_count": null,
   "metadata": {},
   "outputs": [],
   "source": [
    "# YOUR_CODE"
   ]
  },
  {
   "cell_type": "markdown",
   "metadata": {},
   "source": [
    "Часто хочется понимать, насколько большую роль играет тот или иной признак для предсказания класса объекта. Есть различные способы посчитать его важность. Один из простых способов сделать это для Random Forest выглядит так:\n",
    "1. Посчитать out-of-bag ошибку предсказания `err_oob` (https://en.wikipedia.org/wiki/Out-of-bag_error)\n",
    "2. Перемешать значения признака `j` у объектов выборки (у каждого из объектов изменится значение признака `j` на какой-то другой)\n",
    "3. Посчитать out-of-bag ошибку (`err_oob_j`) еще раз.\n",
    "4. Оценкой важности признака `j` для одного дерева будет разность `err_oob_j - err_oob`, важность для всего леса считается как среднее значение важности по деревьям.\n",
    "\n",
    "Реализуйте функцию `feature_importance`, которая принимает на вход Random Forest и возвращает массив, в котором содержится важность для каждого признака."
   ]
  },
  {
   "cell_type": "code",
   "execution_count": null,
   "metadata": {},
   "outputs": [],
   "source": [
    "def feature_importance(rfc):\n",
    "    raise NotImplementedError()\n",
    "\n",
    "def most_important_features(importance, names, k=20):\n",
    "    # Выводит названия k самых важных признаков\n",
    "    idicies = np.argsort(importance)[::-1][:k]\n",
    "    return np.array(names)[idicies]"
   ]
  },
  {
   "cell_type": "markdown",
   "metadata": {},
   "source": [
    "Протестируйте решение на простом синтетическом наборе данных. В результате должна получиться точность `1.0`, наибольшее значение важности должно быть у признака с индексом `4`, признаки с индексами `2` и `3`  должны быть одинаково важны, а остальные признаки - не важны совсем."
   ]
  },
  {
   "cell_type": "code",
   "execution_count": null,
   "metadata": {},
   "outputs": [],
   "source": [
    "def synthetic_dataset(size):\n",
    "    X = [(np.random.randint(0, 2), np.random.randint(0, 2), i % 6 == 3, \n",
    "          i % 6 == 0, i % 3 == 2, np.random.randint(0, 2)) for i in range(size)]\n",
    "    y = [i % 3 for i in range(size)]\n",
    "    return np.array(X), np.array(y)\n",
    "\n",
    "X, y = synthetic_dataset(1000)\n",
    "rfc = RandomForestClassifier(n_estimators=100)\n",
    "rfc.fit(X, y)\n",
    "print(\"Accuracy:\", np.mean(rfc.predict(X) == y))\n",
    "print(\"Importance:\", feature_importance(rfc))"
   ]
  },
  {
   "cell_type": "markdown",
   "metadata": {},
   "source": [
    "Проверьте, какие признаки важны для датасета spam? (Используйте файлы x_spam_train и y_spam_train)"
   ]
  },
  {
   "cell_type": "markdown",
   "metadata": {},
   "source": [
    "_Ваш ответ_"
   ]
  },
  {
   "cell_type": "markdown",
   "metadata": {},
   "source": [
    "1. Обучите модель на всех данных из x_spam_train и y_spam_train.\n",
    "2. Сделайте submit своего решения и получите значение f1_score не менее 0.6"
   ]
  },
  {
   "cell_type": "code",
   "execution_count": null,
   "metadata": {
    "pycharm": {
     "name": "#%%\n"
    }
   },
   "outputs": [],
   "source": [
    "submission = pd.DataFrame(columns = [\"Id\", \"Expected\"])\n",
    "submission[\"Id\"] = test[\"Id\"]\n",
    "submission[\"Expected\"] = #YOUR CODE\n",
    "submission.to_csv('submission.csv', index=False)"
   ]
  },
  {
   "cell_type": "markdown",
   "metadata": {},
   "source": [
    "В качестве альтернативы попробуем библиотечные реализации ансамблей моделей. \n",
    "\n",
    "1. [CatBoost](https://catboost.ai/docs/)\n",
    "2. [XGBoost](https://xgboost.readthedocs.io/en/latest/)\n",
    "3. [LightGBM](https://lightgbm.readthedocs.io/en/latest/)\n"
   ]
  },
  {
   "cell_type": "markdown",
   "metadata": {},
   "source": [
    "Установите необходимые библиотеки. \n",
    "Возможно, потребуется установка дополнительных пакетов."
   ]
  },
  {
   "cell_type": "code",
   "execution_count": 112,
   "metadata": {
    "ExecuteTime": {
     "end_time": "2022-03-09T11:09:41.554500Z",
     "start_time": "2022-03-09T11:08:22.824271Z"
    }
   },
   "outputs": [
    {
     "name": "stdout",
     "output_type": "stream",
     "text": [
      "Collecting lightgbm\n",
      "  Downloading lightgbm-3.3.2-py3-none-manylinux1_x86_64.whl (2.0 MB)\n",
      "\u001b[2K     \u001b[38;2;114;156;31m━━━━━━━━━━━━━━━━━━━━━━━━━━━━━━━━━━━━━━━━\u001b[0m \u001b[32m2.0/2.0 MB\u001b[0m \u001b[31m900.6 kB/s\u001b[0m eta \u001b[36m0:00:00\u001b[0m kB/s\u001b[0m eta \u001b[36m0:00:01\u001b[0m:01\u001b[0m\n",
      "\u001b[?25hRequirement already satisfied: numpy in /home/rustam/miniconda3/lib/python3.9/site-packages (from lightgbm) (1.21.4)\n",
      "Requirement already satisfied: wheel in /home/rustam/miniconda3/lib/python3.9/site-packages (from lightgbm) (0.37.0)\n",
      "Requirement already satisfied: scikit-learn!=0.22.0 in /home/rustam/miniconda3/lib/python3.9/site-packages (from lightgbm) (1.0.2)\n",
      "Requirement already satisfied: scipy in /home/rustam/miniconda3/lib/python3.9/site-packages (from lightgbm) (1.7.2)\n",
      "Requirement already satisfied: threadpoolctl>=2.0.0 in /home/rustam/miniconda3/lib/python3.9/site-packages (from scikit-learn!=0.22.0->lightgbm) (3.0.0)\n",
      "Requirement already satisfied: joblib>=0.11 in /home/rustam/miniconda3/lib/python3.9/site-packages/joblib-1.1.0-py3.9.egg (from scikit-learn!=0.22.0->lightgbm) (1.1.0)\n",
      "Installing collected packages: lightgbm\n",
      "Successfully installed lightgbm-3.3.2\n",
      "Collecting catboost\n",
      "  Downloading catboost-1.0.4-cp39-none-manylinux1_x86_64.whl (76.2 MB)\n",
      "\u001b[2K     \u001b[38;2;114;156;31m━━━━━━━━━━━━━━━━━━━━━━━━━━━━━━━━━━━━━━━━\u001b[0m \u001b[32m76.2/76.2 MB\u001b[0m \u001b[31m3.5 MB/s\u001b[0m eta \u001b[36m0:00:00\u001b[0mm eta \u001b[36m0:00:01\u001b[0m[36m0:00:01\u001b[0m\n",
      "\u001b[?25hRequirement already satisfied: plotly in /home/rustam/miniconda3/lib/python3.9/site-packages (from catboost) (5.6.0)\n",
      "Requirement already satisfied: graphviz in /home/rustam/miniconda3/lib/python3.9/site-packages (from catboost) (0.17)\n",
      "Requirement already satisfied: pandas>=0.24.0 in /home/rustam/miniconda3/lib/python3.9/site-packages (from catboost) (1.3.4)\n",
      "Requirement already satisfied: six in /home/rustam/miniconda3/lib/python3.9/site-packages (from catboost) (1.16.0)\n",
      "Requirement already satisfied: matplotlib in /home/rustam/miniconda3/lib/python3.9/site-packages (from catboost) (3.5.0)\n",
      "Requirement already satisfied: numpy>=1.16.0 in /home/rustam/miniconda3/lib/python3.9/site-packages (from catboost) (1.21.4)\n",
      "Requirement already satisfied: scipy in /home/rustam/miniconda3/lib/python3.9/site-packages (from catboost) (1.7.2)\n",
      "Requirement already satisfied: python-dateutil>=2.7.3 in /home/rustam/miniconda3/lib/python3.9/site-packages (from pandas>=0.24.0->catboost) (2.8.2)\n",
      "Requirement already satisfied: pytz>=2017.3 in /home/rustam/miniconda3/lib/python3.9/site-packages (from pandas>=0.24.0->catboost) (2021.3)\n",
      "Requirement already satisfied: pillow>=6.2.0 in /home/rustam/miniconda3/lib/python3.9/site-packages (from matplotlib->catboost) (8.4.0)\n",
      "Requirement already satisfied: packaging>=20.0 in /home/rustam/miniconda3/lib/python3.9/site-packages (from matplotlib->catboost) (21.3)\n",
      "Requirement already satisfied: kiwisolver>=1.0.1 in /home/rustam/miniconda3/lib/python3.9/site-packages (from matplotlib->catboost) (1.3.2)\n",
      "Requirement already satisfied: fonttools>=4.22.0 in /home/rustam/miniconda3/lib/python3.9/site-packages (from matplotlib->catboost) (4.28.1)\n",
      "Requirement already satisfied: pyparsing>=2.2.1 in /home/rustam/miniconda3/lib/python3.9/site-packages (from matplotlib->catboost) (3.0.6)\n",
      "Requirement already satisfied: cycler>=0.10 in /home/rustam/miniconda3/lib/python3.9/site-packages (from matplotlib->catboost) (0.11.0)\n",
      "Requirement already satisfied: tenacity>=6.2.0 in /home/rustam/miniconda3/lib/python3.9/site-packages (from plotly->catboost) (8.0.1)\n",
      "Installing collected packages: catboost\n",
      "Successfully installed catboost-1.0.4\n",
      "Collecting xgboost\n",
      "  Downloading xgboost-1.5.2-py3-none-manylinux2014_x86_64.whl (173.6 MB)\n",
      "\u001b[2K     \u001b[38;2;114;156;31m━━━━━━━━━━━━━━━━━━━━━━━━━━━━━━━━━━━━━━━\u001b[0m \u001b[32m173.6/173.6 MB\u001b[0m \u001b[31m3.8 MB/s\u001b[0m eta \u001b[36m0:00:00\u001b[0mm eta \u001b[36m0:00:01\u001b[0m[36m0:00:02\u001b[0m\n",
      "\u001b[?25hRequirement already satisfied: scipy in /home/rustam/miniconda3/lib/python3.9/site-packages (from xgboost) (1.7.2)\n",
      "Requirement already satisfied: numpy in /home/rustam/miniconda3/lib/python3.9/site-packages (from xgboost) (1.21.4)\n",
      "Installing collected packages: xgboost\n",
      "Successfully installed xgboost-1.5.2\n"
     ]
    }
   ],
   "source": [
    "!pip install lightgbm\n",
    "!pip install catboost\n",
    "!pip install xgboost"
   ]
  },
  {
   "cell_type": "markdown",
   "metadata": {},
   "source": [
    "1. Примените модели для нашего датасета.\n",
    "\n",
    "2. Для стандартного набора параметров у каждой модели нарисуйте `ROC` кривую и выведите `AUC` и `accuracy`.\n",
    "\n",
    "3. Посчитайте время обучения каждой модели (можно использовать [timeit magic](https://ipython.readthedocs.io/en/stable/interactive/magics.html#magic-timeit)).\n",
    "\n",
    "4. Сравните метрики качества и скорость обучения моделей. Какие выводы можно сделать?"
   ]
  },
  {
   "cell_type": "code",
   "execution_count": 1,
   "metadata": {},
   "outputs": [],
   "source": [
    "# YOUR_CODE"
   ]
  },
  {
   "cell_type": "markdown",
   "metadata": {},
   "source": [
    "_Ваш ответ_"
   ]
  }
 ],
 "metadata": {
  "kernelspec": {
   "display_name": "Python 3 (ipykernel)",
   "language": "python",
   "name": "python3"
  },
  "language_info": {
   "codemirror_mode": {
    "name": "ipython",
    "version": 3
   },
   "file_extension": ".py",
   "mimetype": "text/x-python",
   "name": "python",
   "nbconvert_exporter": "python",
   "pygments_lexer": "ipython3",
   "version": "3.9.7"
  },
  "toc": {
   "base_numbering": 1,
   "nav_menu": {},
   "number_sections": true,
   "sideBar": true,
   "skip_h1_title": false,
   "title_cell": "Table of Contents",
   "title_sidebar": "Contents",
   "toc_cell": false,
   "toc_position": {},
   "toc_section_display": true,
   "toc_window_display": false
  },
  "varInspector": {
   "cols": {
    "lenName": 16,
    "lenType": 16,
    "lenVar": 40
   },
   "kernels_config": {
    "python": {
     "delete_cmd_postfix": "",
     "delete_cmd_prefix": "del ",
     "library": "var_list.py",
     "varRefreshCmd": "print(var_dic_list())"
    },
    "r": {
     "delete_cmd_postfix": ") ",
     "delete_cmd_prefix": "rm(",
     "library": "var_list.r",
     "varRefreshCmd": "cat(var_dic_list()) "
    }
   },
   "types_to_exclude": [
    "module",
    "function",
    "builtin_function_or_method",
    "instance",
    "_Feature"
   ],
   "window_display": false
  }
 },
 "nbformat": 4,
 "nbformat_minor": 2
}
