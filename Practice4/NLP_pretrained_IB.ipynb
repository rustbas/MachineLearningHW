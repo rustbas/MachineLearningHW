{
  "nbformat": 4,
  "nbformat_minor": 0,
  "metadata": {
    "colab": {
      "name": "NLP_pretrained_IB.ipynb",
      "provenance": [],
      "collapsed_sections": []
    },
    "kernelspec": {
      "name": "python3",
      "display_name": "Python 3"
    },
    "language_info": {
      "name": "python"
    },
    "accelerator": "GPU"
  },
  "cells": [
    {
      "cell_type": "markdown",
      "metadata": {
        "id": "X7I3Gc_C9J3k"
      },
      "source": [
        "\n",
        "# Предсказание молекулярных свойств на основе предобученной модели трансформера\n",
        "\n",
        "\n",
        "Молекулы могут быть представлены в виде [SMILES](https://en.wikipedia.org/wiki/Simplified_molecular-input_line-entry_system) нотации, которая является текстовыми строками. SMILES кодирует стрктуру и состав молекулы.\n",
        "\n",
        "Текстовая модель может вытащить из SMILES скрытое представление молекулы, на основе которого можно делать предсказания свойств молекулы.\n",
        "\n",
        "В данном ноутбуке мы попробуем предсказать растворимость и липофильность для молекул.\n"
      ]
    },
    {
      "cell_type": "markdown",
      "metadata": {
        "id": "OjDSy523lavA"
      },
      "source": [
        "# Установка библиотек\n"
      ]
    },
    {
      "cell_type": "code",
      "metadata": {
        "id": "3py1L375lhFS",
        "colab": {
          "base_uri": "https://localhost:8080/"
        },
        "outputId": "9a5c9bd4-9f87-4809-c172-2cc01f2f6e9f"
      },
      "source": [
        "# Grab Jaime's excellent condacolab package: https://github.com/jaimergp/condacolab\n",
        "# Note: you should probably read the README file at that repo.\n",
        "!pip install -q condacolab\n",
        "import condacolab\n",
        "condacolab.install()"
      ],
      "execution_count": null,
      "outputs": [
        {
          "output_type": "stream",
          "text": [
            "✨🍰✨ Everything looks OK!\n"
          ],
          "name": "stdout"
        }
      ]
    },
    {
      "cell_type": "code",
      "metadata": {
        "id": "aRbTPYc8lh3X",
        "colab": {
          "base_uri": "https://localhost:8080/"
        },
        "outputId": "1a58254b-7e26-4208-cc34-c75f9210442f"
      },
      "source": [
        "!mamba install -c conda-forge rdkit chembl_structure_pipeline\n"
      ],
      "execution_count": null,
      "outputs": [
        {
          "output_type": "stream",
          "text": [
            "\n",
            "                  __    __    __    __\n",
            "                 /  \\  /  \\  /  \\  /  \\\n",
            "                /    \\/    \\/    \\/    \\\n",
            "███████████████/  /██/  /██/  /██/  /████████████████████████\n",
            "              /  / \\   / \\   / \\   / \\  \\____\n",
            "             /  /   \\_/   \\_/   \\_/   \\    o \\__,\n",
            "            / _/                       \\_____/  `\n",
            "            |/\n",
            "        ███╗   ███╗ █████╗ ███╗   ███╗██████╗  █████╗\n",
            "        ████╗ ████║██╔══██╗████╗ ████║██╔══██╗██╔══██╗\n",
            "        ██╔████╔██║███████║██╔████╔██║██████╔╝███████║\n",
            "        ██║╚██╔╝██║██╔══██║██║╚██╔╝██║██╔══██╗██╔══██║\n",
            "        ██║ ╚═╝ ██║██║  ██║██║ ╚═╝ ██║██████╔╝██║  ██║\n",
            "        ╚═╝     ╚═╝╚═╝  ╚═╝╚═╝     ╚═╝╚═════╝ ╚═╝  ╚═╝\n",
            "\n",
            "        mamba (0.8.0) supported by @QuantStack\n",
            "\n",
            "        GitHub:  https://github.com/mamba-org/mamba\n",
            "        Twitter: https://twitter.com/QuantStack\n",
            "\n",
            "█████████████████████████████████████████████████████████████\n",
            "\n",
            "\n",
            "Looking for: ['rdkit', 'chembl_structure_pipeline']\n",
            "\n",
            "conda-forge/linux-64     Using cache\n",
            "conda-forge/noarch       Using cache\n",
            "pkgs/r/linux-64          [] (--:--) No change\n",
            "pkgs/r/linux-64          [] (00m:00s) No change\n",
            "pkgs/r/linux-64          [] (00m:00s) No change\n",
            "pkgs/main/linux-64       [] (--:--) No change\n",
            "pkgs/main/linux-64       [] (00m:00s) No change\n",
            "pkgs/main/linux-64       [] (00m:00s) No change\n",
            "pkgs/main/noarch         [] (--:--) No change\n",
            "pkgs/main/noarch         [] (00m:00s) No change\n",
            "pkgs/main/noarch         [] (00m:00s) No change\n",
            "pkgs/r/noarch            [] (--:--) No change\n",
            "pkgs/r/noarch            [] (00m:00s) No change\n",
            "pkgs/r/noarch            [] (00m:00s) No change\n",
            "Transaction\n",
            "\n",
            "  Prefix: /usr/local\n",
            "\n",
            "  All requested packages already installed\n",
            "\n"
          ],
          "name": "stdout"
        }
      ]
    },
    {
      "cell_type": "code",
      "metadata": {
        "id": "1kBjDqKskRcy",
        "colab": {
          "base_uri": "https://localhost:8080/"
        },
        "outputId": "4906bd81-a133-43ad-9035-5baebc52ebb2"
      },
      "source": [
        "!git clone https://github.com/DSPsleeporg/smiles-transformer.git"
      ],
      "execution_count": null,
      "outputs": [
        {
          "output_type": "stream",
          "text": [
            "fatal: destination path 'smiles-transformer' already exists and is not an empty directory.\n"
          ],
          "name": "stdout"
        }
      ]
    },
    {
      "cell_type": "markdown",
      "metadata": {
        "id": "5bO8XZwTl8jU"
      },
      "source": [
        "# Импорт библиотек"
      ]
    },
    {
      "cell_type": "code",
      "metadata": {
        "id": "D6iBp32BkZaf"
      },
      "source": [
        "import os\n",
        "import numpy as np\n",
        "import pandas as pd\n",
        "import matplotlib.pyplot as plt\n",
        "\n",
        "from rdkit import Chem\n",
        "from rdkit.Chem import AllChem, Draw\n",
        "from rdkit.Chem.Draw import DrawingOptions\n",
        "\n",
        "from sklearn.neural_network import MLPClassifier\n",
        "from sklearn.model_selection import train_test_split\n",
        "from sklearn.metrics import roc_auc_score\n",
        "\n",
        "from sklearn.neighbors import NearestNeighbors\n",
        "\n",
        "sys.path.append('./smiles-transformer/smiles_transformer')\n",
        "\n",
        "import torch\n",
        "from pretrain_trfm import TrfmSeq2seq\n",
        "from build_vocab import WordVocab\n",
        "from utils import split\n",
        "\n",
        "\n",
        "from sklearn.linear_model import LinearRegression, LogisticRegression, Ridge\n",
        "from sklearn.ensemble import RandomForestClassifier, RandomForestRegressor\n",
        "from sklearn.model_selection import train_test_split\n",
        "from sklearn.metrics import mean_squared_error, r2_score, roc_auc_score, precision_recall_curve, auc"
      ],
      "execution_count": null,
      "outputs": []
    },
    {
      "cell_type": "markdown",
      "metadata": {
        "id": "LjZib9pkl-_n"
      },
      "source": [
        "# Utils"
      ]
    },
    {
      "cell_type": "markdown",
      "metadata": {
        "id": "w1KhmU1AkwNE"
      },
      "source": [
        "Создадим функции для обработки данных"
      ]
    },
    {
      "cell_type": "code",
      "metadata": {
        "id": "e0FsMahuktdS"
      },
      "source": [
        "# Функция принимает на вход один SMILES, укорачивает их\n",
        "# При помощи словаря переводит символы в набор цифр\n",
        "# Возвращает массив чисел\n",
        "def get_inputs(sm):\n",
        "    seq_len = 220\n",
        "    sm = sm.split()\n",
        "    if len(sm)>218:\n",
        "        print('SMILES is too long ({:d})'.format(len(sm)))\n",
        "        sm = sm[:109]+sm[-109:]\n",
        "    ids = [vocab.stoi.get(token, unk_index) for token in sm]\n",
        "    ids = [sos_index] + ids + [eos_index]\n",
        "    seg = [1]*len(ids)\n",
        "    padding = [pad_index]*(seq_len - len(ids))\n",
        "    ids.extend(padding), seg.extend(padding)\n",
        "    return ids\n",
        "\n",
        "# Функция принимает на вход набор SMILES\n",
        "# И применяет функцию get_inputs()\n",
        "def get_array(smiles):\n",
        "    x_id = []\n",
        "    for sm in smiles:\n",
        "        a = get_inputs(sm)\n",
        "        x_id.append(a)\n",
        "        \n",
        "    return torch.tensor(x_id)"
      ],
      "execution_count": null,
      "outputs": []
    },
    {
      "cell_type": "code",
      "metadata": {
        "id": "2xin3ccS4T1p"
      },
      "source": [
        "# функция отрисовки красивых молекул\n",
        "def plot_mols(mols, unit=200, w=120, h=200, fontsize=1.0):\n",
        "    drawer = Draw.MolDraw2DSVG(4*unit, 3*unit, w, h)\n",
        "\n",
        "    opt = drawer.drawOptions()\n",
        "    opt.padding = 0.1\n",
        "    opt.legendFontSize = 20\n",
        "\n",
        "\n",
        "    xs = np.array([0,1,2,3,0,1,2,3,0,1,2,3])*unit\n",
        "    ys = np.array([0,0,0,0,1,1,1,1,2,2,2,2])*unit\n",
        "    for i, (mol, x, y) in enumerate(zip(mols,xs,ys)):\n",
        "\n",
        "        drawer.SetOffset(int(x), int(y))\n",
        "        drawer.SetFontSize(fontsize)\n",
        "\n",
        "        AllChem.Compute2DCoords(mol)\n",
        "        Chem.Kekulize(mol)\n",
        "\n",
        "        drawer.DrawMolecule(mol, legend=str(i))\n",
        "\n",
        "\n",
        "\n",
        "    drawer.FinishDrawing()\n",
        "    return drawer"
      ],
      "execution_count": null,
      "outputs": []
    },
    {
      "cell_type": "markdown",
      "metadata": {
        "id": "RMjpSHqZnX_Z"
      },
      "source": [
        "# Предобученная модель"
      ]
    },
    {
      "cell_type": "markdown",
      "metadata": {
        "id": "UMGJ7v10nbpT"
      },
      "source": [
        "https://arxiv.org/pdf/1911.04738.pdf\n",
        "\n",
        "\n",
        "Измерить в лаборатории молекулярные свойста для большого числа молекул - дорогой по времени и материалам процесс.\n",
        "\n",
        "\n",
        "\n",
        "Что же делать?\n",
        "\n",
        "Есть датасеты известных молекул состоящие из миллионов объектов. Один из таких корпусов - [ChemBL database](https://www.ebi.ac.uk/chembl/).\n",
        "\n",
        "Что если мы попробуем вытащить скрытые свойства молекул имея на руках только SMILES, не используя предсказания растворимости?\n"
      ]
    },
    {
      "cell_type": "markdown",
      "metadata": {
        "id": "l0rCOkuVqok8"
      },
      "source": [
        "Это делается при помощи моделей автоэнкодеров.\n",
        "\n",
        "![](https://sun9-69.userapi.com/impg/apo1uut5kWtKKeuCJHQT49z4VrcyZLUwH-yPXw/Q7V_OFqiy0Y.jpg?size=1406x976&quality=96&sign=48e376482628d4fd8f61472253d40992&type=album)"
      ]
    },
    {
      "cell_type": "markdown",
      "metadata": {
        "id": "6TiXOy-Aq494"
      },
      "source": [
        "Автоэнкодер принимает на вход молекулу, после серии преобразований сворачивает ее в вектор небольшой размерности, затем пытается из этого вектора предсказать исходное представление молекулы!\n",
        "\n",
        "Если у него это выходит - значит, \"скрытое\" представление содержит достаточно признаков, которые отвечают за представление молекулы."
      ]
    },
    {
      "cell_type": "markdown",
      "metadata": {
        "id": "zXodOBxOrOSz"
      },
      "source": [
        "Теперь можно взять из обученной модели только ту часть, которая вытаскивает свойства молекулы (энкодер) и на этих векторах сделать свои предсказания!"
      ]
    },
    {
      "cell_type": "markdown",
      "metadata": {
        "id": "jcPHQdEArdY-"
      },
      "source": [
        "## Transformer\n",
        "\n",
        "В моделях, работающих с естественным языком SOTA моделями являются трансформеры.\n",
        "\n",
        "Трансформеры включают в себя слои Attention - это слои, которые сохраняют дополнительную информацию о слове, которое они обрабатывают. Когда мы читаем предложения в тексте - мы обращаем внимание на конкретные слова. Attention реализуют внутри себя эту функцию. Передавая \"важность\" слова между слоями мы можем улучшить наши предсказания."
      ]
    },
    {
      "cell_type": "markdown",
      "metadata": {
        "id": "opwFt-KasYsj"
      },
      "source": [
        "![](https://miro.medium.com/max/1200/1*KD1xANybFo4EC2V2unn3RQ.gif)"
      ]
    },
    {
      "cell_type": "markdown",
      "metadata": {
        "id": "CQn5TfCXsm6O"
      },
      "source": [
        "Трансформер состоит из нескольких блоков, включающих слои Attention.\n",
        "\n",
        "![](https://miro.medium.com/max/1400/1*V2435M1u0tiSOz4nRBfl4g.png)"
      ]
    },
    {
      "cell_type": "markdown",
      "metadata": {
        "id": "fU9FU84PsvsQ"
      },
      "source": [
        "# План \n",
        "\n",
        "1. Загрузим предобученную модель трансформера\n",
        "2. Вытащим вектора признаков молекул\n",
        "3. Построим предсказания\n",
        "4. Визуализируем полученные вектора"
      ]
    },
    {
      "cell_type": "markdown",
      "metadata": {
        "id": "I339Dm79s_7a"
      },
      "source": [
        "# Загрузка модели\n",
        "\n",
        "10 баллов"
      ]
    },
    {
      "cell_type": "code",
      "metadata": {
        "id": "Qd6S_6n_tIhU",
        "colab": {
          "base_uri": "https://localhost:8080/"
        },
        "outputId": "3f8c1567-dcdd-4fa3-ae55-2aff64bbd064"
      },
      "source": [
        "# Загружаем словарь символы-номера символов\n",
        "!wget https://www.dropbox.com/s/3m3z7jij5jcmyem/vocab.pkl"
      ],
      "execution_count": null,
      "outputs": [
        {
          "output_type": "stream",
          "text": [
            "--2021-05-16 19:36:25--  https://www.dropbox.com/s/3m3z7jij5jcmyem/vocab.pkl\n",
            "Resolving www.dropbox.com (www.dropbox.com)... 162.125.65.18, 2620:100:6020:18::a27d:4012\n",
            "Connecting to www.dropbox.com (www.dropbox.com)|162.125.65.18|:443... connected.\n",
            "HTTP request sent, awaiting response... 301 Moved Permanently\n",
            "Location: /s/raw/3m3z7jij5jcmyem/vocab.pkl [following]\n",
            "--2021-05-16 19:36:25--  https://www.dropbox.com/s/raw/3m3z7jij5jcmyem/vocab.pkl\n",
            "Reusing existing connection to www.dropbox.com:443.\n",
            "HTTP request sent, awaiting response... 302 Found\n",
            "Location: https://uc33415dbc2c62d794dd72dbbded.dl.dropboxusercontent.com/cd/0/inline/BOkV9f8HpaiPwiqA8rO79v1Nzwc3yAxtm4r5U8PWoFyHmvrtzwl5ZvE5f6n3jpB2mySdlJzG9WSNoAkMDlkW70s6lEFHoGZAiaSz5O8gaaSYzmvywZF3xd2PATRw5DzoQB6hiMe2zwyuDm8O0ouJ6AyZ/file# [following]\n",
            "--2021-05-16 19:36:26--  https://uc33415dbc2c62d794dd72dbbded.dl.dropboxusercontent.com/cd/0/inline/BOkV9f8HpaiPwiqA8rO79v1Nzwc3yAxtm4r5U8PWoFyHmvrtzwl5ZvE5f6n3jpB2mySdlJzG9WSNoAkMDlkW70s6lEFHoGZAiaSz5O8gaaSYzmvywZF3xd2PATRw5DzoQB6hiMe2zwyuDm8O0ouJ6AyZ/file\n",
            "Resolving uc33415dbc2c62d794dd72dbbded.dl.dropboxusercontent.com (uc33415dbc2c62d794dd72dbbded.dl.dropboxusercontent.com)... 162.125.64.15, 2620:100:6023:15::a27d:430f\n",
            "Connecting to uc33415dbc2c62d794dd72dbbded.dl.dropboxusercontent.com (uc33415dbc2c62d794dd72dbbded.dl.dropboxusercontent.com)|162.125.64.15|:443... connected.\n",
            "HTTP request sent, awaiting response... 302 Found\n",
            "Location: /cd/0/inline2/BOkFTc6b0Bk2uc-3I3ahNZIsCYKr_DnBsE2LSVOWdoe1z9kWW-_3klCbbkfuHty5c4Zu3wxHvGvnYRvVJ4CQadXuIwJ2KBBABRYMqSb4aw4GYaFmVusBE6857Qaqx-Z0jnTP0LbNQn6-zzXOGkCX5OHQpfC73Ha-pHsmxpqnI9q_vw_K9Ym-aXsxPz06YlN06kiBsjIjNqwRozcCXKUgk2z5uplh_0JUGNl9NOVflRYCnKaqUTmbEAhwtHOoT32LkGD-BgYW43I-wRO_7XqcV8AYLMIqfo9SpyhB391cqgyZruo-3a87KqiDmIccISmD52rwl5YNjldE9GjOHPr46IVQi6WM-8Vn_l1pAv-mUA9NATKagzhbI6goVrb6ZpVrSOw/file [following]\n",
            "--2021-05-16 19:36:26--  https://uc33415dbc2c62d794dd72dbbded.dl.dropboxusercontent.com/cd/0/inline2/BOkFTc6b0Bk2uc-3I3ahNZIsCYKr_DnBsE2LSVOWdoe1z9kWW-_3klCbbkfuHty5c4Zu3wxHvGvnYRvVJ4CQadXuIwJ2KBBABRYMqSb4aw4GYaFmVusBE6857Qaqx-Z0jnTP0LbNQn6-zzXOGkCX5OHQpfC73Ha-pHsmxpqnI9q_vw_K9Ym-aXsxPz06YlN06kiBsjIjNqwRozcCXKUgk2z5uplh_0JUGNl9NOVflRYCnKaqUTmbEAhwtHOoT32LkGD-BgYW43I-wRO_7XqcV8AYLMIqfo9SpyhB391cqgyZruo-3a87KqiDmIccISmD52rwl5YNjldE9GjOHPr46IVQi6WM-8Vn_l1pAv-mUA9NATKagzhbI6goVrb6ZpVrSOw/file\n",
            "Reusing existing connection to uc33415dbc2c62d794dd72dbbded.dl.dropboxusercontent.com:443.\n",
            "HTTP request sent, awaiting response... 200 OK\n",
            "Length: 1723 (1.7K) [application/octet-stream]\n",
            "Saving to: ‘vocab.pkl’\n",
            "\n",
            "vocab.pkl           100%[===================>]   1.68K  --.-KB/s    in 0s      \n",
            "\n",
            "2021-05-16 19:36:26 (272 MB/s) - ‘vocab.pkl’ saved [1723/1723]\n",
            "\n"
          ],
          "name": "stdout"
        }
      ]
    },
    {
      "cell_type": "code",
      "metadata": {
        "id": "tHwvPNRQuVpG",
        "colab": {
          "base_uri": "https://localhost:8080/"
        },
        "outputId": "ac7f6c3a-a136-4f3b-e2ec-1c5b0373f230"
      },
      "source": [
        "# загрузим веса предобученной модели\n",
        "!wget https://www.dropbox.com/s/0c0ogcvfuthystj/trfm_12_23000.pkl"
      ],
      "execution_count": null,
      "outputs": [
        {
          "output_type": "stream",
          "text": [
            "--2021-05-16 19:36:28--  https://www.dropbox.com/s/0c0ogcvfuthystj/trfm_12_23000.pkl\n",
            "Resolving www.dropbox.com (www.dropbox.com)... 162.125.65.18, 2620:100:6020:18::a27d:4012\n",
            "Connecting to www.dropbox.com (www.dropbox.com)|162.125.65.18|:443... connected.\n",
            "HTTP request sent, awaiting response... 301 Moved Permanently\n",
            "Location: /s/raw/0c0ogcvfuthystj/trfm_12_23000.pkl [following]\n",
            "--2021-05-16 19:36:28--  https://www.dropbox.com/s/raw/0c0ogcvfuthystj/trfm_12_23000.pkl\n",
            "Reusing existing connection to www.dropbox.com:443.\n",
            "HTTP request sent, awaiting response... 302 Found\n",
            "Location: https://ucdb6061c62d460140d93d1cedf2.dl.dropboxusercontent.com/cd/0/inline/BOkffQbiC9ZlH-ka2TX5GFFdJq9cyqfAyh1GllrNkF0BcF-j7vMZNWYfJg92Cw1pqpmGRQdcIBKvdgyRUnxVjA1s1VVGgAPQVrPKhqU5So0Kr3nxde5giolBJsLUmiE6I6EMlGUgl6qMfxA8OscKkDfM/file# [following]\n",
            "--2021-05-16 19:36:28--  https://ucdb6061c62d460140d93d1cedf2.dl.dropboxusercontent.com/cd/0/inline/BOkffQbiC9ZlH-ka2TX5GFFdJq9cyqfAyh1GllrNkF0BcF-j7vMZNWYfJg92Cw1pqpmGRQdcIBKvdgyRUnxVjA1s1VVGgAPQVrPKhqU5So0Kr3nxde5giolBJsLUmiE6I6EMlGUgl6qMfxA8OscKkDfM/file\n",
            "Resolving ucdb6061c62d460140d93d1cedf2.dl.dropboxusercontent.com (ucdb6061c62d460140d93d1cedf2.dl.dropboxusercontent.com)... 162.125.64.15, 2620:100:6021:15::a27d:410f\n",
            "Connecting to ucdb6061c62d460140d93d1cedf2.dl.dropboxusercontent.com (ucdb6061c62d460140d93d1cedf2.dl.dropboxusercontent.com)|162.125.64.15|:443... connected.\n",
            "HTTP request sent, awaiting response... 302 Found\n",
            "Location: /cd/0/inline2/BOmSFwYzeA5EGIWAuH6nn7Yl_nST7x77wYLGC8Gx3OjaaYoyiaQTnddVjjtUtn4K8NHVAm_3dlvip98-m2o1a8wHWAwFilbiU0-AOdCjPNtTD7PWOAibQ5BcwfDK8JwtvshRR__AtbM0jbRtlTrii-EqM_ez1DhhqcSYiyxutbtltcmRcFbS0ut7KVj4ABLJiBERhlRQuynLFWvqPIJOj3GsLLcHgVZ3bTsbG5fHdJW-A3wNPBRgZMPIOcYIGa8vp7970X1X6GPN6IJT1wOBE48Qx5pi_ywHviTlR6T9RTLRfMmkV51WwIjGTjLFtchggy0yB4G8PzGedCkU7S8h1b6q2zt2nFWWBudP9s8Y2pvJgfCT46Frjd9QzEZLz4IsB_c/file [following]\n",
            "--2021-05-16 19:36:29--  https://ucdb6061c62d460140d93d1cedf2.dl.dropboxusercontent.com/cd/0/inline2/BOmSFwYzeA5EGIWAuH6nn7Yl_nST7x77wYLGC8Gx3OjaaYoyiaQTnddVjjtUtn4K8NHVAm_3dlvip98-m2o1a8wHWAwFilbiU0-AOdCjPNtTD7PWOAibQ5BcwfDK8JwtvshRR__AtbM0jbRtlTrii-EqM_ez1DhhqcSYiyxutbtltcmRcFbS0ut7KVj4ABLJiBERhlRQuynLFWvqPIJOj3GsLLcHgVZ3bTsbG5fHdJW-A3wNPBRgZMPIOcYIGa8vp7970X1X6GPN6IJT1wOBE48Qx5pi_ywHviTlR6T9RTLRfMmkV51WwIjGTjLFtchggy0yB4G8PzGedCkU7S8h1b6q2zt2nFWWBudP9s8Y2pvJgfCT46Frjd9QzEZLz4IsB_c/file\n",
            "Reusing existing connection to ucdb6061c62d460140d93d1cedf2.dl.dropboxusercontent.com:443.\n",
            "HTTP request sent, awaiting response... 200 OK\n",
            "Length: 22128521 (21M) [application/octet-stream]\n",
            "Saving to: ‘trfm_12_23000.pkl’\n",
            "\n",
            "trfm_12_23000.pkl   100%[===================>]  21.10M  20.3MB/s    in 1.0s    \n",
            "\n",
            "2021-05-16 19:36:30 (20.3 MB/s) - ‘trfm_12_23000.pkl’ saved [22128521/22128521]\n",
            "\n"
          ],
          "name": "stdout"
        }
      ]
    },
    {
      "cell_type": "code",
      "metadata": {
        "id": "0kvB2Fx0mb2p"
      },
      "source": [
        "pad_index = 0\n",
        "unk_index = 1\n",
        "eos_index = 2\n",
        "sos_index = 3\n",
        "mask_index = 4"
      ],
      "execution_count": null,
      "outputs": []
    },
    {
      "cell_type": "code",
      "metadata": {
        "id": "YxJUxT0mtOOL"
      },
      "source": [
        "vocab = WordVocab.load_vocab('vocab.pkl')"
      ],
      "execution_count": null,
      "outputs": []
    },
    {
      "cell_type": "markdown",
      "metadata": {
        "id": "g03dKigSuPTc"
      },
      "source": [
        "Теперь создадим модель трансформера\n"
      ]
    },
    {
      "cell_type": "code",
      "metadata": {
        "id": "tEATnY4PuSR8",
        "colab": {
          "base_uri": "https://localhost:8080/"
        },
        "outputId": "4805afd7-c233-4544-f385-ba901740911c"
      },
      "source": [
        "trfm = TrfmSeq2seq(len(vocab), 256, len(vocab), 4)\n",
        "trfm.load_state_dict(torch.load('trfm_12_23000.pkl'))\n",
        "trfm.eval()\n",
        "print('Total parameters:', sum(p.numel() for p in trfm.parameters()))"
      ],
      "execution_count": null,
      "outputs": [
        {
          "output_type": "stream",
          "text": [
            "Total parameters: 4245037\n"
          ],
          "name": "stdout"
        }
      ]
    },
    {
      "cell_type": "markdown",
      "metadata": {
        "id": "L3LcwjhRtgU5"
      },
      "source": [
        "Загрузим наши данные"
      ]
    },
    {
      "cell_type": "code",
      "metadata": {
        "id": "c9gF0XrgtiUW",
        "colab": {
          "base_uri": "https://localhost:8080/"
        },
        "outputId": "d5762337-43e5-4b89-b342-856c4f494045"
      },
      "source": [
        "!wget https://www.dropbox.com/s/5b05tivi01a43np/delaney-processed.csv"
      ],
      "execution_count": null,
      "outputs": [
        {
          "output_type": "stream",
          "text": [
            "--2021-05-16 19:36:53--  https://www.dropbox.com/s/5b05tivi01a43np/delaney-processed.csv\n",
            "Resolving www.dropbox.com (www.dropbox.com)... 162.125.64.18, 2620:100:6020:18::a27d:4012\n",
            "Connecting to www.dropbox.com (www.dropbox.com)|162.125.64.18|:443... connected.\n",
            "HTTP request sent, awaiting response... 301 Moved Permanently\n",
            "Location: /s/raw/5b05tivi01a43np/delaney-processed.csv [following]\n",
            "--2021-05-16 19:36:53--  https://www.dropbox.com/s/raw/5b05tivi01a43np/delaney-processed.csv\n",
            "Reusing existing connection to www.dropbox.com:443.\n",
            "HTTP request sent, awaiting response... 302 Found\n",
            "Location: https://uca7f5cc6463e73f8f5c662cf8d9.dl.dropboxusercontent.com/cd/0/inline/BOle9ZcMPuJIPvtSiIDUOvhH4co01a-Q_mzV8VYV9YdPZinfjvR2oT2poD6hyt7w-uvffE0E87kJXTEz-7fZ_Glbxd5yYaZwEHvhpIMnKqzhQzV8CFeSCuAX_w4w-qoFITvzQKiCmkpm4hpIGJLz59Ar/file# [following]\n",
            "--2021-05-16 19:36:53--  https://uca7f5cc6463e73f8f5c662cf8d9.dl.dropboxusercontent.com/cd/0/inline/BOle9ZcMPuJIPvtSiIDUOvhH4co01a-Q_mzV8VYV9YdPZinfjvR2oT2poD6hyt7w-uvffE0E87kJXTEz-7fZ_Glbxd5yYaZwEHvhpIMnKqzhQzV8CFeSCuAX_w4w-qoFITvzQKiCmkpm4hpIGJLz59Ar/file\n",
            "Resolving uca7f5cc6463e73f8f5c662cf8d9.dl.dropboxusercontent.com (uca7f5cc6463e73f8f5c662cf8d9.dl.dropboxusercontent.com)... 162.125.64.15, 2620:100:6020:15::a27d:400f\n",
            "Connecting to uca7f5cc6463e73f8f5c662cf8d9.dl.dropboxusercontent.com (uca7f5cc6463e73f8f5c662cf8d9.dl.dropboxusercontent.com)|162.125.64.15|:443... connected.\n",
            "HTTP request sent, awaiting response... 200 OK\n",
            "Length: 96699 (94K) [text/plain]\n",
            "Saving to: ‘delaney-processed.csv’\n",
            "\n",
            "delaney-processed.c 100%[===================>]  94.43K  --.-KB/s    in 0.02s   \n",
            "\n",
            "2021-05-16 19:36:54 (4.02 MB/s) - ‘delaney-processed.csv’ saved [96699/96699]\n",
            "\n"
          ],
          "name": "stdout"
        }
      ]
    },
    {
      "cell_type": "code",
      "metadata": {
        "id": "uijeTdgwuBMd"
      },
      "source": [
        "data = pd.read_csv('delaney-processed.csv')"
      ],
      "execution_count": null,
      "outputs": []
    },
    {
      "cell_type": "code",
      "metadata": {
        "id": "HMMm1EBItV9_"
      },
      "source": [
        "x_split = [split(sm) for sm in data['smiles'].values]\n",
        "xid = get_array(x_split)"
      ],
      "execution_count": null,
      "outputs": []
    },
    {
      "cell_type": "markdown",
      "metadata": {
        "id": "JfQ3gCVJv7LR"
      },
      "source": [
        "Имея на руках SMILES, переведенные в наборы цифр, можем получить свойства молекул из нашей модели."
      ]
    },
    {
      "cell_type": "code",
      "metadata": {
        "id": "aBlo7lmYuKIV",
        "colab": {
          "base_uri": "https://localhost:8080/"
        },
        "outputId": "aaf9e533-0fb5-4316-deb5-d82d60de52c1"
      },
      "source": [
        "X_esol = trfm.encode(torch.t(xid))\n",
        "print(X_esol.shape)"
      ],
      "execution_count": null,
      "outputs": [
        {
          "output_type": "stream",
          "text": [
            "There are 1128 molecules. It will take a little time.\n",
            "(1128, 1024)\n"
          ],
          "name": "stdout"
        }
      ]
    },
    {
      "cell_type": "code",
      "metadata": {
        "id": "_gtSeoVEtqC4"
      },
      "source": [
        "from sklearn.model_selection import train_test_split\n",
        "from sklearn.pipeline import Pipeline\n",
        "from sklearn.preprocessing import StandardScaler"
      ],
      "execution_count": null,
      "outputs": []
    },
    {
      "cell_type": "code",
      "metadata": {
        "colab": {
          "base_uri": "https://localhost:8080/"
        },
        "id": "9qMvjs53ttB2",
        "outputId": "71bca5a4-b5a6-45f2-aa8c-79511460f5be"
      },
      "source": [
        "Pipeline"
      ],
      "execution_count": null,
      "outputs": [
        {
          "output_type": "execute_result",
          "data": {
            "text/plain": [
              "sklearn.pipeline.Pipeline"
            ]
          },
          "metadata": {
            "tags": []
          },
          "execution_count": 22
        }
      ]
    },
    {
      "cell_type": "code",
      "metadata": {
        "id": "F-Fid_tnw1r7"
      },
      "source": [
        "from sklearn.model_selection import train_test_split\n",
        "from sklearn import pipeline\n",
        "from sklearn.preprocessing import StandardScaler\n",
        "\n",
        "def evaluate_regression(X, y, model='ridge'):\n",
        "    if model=='ridge':\n",
        "        reg = Ridge()\n",
        "    elif model=='rf':\n",
        "        reg = RandomForestRegressor(n_estimators=10)\n",
        "    else:\n",
        "        raise ValueError('Model \"{}\" is invalid. Specify \"ridge\" or \"rf\".'.format(model))\n",
        "\n",
        "    # разделите данные на тренировочную и тестовую выборки\n",
        "    X_train, X_test, y_train, y_test = train_test_split(X, y) \n",
        "\n",
        "    # примените модель reg к тренировочным данным\n",
        "\n",
        "    reg.fit(X_train, X_test)\n",
        "\n",
        "    # сделайте предсказания на тестовой выборке\n",
        "    y_pred = #your_code\n",
        "\n",
        "    # посчитайте rmse и r2 для предсказаний\n",
        "    r2 = #your_code\n",
        "    rmse =  #your_code\n",
        "    ret = {}\n",
        "    ret['r2'] = r2\n",
        "\n",
        "    ret['rmse'] = rmse\n",
        "\n",
        "    return ret"
      ],
      "execution_count": null,
      "outputs": []
    },
    {
      "cell_type": "code",
      "metadata": {
        "id": "xug9hwa-zOKp"
      },
      "source": [
        "score_dic_esol = evaluate_regression(X_esol, data['measured log solubility in mols per litre'].values, model='ridge')\n",
        "print(score_dic_esol)"
      ],
      "execution_count": null,
      "outputs": []
    },
    {
      "cell_type": "markdown",
      "metadata": {
        "id": "XERZz6u2zkjc"
      },
      "source": [
        "Теперь давайте попробуем применить этот подхрод к датасету Lipophilicity!"
      ]
    },
    {
      "cell_type": "code",
      "metadata": {
        "id": "S9qKpVvHzrc7"
      },
      "source": [
        "!wget https://www.dropbox.com/s/dsrl00tj4zjmqbz/Lipophilicity.csv\n"
      ],
      "execution_count": null,
      "outputs": []
    },
    {
      "cell_type": "markdown",
      "metadata": {
        "id": "smaKd0Qnz39e"
      },
      "source": [
        "**TO-DO**\n",
        "\n",
        "1. Закодируйте smiles датасета в числовые последовательности\n",
        "2. Примените модель трансформера для получения векторов свойств молекул\n",
        "3. Посчитайте модель регрессии на полученных векторах"
      ]
    },
    {
      "cell_type": "code",
      "metadata": {
        "id": "bLVQxEZoz2z7"
      },
      "source": [
        "data_lip = #your_code\n",
        "x_split_lip = #your_code\n",
        "xid_lip = #your_code"
      ],
      "execution_count": null,
      "outputs": []
    },
    {
      "cell_type": "code",
      "metadata": {
        "id": "0fdfnKTQ0b2k"
      },
      "source": [
        "X_lip = #your_code\n",
        "print(X_lip.shape)"
      ],
      "execution_count": null,
      "outputs": []
    },
    {
      "cell_type": "code",
      "metadata": {
        "id": "ATT_oLOY0ij0"
      },
      "source": [
        "score_dic_lip = evaluate_regression(X_lip, data_lip['exp'].values, model='ridge')\n",
        "print(score_dic_lip)"
      ],
      "execution_count": null,
      "outputs": []
    },
    {
      "cell_type": "markdown",
      "metadata": {
        "id": "iVWjwTWT0tJw"
      },
      "source": [
        " Ой-ой...\n",
        " Что не так?\n",
        "\n",
        " Интерпретация моделей глубокого обучения - сложная тема. Существует множество методов, как понять, узнала ли нейросеть что-то из данных.\n",
        "\n",
        " Давайте попробуем нарисовать свойства, которые модель получила для наших датасетов и сравним."
      ]
    },
    {
      "cell_type": "markdown",
      "metadata": {
        "id": "yphKi6CM09dd"
      },
      "source": [
        "# Визуализация\n",
        "\n",
        "10 баллов"
      ]
    },
    {
      "cell_type": "markdown",
      "metadata": {
        "id": "lQVJo6iU1Du2"
      },
      "source": [
        "Для отрисовки векторов большого размера на плоскости мы будем использовать функцию tsne. Эта функция пытается сопоставить каждому вектору большого пространства вектор на плоскости так, чтобы близкие вектора из большого пространства были близкими на плоскости - и наоборот."
      ]
    },
    {
      "cell_type": "code",
      "metadata": {
        "id": "mEeKt41H1BA_"
      },
      "source": [
        "from sklearn.manifold import TSNE"
      ],
      "execution_count": null,
      "outputs": []
    },
    {
      "cell_type": "markdown",
      "metadata": {
        "id": "Yo6sxzJ91p2u"
      },
      "source": [
        " **TO-DO**\n",
        "\n",
        " 1. создайте объект TSNE. В качестве параметров передайте размерность пространства, которую мы хотим получить на выходе.\n",
        " 2. Примените метод fit_transform к векторам, полученным из трансформера.\n",
        " 3. Вытащите целевую переменную\n",
        " "
      ]
    },
    {
      "cell_type": "code",
      "metadata": {
        "id": "DvMq7kfa1_Yl"
      },
      "source": [
        "ts = #your_code\n",
        "X_esol_reduced = #your_code\n",
        "y_esol = #your_code"
      ],
      "execution_count": null,
      "outputs": []
    },
    {
      "cell_type": "markdown",
      "metadata": {
        "id": "DrjaF3hL2jKD"
      },
      "source": [
        "Отрисуем полученные вектора"
      ]
    },
    {
      "cell_type": "code",
      "metadata": {
        "id": "7MJ1Ct9p2is_"
      },
      "source": [
        "fig = plt.figure(figsize=(12,10))\n",
        "plt.rcParams['font.size'] = 12\n",
        "plt.scatter(X_esol_reduced[:, 0], X_esol_reduced[:, 1], c=y_esol, marker='o')\n",
        "plt.colorbar()\n",
        "plt.show()"
      ],
      "execution_count": null,
      "outputs": []
    },
    {
      "cell_type": "markdown",
      "metadata": {
        "id": "Ay9wYfcD2ugW"
      },
      "source": [
        "**TO-DO**\n",
        "\n",
        "Сделайте визуализацию для датасета Lipophilicity"
      ]
    },
    {
      "cell_type": "code",
      "metadata": {
        "id": "drxhSEqQ2TPi"
      },
      "source": [
        "ts = #your_code\n",
        "X_lip_reduced = #your_code\n",
        "y_lip = #your_code"
      ],
      "execution_count": null,
      "outputs": []
    },
    {
      "cell_type": "code",
      "metadata": {
        "id": "_YwjGneH29fr"
      },
      "source": [
        "fig = plt.figure(figsize=(12,10))\n",
        "plt.rcParams['font.size'] = 12\n",
        "plt.scatter(X_lip_reduced[:, 0], X_lip_reduced[:, 1], c=y_lip, marker='o')\n",
        "plt.colorbar()\n",
        "plt.show()"
      ],
      "execution_count": null,
      "outputs": []
    },
    {
      "cell_type": "markdown",
      "metadata": {
        "id": "249dK73u8UVQ"
      },
      "source": [
        "**TO-DO:**\n",
        "\n",
        "Что можно сказать о свойствах векторов двух датасетов? Почему предсказания на векторах из датасета липофильности такие плохие?"
      ]
    },
    {
      "cell_type": "markdown",
      "metadata": {
        "id": "4ePMXBC28e1v"
      },
      "source": [
        "Ваш ответ"
      ]
    },
    {
      "cell_type": "markdown",
      "metadata": {
        "id": "GXs32onH3aWf"
      },
      "source": [
        "Посмотрим, что за молекулы нарисованы на плоскости.\n",
        "\n",
        "Выберем последовательность находящихся рядом молекул.\n",
        "Для этого используем модель, которая подбирает ближайших соседей к точке\n",
        "\n",
        "**TO-DO**:\n",
        "1. Создайте объект NearestNeighbors, передайте аргумент metric='euclidean' (считаем расстояние по как евклидово)\n",
        "2. Примените модель к X_esol_reduced (fit)\n",
        "3. Задайте область, в которой будем искать соседей при помощи np.linspace (на вход принимает начало области по оси, конец области и количество точек). Размер области посмотрите по картинке с отрисованными векторами."
      ]
    },
    {
      "cell_type": "code",
      "metadata": {
        "id": "CV7Cirnt3ZrU"
      },
      "source": [
        "nn = #your_code\n",
        "nn.#your_code\n",
        "\n",
        "xs = np.linspace(#your_code)\n",
        "ys = np.linspace(#your_code)\n",
        "ids = []\n",
        "pts = []\n",
        "for x,y in zip(xs, ys):\n",
        "    _, result = nn.kneighbors([[x, y]], n_neighbors=1)\n",
        "    ids.append(result[0, 0])\n",
        "    pts.append(X_esol_reduced[result[0, 0]])\n",
        "pts = np.array(pts)"
      ],
      "execution_count": null,
      "outputs": []
    },
    {
      "cell_type": "code",
      "metadata": {
        "id": "eHyLVPBF3tDk"
      },
      "source": [
        "\n",
        "fig = plt.figure(figsize=(8,7))\n",
        "plt.rcParams['font.size'] = 14\n",
        "plt.axis('off')\n",
        "plt.scatter(X_esol_reduced[:, 0], X_esol_reduced[:, 1], c=data['measured log solubility in mols per litre'].values, marker='o')\n",
        "for i in range(12):\n",
        "    plt.scatter(pts[i,0], pts[i,1], c='r', marker='${}$'.format(i), s=200*(1+i//10))\n",
        "plt.colorbar()\n",
        "plt.savefig('esol.png', dpi=300)\n",
        "plt.show()"
      ],
      "execution_count": null,
      "outputs": []
    },
    {
      "cell_type": "code",
      "metadata": {
        "id": "SR2y6n5d39G-"
      },
      "source": [
        "from IPython.display import SVG\n",
        "mols = [Chem.MolFromSmiles(sm) for sm in data['smiles'].values[ids]]\n",
        "dr = plot_mols(mols, w = 50)\n",
        "with open('esol.svg', 'w') as f:\n",
        "    f.write(dr.GetDrawingText())\n",
        "SVG(dr.GetDrawingText())"
      ],
      "execution_count": null,
      "outputs": []
    },
    {
      "cell_type": "markdown",
      "metadata": {
        "id": "KtaouOBz5PdC"
      },
      "source": [
        "Что вы видите на получившейся картинке?"
      ]
    },
    {
      "cell_type": "markdown",
      "metadata": {
        "id": "GVCxl5zS8h3P"
      },
      "source": [
        "*Ваш ответ*"
      ]
    }
  ]
}