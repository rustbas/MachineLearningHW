{
 "cells": [
  {
   "cell_type": "markdown",
   "metadata": {},
   "source": [
    "# Загрузка библиотек"
   ]
  },
  {
   "cell_type": "code",
   "execution_count": 10,
   "metadata": {
    "ExecuteTime": {
     "end_time": "2022-02-23T22:18:28.513912Z",
     "start_time": "2022-02-23T22:18:28.395953Z"
    }
   },
   "outputs": [
    {
     "data": {
      "text/html": [
       "\n",
       "            <div id=\"ApbLYB\"></div>\n",
       "            <script type=\"text/javascript\" data-lets-plot-script=\"library\">\n",
       "                if(!window.letsPlotCallQueue) {\n",
       "                    window.letsPlotCallQueue = [];\n",
       "                }; \n",
       "                window.letsPlotCall = function(f) {\n",
       "                    window.letsPlotCallQueue.push(f);\n",
       "                };\n",
       "                (function() {\n",
       "                    var script = document.createElement(\"script\");\n",
       "                    script.type = \"text/javascript\";\n",
       "                    script.src = \"https://cdn.jsdelivr.net/gh/JetBrains/lets-plot@v2.2.1/js-package/distr/lets-plot.min.js\";\n",
       "                    script.onload = function() {\n",
       "                        window.letsPlotCall = function(f) {f();};\n",
       "                        window.letsPlotCallQueue.forEach(function(f) {f();});\n",
       "                        window.letsPlotCallQueue = [];\n",
       "                        \n",
       "                    };\n",
       "                    script.onerror = function(event) {\n",
       "                        window.letsPlotCall = function(f) {};    // noop\n",
       "                        window.letsPlotCallQueue = [];\n",
       "                        var div = document.createElement(\"div\");\n",
       "                        div.style.color = 'darkred';\n",
       "                        div.textContent = 'Error loading Lets-Plot JS';\n",
       "                        document.getElementById(\"ApbLYB\").appendChild(div);\n",
       "                    };\n",
       "                    var e = document.getElementById(\"ApbLYB\");\n",
       "                    e.appendChild(script);\n",
       "                })()\n",
       "            </script>\n",
       "            "
      ]
     },
     "metadata": {},
     "output_type": "display_data"
    },
    {
     "name": "stdout",
     "output_type": "stream",
     "text": [
      "mkdir: cannot create directory ‘lets-plot-images’: File exists\r\n"
     ]
    },
    {
     "data": {
      "text/plain": [
       "0.0"
      ]
     },
     "execution_count": 10,
     "metadata": {},
     "output_type": "execute_result"
    }
   ],
   "source": [
    "import pandas as pd\n",
    "import numpy as np\n",
    "from lets_plot import *\n",
    "from tqdm import tqdm\n",
    "import seaborn as sns\n",
    "import matplotlib.pyplot as plt\n",
    "LetsPlot.setup_html()\n",
    "!mkdir lets-plot-images\n",
    "x = np.array([1,1,1,1])\n",
    "x.std()"
   ]
  },
  {
   "cell_type": "markdown",
   "metadata": {},
   "source": [
    "## Загрузка данных"
   ]
  },
  {
   "cell_type": "markdown",
   "metadata": {},
   "source": [
    "### Задание 1 (0.5 балла)\n",
    "\n",
    "Для начала работы нам необходимо научиться читать набор данных. В данном домашнем задании мы поработаем с двумя наборами данных.\n",
    "\n",
    "__covid.csv__ ([источник](https://www.kaggle.com/gpreda/covid-world-vaccination-progress)) - статистика по вакцинированию от COVID19 по разным странам. Для данного датасета нет конкретной предсказательной переменной.\n",
    "\n",
    "__hr.csv__ ([источник](https://www.kaggle.com/arashnic/hr-analytics-job-change-of-data-scientists)) - набор данных большего размера. Он содержит статистику по людям, проходящим курсы по Big Data & ML. _Target_ - 1 или 0, сменил ли человек работу после прохождения курсов - или нет.\n",
    "\n",
    "Реализуйте методы `read_covid_dataset` и `read_hr_dataset`. Каждый из них принимает на вход путь к набору данных и возвращает выборку `X` и соответствующие метки `y`. В случае _covid_ датасета `y` возвращается как `None`. "
   ]
  },
  {
   "cell_type": "code",
   "execution_count": 2,
   "metadata": {
    "ExecuteTime": {
     "end_time": "2022-02-16T18:45:40.849115Z",
     "start_time": "2022-02-16T18:45:40.845795Z"
    }
   },
   "outputs": [],
   "source": [
    "def read_covid_dataset(path_to_csv):\n",
    "    '''\n",
    "    Возвращает пару из X и y. X - массив векторов. y - соответствующие векторам метки\n",
    "    ''' \n",
    "    df = pd.read_csv(path_to_csv)\n",
    "    X = df.copy()\n",
    "    df['target'] = None\n",
    "    y = df['target']\n",
    "    return X, y\n",
    "\n",
    "\n",
    "def read_hr_dataset(path_to_csv):\n",
    "    '''\n",
    "    Возвращает пару из X и y. X - массив векторов. y - соответствующие векторам метки\n",
    "    ''' \n",
    "    df = pd.read_csv(path_to_csv)\n",
    "    y = df['target'].copy()\n",
    "    df = df.drop(['target'], axis = 1)\n",
    "    X = df\n",
    "    return X, y"
   ]
  },
  {
   "cell_type": "code",
   "execution_count": 3,
   "metadata": {
    "ExecuteTime": {
     "end_time": "2022-02-16T18:45:40.861243Z",
     "start_time": "2022-02-16T18:45:40.850083Z"
    }
   },
   "outputs": [],
   "source": [
    "COVID_DATA_PATH = 'covid.csv'\n",
    "HR_DATA_PATH = 'hr.csv'"
   ]
  },
  {
   "cell_type": "code",
   "execution_count": 4,
   "metadata": {
    "ExecuteTime": {
     "end_time": "2022-02-16T18:45:40.895899Z",
     "start_time": "2022-02-16T18:45:40.862585Z"
    }
   },
   "outputs": [],
   "source": [
    "X_covid, _ = read_covid_dataset(COVID_DATA_PATH)\n",
    "X_hr, y_hr = read_hr_dataset(HR_DATA_PATH)"
   ]
  },
  {
   "cell_type": "markdown",
   "metadata": {},
   "source": [
    "## EDA\n",
    "\n",
    "### Задание 2 (3.5 балла)"
   ]
  },
  {
   "cell_type": "markdown",
   "metadata": {},
   "source": [
    "Выполните задание для датасетa _hr_.\n",
    "\n",
    "Для дальнейшей работы с данными нужно обработать пропущенные значения в датасете.\n",
    "Существуют различные стратегии обработки пропущенных данных."
   ]
  },
  {
   "cell_type": "markdown",
   "metadata": {},
   "source": [
    "#### 1. (0.5 балла)\n",
    "\n",
    "Для числовых признаков постройте распределения признаков. Для категориальных признаков выведите статистику по количеству значений признака."
   ]
  },
  {
   "cell_type": "code",
   "execution_count": 5,
   "metadata": {
    "ExecuteTime": {
     "end_time": "2022-02-16T18:45:40.902615Z",
     "start_time": "2022-02-16T18:45:40.896880Z"
    }
   },
   "outputs": [],
   "source": [
    "# print(X_hr.info())\n",
    "# Строит гистограмму для каждого признака и сохраняет ее в plots\n",
    "plots = []\n",
    "for col in X_hr.columns:\n",
    "    plots += [ggplot(X_hr, aes(col)) + geom_histogram() + ggtitle(col) + ggsize(1700, 850)]"
   ]
  },
  {
   "cell_type": "code",
   "execution_count": 6,
   "metadata": {
    "ExecuteTime": {
     "end_time": "2022-02-16T18:45:50.355718Z",
     "start_time": "2022-02-16T18:45:40.903578Z"
    }
   },
   "outputs": [
    {
     "name": "stderr",
     "output_type": "stream",
     "text": [
      "100%|██████████████████████████████████████████████████████████████████████████████████████████████████████████████████████████████████████████████████████████████████████████████| 13/13 [00:09<00:00,  1.39it/s]\n"
     ]
    }
   ],
   "source": [
    "# Сохранение графиков в html-файлы\n",
    "!mkdir lets-plot-images/hists\n",
    "for i in tqdm(range(len(plots))):\n",
    "    ggsave(plots[i], 'hists/' + str(X_hr.columns[i]) + '.html')"
   ]
  },
  {
   "cell_type": "markdown",
   "metadata": {},
   "source": [
    "Ввиду того, что графики lets_plot получаются \"анимированными\", пришлось их сохранить в отдельные файлы со ссылками, ибо с ними страница начинает подтормаживать.\n",
    "\n",
    "Графики:\n",
    "\n",
    "- [enrollee_id](./lets-plot-images/hists/enrollee_id.html)\n",
    "- [city](./lets-plot-images/hists/city.html)\n",
    "- [city_development_index](./lets-plot-images/hists/city_development_index.html)\n",
    "- [gender](./lets-plot-images/hists/gender.html)\n",
    "- [relevent_experience](./lets-plot-images/hists/relevent_experience.html)\n",
    "- [enrolled_university](./lets-plot-images/hists/enrolled_university.html)\n",
    "- [education_level](./lets-plot-images/hists/education_level.html)\n",
    "- [major_discipline](./lets-plot-images/hists/major_discipline.html)\n",
    "- [experience](./lets-plot-images/hists/experience.html)\n",
    "- [company_size](./lets-plot-images/hists/company_size.html)\n",
    "- [company_type](./lets-plot-images/hists/company_type.html)\n",
    "- [last_new_job](./lets-plot-images/hists/last_new_job.html)\n",
    "- [training_hours](./lets-plot-images/hists/training_hours.html)"
   ]
  },
  {
   "cell_type": "markdown",
   "metadata": {},
   "source": [
    "#### 2. (0.5 балла)\n",
    "Удалите все строки, где есть хотя бы одно пропущенное значение признака. Насколько сильно уменьшился размер датасета? Как изменились распределения признаков/статистика по количеству значений признаков?"
   ]
  },
  {
   "cell_type": "code",
   "execution_count": 7,
   "metadata": {
    "ExecuteTime": {
     "end_time": "2022-02-16T18:45:50.360065Z",
     "start_time": "2022-02-16T18:45:50.357174Z"
    }
   },
   "outputs": [
    {
     "name": "stdout",
     "output_type": "stream",
     "text": [
      "Исходный размер датасета hr = 19158\n"
     ]
    }
   ],
   "source": [
    "print(f'Исходный размер датасета hr = {len(X_hr)}')"
   ]
  },
  {
   "cell_type": "code",
   "execution_count": 8,
   "metadata": {
    "ExecuteTime": {
     "end_time": "2022-02-16T18:45:50.382707Z",
     "start_time": "2022-02-16T18:45:50.361302Z"
    }
   },
   "outputs": [],
   "source": [
    "X_hr_dropna = X_hr.dropna()# YOUR_CODE"
   ]
  },
  {
   "cell_type": "code",
   "execution_count": 9,
   "metadata": {
    "ExecuteTime": {
     "end_time": "2022-02-16T18:45:50.386712Z",
     "start_time": "2022-02-16T18:45:50.383938Z"
    }
   },
   "outputs": [
    {
     "name": "stdout",
     "output_type": "stream",
     "text": [
      "Pазмер датасета hr без NaN = 8955\n"
     ]
    }
   ],
   "source": [
    "print(f'Pазмер датасета hr без NaN = {len(X_hr_dropna)}')"
   ]
  },
  {
   "cell_type": "code",
   "execution_count": 10,
   "metadata": {
    "ExecuteTime": {
     "end_time": "2022-02-16T18:45:50.450519Z",
     "start_time": "2022-02-16T18:45:50.388844Z"
    }
   },
   "outputs": [
    {
     "name": "stderr",
     "output_type": "stream",
     "text": [
      "100%|█████████████████████████████████████████████████████████████████████████████████████████████████████████████████████████████████████████████████████████████████████████████| 13/13 [00:00<00:00, 231.75it/s]\n"
     ]
    }
   ],
   "source": [
    "# Построение гистограмм изначального датасета и датасета с выброшенными NA\n",
    "plots_comp = []\n",
    "for i in tqdm(range(len(X_hr.columns))):\n",
    "    X_hr_comparsion1 = pd.DataFrame()\n",
    "    X_hr_comparsion1[X_hr.columns[i]] = X_hr[X_hr.columns[i]]#.copy()\n",
    "    X_hr_comparsion1['label'] = 'with NA'\n",
    "    X_hr_comparsion2 = pd.DataFrame()\n",
    "    X_hr_comparsion2[X_hr.columns[i]] = X_hr_dropna[X_hr.columns[i]]#.copy()\n",
    "    X_hr_comparsion2['label'] = 'without NA'\n",
    "    X_hr_comparsion = pd.concat([X_hr_comparsion1, X_hr_comparsion2], axis=0)\n",
    "    plots_comp += [ggplot(X_hr_comparsion, aes(x= X_hr.columns[i])) + geom_histogram(col = 'darkblue', fill='lightblue') +\\\n",
    "    facet_wrap('label') + ggtitle(X_hr.columns[i] + '_comparsion') + ggsize(1700,850)]"
   ]
  },
  {
   "cell_type": "code",
   "execution_count": 11,
   "metadata": {
    "ExecuteTime": {
     "end_time": "2022-02-16T18:45:55.280608Z",
     "start_time": "2022-02-16T18:45:50.451533Z"
    }
   },
   "outputs": [
    {
     "name": "stderr",
     "output_type": "stream",
     "text": [
      "100%|██████████████████████████████████████████████████████████████████████████████████████████████████████████████████████████████████████████████████████████████████████████████| 13/13 [00:04<00:00,  2.76it/s]\n"
     ]
    }
   ],
   "source": [
    "# Сохранение графиков в html-файлы\n",
    "!mkdir lets-plot-images/dropna_comp\n",
    "for i in tqdm(range(len(plots_comp))):\n",
    "    ggsave(plots_comp[i], \"dropna_comp/\" + str(X_hr.columns[i]) + '.comparsion.html')"
   ]
  },
  {
   "cell_type": "markdown",
   "metadata": {},
   "source": [
    "Графики:\n",
    "\n",
    "- [enrollee_id_comparsion](./lets-plot-images/dropna_comp/enrollee_id.comparsion.html)\n",
    "- [city_comparsion](./lets-plot-images/dropna_comp/city.comparsion.html)\n",
    "- [city_development_index_comparsion](./lets-plot-images/dropna_comp/city_development_index.comparsion.html)\n",
    "- [gender_comparsion](./lets-plot-images/dropna_comp/gender.comparsion.html)\n",
    "- [relevent_experience_comparsion](./lets-plot-images/dropna_comp/relevent_experience.comparsion.html)\n",
    "- [enrolled_university_comparsion](./lets-plot-images/dropna_comp/enrolled_university.comparsion.html)\n",
    "- [education_level_comparsion](./lets-plot-images/dropna_comp/education_level.comparsion.html)\n",
    "- [major_discipline_comparsion](./lets-plot-images/dropna_comp/major_discipline.comparsion.html)\n",
    "- [experience_comparsion](./lets-plot-images/dropna_comp/experience.comparsion.html)\n",
    "- [company_size_comparsion](./lets-plot-images/dropna_comp/company_size.comparsion.html)\n",
    "- [company_type_comparsion](./lets-plot-images/dropna_comp/company_type.comparsion.html)\n",
    "- [last_new_job_comparsion](./lets-plot-images/dropna_comp/last_new_job.comparsion.html)\n",
    "- [training_hours_comparsion](./lets-plot-images/dropna_comp/training_hours.comparsion.html)"
   ]
  },
  {
   "cell_type": "markdown",
   "metadata": {},
   "source": [
    "Размер датасета сократился $\\frac{19158}{8955} \\approx 2.14$ раза.\n",
    "\n",
    "Почти все распределения уменьшились в той же степени, несильно потеряв форму первоначального распределения, \n",
    "кроме **education_level** и **expierence**"
   ]
  },
  {
   "cell_type": "markdown",
   "metadata": {},
   "source": [
    "Давайте попробуем избежать сокращения размера датасета."
   ]
  },
  {
   "cell_type": "markdown",
   "metadata": {},
   "source": [
    "#### 3.  (1 балл)\n",
    "Для числовых признаков заполните пропущенные данные средним/медианой/модой данного признака. Объясните свой выбор. (Часть строк с NaN значениями можно удалить, если размер датасета уменьшится <15%)"
   ]
  },
  {
   "cell_type": "markdown",
   "metadata": {},
   "source": [
    "#### 4.  (1 балл)\n",
    "Для категориальных признаков заполните пропущенные значения самой встречающейся категорией или создайте отдельную категорию пропущенных значений. Объясните свой выбор. (Часть строк с NaN значениями можно удалить, если размер датасета уменьшится <15%)"
   ]
  },
  {
   "cell_type": "markdown",
   "metadata": {},
   "source": [
    "NaN будем заполнять по таблице:\n",
    "\n",
    "| Тип признака с NaN | Замена  |\n",
    "|--------------------|---------|\n",
    "| Количественный     | Среднее |\n",
    "| Категориальный     | Мода    |\n",
    "\n",
    "Чтобы вносить как можно меньше шумов в данные\n",
    "<!-- | Порядковый         | Медиана | -->"
   ]
  },
  {
   "cell_type": "code",
   "execution_count": 12,
   "metadata": {
    "ExecuteTime": {
     "end_time": "2022-02-16T18:45:55.300317Z",
     "start_time": "2022-02-16T18:45:55.281767Z"
    }
   },
   "outputs": [
    {
     "data": {
      "text/html": [
       "<div>\n",
       "<style scoped>\n",
       "    .dataframe tbody tr th:only-of-type {\n",
       "        vertical-align: middle;\n",
       "    }\n",
       "\n",
       "    .dataframe tbody tr th {\n",
       "        vertical-align: top;\n",
       "    }\n",
       "\n",
       "    .dataframe thead th {\n",
       "        text-align: right;\n",
       "    }\n",
       "</style>\n",
       "<table border=\"1\" class=\"dataframe\">\n",
       "  <thead>\n",
       "    <tr style=\"text-align: right;\">\n",
       "      <th></th>\n",
       "      <th>enrollee_id</th>\n",
       "      <th>city</th>\n",
       "      <th>city_development_index</th>\n",
       "      <th>gender</th>\n",
       "      <th>relevent_experience</th>\n",
       "      <th>enrolled_university</th>\n",
       "      <th>education_level</th>\n",
       "      <th>major_discipline</th>\n",
       "      <th>experience</th>\n",
       "      <th>company_size</th>\n",
       "      <th>company_type</th>\n",
       "      <th>last_new_job</th>\n",
       "      <th>training_hours</th>\n",
       "    </tr>\n",
       "  </thead>\n",
       "  <tbody>\n",
       "    <tr>\n",
       "      <th>0</th>\n",
       "      <td>8949</td>\n",
       "      <td>city_103</td>\n",
       "      <td>0.920</td>\n",
       "      <td>Male</td>\n",
       "      <td>Has relevent experience</td>\n",
       "      <td>no_enrollment</td>\n",
       "      <td>Graduate</td>\n",
       "      <td>STEM</td>\n",
       "      <td>&gt;20</td>\n",
       "      <td>NaN</td>\n",
       "      <td>NaN</td>\n",
       "      <td>1</td>\n",
       "      <td>36</td>\n",
       "    </tr>\n",
       "    <tr>\n",
       "      <th>1</th>\n",
       "      <td>29725</td>\n",
       "      <td>city_40</td>\n",
       "      <td>0.776</td>\n",
       "      <td>Male</td>\n",
       "      <td>No relevent experience</td>\n",
       "      <td>no_enrollment</td>\n",
       "      <td>Graduate</td>\n",
       "      <td>STEM</td>\n",
       "      <td>15</td>\n",
       "      <td>50-99</td>\n",
       "      <td>Pvt Ltd</td>\n",
       "      <td>&gt;4</td>\n",
       "      <td>47</td>\n",
       "    </tr>\n",
       "    <tr>\n",
       "      <th>2</th>\n",
       "      <td>11561</td>\n",
       "      <td>city_21</td>\n",
       "      <td>0.624</td>\n",
       "      <td>NaN</td>\n",
       "      <td>No relevent experience</td>\n",
       "      <td>Full time course</td>\n",
       "      <td>Graduate</td>\n",
       "      <td>STEM</td>\n",
       "      <td>5</td>\n",
       "      <td>NaN</td>\n",
       "      <td>NaN</td>\n",
       "      <td>never</td>\n",
       "      <td>83</td>\n",
       "    </tr>\n",
       "    <tr>\n",
       "      <th>3</th>\n",
       "      <td>33241</td>\n",
       "      <td>city_115</td>\n",
       "      <td>0.789</td>\n",
       "      <td>NaN</td>\n",
       "      <td>No relevent experience</td>\n",
       "      <td>NaN</td>\n",
       "      <td>Graduate</td>\n",
       "      <td>Business Degree</td>\n",
       "      <td>&lt;1</td>\n",
       "      <td>NaN</td>\n",
       "      <td>Pvt Ltd</td>\n",
       "      <td>never</td>\n",
       "      <td>52</td>\n",
       "    </tr>\n",
       "    <tr>\n",
       "      <th>4</th>\n",
       "      <td>666</td>\n",
       "      <td>city_162</td>\n",
       "      <td>0.767</td>\n",
       "      <td>Male</td>\n",
       "      <td>Has relevent experience</td>\n",
       "      <td>no_enrollment</td>\n",
       "      <td>Masters</td>\n",
       "      <td>STEM</td>\n",
       "      <td>&gt;20</td>\n",
       "      <td>50-99</td>\n",
       "      <td>Funded Startup</td>\n",
       "      <td>4</td>\n",
       "      <td>8</td>\n",
       "    </tr>\n",
       "    <tr>\n",
       "      <th>...</th>\n",
       "      <td>...</td>\n",
       "      <td>...</td>\n",
       "      <td>...</td>\n",
       "      <td>...</td>\n",
       "      <td>...</td>\n",
       "      <td>...</td>\n",
       "      <td>...</td>\n",
       "      <td>...</td>\n",
       "      <td>...</td>\n",
       "      <td>...</td>\n",
       "      <td>...</td>\n",
       "      <td>...</td>\n",
       "      <td>...</td>\n",
       "    </tr>\n",
       "    <tr>\n",
       "      <th>19153</th>\n",
       "      <td>7386</td>\n",
       "      <td>city_173</td>\n",
       "      <td>0.878</td>\n",
       "      <td>Male</td>\n",
       "      <td>No relevent experience</td>\n",
       "      <td>no_enrollment</td>\n",
       "      <td>Graduate</td>\n",
       "      <td>Humanities</td>\n",
       "      <td>14</td>\n",
       "      <td>NaN</td>\n",
       "      <td>NaN</td>\n",
       "      <td>1</td>\n",
       "      <td>42</td>\n",
       "    </tr>\n",
       "    <tr>\n",
       "      <th>19154</th>\n",
       "      <td>31398</td>\n",
       "      <td>city_103</td>\n",
       "      <td>0.920</td>\n",
       "      <td>Male</td>\n",
       "      <td>Has relevent experience</td>\n",
       "      <td>no_enrollment</td>\n",
       "      <td>Graduate</td>\n",
       "      <td>STEM</td>\n",
       "      <td>14</td>\n",
       "      <td>NaN</td>\n",
       "      <td>NaN</td>\n",
       "      <td>4</td>\n",
       "      <td>52</td>\n",
       "    </tr>\n",
       "    <tr>\n",
       "      <th>19155</th>\n",
       "      <td>24576</td>\n",
       "      <td>city_103</td>\n",
       "      <td>0.920</td>\n",
       "      <td>Male</td>\n",
       "      <td>Has relevent experience</td>\n",
       "      <td>no_enrollment</td>\n",
       "      <td>Graduate</td>\n",
       "      <td>STEM</td>\n",
       "      <td>&gt;20</td>\n",
       "      <td>50-99</td>\n",
       "      <td>Pvt Ltd</td>\n",
       "      <td>4</td>\n",
       "      <td>44</td>\n",
       "    </tr>\n",
       "    <tr>\n",
       "      <th>19156</th>\n",
       "      <td>5756</td>\n",
       "      <td>city_65</td>\n",
       "      <td>0.802</td>\n",
       "      <td>Male</td>\n",
       "      <td>Has relevent experience</td>\n",
       "      <td>no_enrollment</td>\n",
       "      <td>High School</td>\n",
       "      <td>NaN</td>\n",
       "      <td>&lt;1</td>\n",
       "      <td>500-999</td>\n",
       "      <td>Pvt Ltd</td>\n",
       "      <td>2</td>\n",
       "      <td>97</td>\n",
       "    </tr>\n",
       "    <tr>\n",
       "      <th>19157</th>\n",
       "      <td>23834</td>\n",
       "      <td>city_67</td>\n",
       "      <td>0.855</td>\n",
       "      <td>NaN</td>\n",
       "      <td>No relevent experience</td>\n",
       "      <td>no_enrollment</td>\n",
       "      <td>Primary School</td>\n",
       "      <td>NaN</td>\n",
       "      <td>2</td>\n",
       "      <td>NaN</td>\n",
       "      <td>NaN</td>\n",
       "      <td>1</td>\n",
       "      <td>127</td>\n",
       "    </tr>\n",
       "  </tbody>\n",
       "</table>\n",
       "<p>19158 rows × 13 columns</p>\n",
       "</div>"
      ],
      "text/plain": [
       "       enrollee_id      city  city_development_index gender  \\\n",
       "0             8949  city_103                   0.920   Male   \n",
       "1            29725   city_40                   0.776   Male   \n",
       "2            11561   city_21                   0.624    NaN   \n",
       "3            33241  city_115                   0.789    NaN   \n",
       "4              666  city_162                   0.767   Male   \n",
       "...            ...       ...                     ...    ...   \n",
       "19153         7386  city_173                   0.878   Male   \n",
       "19154        31398  city_103                   0.920   Male   \n",
       "19155        24576  city_103                   0.920   Male   \n",
       "19156         5756   city_65                   0.802   Male   \n",
       "19157        23834   city_67                   0.855    NaN   \n",
       "\n",
       "           relevent_experience enrolled_university education_level  \\\n",
       "0      Has relevent experience       no_enrollment        Graduate   \n",
       "1       No relevent experience       no_enrollment        Graduate   \n",
       "2       No relevent experience    Full time course        Graduate   \n",
       "3       No relevent experience                 NaN        Graduate   \n",
       "4      Has relevent experience       no_enrollment         Masters   \n",
       "...                        ...                 ...             ...   \n",
       "19153   No relevent experience       no_enrollment        Graduate   \n",
       "19154  Has relevent experience       no_enrollment        Graduate   \n",
       "19155  Has relevent experience       no_enrollment        Graduate   \n",
       "19156  Has relevent experience       no_enrollment     High School   \n",
       "19157   No relevent experience       no_enrollment  Primary School   \n",
       "\n",
       "      major_discipline experience company_size    company_type last_new_job  \\\n",
       "0                 STEM        >20          NaN             NaN            1   \n",
       "1                 STEM         15        50-99         Pvt Ltd           >4   \n",
       "2                 STEM          5          NaN             NaN        never   \n",
       "3      Business Degree         <1          NaN         Pvt Ltd        never   \n",
       "4                 STEM        >20        50-99  Funded Startup            4   \n",
       "...                ...        ...          ...             ...          ...   \n",
       "19153       Humanities         14          NaN             NaN            1   \n",
       "19154             STEM         14          NaN             NaN            4   \n",
       "19155             STEM        >20        50-99         Pvt Ltd            4   \n",
       "19156              NaN         <1      500-999         Pvt Ltd            2   \n",
       "19157              NaN          2          NaN             NaN            1   \n",
       "\n",
       "       training_hours  \n",
       "0                  36  \n",
       "1                  47  \n",
       "2                  83  \n",
       "3                  52  \n",
       "4                   8  \n",
       "...               ...  \n",
       "19153              42  \n",
       "19154              52  \n",
       "19155              44  \n",
       "19156              97  \n",
       "19157             127  \n",
       "\n",
       "[19158 rows x 13 columns]"
      ]
     },
     "execution_count": 12,
     "metadata": {},
     "output_type": "execute_result"
    }
   ],
   "source": [
    "# Посмотрим на типы данных в датасете, а также наличие NaN в них, и определим, какие столбцы чем заполнять\n",
    "X_hr"
   ]
  },
  {
   "cell_type": "code",
   "execution_count": 13,
   "metadata": {
    "ExecuteTime": {
     "end_time": "2022-02-16T18:45:55.312421Z",
     "start_time": "2022-02-16T18:45:55.301832Z"
    }
   },
   "outputs": [
    {
     "name": "stdout",
     "output_type": "stream",
     "text": [
      "Замены требуются в столбце gender\n",
      "Замены требуются в столбце enrolled_university\n",
      "Замены требуются в столбце education_level\n",
      "Замены требуются в столбце major_discipline\n",
      "Замены требуются в столбце experience\n",
      "Замены требуются в столбце company_size\n",
      "Замены требуются в столбце company_type\n",
      "Замены требуются в столбце last_new_job\n"
     ]
    }
   ],
   "source": [
    "# Найдем столбцы с NaN-ами\n",
    "cols_with_na = []\n",
    "for col in X_hr.columns:\n",
    "    if X_hr[col].isnull().values.any():\n",
    "        print(f'Замены требуются в столбце {col}')\n",
    "        cols_with_na += [col]\n",
    "#     print(f'В столбце {col} NaN {\"присутствуют\" if X_hr[col].isnull().values.any() else \"отсутствуют\"}')"
   ]
  },
  {
   "cell_type": "markdown",
   "metadata": {},
   "source": [
    "Таким образом, все признаки относятся к категориальным, будем заполнять пропуски модой."
   ]
  },
  {
   "cell_type": "code",
   "execution_count": 14,
   "metadata": {
    "ExecuteTime": {
     "end_time": "2022-02-16T18:45:55.321231Z",
     "start_time": "2022-02-16T18:45:55.313694Z"
    }
   },
   "outputs": [
    {
     "data": {
      "text/plain": [
       "0        Male\n",
       "1        Male\n",
       "2        Male\n",
       "3        Male\n",
       "4        Male\n",
       "         ... \n",
       "19153    Male\n",
       "19154    Male\n",
       "19155    Male\n",
       "19156    Male\n",
       "19157    Male\n",
       "Name: gender, Length: 19158, dtype: object"
      ]
     },
     "execution_count": 14,
     "metadata": {},
     "output_type": "execute_result"
    }
   ],
   "source": [
    "test = X_hr.copy()\n",
    "m = test['gender'].mode()\n",
    "test['gender'] = test['gender'].fillna(m[0])#test['gender'].dropna().mode())\n",
    "test['gender']\n",
    "# test['gender'].mode()"
   ]
  },
  {
   "cell_type": "markdown",
   "metadata": {},
   "source": [
    "Так же, отметим, что признак **target** в y - категориальный признак"
   ]
  },
  {
   "cell_type": "code",
   "execution_count": 15,
   "metadata": {
    "ExecuteTime": {
     "end_time": "2022-02-16T18:45:55.325506Z",
     "start_time": "2022-02-16T18:45:55.322268Z"
    }
   },
   "outputs": [],
   "source": [
    "def fill_na(X, y):\n",
    "    # Возвращает данные без NaN значений\n",
    "    X_dropna = X.dropna().copy() # Для избегаения попадания в моду NaN\n",
    "    y_dropna = y.dropna().copy()\n",
    "    X_fill = X.copy()\n",
    "    y_fill = y.copy()\n",
    "    y_fill = y_fill.fillna(y_dropna.mode())\n",
    "    for col in cols_with_na:\n",
    "        X_fill[col] = X_fill[col].fillna(X_dropna[col].mode()[0])\n",
    "    return X_fill, y_fill"
   ]
  },
  {
   "cell_type": "code",
   "execution_count": 16,
   "metadata": {
    "ExecuteTime": {
     "end_time": "2022-02-16T18:45:55.396462Z",
     "start_time": "2022-02-16T18:45:55.326842Z"
    }
   },
   "outputs": [],
   "source": [
    "X_hr_fill, y_hr_fill = fill_na(X_hr, y_hr)"
   ]
  },
  {
   "cell_type": "markdown",
   "metadata": {},
   "source": [
    "#### 5.  (0.5 балла)\n",
    "Как изменились распределения признаков/статистика по количеству значений признаков после заполнения пропущенных данных?"
   ]
  },
  {
   "cell_type": "code",
   "execution_count": 17,
   "metadata": {
    "ExecuteTime": {
     "end_time": "2022-02-16T18:45:55.443032Z",
     "start_time": "2022-02-16T18:45:55.397652Z"
    }
   },
   "outputs": [
    {
     "name": "stderr",
     "output_type": "stream",
     "text": [
      "100%|███████████████████████████████████████████████████████████████████████████████████████████████████████████████████████████████████████████████████████████████████████████████| 8/8 [00:00<00:00, 211.48it/s]\n"
     ]
    }
   ],
   "source": [
    "# YOUR_CODE\n",
    "plots_comp = []\n",
    "for i in tqdm(range(len(cols_with_na))):\n",
    "    X_hr_comparsion1 = pd.DataFrame()\n",
    "    X_hr_comparsion1[cols_with_na[i]] = X_hr[cols_with_na[i]]#.copy()\n",
    "    X_hr_comparsion1['label'] = 'without NA'\n",
    "    X_hr_comparsion2 = pd.DataFrame()\n",
    "    X_hr_comparsion2[cols_with_na[i]] = X_hr_fill[cols_with_na[i]]#.copy()\n",
    "    X_hr_comparsion2['label'] = 'filled NA'\n",
    "    X_hr_comparsion = pd.concat([X_hr_comparsion1, X_hr_comparsion2], axis=0)\n",
    "    # X_hr_comparsion['label'] = pd.Categorical(X_hr_comparsion['label'])\n",
    "    # X_hr_comparsion['index'] = np.arange(len(X_hr_comparsion))\n",
    "    # X_hr_comparsion = X_hr_comparsion.set_index('index').copy()\n",
    "    # X_hr_comparsion\n",
    "    plots_comp += [ggplot(X_hr_comparsion, aes(x= cols_with_na[i])) + geom_histogram(col = 'darkblue', fill='lightblue') +\\\n",
    "    facet_wrap('label') + ggtitle(cols_with_na[i] + '_fill_comparsion') + ggsize(1700,850)]"
   ]
  },
  {
   "cell_type": "code",
   "execution_count": 18,
   "metadata": {
    "ExecuteTime": {
     "end_time": "2022-02-16T18:45:58.975726Z",
     "start_time": "2022-02-16T18:45:55.443847Z"
    },
    "scrolled": true
   },
   "outputs": [
    {
     "name": "stderr",
     "output_type": "stream",
     "text": [
      "100%|████████████████████████████████████████████████████████████████████████████████████████████████████████████████████████████████████████████████████████████████████████████████| 8/8 [00:03<00:00,  2.35it/s]"
     ]
    },
    {
     "name": "stdout",
     "output_type": "stream",
     "text": [
      "['gender', 'enrolled_university', 'education_level', 'major_discipline', 'experience', 'company_size', 'company_type', 'last_new_job']\n"
     ]
    },
    {
     "name": "stderr",
     "output_type": "stream",
     "text": [
      "\n"
     ]
    }
   ],
   "source": [
    "# Сохранение графиков в html-файлы\n",
    "!mkdir lets-plot-images/fillna_comparsion\n",
    "for i in tqdm(range(len(plots_comp))):\n",
    "    ggsave(plots_comp[i], 'fillna_comparsion/' + str(cols_with_na[i]) + '.fill.comparsion.html')\n",
    "print(cols_with_na)"
   ]
  },
  {
   "cell_type": "markdown",
   "metadata": {},
   "source": [
    "Графики:\n",
    "\n",
    "- [gender.fill.comparsion](./lets-plot-images/fillna_comparsion/gender.fill.comparsion.html)\n",
    "- [enrolled_university.fill.comparsion](./lets-plot-images/fillna_comparsion/enrolled_university.fill.comparsion.html)\n",
    "- [education_level.fill.comparsion](./lets-plot-images/fillna_comparsion/education_level.fill.comparsion.html)\n",
    "- [major_discipline.fill.comparsion](./lets-plot-images/fillna_comparsion/major_discipline.fill.comparsion.html)\n",
    "- [experience.fill.comparsion](./lets-plot-images/fillna_comparsion/experience.fill.comparsion.html)\n",
    "- [company_size.fill.comparsion](./lets-plot-images/fillna_comparsion/company_size.fill.comparsion.html)\n",
    "- [company_type.fill.comparsion](./lets-plot-images/fillna_comparsion/company_type.fill.comparsion.html)\n",
    "- [last_new_job.fill.comparsion](./lets-plot-images/fillna_comparsion/last_new_job.fill.comparsion.html)"
   ]
  },
  {
   "cell_type": "markdown",
   "metadata": {},
   "source": [
    "Распределения признаков почти не изменились, только увеличилась высота самого высокого столбца на \n",
    "гистограммах"
   ]
  },
  {
   "cell_type": "markdown",
   "metadata": {},
   "source": [
    "### Задание 3  (1 балл)\n",
    "\n",
    "Выполните задание для датасета _covid_.\n",
    "\n",
    "1. Найдите страну, для которой в датасете присутствует 46 дат со статистикой по вакцинации.\n",
    "2. Постройте для этой страны график зависимости _total_vaccinations_ от _date_.\n",
    "3. Заполните пропущенные данные о _total_vaccinations_ для этой страны. Объясните свой выбор."
   ]
  },
  {
   "cell_type": "code",
   "execution_count": 19,
   "metadata": {
    "ExecuteTime": {
     "end_time": "2022-02-16T18:45:59.004595Z",
     "start_time": "2022-02-16T18:45:58.976697Z"
    }
   },
   "outputs": [
    {
     "name": "stdout",
     "output_type": "stream",
     "text": [
      "Bahrain = 46\n"
     ]
    }
   ],
   "source": [
    "# Определение страны\n",
    "countries = list(set(X_covid['country']))\n",
    "for con in countries:\n",
    "    if len(X_covid[X_covid['country'] == con]) == 46:\n",
    "        print(con, '=', len(X_covid[X_covid['country'] == con]))\n",
    "country_df = X_covid[X_covid['country'] == 'Bahrain']"
   ]
  },
  {
   "cell_type": "code",
   "execution_count": 20,
   "metadata": {
    "ExecuteTime": {
     "end_time": "2022-02-16T18:45:59.044366Z",
     "start_time": "2022-02-16T18:45:59.005402Z"
    }
   },
   "outputs": [
    {
     "data": {
      "text/html": [
       "   <div id=\"IGVWof\"></div>\n",
       "   <script type=\"text/javascript\" data-lets-plot-script=\"plot\">\n",
       "       (function() {\n",
       "           var plotSpec={\n",
       "\"data\":{\n",
       "\"date\":[\"2020-12-23\",\"2020-12-24\",\"2020-12-25\",\"2020-12-26\",\"2020-12-27\",\"2020-12-28\",\"2020-12-29\",\"2020-12-30\",\"2020-12-31\",\"2021-01-01\",\"2021-01-02\",\"2021-01-03\",\"2021-01-04\",\"2021-01-05\",\"2021-01-06\",\"2021-01-07\",\"2021-01-08\",\"2021-01-09\",\"2021-01-10\",\"2021-01-11\",\"2021-01-12\",\"2021-01-13\",\"2021-01-14\",\"2021-01-15\",\"2021-01-16\",\"2021-01-17\",\"2021-01-18\",\"2021-01-19\",\"2021-01-20\",\"2021-01-21\",\"2021-01-22\",\"2021-01-23\",\"2021-01-24\",\"2021-01-25\",\"2021-01-26\",\"2021-01-27\",\"2021-01-28\",\"2021-01-29\",\"2021-01-30\",\"2021-01-31\",\"2021-02-01\",\"2021-02-02\",\"2021-02-03\",\"2021-02-04\",\"2021-02-05\",\"2021-02-06\"],\n",
       "\"total_vaccinations\":[38965.0,50071.0,50543.0,51556.0,53614.0,55014.0,56041.0,57317.0,58643.0,59351.0,60097.0,60689.0,61612.0,63893.0,68472.0,72239.0,78291.0,84157.0,89250.0,92598.0,97776.0,101363.0,109566.0,122819.0,137159.0,141563.0,142831.0,143596.0,144130.0,null,null,null,null,null,165953.0,167731.0,169440.0,169810.0,170433.0,171568.0,172912.0,174075.0,175094.0,177233.0,179550.0,182543.0]\n",
       "},\n",
       "\"mapping\":{\n",
       "\"x\":\"date\",\n",
       "\"y\":\"total_vaccinations\"\n",
       "},\n",
       "\"data_meta\":{\n",
       "},\n",
       "\"kind\":\"plot\",\n",
       "\"scales\":[],\n",
       "\"layers\":[{\n",
       "\"geom\":\"point\",\n",
       "\"mapping\":{\n",
       "},\n",
       "\"data_meta\":{\n",
       "},\n",
       "\"data\":{\n",
       "}\n",
       "}]\n",
       "};\n",
       "           var plotContainer = document.getElementById(\"IGVWof\");\n",
       "           window.letsPlotCall(function() {{\n",
       "               LetsPlot.buildPlotFromProcessedSpecs(plotSpec, -1, -1, plotContainer);\n",
       "           }});\n",
       "       })();    \n",
       "   </script>"
      ],
      "text/plain": [
       "<lets_plot.plot.core.PlotSpec at 0x7f60bb9af760>"
      ]
     },
     "execution_count": 20,
     "metadata": {},
     "output_type": "execute_result"
    }
   ],
   "source": [
    "country_plot1 = ggplot(country_df, aes(x='date', y='total_vaccinations')) +\\\n",
    "geom_point()\n",
    "ggsave(country_plot1, 'before_fill_tv.html')\n",
    "country_plot1"
   ]
  },
  {
   "cell_type": "code",
   "execution_count": 21,
   "metadata": {
    "ExecuteTime": {
     "end_time": "2022-02-16T18:45:59.056820Z",
     "start_time": "2022-02-16T18:45:59.045268Z"
    }
   },
   "outputs": [
    {
     "data": {
      "text/html": [
       "<div>\n",
       "<style scoped>\n",
       "    .dataframe tbody tr th:only-of-type {\n",
       "        vertical-align: middle;\n",
       "    }\n",
       "\n",
       "    .dataframe tbody tr th {\n",
       "        vertical-align: top;\n",
       "    }\n",
       "\n",
       "    .dataframe thead th {\n",
       "        text-align: right;\n",
       "    }\n",
       "</style>\n",
       "<table border=\"1\" class=\"dataframe\">\n",
       "  <thead>\n",
       "    <tr style=\"text-align: right;\">\n",
       "      <th></th>\n",
       "      <th>country</th>\n",
       "      <th>iso_code</th>\n",
       "      <th>date</th>\n",
       "      <th>total_vaccinations</th>\n",
       "      <th>people_vaccinated</th>\n",
       "      <th>people_fully_vaccinated</th>\n",
       "      <th>daily_vaccinations_raw</th>\n",
       "      <th>daily_vaccinations</th>\n",
       "      <th>total_vaccinations_per_hundred</th>\n",
       "      <th>people_vaccinated_per_hundred</th>\n",
       "      <th>people_fully_vaccinated_per_hundred</th>\n",
       "      <th>daily_vaccinations_per_million</th>\n",
       "      <th>vaccines</th>\n",
       "      <th>source_name</th>\n",
       "      <th>source_website</th>\n",
       "    </tr>\n",
       "  </thead>\n",
       "  <tbody>\n",
       "    <tr>\n",
       "      <th>107</th>\n",
       "      <td>Bahrain</td>\n",
       "      <td>BHR</td>\n",
       "      <td>2021-01-21</td>\n",
       "      <td>NaN</td>\n",
       "      <td>NaN</td>\n",
       "      <td>NaN</td>\n",
       "      <td>NaN</td>\n",
       "      <td>5457.0</td>\n",
       "      <td>NaN</td>\n",
       "      <td>NaN</td>\n",
       "      <td>NaN</td>\n",
       "      <td>3207.0</td>\n",
       "      <td>Pfizer/BioNTech, Sinopharm</td>\n",
       "      <td>Ministry of Health</td>\n",
       "      <td>https://twitter.com/MOH_Bahrain/status/1358158...</td>\n",
       "    </tr>\n",
       "    <tr>\n",
       "      <th>108</th>\n",
       "      <td>Bahrain</td>\n",
       "      <td>BHR</td>\n",
       "      <td>2021-01-22</td>\n",
       "      <td>NaN</td>\n",
       "      <td>NaN</td>\n",
       "      <td>NaN</td>\n",
       "      <td>NaN</td>\n",
       "      <td>4084.0</td>\n",
       "      <td>NaN</td>\n",
       "      <td>NaN</td>\n",
       "      <td>NaN</td>\n",
       "      <td>2400.0</td>\n",
       "      <td>Pfizer/BioNTech, Sinopharm</td>\n",
       "      <td>Ministry of Health</td>\n",
       "      <td>https://twitter.com/MOH_Bahrain/status/1358158...</td>\n",
       "    </tr>\n",
       "    <tr>\n",
       "      <th>109</th>\n",
       "      <td>Bahrain</td>\n",
       "      <td>BHR</td>\n",
       "      <td>2021-01-23</td>\n",
       "      <td>NaN</td>\n",
       "      <td>NaN</td>\n",
       "      <td>NaN</td>\n",
       "      <td>NaN</td>\n",
       "      <td>2555.0</td>\n",
       "      <td>NaN</td>\n",
       "      <td>NaN</td>\n",
       "      <td>NaN</td>\n",
       "      <td>1502.0</td>\n",
       "      <td>Pfizer/BioNTech, Sinopharm</td>\n",
       "      <td>Ministry of Health</td>\n",
       "      <td>https://twitter.com/MOH_Bahrain/status/1358158...</td>\n",
       "    </tr>\n",
       "    <tr>\n",
       "      <th>110</th>\n",
       "      <td>Bahrain</td>\n",
       "      <td>BHR</td>\n",
       "      <td>2021-01-24</td>\n",
       "      <td>NaN</td>\n",
       "      <td>NaN</td>\n",
       "      <td>NaN</td>\n",
       "      <td>NaN</td>\n",
       "      <td>2445.0</td>\n",
       "      <td>NaN</td>\n",
       "      <td>NaN</td>\n",
       "      <td>NaN</td>\n",
       "      <td>1437.0</td>\n",
       "      <td>Pfizer/BioNTech, Sinopharm</td>\n",
       "      <td>Ministry of Health</td>\n",
       "      <td>https://twitter.com/MOH_Bahrain/status/1358158...</td>\n",
       "    </tr>\n",
       "    <tr>\n",
       "      <th>111</th>\n",
       "      <td>Bahrain</td>\n",
       "      <td>BHR</td>\n",
       "      <td>2021-01-25</td>\n",
       "      <td>NaN</td>\n",
       "      <td>NaN</td>\n",
       "      <td>NaN</td>\n",
       "      <td>NaN</td>\n",
       "      <td>2784.0</td>\n",
       "      <td>NaN</td>\n",
       "      <td>NaN</td>\n",
       "      <td>NaN</td>\n",
       "      <td>1636.0</td>\n",
       "      <td>Pfizer/BioNTech, Sinopharm</td>\n",
       "      <td>Ministry of Health</td>\n",
       "      <td>https://twitter.com/MOH_Bahrain/status/1358158...</td>\n",
       "    </tr>\n",
       "  </tbody>\n",
       "</table>\n",
       "</div>"
      ],
      "text/plain": [
       "     country iso_code        date  total_vaccinations  people_vaccinated  \\\n",
       "107  Bahrain      BHR  2021-01-21                 NaN                NaN   \n",
       "108  Bahrain      BHR  2021-01-22                 NaN                NaN   \n",
       "109  Bahrain      BHR  2021-01-23                 NaN                NaN   \n",
       "110  Bahrain      BHR  2021-01-24                 NaN                NaN   \n",
       "111  Bahrain      BHR  2021-01-25                 NaN                NaN   \n",
       "\n",
       "     people_fully_vaccinated  daily_vaccinations_raw  daily_vaccinations  \\\n",
       "107                      NaN                     NaN              5457.0   \n",
       "108                      NaN                     NaN              4084.0   \n",
       "109                      NaN                     NaN              2555.0   \n",
       "110                      NaN                     NaN              2445.0   \n",
       "111                      NaN                     NaN              2784.0   \n",
       "\n",
       "     total_vaccinations_per_hundred  people_vaccinated_per_hundred  \\\n",
       "107                             NaN                            NaN   \n",
       "108                             NaN                            NaN   \n",
       "109                             NaN                            NaN   \n",
       "110                             NaN                            NaN   \n",
       "111                             NaN                            NaN   \n",
       "\n",
       "     people_fully_vaccinated_per_hundred  daily_vaccinations_per_million  \\\n",
       "107                                  NaN                          3207.0   \n",
       "108                                  NaN                          2400.0   \n",
       "109                                  NaN                          1502.0   \n",
       "110                                  NaN                          1437.0   \n",
       "111                                  NaN                          1636.0   \n",
       "\n",
       "                       vaccines         source_name  \\\n",
       "107  Pfizer/BioNTech, Sinopharm  Ministry of Health   \n",
       "108  Pfizer/BioNTech, Sinopharm  Ministry of Health   \n",
       "109  Pfizer/BioNTech, Sinopharm  Ministry of Health   \n",
       "110  Pfizer/BioNTech, Sinopharm  Ministry of Health   \n",
       "111  Pfizer/BioNTech, Sinopharm  Ministry of Health   \n",
       "\n",
       "                                        source_website  \n",
       "107  https://twitter.com/MOH_Bahrain/status/1358158...  \n",
       "108  https://twitter.com/MOH_Bahrain/status/1358158...  \n",
       "109  https://twitter.com/MOH_Bahrain/status/1358158...  \n",
       "110  https://twitter.com/MOH_Bahrain/status/1358158...  \n",
       "111  https://twitter.com/MOH_Bahrain/status/1358158...  "
      ]
     },
     "execution_count": 21,
     "metadata": {},
     "output_type": "execute_result"
    }
   ],
   "source": [
    "country_df[country_df['total_vaccinations'].isna()]"
   ]
  },
  {
   "cell_type": "code",
   "execution_count": 22,
   "metadata": {
    "ExecuteTime": {
     "end_time": "2022-02-16T18:45:59.060464Z",
     "start_time": "2022-02-16T18:45:59.057788Z"
    }
   },
   "outputs": [],
   "source": [
    "# NaN лежат в интервале 107-111\n",
    "# заполним пропуски линейно возрастающей моделью, за основу возьмем две ближайшие\n",
    "# точки без пропусков\n",
    "x1 = country_df['total_vaccinations'][106]\n",
    "x2 = country_df['total_vaccinations'][112]\n",
    "def fill_tv(n):\n",
    "    k = (x2-x1)/(112-106)\n",
    "    return round(x1 + k*(n-106))"
   ]
  },
  {
   "cell_type": "code",
   "execution_count": 23,
   "metadata": {
    "ExecuteTime": {
     "end_time": "2022-02-16T18:45:59.065656Z",
     "start_time": "2022-02-16T18:45:59.061473Z"
    }
   },
   "outputs": [
    {
     "name": "stderr",
     "output_type": "stream",
     "text": [
      "/home/rustam/miniconda3/lib/python3.9/site-packages/pandas/core/indexing.py:1732: SettingWithCopyWarning: \n",
      "A value is trying to be set on a copy of a slice from a DataFrame\n",
      "\n",
      "See the caveats in the documentation: https://pandas.pydata.org/pandas-docs/stable/user_guide/indexing.html#returning-a-view-versus-a-copy\n",
      "  self._setitem_single_block(indexer, value, name)\n"
     ]
    }
   ],
   "source": [
    "for i in range(107,112):\n",
    "    country_df['total_vaccinations'].loc[i] = fill_tv(i)\n",
    "#     print(country_df['total_vaccinations'].loc[i]"
   ]
  },
  {
   "cell_type": "code",
   "execution_count": 24,
   "metadata": {
    "ExecuteTime": {
     "end_time": "2022-02-16T18:45:59.087261Z",
     "start_time": "2022-02-16T18:45:59.066512Z"
    }
   },
   "outputs": [
    {
     "data": {
      "text/html": [
       "   <div id=\"aihnmq\"></div>\n",
       "   <script type=\"text/javascript\" data-lets-plot-script=\"plot\">\n",
       "       (function() {\n",
       "           var plotSpec={\n",
       "\"data\":{\n",
       "\"date\":[\"2020-12-23\",\"2020-12-24\",\"2020-12-25\",\"2020-12-26\",\"2020-12-27\",\"2020-12-28\",\"2020-12-29\",\"2020-12-30\",\"2020-12-31\",\"2021-01-01\",\"2021-01-02\",\"2021-01-03\",\"2021-01-04\",\"2021-01-05\",\"2021-01-06\",\"2021-01-07\",\"2021-01-08\",\"2021-01-09\",\"2021-01-10\",\"2021-01-11\",\"2021-01-12\",\"2021-01-13\",\"2021-01-14\",\"2021-01-15\",\"2021-01-16\",\"2021-01-17\",\"2021-01-18\",\"2021-01-19\",\"2021-01-20\",\"2021-01-21\",\"2021-01-22\",\"2021-01-23\",\"2021-01-24\",\"2021-01-25\",\"2021-01-26\",\"2021-01-27\",\"2021-01-28\",\"2021-01-29\",\"2021-01-30\",\"2021-01-31\",\"2021-02-01\",\"2021-02-02\",\"2021-02-03\",\"2021-02-04\",\"2021-02-05\",\"2021-02-06\"],\n",
       "\"total_vaccinations\":[38965.0,50071.0,50543.0,51556.0,53614.0,55014.0,56041.0,57317.0,58643.0,59351.0,60097.0,60689.0,61612.0,63893.0,68472.0,72239.0,78291.0,84157.0,89250.0,92598.0,97776.0,101363.0,109566.0,122819.0,137159.0,141563.0,142831.0,143596.0,144130.0,147767.0,151404.0,155042.0,158679.0,162316.0,165953.0,167731.0,169440.0,169810.0,170433.0,171568.0,172912.0,174075.0,175094.0,177233.0,179550.0,182543.0]\n",
       "},\n",
       "\"mapping\":{\n",
       "\"x\":\"date\",\n",
       "\"y\":\"total_vaccinations\"\n",
       "},\n",
       "\"data_meta\":{\n",
       "},\n",
       "\"kind\":\"plot\",\n",
       "\"scales\":[],\n",
       "\"layers\":[{\n",
       "\"geom\":\"point\",\n",
       "\"mapping\":{\n",
       "},\n",
       "\"data_meta\":{\n",
       "},\n",
       "\"data\":{\n",
       "}\n",
       "}]\n",
       "};\n",
       "           var plotContainer = document.getElementById(\"aihnmq\");\n",
       "           window.letsPlotCall(function() {{\n",
       "               LetsPlot.buildPlotFromProcessedSpecs(plotSpec, -1, -1, plotContainer);\n",
       "           }});\n",
       "       })();    \n",
       "   </script>"
      ],
      "text/plain": [
       "<lets_plot.plot.core.PlotSpec at 0x7f60bb9aabb0>"
      ]
     },
     "execution_count": 24,
     "metadata": {},
     "output_type": "execute_result"
    }
   ],
   "source": [
    "country_plot2 = ggplot(country_df, aes(x='date', y='total_vaccinations')) +\\\n",
    "geom_point()\n",
    "ggsave(country_plot2, 'after_fill_tv.html')\n",
    "country_plot2"
   ]
  },
  {
   "cell_type": "markdown",
   "metadata": {},
   "source": [
    "Выбор обосновывается тем, что в окрестности пропусков зависимость близка к линейной"
   ]
  },
  {
   "cell_type": "markdown",
   "metadata": {},
   "source": [
    "### Задание  4 (0.5 балла)\n",
    "Выполните задание для датасета _hr_.\n",
    "\n",
    "Есть ли в данных выбросы? Если да, то скажите, какие и почему Вы считаете их выбросами?\n"
   ]
  },
  {
   "cell_type": "code",
   "execution_count": 25,
   "metadata": {
    "ExecuteTime": {
     "end_time": "2022-02-16T18:45:59.105342Z",
     "start_time": "2022-02-16T18:45:59.088410Z"
    }
   },
   "outputs": [
    {
     "name": "stdout",
     "output_type": "stream",
     "text": [
      "<class 'pandas.core.frame.DataFrame'>\n",
      "RangeIndex: 19158 entries, 0 to 19157\n",
      "Data columns (total 13 columns):\n",
      " #   Column                  Non-Null Count  Dtype  \n",
      "---  ------                  --------------  -----  \n",
      " 0   enrollee_id             19158 non-null  int64  \n",
      " 1   city                    19158 non-null  object \n",
      " 2   city_development_index  19158 non-null  float64\n",
      " 3   gender                  14650 non-null  object \n",
      " 4   relevent_experience     19158 non-null  object \n",
      " 5   enrolled_university     18772 non-null  object \n",
      " 6   education_level         18698 non-null  object \n",
      " 7   major_discipline        16345 non-null  object \n",
      " 8   experience              19093 non-null  object \n",
      " 9   company_size            13220 non-null  object \n",
      " 10  company_type            13018 non-null  object \n",
      " 11  last_new_job            18735 non-null  object \n",
      " 12  training_hours          19158 non-null  int64  \n",
      "dtypes: float64(1), int64(2), object(10)\n",
      "memory usage: 1.9+ MB\n"
     ]
    }
   ],
   "source": [
    "X_hr.info() # Найдем числовые признаки"
   ]
  },
  {
   "cell_type": "code",
   "execution_count": 26,
   "metadata": {
    "ExecuteTime": {
     "end_time": "2022-02-16T18:45:59.261843Z",
     "start_time": "2022-02-16T18:45:59.106974Z"
    }
   },
   "outputs": [
    {
     "data": {
      "text/plain": [
       "<AxesSubplot:xlabel='city_development_index'>"
      ]
     },
     "execution_count": 26,
     "metadata": {},
     "output_type": "execute_result"
    },
    {
     "data": {
      "image/png": "[encoded data removed]",
      "text/plain": [
       "<Figure size 432x288 with 1 Axes>"
      ]
     },
     "metadata": {
      "needs_background": "light"
     },
     "output_type": "display_data"
    }
   ],
   "source": [
    "sns.boxplot(x = X_hr['city_development_index'])"
   ]
  },
  {
   "cell_type": "code",
   "execution_count": 27,
   "metadata": {
    "ExecuteTime": {
     "end_time": "2022-02-16T18:45:59.334457Z",
     "start_time": "2022-02-16T18:45:59.262692Z"
    }
   },
   "outputs": [
    {
     "data": {
      "text/plain": [
       "<AxesSubplot:xlabel='training_hours'>"
      ]
     },
     "execution_count": 27,
     "metadata": {},
     "output_type": "execute_result"
    },
    {
     "data": {
      "image/png": "[encoded data removed]",
      "text/plain": [
       "<Figure size 432x288 with 1 Axes>"
      ]
     },
     "metadata": {
      "needs_background": "light"
     },
     "output_type": "display_data"
    }
   ],
   "source": [
    "sns.boxplot(x = X_hr['training_hours'])"
   ]
  },
  {
   "cell_type": "markdown",
   "metadata": {},
   "source": [
    "Выбросы есть, согласно критерию, что выбросы выходят за границы \"ящика с усами\""
   ]
  },
  {
   "cell_type": "markdown",
   "metadata": {},
   "source": [
    "### Задание  5 (1 балл)\n",
    "Выполните задание для датасета _hr_.\n",
    "\n",
    "Закодируйте категориальные признаки при помощи One-hot encoding/Label encoding/Frequency encoding. Объясните свой выбор. (Обратите внимание, что некоторые категориальные признаки предполагают ранжирование в своих значениях)\n"
   ]
  },
  {
   "cell_type": "code",
   "execution_count": 28,
   "metadata": {
    "ExecuteTime": {
     "end_time": "2022-02-16T18:45:59.353775Z",
     "start_time": "2022-02-16T18:45:59.338462Z"
    }
   },
   "outputs": [
    {
     "data": {
      "text/html": [
       "<div>\n",
       "<style scoped>\n",
       "    .dataframe tbody tr th:only-of-type {\n",
       "        vertical-align: middle;\n",
       "    }\n",
       "\n",
       "    .dataframe tbody tr th {\n",
       "        vertical-align: top;\n",
       "    }\n",
       "\n",
       "    .dataframe thead th {\n",
       "        text-align: right;\n",
       "    }\n",
       "</style>\n",
       "<table border=\"1\" class=\"dataframe\">\n",
       "  <thead>\n",
       "    <tr style=\"text-align: right;\">\n",
       "      <th></th>\n",
       "      <th>enrollee_id</th>\n",
       "      <th>city</th>\n",
       "      <th>city_development_index</th>\n",
       "      <th>gender</th>\n",
       "      <th>relevent_experience</th>\n",
       "      <th>enrolled_university</th>\n",
       "      <th>education_level</th>\n",
       "      <th>major_discipline</th>\n",
       "      <th>experience</th>\n",
       "      <th>company_size</th>\n",
       "      <th>company_type</th>\n",
       "      <th>last_new_job</th>\n",
       "      <th>training_hours</th>\n",
       "    </tr>\n",
       "  </thead>\n",
       "  <tbody>\n",
       "    <tr>\n",
       "      <th>0</th>\n",
       "      <td>8949</td>\n",
       "      <td>city_103</td>\n",
       "      <td>0.920</td>\n",
       "      <td>Male</td>\n",
       "      <td>Has relevent experience</td>\n",
       "      <td>no_enrollment</td>\n",
       "      <td>Graduate</td>\n",
       "      <td>STEM</td>\n",
       "      <td>&gt;20</td>\n",
       "      <td>50-99</td>\n",
       "      <td>Pvt Ltd</td>\n",
       "      <td>1</td>\n",
       "      <td>36</td>\n",
       "    </tr>\n",
       "    <tr>\n",
       "      <th>1</th>\n",
       "      <td>29725</td>\n",
       "      <td>city_40</td>\n",
       "      <td>0.776</td>\n",
       "      <td>Male</td>\n",
       "      <td>No relevent experience</td>\n",
       "      <td>no_enrollment</td>\n",
       "      <td>Graduate</td>\n",
       "      <td>STEM</td>\n",
       "      <td>15</td>\n",
       "      <td>50-99</td>\n",
       "      <td>Pvt Ltd</td>\n",
       "      <td>&gt;4</td>\n",
       "      <td>47</td>\n",
       "    </tr>\n",
       "    <tr>\n",
       "      <th>2</th>\n",
       "      <td>11561</td>\n",
       "      <td>city_21</td>\n",
       "      <td>0.624</td>\n",
       "      <td>Male</td>\n",
       "      <td>No relevent experience</td>\n",
       "      <td>Full time course</td>\n",
       "      <td>Graduate</td>\n",
       "      <td>STEM</td>\n",
       "      <td>5</td>\n",
       "      <td>50-99</td>\n",
       "      <td>Pvt Ltd</td>\n",
       "      <td>never</td>\n",
       "      <td>83</td>\n",
       "    </tr>\n",
       "    <tr>\n",
       "      <th>3</th>\n",
       "      <td>33241</td>\n",
       "      <td>city_115</td>\n",
       "      <td>0.789</td>\n",
       "      <td>Male</td>\n",
       "      <td>No relevent experience</td>\n",
       "      <td>no_enrollment</td>\n",
       "      <td>Graduate</td>\n",
       "      <td>Business Degree</td>\n",
       "      <td>&lt;1</td>\n",
       "      <td>50-99</td>\n",
       "      <td>Pvt Ltd</td>\n",
       "      <td>never</td>\n",
       "      <td>52</td>\n",
       "    </tr>\n",
       "    <tr>\n",
       "      <th>4</th>\n",
       "      <td>666</td>\n",
       "      <td>city_162</td>\n",
       "      <td>0.767</td>\n",
       "      <td>Male</td>\n",
       "      <td>Has relevent experience</td>\n",
       "      <td>no_enrollment</td>\n",
       "      <td>Masters</td>\n",
       "      <td>STEM</td>\n",
       "      <td>&gt;20</td>\n",
       "      <td>50-99</td>\n",
       "      <td>Funded Startup</td>\n",
       "      <td>4</td>\n",
       "      <td>8</td>\n",
       "    </tr>\n",
       "    <tr>\n",
       "      <th>...</th>\n",
       "      <td>...</td>\n",
       "      <td>...</td>\n",
       "      <td>...</td>\n",
       "      <td>...</td>\n",
       "      <td>...</td>\n",
       "      <td>...</td>\n",
       "      <td>...</td>\n",
       "      <td>...</td>\n",
       "      <td>...</td>\n",
       "      <td>...</td>\n",
       "      <td>...</td>\n",
       "      <td>...</td>\n",
       "      <td>...</td>\n",
       "    </tr>\n",
       "    <tr>\n",
       "      <th>19153</th>\n",
       "      <td>7386</td>\n",
       "      <td>city_173</td>\n",
       "      <td>0.878</td>\n",
       "      <td>Male</td>\n",
       "      <td>No relevent experience</td>\n",
       "      <td>no_enrollment</td>\n",
       "      <td>Graduate</td>\n",
       "      <td>Humanities</td>\n",
       "      <td>14</td>\n",
       "      <td>50-99</td>\n",
       "      <td>Pvt Ltd</td>\n",
       "      <td>1</td>\n",
       "      <td>42</td>\n",
       "    </tr>\n",
       "    <tr>\n",
       "      <th>19154</th>\n",
       "      <td>31398</td>\n",
       "      <td>city_103</td>\n",
       "      <td>0.920</td>\n",
       "      <td>Male</td>\n",
       "      <td>Has relevent experience</td>\n",
       "      <td>no_enrollment</td>\n",
       "      <td>Graduate</td>\n",
       "      <td>STEM</td>\n",
       "      <td>14</td>\n",
       "      <td>50-99</td>\n",
       "      <td>Pvt Ltd</td>\n",
       "      <td>4</td>\n",
       "      <td>52</td>\n",
       "    </tr>\n",
       "    <tr>\n",
       "      <th>19155</th>\n",
       "      <td>24576</td>\n",
       "      <td>city_103</td>\n",
       "      <td>0.920</td>\n",
       "      <td>Male</td>\n",
       "      <td>Has relevent experience</td>\n",
       "      <td>no_enrollment</td>\n",
       "      <td>Graduate</td>\n",
       "      <td>STEM</td>\n",
       "      <td>&gt;20</td>\n",
       "      <td>50-99</td>\n",
       "      <td>Pvt Ltd</td>\n",
       "      <td>4</td>\n",
       "      <td>44</td>\n",
       "    </tr>\n",
       "    <tr>\n",
       "      <th>19156</th>\n",
       "      <td>5756</td>\n",
       "      <td>city_65</td>\n",
       "      <td>0.802</td>\n",
       "      <td>Male</td>\n",
       "      <td>Has relevent experience</td>\n",
       "      <td>no_enrollment</td>\n",
       "      <td>High School</td>\n",
       "      <td>STEM</td>\n",
       "      <td>&lt;1</td>\n",
       "      <td>500-999</td>\n",
       "      <td>Pvt Ltd</td>\n",
       "      <td>2</td>\n",
       "      <td>97</td>\n",
       "    </tr>\n",
       "    <tr>\n",
       "      <th>19157</th>\n",
       "      <td>23834</td>\n",
       "      <td>city_67</td>\n",
       "      <td>0.855</td>\n",
       "      <td>Male</td>\n",
       "      <td>No relevent experience</td>\n",
       "      <td>no_enrollment</td>\n",
       "      <td>Primary School</td>\n",
       "      <td>STEM</td>\n",
       "      <td>2</td>\n",
       "      <td>50-99</td>\n",
       "      <td>Pvt Ltd</td>\n",
       "      <td>1</td>\n",
       "      <td>127</td>\n",
       "    </tr>\n",
       "  </tbody>\n",
       "</table>\n",
       "<p>19158 rows × 13 columns</p>\n",
       "</div>"
      ],
      "text/plain": [
       "       enrollee_id      city  city_development_index gender  \\\n",
       "0             8949  city_103                   0.920   Male   \n",
       "1            29725   city_40                   0.776   Male   \n",
       "2            11561   city_21                   0.624   Male   \n",
       "3            33241  city_115                   0.789   Male   \n",
       "4              666  city_162                   0.767   Male   \n",
       "...            ...       ...                     ...    ...   \n",
       "19153         7386  city_173                   0.878   Male   \n",
       "19154        31398  city_103                   0.920   Male   \n",
       "19155        24576  city_103                   0.920   Male   \n",
       "19156         5756   city_65                   0.802   Male   \n",
       "19157        23834   city_67                   0.855   Male   \n",
       "\n",
       "           relevent_experience enrolled_university education_level  \\\n",
       "0      Has relevent experience       no_enrollment        Graduate   \n",
       "1       No relevent experience       no_enrollment        Graduate   \n",
       "2       No relevent experience    Full time course        Graduate   \n",
       "3       No relevent experience       no_enrollment        Graduate   \n",
       "4      Has relevent experience       no_enrollment         Masters   \n",
       "...                        ...                 ...             ...   \n",
       "19153   No relevent experience       no_enrollment        Graduate   \n",
       "19154  Has relevent experience       no_enrollment        Graduate   \n",
       "19155  Has relevent experience       no_enrollment        Graduate   \n",
       "19156  Has relevent experience       no_enrollment     High School   \n",
       "19157   No relevent experience       no_enrollment  Primary School   \n",
       "\n",
       "      major_discipline experience company_size    company_type last_new_job  \\\n",
       "0                 STEM        >20        50-99         Pvt Ltd            1   \n",
       "1                 STEM         15        50-99         Pvt Ltd           >4   \n",
       "2                 STEM          5        50-99         Pvt Ltd        never   \n",
       "3      Business Degree         <1        50-99         Pvt Ltd        never   \n",
       "4                 STEM        >20        50-99  Funded Startup            4   \n",
       "...                ...        ...          ...             ...          ...   \n",
       "19153       Humanities         14        50-99         Pvt Ltd            1   \n",
       "19154             STEM         14        50-99         Pvt Ltd            4   \n",
       "19155             STEM        >20        50-99         Pvt Ltd            4   \n",
       "19156             STEM         <1      500-999         Pvt Ltd            2   \n",
       "19157             STEM          2        50-99         Pvt Ltd            1   \n",
       "\n",
       "       training_hours  \n",
       "0                  36  \n",
       "1                  47  \n",
       "2                  83  \n",
       "3                  52  \n",
       "4                   8  \n",
       "...               ...  \n",
       "19153              42  \n",
       "19154              52  \n",
       "19155              44  \n",
       "19156              97  \n",
       "19157             127  \n",
       "\n",
       "[19158 rows x 13 columns]"
      ]
     },
     "execution_count": 28,
     "metadata": {},
     "output_type": "execute_result"
    }
   ],
   "source": [
    "X_hr_fill"
   ]
  },
  {
   "cell_type": "code",
   "execution_count": 29,
   "metadata": {
    "ExecuteTime": {
     "end_time": "2022-02-16T18:45:59.357649Z",
     "start_time": "2022-02-16T18:45:59.354893Z"
    }
   },
   "outputs": [
    {
     "name": "stdout",
     "output_type": "stream",
     "text": [
      "enrollee_id\n",
      "city\n",
      "city_development_index\n",
      "gender\n",
      "relevent_experience\n",
      "enrolled_university\n",
      "education_level\n",
      "major_discipline\n",
      "experience\n",
      "company_size\n",
      "company_type\n",
      "last_new_job\n",
      "training_hours\n"
     ]
    }
   ],
   "source": [
    "for col in X_hr_fill.columns:\n",
    "    print(col)"
   ]
  },
  {
   "cell_type": "code",
   "execution_count": 30,
   "metadata": {
    "ExecuteTime": {
     "end_time": "2022-02-16T18:45:59.360986Z",
     "start_time": "2022-02-16T18:45:59.358599Z"
    }
   },
   "outputs": [],
   "source": [
    "cols_for_freq_enc = [\n",
    "    'city',\n",
    "    'gender',\n",
    "    'relevent_experience',\n",
    "    'enrolled_university',\n",
    "    'education_level',\n",
    "    'major_discipline',\n",
    "    'company_type',\n",
    "]\n",
    "\n",
    "cols_for_label_enc = [\n",
    "    'experience',\n",
    "    'company_size',\n",
    "    'last_new_job'\n",
    "]\n",
    "\n",
    "# print(sorted(list(set(X_hr_fill['experience']))), \n",
    "#       sorted(list(set(X_hr_fill['company_size']))), \n",
    "#       sorted(list(set(X_hr_fill['last_new_job']))), sep='\\n')"
   ]
  },
  {
   "cell_type": "code",
   "execution_count": 31,
   "metadata": {
    "ExecuteTime": {
     "end_time": "2022-02-16T18:45:59.366029Z",
     "start_time": "2022-02-16T18:45:59.362086Z"
    }
   },
   "outputs": [],
   "source": [
    "# Словари для label-кодирования\n",
    "dict_exp = {\n",
    "    '1':1,\n",
    "    '10':10,\n",
    "    '11':11,\n",
    "    '12':12,\n",
    "    '13':13,\n",
    "    '14':14,\n",
    "    '15':15,\n",
    "    '16':16,\n",
    "    '17':17,\n",
    "    '18':18,\n",
    "    '19':19,\n",
    "    '2':2,\n",
    "    '20':20,\n",
    "    '3':3,\n",
    "    '4':4,\n",
    "    '5':5,\n",
    "    '6':6,\n",
    "    '7':7,\n",
    "    '8':8,\n",
    "    '9':9,\n",
    "    '<1':0,\n",
    "    '>20':21\n",
    "}\n",
    "dict_cs = {\n",
    "    '10/49':1,\n",
    "    '100-500':3,\n",
    "    '1000-4999':5,\n",
    "    '10000+':7,\n",
    "    '50-99':2,\n",
    "    '500-999':4,\n",
    "    '5000-9999':6,\n",
    "    '<10':0\n",
    "}\n",
    "dict_lnj = {\n",
    "    '1':1,\n",
    "    '2':2,\n",
    "    '3':3,\n",
    "    '4':4,\n",
    "    '>4':5,\n",
    "    'never':0\n",
    "}"
   ]
  },
  {
   "cell_type": "code",
   "execution_count": 32,
   "metadata": {
    "ExecuteTime": {
     "end_time": "2022-02-16T18:45:59.370509Z",
     "start_time": "2022-02-16T18:45:59.367081Z"
    }
   },
   "outputs": [],
   "source": [
    "def encode(X):\n",
    "    # Возвращает данные без категориальных признаков\n",
    "    X_encode = X.copy()\n",
    "    for col in cols_for_freq_enc:\n",
    "        enc = (X.groupby(col).size())/len(X)\n",
    "        X_encode[col] = X_encode[col].apply(lambda x: enc[x])\n",
    "    X_encode['experience'] = X_encode['experience'].apply(lambda x: dict_exp[x])\n",
    "    X_encode['company_size'] = X_encode['company_size'].apply(lambda x: dict_cs[x])\n",
    "    X_encode['last_new_job'] = X_encode['last_new_job'].apply(lambda x: dict_lnj[x])\n",
    "    return X_encode"
   ]
  },
  {
   "cell_type": "code",
   "execution_count": 33,
   "metadata": {
    "ExecuteTime": {
     "end_time": "2022-02-16T18:45:59.737738Z",
     "start_time": "2022-02-16T18:45:59.371481Z"
    }
   },
   "outputs": [],
   "source": [
    "X_hr_encode = encode(X_hr_fill)"
   ]
  },
  {
   "cell_type": "markdown",
   "metadata": {
    "ExecuteTime": {
     "end_time": "2022-02-16T16:38:09.481093Z",
     "start_time": "2022-02-16T16:38:09.475618Z"
    }
   },
   "source": [
    "Будем кодировать с помощью label-encoding:\n",
    "- **experience**\n",
    "- **company_size**\n",
    "- **last_new_job**\n",
    "\n",
    "Будем кодировать с помощью frequency-encoding все остальные\n",
    "\n",
    "One-hot encoding применяться не будет, так как появятся слишком много дополнительных фич."
   ]
  },
  {
   "cell_type": "markdown",
   "metadata": {},
   "source": [
    "### Задание  5 (1 балл)\n",
    "Выполните задание для датасета _hr_.\n",
    "\n",
    "\n"
   ]
  },
  {
   "cell_type": "markdown",
   "metadata": {},
   "source": [
    "#### 1.  (1 балл)\n",
    "Реализуйте функцию undersampling"
   ]
  },
  {
   "cell_type": "markdown",
   "metadata": {},
   "source": [
    "#### 2.  (1 балл)\n",
    "Реализуйте функцию oversampling"
   ]
  },
  {
   "cell_type": "code",
   "execution_count": 34,
   "metadata": {
    "ExecuteTime": {
     "end_time": "2022-02-16T18:45:59.743149Z",
     "start_time": "2022-02-16T18:45:59.738983Z"
    }
   },
   "outputs": [],
   "source": [
    "def undersampling(X, y):\n",
    "    # Возвращает данные, сбалансированные методом undersampling\n",
    "    if len(X) == len(y):\n",
    "        return X.copy(), y.copy()\n",
    "    elif len(X) > len(y):\n",
    "        X_under = X.sample(len(y))\n",
    "        y_under = y\n",
    "    else:\n",
    "        y_under = y.sample(len(X))\n",
    "        X_under = X\n",
    "        \n",
    "    return X_under.copy(), y_under.copy()\n",
    "\n",
    "def oversampling(X, y):\n",
    "    # Возвращает данные, сбалансированные методом undersampling\n",
    "    if len(X) == len(y):\n",
    "        return X.copy(), y.copy()\n",
    "    elif len(X) > len(y):\n",
    "        y_temp = y.sample(len(X) - len(y))\n",
    "        y_over = pd.concat([y,y_temp])\n",
    "        X_over = X\n",
    "    else:\n",
    "        X_temp = X.sample(len(y) - len(X))\n",
    "        X_over = pd.concat([X, X_temp])\n",
    "        y_over = y\n",
    "    return X_over.copy(), y_over.copy()"
   ]
  },
  {
   "cell_type": "code",
   "execution_count": 35,
   "metadata": {
    "ExecuteTime": {
     "end_time": "2022-02-16T18:45:59.748625Z",
     "start_time": "2022-02-16T18:45:59.744373Z"
    }
   },
   "outputs": [],
   "source": [
    "X_hr_under, y_hr_under = undersampling(X_hr_encode, y_hr_fill)\n",
    "\n",
    "X_hr_over, y_hr_over = oversampling(X_hr_encode, y_hr_fill)"
   ]
  },
  {
   "cell_type": "markdown",
   "metadata": {},
   "source": [
    "#### 3.  (1 балл)\n",
    "Используйте _SMOTE_ для балансировки датасета."
   ]
  },
  {
   "cell_type": "markdown",
   "metadata": {},
   "source": [
    "Помимо методов _undersampling_ и _oversampling_ существует подход, генерирующий элементы класса-меньшинства, похожие на уже присутствующие в выборке данных. Такой метод называется _Synthetic Minority Oversampling Technique_ (SMOTE). \n",
    "\n",
    "Метод _SMOTE_ , реализованный в библиотеке `imblearn`, генерирует синтетические примеры при помощи __k-nearest neighbor__ алгоритма (подробнее об этом алгоритме будет рассказано на лекции)."
   ]
  },
  {
   "cell_type": "code",
   "execution_count": 36,
   "metadata": {
    "ExecuteTime": {
     "end_time": "2022-02-16T18:46:01.186938Z",
     "start_time": "2022-02-16T18:45:59.749633Z"
    }
   },
   "outputs": [
    {
     "name": "stdout",
     "output_type": "stream",
     "text": [
      "Requirement already satisfied: imbalanced-learn in /home/rustam/miniconda3/lib/python3.9/site-packages (0.9.0)\n",
      "Requirement already satisfied: numpy>=1.14.6 in /home/rustam/miniconda3/lib/python3.9/site-packages (from imbalanced-learn) (1.21.4)\n",
      "Requirement already satisfied: joblib>=0.11 in /home/rustam/miniconda3/lib/python3.9/site-packages/joblib-1.1.0-py3.9.egg (from imbalanced-learn) (1.1.0)\n",
      "Requirement already satisfied: threadpoolctl>=2.0.0 in /home/rustam/miniconda3/lib/python3.9/site-packages (from imbalanced-learn) (3.0.0)\n",
      "Requirement already satisfied: scipy>=1.1.0 in /home/rustam/miniconda3/lib/python3.9/site-packages (from imbalanced-learn) (1.7.2)\n",
      "Requirement already satisfied: scikit-learn>=1.0.1 in /home/rustam/miniconda3/lib/python3.9/site-packages (from imbalanced-learn) (1.0.2)\n"
     ]
    }
   ],
   "source": [
    "!pip install -U imbalanced-learn"
   ]
  },
  {
   "cell_type": "code",
   "execution_count": 37,
   "metadata": {
    "ExecuteTime": {
     "end_time": "2022-02-16T18:46:01.325324Z",
     "start_time": "2022-02-16T18:46:01.188619Z"
    }
   },
   "outputs": [],
   "source": [
    "from imblearn.over_sampling import SMOTE\n",
    "\n",
    "smote = SMOTE()# YOUR_CODE\n",
    "X_hr_SMOTE, y_hr_SMOTE = smote.fit_resample(X_hr_encode.copy(), y_hr_fill.copy())# YOUR_CODE"
   ]
  },
  {
   "cell_type": "markdown",
   "metadata": {},
   "source": [
    "#### 4. (0.5 балла)\n",
    "Как изменились распределения признаков при различных тактиках балансирования датасета?"
   ]
  },
  {
   "cell_type": "code",
   "execution_count": 38,
   "metadata": {
    "ExecuteTime": {
     "end_time": "2022-02-16T18:46:50.041415Z",
     "start_time": "2022-02-16T18:46:01.326270Z"
    }
   },
   "outputs": [],
   "source": [
    "# YOUR CODE\n",
    "!mkdir lets-plot-images/comp_sampling\n",
    "X_hr_encode['label'] = 'Before sampling'\n",
    "X_hr_under['label'] = 'Undersampling'\n",
    "X_hr_over['label'] = 'Oversampling'\n",
    "X_hr_SMOTE['label'] = 'SMOTE-sampling'\n",
    "X_hr_result = pd.concat([X_hr_encode, X_hr_under, X_hr_over, X_hr_SMOTE]).copy()\n",
    "for col in X_hr_result.columns:\n",
    "    plot = ggplot(X_hr_result, aes(col)) + geom_histogram(col = 'darkblue', fill='lightblue') +\\\n",
    "    facet_wrap('label') + ggtitle(col + '_result_comparsion')# + ggsize(1700,850)\n",
    "    ggsave(plot, \"comp_sampling/\" + col + '.result.comparsion.html')"
   ]
  },
  {
   "cell_type": "code",
   "execution_count": 39,
   "metadata": {
    "ExecuteTime": {
     "end_time": "2022-02-16T18:46:50.047270Z",
     "start_time": "2022-02-16T18:46:50.043056Z"
    }
   },
   "outputs": [
    {
     "data": {
      "text/plain": [
       "0        Before sampling\n",
       "1        Before sampling\n",
       "2        Before sampling\n",
       "3        Before sampling\n",
       "4        Before sampling\n",
       "              ...       \n",
       "19153    Before sampling\n",
       "19154    Before sampling\n",
       "19155    Before sampling\n",
       "19156    Before sampling\n",
       "19157    Before sampling\n",
       "Name: label, Length: 19158, dtype: object"
      ]
     },
     "execution_count": 39,
     "metadata": {},
     "output_type": "execute_result"
    }
   ],
   "source": [
    "# X_hr_under['label'] = 'Undersampling'\n",
    "X_hr_encode['label']"
   ]
  },
  {
   "cell_type": "markdown",
   "metadata": {},
   "source": [
    "Ввиду того, что вовремя кодирования не было удалено ни одной строчки, распределение при over- и undersampling \n",
    "не отличаются. Только SMOTE-sampling немного поменяло распределение\n",
    "\n",
    "Графики:\n",
    "\n",
    "- [enrollee_id_comparsion](./lets-plot-images/comp_sampling/enrollee_id.result.comparsion.html)\n",
    "- [city_comparsion](./lets-plot-images/comp_sampling/city.result.comparsion.html)\n",
    "- [city_development_index_comparsion](./lets-plot-images/comp_sampling/city_development_index.result.comparsion.html)\n",
    "- [gender_comparsion](./lets-plot-images/comp_sampling/gender.result.comparsion.html)\n",
    "- [relevent_experience_comparsion](./lets-plot-images/comp_sampling/relevent_experience.result.comparsion.html)\n",
    "- [enrolled_university_comparsion](./lets-plot-images/comp_sampling/enrolled_university.result.comparsion.html)\n",
    "- [education_level_comparsion](./lets-plot-images/comp_sampling/education_level.result.comparsion.html)\n",
    "- [major_discipline_comparsion](./lets-plot-images/comp_sampling/major_discipline.result.comparsion.html)\n",
    "- [experience_comparsion](./lets-plot-images/comp_sampling/experience.result.comparsion.html)\n",
    "- [company_size_comparsion](./lets-plot-images/comp_sampling/company_size.result.comparsion.html)\n",
    "- [company_type_comparsion](./lets-plot-images/comp_sampling/company_type.result.comparsion.html)\n",
    "- [last_new_job_comparsion](./lets-plot-images/comp_sampling/last_new_job.result.comparsion.html)\n",
    "- [training_hours_comparsion](./lets-plot-images/comp_sampling/training_hours.result.comparsion.html)"
   ]
  }
 ],
 "metadata": {
  "kernelspec": {
   "display_name": "Python 3 (ipykernel)",
   "language": "python",
   "name": "python3"
  },
  "language_info": {
   "codemirror_mode": {
    "name": "ipython",
    "version": 3
   },
   "file_extension": ".py",
   "mimetype": "text/x-python",
   "name": "python",
   "nbconvert_exporter": "python",
   "pygments_lexer": "ipython3",
   "version": "3.9.7"
  },
  "toc": {
   "base_numbering": 1,
   "nav_menu": {},
   "number_sections": true,
   "sideBar": true,
   "skip_h1_title": false,
   "title_cell": "Table of Contents",
   "title_sidebar": "Contents",
   "toc_cell": false,
   "toc_position": {},
   "toc_section_display": true,
   "toc_window_display": true
  },
  "varInspector": {
   "cols": {
    "lenName": 16,
    "lenType": 16,
    "lenVar": 40
   },
   "kernels_config": {
    "python": {
     "delete_cmd_postfix": "",
     "delete_cmd_prefix": "del ",
     "library": "var_list.py",
     "varRefreshCmd": "print(var_dic_list())"
    },
    "r": {
     "delete_cmd_postfix": ") ",
     "delete_cmd_prefix": "rm(",
     "library": "var_list.r",
     "varRefreshCmd": "cat(var_dic_list()) "
    }
   },
   "types_to_exclude": [
    "module",
    "function",
    "builtin_function_or_method",
    "instance",
    "_Feature"
   ],
   "window_display": false
  }
 },
 "nbformat": 4,
 "nbformat_minor": 4
}
